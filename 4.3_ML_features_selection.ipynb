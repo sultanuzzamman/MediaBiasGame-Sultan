{
 "cells": [
  {
   "attachments": {},
   "cell_type": "markdown",
   "metadata": {},
   "source": [
    "# Features selection"
   ]
  },
  {
   "attachments": {},
   "cell_type": "markdown",
   "metadata": {},
   "source": [
    "In this script, we remove different groups of features from training to see when the performance decreases\n",
    "\n",
    "To run this script, the following data files are needed:\n",
    "- dt_final.xlsx (+)\n",
    "\n",
    "Saved models:\n",
    "- xgboost_no_enrichm.model (+)\n",
    "- xgboost_no_tfidf.model (+)\n",
    "- xgboost_no_lex.model (+)\n",
    "- xgboost_no_liwc.model (+)\n",
    "- xgboost_no_bias_lex.model (+)\n",
    "- xgboost_no_context.model (+)\n",
    "\n",
    "(attached: +, not attached: -)"
   ]
  },
  {
   "cell_type": "code",
   "execution_count": 69,
   "metadata": {},
   "outputs": [],
   "source": [
    "# misc\n",
    "import os\n",
    "import re\n",
    "import time\n",
    "import ast\n",
    "import warnings\n",
    "import math\n",
    "import copy\n",
    "import matplotlib.pyplot as plt\n",
    "from xgboost import plot_tree\n",
    "import seaborn as sns\n",
    "\n",
    "# data\n",
    "import pandas as pd\n",
    "import numpy as np\n",
    "import csv\n",
    "\n",
    "# ML\n",
    "from sklearn.preprocessing import MinMaxScaler\n",
    "from sklearn.model_selection import train_test_split\n",
    "from sklearn.model_selection import cross_val_score\n",
    "from sklearn.model_selection import cross_validate\n",
    "from sklearn.model_selection import KFold\n",
    "from sklearn import metrics\n",
    "import scikitplot as skplt\n",
    "import xgboost"
   ]
  },
  {
   "cell_type": "code",
   "execution_count": 70,
   "metadata": {},
   "outputs": [],
   "source": [
    "\n",
    "data = pd.read_excel('data/dt_final.xlsx',engine='openpyxl')"
   ]
  },
  {
   "attachments": {},
   "cell_type": "markdown",
   "metadata": {},
   "source": [
    "## 1 Data preparation"
   ]
  },
  {
   "cell_type": "code",
   "execution_count": 71,
   "metadata": {},
   "outputs": [],
   "source": [
    "dt = data[[\n",
    " 'label4', \n",
    " 'glove_vec300_norm', \n",
    " 'tfidf_art', \n",
    " 'negative_conc',\n",
    " 'positive_conc',\n",
    " 'weak_subj',\n",
    " 'strong_subj',\n",
    " 'hyperbolic_terms',\n",
    " 'attitude_markers',\n",
    " 'kill_verbs',\n",
    " 'bias_lexicon',\n",
    " 'assertive_verbs',\n",
    " 'factive_verbs',\n",
    " 'report_verbs',\n",
    " 'implicative_verbs',\n",
    " 'hedges',\n",
    " 'boosters',\n",
    " 'affect ',\n",
    " 'posemo ',\n",
    " 'negemo ',\n",
    " 'anx ',\n",
    " 'anger ',\n",
    " 'sad ',\n",
    " 'social ',\n",
    " 'family ',\n",
    " 'friend ',\n",
    " 'female ',\n",
    " 'male ',\n",
    " 'cogproc ',\n",
    " 'insight ',\n",
    " 'cause ',\n",
    " 'discrep ',\n",
    " 'tentat ',\n",
    " 'certain ',\n",
    " 'differ ',\n",
    " 'percept ',\n",
    " 'see ',\n",
    " 'hear ',\n",
    " 'feel ',\n",
    " 'bio ',\n",
    " 'body ',\n",
    " 'health ',\n",
    " 'sexual ',\n",
    " 'ingest ',\n",
    " 'drives ',\n",
    " 'affiliation ',\n",
    " 'achieve ',\n",
    " 'power ',\n",
    " 'reward ',\n",
    " 'risk ',\n",
    " 'focuspast ',\n",
    " 'focuspresent ',\n",
    " 'focusfuture ',\n",
    " 'relativ ',\n",
    " 'motion ',\n",
    " 'space ',\n",
    " 'time ',\n",
    " 'work ',\n",
    " 'leisure ',\n",
    " 'home ',\n",
    " 'money ',\n",
    " 'relig ',\n",
    " 'death ',\n",
    " 'informal ',\n",
    " 'swear ',\n",
    " 'netspeak ',\n",
    " 'assent ',\n",
    " 'nonflu ',\n",
    " 'filler ',\n",
    " 'pos_ADJ',\n",
    " 'pos_ADP',\n",
    " 'pos_ADV',\n",
    " 'pos_AUX',\n",
    " 'pos_DET',\n",
    " 'pos_INTJ',\n",
    " 'pos_NOUN',\n",
    " 'pos_PRON',\n",
    " 'pos_PROPN',\n",
    " 'pos_SCONJ',\n",
    " 'pos_VERB',\n",
    " 'pos_X',\n",
    " 'dep_ROOT',\n",
    " 'dep_acl',\n",
    " 'dep_acomp',\n",
    " 'dep_advcl',\n",
    " 'dep_advmod',\n",
    " 'dep_agent',\n",
    " 'dep_amod',\n",
    " 'dep_appos',\n",
    " 'dep_attr',\n",
    " 'dep_aux',\n",
    " 'dep_auxpass',\n",
    " 'dep_case',\n",
    " 'dep_cc',\n",
    " 'dep_ccomp',\n",
    " 'dep_compound',\n",
    " 'dep_conj',\n",
    " 'dep_csubj',\n",
    " 'dep_dative',\n",
    " 'dep_dep',\n",
    " 'dep_det',\n",
    " 'dep_dobj',\n",
    " 'dep_expl',\n",
    " 'dep_intj',\n",
    " 'dep_mark',\n",
    " 'dep_meta',\n",
    " 'dep_neg',\n",
    " 'dep_nmod',\n",
    " 'dep_npadvmod',\n",
    " 'dep_nsubj',\n",
    " 'dep_nsubjpass',\n",
    " 'dep_nummod',\n",
    " 'dep_oprd',\n",
    " 'dep_parataxis',\n",
    " 'dep_pcomp',\n",
    " 'dep_pobj',\n",
    " 'dep_poss',\n",
    " 'dep_preconj',\n",
    " 'dep_predet',\n",
    " 'dep_prep',\n",
    " 'dep_prt',\n",
    " 'dep_punct',\n",
    " 'dep_quantmod',\n",
    " 'dep_relcl',\n",
    " 'dep_xcomp',\n",
    " 'ne_CARDINAL',\n",
    " 'ne_DATE',\n",
    " 'ne_EVENT',\n",
    " 'ne_FAC',\n",
    " 'ne_GPE',\n",
    " 'ne_LANGUAGE',\n",
    " 'ne_LAW',\n",
    " 'ne_LOC',\n",
    " 'ne_MONEY',\n",
    " 'ne_NORP',\n",
    " 'ne_ORDINAL',\n",
    " 'ne_ORG',\n",
    " 'ne_PERCENT',\n",
    " 'ne_PERSON',\n",
    " 'ne_PRODUCT',\n",
    " 'ne_QUANTITY',\n",
    " 'ne_TIME',\n",
    " 'ne_WORK_OF_ART',\n",
    " 'negative_conc_context',\n",
    " 'positive_conc_context',\n",
    " 'weak_subj_context',\n",
    " 'strong_subj_context',\n",
    " 'hyperbolic_terms_context',\n",
    " 'attitude_markers_context',\n",
    " 'kill_verbs_context',\n",
    " 'bias_lexicon_context',\n",
    " 'assertive_verbs_context',\n",
    " 'factive_verbs_context',\n",
    " 'report_verbs_context',\n",
    " 'hedges_context',\n",
    " 'implicative_verbs_context',\n",
    " 'boosters_context',\n",
    " 'affect _context',\n",
    " 'posemo _context',\n",
    " 'negemo _context',\n",
    " 'anx _context',\n",
    " 'anger _context',\n",
    " 'sad _context',\n",
    " 'social _context',\n",
    " 'family _context',\n",
    " 'friend _context',\n",
    " 'female _context',\n",
    " 'male _context',\n",
    " 'cogproc _context',\n",
    " 'insight _context',\n",
    " 'cause _context',\n",
    " 'discrep _context',\n",
    " 'tentat _context',\n",
    " 'certain _context',\n",
    " 'differ _context',\n",
    " 'percept _context',\n",
    " 'see _context',\n",
    " 'hear _context',\n",
    " 'feel _context',\n",
    " 'bio _context',\n",
    " 'body _context',\n",
    " 'health _context',\n",
    " 'sexual _context',\n",
    " 'ingest _context',\n",
    " 'drives _context',\n",
    " 'affiliation _context',\n",
    " 'achieve _context',\n",
    " 'power _context',\n",
    " 'reward _context',\n",
    " 'risk _context',\n",
    " 'focuspast _context',\n",
    " 'focuspresent _context',\n",
    " 'focusfuture _context',\n",
    " 'relativ _context',\n",
    " 'motion _context',\n",
    " 'space _context',\n",
    " 'time _context',\n",
    " 'work _context',\n",
    " 'leisure _context',\n",
    " 'home _context',\n",
    " 'money _context',\n",
    " 'relig _context',\n",
    " 'death _context',\n",
    " 'informal _context',\n",
    " 'swear _context',\n",
    " 'netspeak _context',\n",
    " 'assent _context',\n",
    " 'nonflu _context',\n",
    " 'filler _context',\n",
    " 'pos_ADJ_context',\n",
    " 'pos_ADP_context',\n",
    " 'pos_ADV_context',\n",
    " 'pos_AUX_context',\n",
    " 'pos_DET_context',\n",
    " 'pos_INTJ_context',\n",
    " 'pos_NOUN_context',\n",
    " 'pos_PRON_context',\n",
    " 'pos_PROPN_context',\n",
    " 'pos_SCONJ_context',\n",
    " 'pos_VERB_context',\n",
    " 'pos_X_context',\n",
    " 'dep_ROOT_context',\n",
    " 'dep_acl_context',\n",
    " 'dep_acomp_context',\n",
    " 'dep_advcl_context',\n",
    " 'dep_advmod_context',\n",
    " 'dep_agent_context',\n",
    " 'dep_amod_context',\n",
    " 'dep_appos_context',\n",
    " 'dep_attr_context',\n",
    " 'dep_aux_context',\n",
    " 'dep_auxpass_context',\n",
    " 'dep_case_context',\n",
    " 'dep_cc_context',\n",
    " 'dep_ccomp_context',\n",
    " 'dep_compound_context',\n",
    " 'dep_conj_context',\n",
    " 'dep_csubj_context',\n",
    " 'dep_dative_context',\n",
    " 'dep_dep_context',\n",
    " 'dep_det_context',\n",
    " 'dep_dobj_context',\n",
    " 'dep_expl_context',\n",
    " 'dep_intj_context',\n",
    " 'dep_mark_context',\n",
    " 'dep_meta_context',\n",
    " 'dep_neg_context',\n",
    " 'dep_nmod_context',\n",
    " 'dep_npadvmod_context',\n",
    " 'dep_nsubj_context',\n",
    " 'dep_nsubjpass_context',\n",
    " 'dep_nummod_context',\n",
    " 'dep_oprd_context',\n",
    " 'dep_parataxis_context',\n",
    " 'dep_pcomp_context',\n",
    " 'dep_pobj_context',\n",
    " 'dep_poss_context',\n",
    " 'dep_preconj_context',\n",
    " 'dep_predet_context',\n",
    " 'dep_prep_context',\n",
    " 'dep_prt_context',\n",
    " 'dep_punct_context',\n",
    " 'dep_quantmod_context',\n",
    " 'dep_relcl_context',\n",
    " 'dep_xcomp_context',\n",
    " 'ne_CARDINAL_context',\n",
    " 'ne_DATE_context',\n",
    " 'ne_EVENT_context',\n",
    " 'ne_FAC_context',\n",
    " 'ne_GPE_context',\n",
    " 'ne_LAW_context',\n",
    " 'ne_LOC_context',\n",
    " 'ne_MONEY_context',\n",
    " 'ne_NORP_context',\n",
    " 'ne_ORDINAL_context',\n",
    " 'ne_ORG_context',\n",
    " 'ne_PERCENT_context',\n",
    " 'ne_PERSON_context',\n",
    " 'ne_PRODUCT_context',\n",
    " 'ne_QUANTITY_context',\n",
    " 'ne_TIME_context',\n",
    " 'ne_WORK_OF_ART_context',\n",
    " 'ne_LANGUAGE_context']]"
   ]
  },
  {
   "cell_type": "code",
   "execution_count": 72,
   "metadata": {},
   "outputs": [
    {
     "name": "stdout",
     "output_type": "stream",
     "text": [
      "Number of missing values:\n",
      "tfidf_art 654\n"
     ]
    }
   ],
   "source": [
    "print('Number of missing values:')\n",
    "mis = (dt.isnull().sum()).to_frame()\n",
    "for i, row in mis.iterrows():\n",
    "    if row[0] > 0:\n",
    "        print(i, row[0])\n",
    "\n",
    "# Delete the rows with missing article text:\n",
    "dt = dt.dropna(subset=['tfidf_art'])"
   ]
  },
  {
   "cell_type": "code",
   "execution_count": 73,
   "metadata": {},
   "outputs": [
    {
     "name": "stderr",
     "output_type": "stream",
     "text": [
      "C:\\Users\\Lenovo\\AppData\\Local\\Temp\\ipykernel_15712\\2443302479.py:1: FutureWarning: In a future version of pandas all arguments of DataFrame.drop except for the argument 'labels' will be keyword-only.\n",
      "  x = dt.drop(['label4'], 1)\n"
     ]
    }
   ],
   "source": [
    "x = dt.drop(['label4'], 1)\n",
    "y4 = dt[['label4']]"
   ]
  },
  {
   "cell_type": "code",
   "execution_count": 74,
   "metadata": {},
   "outputs": [],
   "source": [
    "# train-test split\n",
    "train_features, test_features, train_labels, test_labels = train_test_split(x, y4, \n",
    "                                                                            test_size = 0.10, random_state = 42)\n",
    "train_features1, val_features, train_labels1, val_labels = train_test_split(train_features, train_labels, \n",
    "                                                                            test_size = 0.10, random_state = 42)"
   ]
  },
  {
   "cell_type": "code",
   "execution_count": 75,
   "metadata": {},
   "outputs": [
    {
     "data": {
      "text/plain": [
       "282"
      ]
     },
     "execution_count": 75,
     "metadata": {},
     "output_type": "execute_result"
    }
   ],
   "source": [
    "feature_names = list(x.columns)\n",
    "len(feature_names)"
   ]
  },
  {
   "cell_type": "code",
   "execution_count": 76,
   "metadata": {},
   "outputs": [],
   "source": [
    "# matrix for XGBoost\n",
    "dtrain = xgboost.DMatrix(train_features, label=train_labels, feature_names=feature_names)\n",
    "dtest = xgboost.DMatrix(test_features, label=test_labels, feature_names=feature_names)\n",
    "dtrain1 = xgboost.DMatrix(train_features1, label=train_labels1, feature_names=feature_names)\n",
    "dval = xgboost.DMatrix(val_features, label=val_labels, feature_names=feature_names)"
   ]
  },
  {
   "cell_type": "code",
   "execution_count": 77,
   "metadata": {},
   "outputs": [
    {
     "name": "stdout",
     "output_type": "stream",
     "text": [
      "Training Features Shape: (27801, 282)\n",
      "Training Labels Shape: (27801, 1)\n",
      "Testing Features Shape: (3089, 282)\n",
      "Testing Labels Shape: (3089, 1)\n",
      "Training Features for final model Shape: (25020, 282)\n",
      "Training Labels for final model Shape: (25020, 1)\n",
      "Validation Features Shape: (2781, 282)\n",
      "Validation Labels Shape: (2781, 1)\n"
     ]
    }
   ],
   "source": [
    "print('Training Features Shape:', train_features.shape)\n",
    "print('Training Labels Shape:', train_labels.shape)\n",
    "print('Testing Features Shape:', test_features.shape)\n",
    "print('Testing Labels Shape:', test_labels.shape)\n",
    "print('Training Features for final model Shape:', train_features1.shape)\n",
    "print('Training Labels for final model Shape:', train_labels1.shape)\n",
    "print('Validation Features Shape:', val_features.shape)\n",
    "print('Validation Labels Shape:', val_labels.shape)"
   ]
  },
  {
   "attachments": {},
   "cell_type": "markdown",
   "metadata": {},
   "source": [
    "## 2 Features selection"
   ]
  },
  {
   "attachments": {},
   "cell_type": "markdown",
   "metadata": {},
   "source": [
    "### 2.1 Final model (all features)"
   ]
  },
  {
   "cell_type": "code",
   "execution_count": 78,
   "metadata": {},
   "outputs": [],
   "source": [
    "\n",
    "# xgboost_tuned_weighted.save_model(\"xgboost_tuned_weighted.model\")\n",
    "xgboost_tuned_weighted = xgboost.Booster()\n",
    "xgboost_tuned_weighted.load_model(\"data/xgboost_tuned_weighted.model\")"
   ]
  },
  {
   "cell_type": "code",
   "execution_count": 79,
   "metadata": {},
   "outputs": [
    {
     "data": {
      "text/html": [
       "<div>\n",
       "<style scoped>\n",
       "    .dataframe tbody tr th:only-of-type {\n",
       "        vertical-align: middle;\n",
       "    }\n",
       "\n",
       "    .dataframe tbody tr th {\n",
       "        vertical-align: top;\n",
       "    }\n",
       "\n",
       "    .dataframe thead th {\n",
       "        text-align: right;\n",
       "    }\n",
       "</style>\n",
       "<table border=\"1\" class=\"dataframe\">\n",
       "  <thead>\n",
       "    <tr style=\"text-align: right;\">\n",
       "      <th></th>\n",
       "      <th>feature</th>\n",
       "      <th>score</th>\n",
       "      <th>name</th>\n",
       "    </tr>\n",
       "  </thead>\n",
       "  <tbody>\n",
       "    <tr>\n",
       "      <th>2</th>\n",
       "      <td>f2</td>\n",
       "      <td>1289.977783</td>\n",
       "      <td>negative_conc</td>\n",
       "    </tr>\n",
       "    <tr>\n",
       "      <th>43</th>\n",
       "      <td>f76</td>\n",
       "      <td>421.777802</td>\n",
       "      <td>pos_PROPN</td>\n",
       "    </tr>\n",
       "    <tr>\n",
       "      <th>7</th>\n",
       "      <td>f9</td>\n",
       "      <td>119.473946</td>\n",
       "      <td>bias_lexicon</td>\n",
       "    </tr>\n",
       "    <tr>\n",
       "      <th>34</th>\n",
       "      <td>f56</td>\n",
       "      <td>116.287125</td>\n",
       "      <td>work</td>\n",
       "    </tr>\n",
       "    <tr>\n",
       "      <th>33</th>\n",
       "      <td>f55</td>\n",
       "      <td>112.924179</td>\n",
       "      <td>time</td>\n",
       "    </tr>\n",
       "    <tr>\n",
       "      <th>...</th>\n",
       "      <td>...</td>\n",
       "      <td>...</td>\n",
       "      <td>...</td>\n",
       "    </tr>\n",
       "    <tr>\n",
       "      <th>82</th>\n",
       "      <td>f167</td>\n",
       "      <td>10.825084</td>\n",
       "      <td>cogproc _context</td>\n",
       "    </tr>\n",
       "    <tr>\n",
       "      <th>83</th>\n",
       "      <td>f168</td>\n",
       "      <td>8.725674</td>\n",
       "      <td>insight _context</td>\n",
       "    </tr>\n",
       "    <tr>\n",
       "      <th>59</th>\n",
       "      <td>f113</td>\n",
       "      <td>5.623596</td>\n",
       "      <td>dep_pcomp</td>\n",
       "    </tr>\n",
       "    <tr>\n",
       "      <th>79</th>\n",
       "      <td>f158</td>\n",
       "      <td>1.342224</td>\n",
       "      <td>negemo _context</td>\n",
       "    </tr>\n",
       "    <tr>\n",
       "      <th>47</th>\n",
       "      <td>f82</td>\n",
       "      <td>0.576424</td>\n",
       "      <td>dep_acomp</td>\n",
       "    </tr>\n",
       "  </tbody>\n",
       "</table>\n",
       "<p>139 rows × 3 columns</p>\n",
       "</div>"
      ],
      "text/plain": [
       "   feature        score              name\n",
       "2       f2  1289.977783     negative_conc\n",
       "43     f76   421.777802         pos_PROPN\n",
       "7       f9   119.473946      bias_lexicon\n",
       "34     f56   116.287125             work \n",
       "33     f55   112.924179             time \n",
       "..     ...          ...               ...\n",
       "82    f167    10.825084  cogproc _context\n",
       "83    f168     8.725674  insight _context\n",
       "59    f113     5.623596         dep_pcomp\n",
       "79    f158     1.342224   negemo _context\n",
       "47     f82     0.576424         dep_acomp\n",
       "\n",
       "[139 rows x 3 columns]"
      ]
     },
     "execution_count": 79,
     "metadata": {},
     "output_type": "execute_result"
    }
   ],
   "source": [
    "feat_imp = pd.DataFrame.from_dict(xgboost_tuned_weighted.get_score(importance_type='gain'), orient='index')\n",
    "feat_imp = feat_imp.reset_index()\n",
    "feat_imp = feat_imp.rename(columns={\"index\": \"feature\", 0: \"score\"})\n",
    "feat_imp = feat_imp.sort_values(by=['score'], ascending=False)\n",
    "\n",
    "feat_imp['name'] = None\n",
    "for i, feat in enumerate(feature_names):\n",
    "    #print(i, feat)\n",
    "    f = 'f'+str(i)\n",
    "    feat_imp['name'] = feat_imp.apply(lambda row: feat if row['feature']==f else row['name'], axis=1)\n",
    "\n",
    "feat_imp"
   ]
  },
  {
   "attachments": {},
   "cell_type": "markdown",
   "metadata": {},
   "source": [
    "### 2.2 Vary importance score [>10 ... >400]"
   ]
  },
  {
   "cell_type": "code",
   "execution_count": 80,
   "metadata": {},
   "outputs": [
    {
     "data": {
      "text/plain": [
       "['negative_conc', 'pos_PROPN']"
      ]
     },
     "execution_count": 80,
     "metadata": {},
     "output_type": "execute_result"
    }
   ],
   "source": [
    "imp_feats = list(feat_imp[feat_imp['score']>400]['name'])\n",
    "x_imp_feats = x[imp_feats]\n",
    "list(x_imp_feats)"
   ]
  },
  {
   "cell_type": "code",
   "execution_count": 81,
   "metadata": {},
   "outputs": [],
   "source": [
    "def f1_eval(predt: np.ndarray, dtrain: xgboost.DMatrix):\n",
    "    y = dtrain.get_label()\n",
    "    predt_binary = np.where(predt > 0.5, 1, 0)\n",
    "    return \"F1_score\", metrics.f1_score(y_true=y, y_pred=predt_binary)"
   ]
  },
  {
   "cell_type": "code",
   "execution_count": 82,
   "metadata": {},
   "outputs": [],
   "source": [
    "column_names = [\"imp_thr\", \"auc\", \"f1\", \"precision\", \"recall\"]\n",
    "imp_perf = pd.DataFrame(columns = column_names)\n",
    "imp_perf_l = []"
   ]
  },
  {
   "cell_type": "code",
   "execution_count": 83,
   "metadata": {
    "scrolled": true
   },
   "outputs": [
    {
     "name": "stdout",
     "output_type": "stream",
     "text": [
      "[0]\tdtrain-F1_score:0.00000\tdval-F1_score:0.00000\n",
      "[1]\tdtrain-F1_score:0.33252\tdval-F1_score:0.31045\n",
      "[2]\tdtrain-F1_score:0.45278\tdval-F1_score:0.41905\n"
     ]
    },
    {
     "name": "stderr",
     "output_type": "stream",
     "text": [
      "c:\\Users\\Lenovo\\anaconda3\\lib\\site-packages\\xgboost\\training.py:39: UserWarning: `feval` is deprecated, use `custom_metric` instead.  They have different behavior when custom objective is also used.See https://xgboost.readthedocs.io/en/latest/tutorials/custom_metric_obj.html for details on the `custom_metric`.\n",
      "  warnings.warn(\n"
     ]
    },
    {
     "name": "stdout",
     "output_type": "stream",
     "text": [
      "[3]\tdtrain-F1_score:0.45651\tdval-F1_score:0.41697\n",
      "[4]\tdtrain-F1_score:0.46151\tdval-F1_score:0.42435\n",
      "[5]\tdtrain-F1_score:0.46049\tdval-F1_score:0.41197\n",
      "[6]\tdtrain-F1_score:0.46113\tdval-F1_score:0.42031\n",
      "[7]\tdtrain-F1_score:0.46316\tdval-F1_score:0.41901\n",
      "[8]\tdtrain-F1_score:0.46242\tdval-F1_score:0.41667\n",
      "[9]\tdtrain-F1_score:0.46375\tdval-F1_score:0.41581\n",
      "[10]\tdtrain-F1_score:0.46871\tdval-F1_score:0.41667\n",
      "[11]\tdtrain-F1_score:0.47027\tdval-F1_score:0.42384\n",
      "[12]\tdtrain-F1_score:0.47004\tdval-F1_score:0.42645\n",
      "[13]\tdtrain-F1_score:0.47120\tdval-F1_score:0.43660\n",
      "[14]\tdtrain-F1_score:0.47566\tdval-F1_score:0.43408\n",
      "[15]\tdtrain-F1_score:0.47365\tdval-F1_score:0.43200\n",
      "[16]\tdtrain-F1_score:0.48077\tdval-F1_score:0.43465\n",
      "[17]\tdtrain-F1_score:0.48260\tdval-F1_score:0.43987\n",
      "[18]\tdtrain-F1_score:0.48338\tdval-F1_score:0.44057\n",
      "[19]\tdtrain-F1_score:0.48074\tdval-F1_score:0.43082\n",
      "[20]\tdtrain-F1_score:0.48191\tdval-F1_score:0.42679\n",
      "[21]\tdtrain-F1_score:0.48282\tdval-F1_score:0.42500\n",
      "[22]\tdtrain-F1_score:0.48562\tdval-F1_score:0.43277\n",
      "[23]\tdtrain-F1_score:0.48608\tdval-F1_score:0.43011\n",
      "[24]\tdtrain-F1_score:0.48890\tdval-F1_score:0.43251\n",
      "[25]\tdtrain-F1_score:0.49169\tdval-F1_score:0.43119\n",
      "[26]\tdtrain-F1_score:0.49091\tdval-F1_score:0.42489\n",
      "[27]\tdtrain-F1_score:0.49398\tdval-F1_score:0.42687\n",
      "[28]\tdtrain-F1_score:0.49539\tdval-F1_score:0.43155\n",
      "[0]\tdtrain-F1_score:0.00000\tdval-F1_score:0.00000\n",
      "[1]\tdtrain-F1_score:0.31559\tdval-F1_score:0.30395\n",
      "[2]\tdtrain-F1_score:0.45269\tdval-F1_score:0.41985\n"
     ]
    },
    {
     "name": "stderr",
     "output_type": "stream",
     "text": [
      "c:\\Users\\Lenovo\\anaconda3\\lib\\site-packages\\xgboost\\training.py:39: UserWarning: `feval` is deprecated, use `custom_metric` instead.  They have different behavior when custom objective is also used.See https://xgboost.readthedocs.io/en/latest/tutorials/custom_metric_obj.html for details on the `custom_metric`.\n",
      "  warnings.warn(\n"
     ]
    },
    {
     "name": "stdout",
     "output_type": "stream",
     "text": [
      "[3]\tdtrain-F1_score:0.45679\tdval-F1_score:0.42086\n",
      "[4]\tdtrain-F1_score:0.46017\tdval-F1_score:0.42066\n",
      "[5]\tdtrain-F1_score:0.46160\tdval-F1_score:0.41429\n",
      "[6]\tdtrain-F1_score:0.46105\tdval-F1_score:0.41623\n",
      "[7]\tdtrain-F1_score:0.46316\tdval-F1_score:0.41489\n",
      "[8]\tdtrain-F1_score:0.46505\tdval-F1_score:0.41770\n",
      "[9]\tdtrain-F1_score:0.46564\tdval-F1_score:0.41828\n",
      "[10]\tdtrain-F1_score:0.46559\tdval-F1_score:0.41638\n",
      "[11]\tdtrain-F1_score:0.46958\tdval-F1_score:0.42445\n",
      "[12]\tdtrain-F1_score:0.47123\tdval-F1_score:0.41979\n",
      "[13]\tdtrain-F1_score:0.47629\tdval-F1_score:0.43862\n",
      "[14]\tdtrain-F1_score:0.47585\tdval-F1_score:0.43393\n",
      "[15]\tdtrain-F1_score:0.47825\tdval-F1_score:0.42834\n",
      "[16]\tdtrain-F1_score:0.48237\tdval-F1_score:0.42649\n",
      "[17]\tdtrain-F1_score:0.48164\tdval-F1_score:0.42973\n",
      "[18]\tdtrain-F1_score:0.48629\tdval-F1_score:0.42607\n",
      "[19]\tdtrain-F1_score:0.48891\tdval-F1_score:0.42743\n",
      "[20]\tdtrain-F1_score:0.49020\tdval-F1_score:0.42880\n",
      "[21]\tdtrain-F1_score:0.49039\tdval-F1_score:0.42857\n",
      "[22]\tdtrain-F1_score:0.49017\tdval-F1_score:0.42970\n",
      "[0]\tdtrain-F1_score:0.00000\tdval-F1_score:0.00000\n",
      "[1]\tdtrain-F1_score:0.31559\tdval-F1_score:0.30395\n",
      "[2]\tdtrain-F1_score:0.43057\tdval-F1_score:0.40355\n",
      "[3]\tdtrain-F1_score:0.44364\tdval-F1_score:0.40489\n"
     ]
    },
    {
     "name": "stderr",
     "output_type": "stream",
     "text": [
      "c:\\Users\\Lenovo\\anaconda3\\lib\\site-packages\\xgboost\\training.py:39: UserWarning: `feval` is deprecated, use `custom_metric` instead.  They have different behavior when custom objective is also used.See https://xgboost.readthedocs.io/en/latest/tutorials/custom_metric_obj.html for details on the `custom_metric`.\n",
      "  warnings.warn(\n"
     ]
    },
    {
     "name": "stdout",
     "output_type": "stream",
     "text": [
      "[4]\tdtrain-F1_score:0.44516\tdval-F1_score:0.41035\n",
      "[5]\tdtrain-F1_score:0.45022\tdval-F1_score:0.40773\n",
      "[6]\tdtrain-F1_score:0.45061\tdval-F1_score:0.41035\n",
      "[7]\tdtrain-F1_score:0.45928\tdval-F1_score:0.40893\n",
      "[8]\tdtrain-F1_score:0.45660\tdval-F1_score:0.40672\n",
      "[9]\tdtrain-F1_score:0.45643\tdval-F1_score:0.41322\n",
      "[10]\tdtrain-F1_score:0.46101\tdval-F1_score:0.40932\n",
      "[11]\tdtrain-F1_score:0.46311\tdval-F1_score:0.41528\n",
      "[12]\tdtrain-F1_score:0.46572\tdval-F1_score:0.41930\n",
      "[13]\tdtrain-F1_score:0.46608\tdval-F1_score:0.41667\n",
      "[14]\tdtrain-F1_score:0.46670\tdval-F1_score:0.41861\n",
      "[15]\tdtrain-F1_score:0.46900\tdval-F1_score:0.41270\n",
      "[16]\tdtrain-F1_score:0.47134\tdval-F1_score:0.41204\n",
      "[17]\tdtrain-F1_score:0.47117\tdval-F1_score:0.41456\n",
      "[18]\tdtrain-F1_score:0.47095\tdval-F1_score:0.41009\n",
      "[19]\tdtrain-F1_score:0.47154\tdval-F1_score:0.40498\n",
      "[20]\tdtrain-F1_score:0.47241\tdval-F1_score:0.40248\n",
      "[21]\tdtrain-F1_score:0.47469\tdval-F1_score:0.39939\n",
      "[0]\tdtrain-F1_score:0.00000\tdval-F1_score:0.00000\n",
      "[1]\tdtrain-F1_score:0.34262\tdval-F1_score:0.29799\n",
      "[2]\tdtrain-F1_score:0.43715\tdval-F1_score:0.40938\n",
      "[3]\tdtrain-F1_score:0.44265\tdval-F1_score:0.40154\n"
     ]
    },
    {
     "name": "stderr",
     "output_type": "stream",
     "text": [
      "c:\\Users\\Lenovo\\anaconda3\\lib\\site-packages\\xgboost\\training.py:39: UserWarning: `feval` is deprecated, use `custom_metric` instead.  They have different behavior when custom objective is also used.See https://xgboost.readthedocs.io/en/latest/tutorials/custom_metric_obj.html for details on the `custom_metric`.\n",
      "  warnings.warn(\n"
     ]
    },
    {
     "name": "stdout",
     "output_type": "stream",
     "text": [
      "[4]\tdtrain-F1_score:0.44332\tdval-F1_score:0.40462\n",
      "[5]\tdtrain-F1_score:0.43658\tdval-F1_score:0.40203\n",
      "[6]\tdtrain-F1_score:0.43855\tdval-F1_score:0.40472\n",
      "[7]\tdtrain-F1_score:0.43691\tdval-F1_score:0.40134\n",
      "[8]\tdtrain-F1_score:0.43826\tdval-F1_score:0.40336\n",
      "[9]\tdtrain-F1_score:0.44218\tdval-F1_score:0.40932\n",
      "[10]\tdtrain-F1_score:0.44632\tdval-F1_score:0.41077\n",
      "[11]\tdtrain-F1_score:0.44757\tdval-F1_score:0.40864\n",
      "[12]\tdtrain-F1_score:0.44905\tdval-F1_score:0.40735\n",
      "[13]\tdtrain-F1_score:0.44981\tdval-F1_score:0.40667\n",
      "[14]\tdtrain-F1_score:0.45078\tdval-F1_score:0.40397\n",
      "[15]\tdtrain-F1_score:0.45111\tdval-F1_score:0.40260\n",
      "[16]\tdtrain-F1_score:0.45238\tdval-F1_score:0.40325\n",
      "[17]\tdtrain-F1_score:0.45304\tdval-F1_score:0.40194\n",
      "[18]\tdtrain-F1_score:0.45492\tdval-F1_score:0.41882\n",
      "[19]\tdtrain-F1_score:0.45519\tdval-F1_score:0.41868\n",
      "[20]\tdtrain-F1_score:0.45512\tdval-F1_score:0.41868\n",
      "[21]\tdtrain-F1_score:0.45635\tdval-F1_score:0.41452\n",
      "[22]\tdtrain-F1_score:0.45662\tdval-F1_score:0.40413\n",
      "[23]\tdtrain-F1_score:0.45636\tdval-F1_score:0.40294\n",
      "[24]\tdtrain-F1_score:0.45639\tdval-F1_score:0.39826\n",
      "[25]\tdtrain-F1_score:0.45603\tdval-F1_score:0.39942\n",
      "[26]\tdtrain-F1_score:0.45691\tdval-F1_score:0.39942\n",
      "[27]\tdtrain-F1_score:0.45572\tdval-F1_score:0.40059\n",
      "[28]\tdtrain-F1_score:0.45806\tdval-F1_score:0.40235\n",
      "[0]\tdtrain-F1_score:0.00000\tdval-F1_score:0.00000\n",
      "[1]\tdtrain-F1_score:0.35318\tdval-F1_score:0.33333\n",
      "[2]\tdtrain-F1_score:0.42690\tdval-F1_score:0.39140\n",
      "[3]\tdtrain-F1_score:0.43877\tdval-F1_score:0.39539\n",
      "[4]\tdtrain-F1_score:0.44062\tdval-F1_score:0.39847\n"
     ]
    },
    {
     "name": "stderr",
     "output_type": "stream",
     "text": [
      "c:\\Users\\Lenovo\\anaconda3\\lib\\site-packages\\xgboost\\training.py:39: UserWarning: `feval` is deprecated, use `custom_metric` instead.  They have different behavior when custom objective is also used.See https://xgboost.readthedocs.io/en/latest/tutorials/custom_metric_obj.html for details on the `custom_metric`.\n",
      "  warnings.warn(\n"
     ]
    },
    {
     "name": "stdout",
     "output_type": "stream",
     "text": [
      "[5]\tdtrain-F1_score:0.43334\tdval-F1_score:0.40269\n",
      "[6]\tdtrain-F1_score:0.43669\tdval-F1_score:0.40468\n",
      "[7]\tdtrain-F1_score:0.43578\tdval-F1_score:0.40066\n",
      "[8]\tdtrain-F1_score:0.43718\tdval-F1_score:0.39935\n",
      "[9]\tdtrain-F1_score:0.43811\tdval-F1_score:0.40584\n",
      "[10]\tdtrain-F1_score:0.43950\tdval-F1_score:0.40262\n",
      "[11]\tdtrain-F1_score:0.44138\tdval-F1_score:0.40198\n",
      "[12]\tdtrain-F1_score:0.44448\tdval-F1_score:0.40661\n",
      "[13]\tdtrain-F1_score:0.44639\tdval-F1_score:0.40460\n",
      "[14]\tdtrain-F1_score:0.44619\tdval-F1_score:0.40460\n",
      "[15]\tdtrain-F1_score:0.44860\tdval-F1_score:0.40000\n",
      "[16]\tdtrain-F1_score:0.44905\tdval-F1_score:0.40065\n",
      "[17]\tdtrain-F1_score:0.45011\tdval-F1_score:0.41475\n",
      "[18]\tdtrain-F1_score:0.45002\tdval-F1_score:0.40986\n",
      "[19]\tdtrain-F1_score:0.45121\tdval-F1_score:0.41284\n",
      "[20]\tdtrain-F1_score:0.45109\tdval-F1_score:0.41705\n",
      "[21]\tdtrain-F1_score:0.44935\tdval-F1_score:0.40235\n",
      "[22]\tdtrain-F1_score:0.45073\tdval-F1_score:0.39882\n",
      "[23]\tdtrain-F1_score:0.45071\tdval-F1_score:0.40588\n",
      "[24]\tdtrain-F1_score:0.45083\tdval-F1_score:0.40351\n",
      "[25]\tdtrain-F1_score:0.45267\tdval-F1_score:0.41048\n",
      "[26]\tdtrain-F1_score:0.45310\tdval-F1_score:0.40580\n",
      "[27]\tdtrain-F1_score:0.45411\tdval-F1_score:0.40870\n",
      "[28]\tdtrain-F1_score:0.45319\tdval-F1_score:0.40870\n",
      "[29]\tdtrain-F1_score:0.45409\tdval-F1_score:0.40580\n",
      "[0]\tdtrain-F1_score:0.00000\tdval-F1_score:0.00000\n",
      "[1]\tdtrain-F1_score:0.35475\tdval-F1_score:0.33787\n",
      "[2]\tdtrain-F1_score:0.43028\tdval-F1_score:0.39216\n",
      "[3]\tdtrain-F1_score:0.43905\tdval-F1_score:0.40304\n",
      "[4]\tdtrain-F1_score:0.43928\tdval-F1_score:0.40228\n"
     ]
    },
    {
     "name": "stderr",
     "output_type": "stream",
     "text": [
      "c:\\Users\\Lenovo\\anaconda3\\lib\\site-packages\\xgboost\\training.py:39: UserWarning: `feval` is deprecated, use `custom_metric` instead.  They have different behavior when custom objective is also used.See https://xgboost.readthedocs.io/en/latest/tutorials/custom_metric_obj.html for details on the `custom_metric`.\n",
      "  warnings.warn(\n"
     ]
    },
    {
     "name": "stdout",
     "output_type": "stream",
     "text": [
      "[5]\tdtrain-F1_score:0.44143\tdval-F1_score:0.40530\n",
      "[6]\tdtrain-F1_score:0.44498\tdval-F1_score:0.40684\n",
      "[7]\tdtrain-F1_score:0.43239\tdval-F1_score:0.40328\n",
      "[8]\tdtrain-F1_score:0.43043\tdval-F1_score:0.40388\n",
      "[9]\tdtrain-F1_score:0.43553\tdval-F1_score:0.40000\n",
      "[10]\tdtrain-F1_score:0.43668\tdval-F1_score:0.40260\n",
      "[11]\tdtrain-F1_score:0.44721\tdval-F1_score:0.40773\n",
      "[12]\tdtrain-F1_score:0.44725\tdval-F1_score:0.40773\n",
      "[13]\tdtrain-F1_score:0.44799\tdval-F1_score:0.40845\n",
      "[14]\tdtrain-F1_score:0.44003\tdval-F1_score:0.40065\n",
      "[15]\tdtrain-F1_score:0.44022\tdval-F1_score:0.40323\n",
      "[16]\tdtrain-F1_score:0.44857\tdval-F1_score:0.40747\n",
      "[17]\tdtrain-F1_score:0.44936\tdval-F1_score:0.40747\n",
      "[18]\tdtrain-F1_score:0.44715\tdval-F1_score:0.41091\n",
      "[19]\tdtrain-F1_score:0.44036\tdval-F1_score:0.40774\n",
      "[20]\tdtrain-F1_score:0.43953\tdval-F1_score:0.40835\n",
      "[21]\tdtrain-F1_score:0.44546\tdval-F1_score:0.41534\n",
      "[22]\tdtrain-F1_score:0.44551\tdval-F1_score:0.41346\n",
      "[23]\tdtrain-F1_score:0.44551\tdval-F1_score:0.41346\n",
      "[24]\tdtrain-F1_score:0.43902\tdval-F1_score:0.40896\n",
      "[25]\tdtrain-F1_score:0.44350\tdval-F1_score:0.40952\n",
      "[26]\tdtrain-F1_score:0.44362\tdval-F1_score:0.40823\n",
      "[27]\tdtrain-F1_score:0.43658\tdval-F1_score:0.40639\n",
      "[28]\tdtrain-F1_score:0.43896\tdval-F1_score:0.40929\n",
      "[29]\tdtrain-F1_score:0.43942\tdval-F1_score:0.40929\n",
      "[30]\tdtrain-F1_score:0.43850\tdval-F1_score:0.40698\n",
      "[31]\tdtrain-F1_score:0.43862\tdval-F1_score:0.40521\n",
      "[0]\tdtrain-F1_score:0.00000\tdval-F1_score:0.00000\n",
      "[1]\tdtrain-F1_score:0.32925\tdval-F1_score:0.33239\n",
      "[2]\tdtrain-F1_score:0.41885\tdval-F1_score:0.39600\n",
      "[3]\tdtrain-F1_score:0.43065\tdval-F1_score:0.39338\n",
      "[4]\tdtrain-F1_score:0.43020\tdval-F1_score:0.39344\n"
     ]
    },
    {
     "name": "stderr",
     "output_type": "stream",
     "text": [
      "c:\\Users\\Lenovo\\anaconda3\\lib\\site-packages\\xgboost\\training.py:39: UserWarning: `feval` is deprecated, use `custom_metric` instead.  They have different behavior when custom objective is also used.See https://xgboost.readthedocs.io/en/latest/tutorials/custom_metric_obj.html for details on the `custom_metric`.\n",
      "  warnings.warn(\n"
     ]
    },
    {
     "name": "stdout",
     "output_type": "stream",
     "text": [
      "[5]\tdtrain-F1_score:0.43337\tdval-F1_score:0.39854\n",
      "[6]\tdtrain-F1_score:0.43337\tdval-F1_score:0.39854\n",
      "[7]\tdtrain-F1_score:0.43439\tdval-F1_score:0.39854\n",
      "[8]\tdtrain-F1_score:0.43382\tdval-F1_score:0.39564\n",
      "[9]\tdtrain-F1_score:0.43375\tdval-F1_score:0.39564\n",
      "[10]\tdtrain-F1_score:0.43405\tdval-F1_score:0.39564\n",
      "[11]\tdtrain-F1_score:0.43400\tdval-F1_score:0.39787\n",
      "[12]\tdtrain-F1_score:0.43571\tdval-F1_score:0.40000\n",
      "[13]\tdtrain-F1_score:0.43512\tdval-F1_score:0.40000\n",
      "[14]\tdtrain-F1_score:0.43496\tdval-F1_score:0.40000\n",
      "[15]\tdtrain-F1_score:0.43504\tdval-F1_score:0.40000\n",
      "[16]\tdtrain-F1_score:0.43537\tdval-F1_score:0.40285\n",
      "[17]\tdtrain-F1_score:0.43145\tdval-F1_score:0.40550\n",
      "[18]\tdtrain-F1_score:0.43194\tdval-F1_score:0.40069\n",
      "[19]\tdtrain-F1_score:0.42705\tdval-F1_score:0.40960\n",
      "[20]\tdtrain-F1_score:0.42617\tdval-F1_score:0.40506\n",
      "[21]\tdtrain-F1_score:0.42298\tdval-F1_score:0.40183\n",
      "[22]\tdtrain-F1_score:0.42331\tdval-F1_score:0.40183\n",
      "[23]\tdtrain-F1_score:0.42351\tdval-F1_score:0.40183\n",
      "[24]\tdtrain-F1_score:0.42292\tdval-F1_score:0.40122\n",
      "[25]\tdtrain-F1_score:0.42292\tdval-F1_score:0.40122\n",
      "[26]\tdtrain-F1_score:0.42292\tdval-F1_score:0.40122\n",
      "[27]\tdtrain-F1_score:0.42292\tdval-F1_score:0.40122\n",
      "[28]\tdtrain-F1_score:0.42324\tdval-F1_score:0.40122\n",
      "[29]\tdtrain-F1_score:0.42324\tdval-F1_score:0.40122\n",
      "[0]\tdtrain-F1_score:0.00000\tdval-F1_score:0.00000\n",
      "[1]\tdtrain-F1_score:0.36512\tdval-F1_score:0.38139\n",
      "[2]\tdtrain-F1_score:0.37132\tdval-F1_score:0.38073\n",
      "[3]\tdtrain-F1_score:0.40099\tdval-F1_score:0.37037\n",
      "[4]\tdtrain-F1_score:0.40369\tdval-F1_score:0.37658\n"
     ]
    },
    {
     "name": "stderr",
     "output_type": "stream",
     "text": [
      "c:\\Users\\Lenovo\\anaconda3\\lib\\site-packages\\xgboost\\training.py:39: UserWarning: `feval` is deprecated, use `custom_metric` instead.  They have different behavior when custom objective is also used.See https://xgboost.readthedocs.io/en/latest/tutorials/custom_metric_obj.html for details on the `custom_metric`.\n",
      "  warnings.warn(\n"
     ]
    },
    {
     "name": "stdout",
     "output_type": "stream",
     "text": [
      "[5]\tdtrain-F1_score:0.40369\tdval-F1_score:0.37658\n",
      "[6]\tdtrain-F1_score:0.40296\tdval-F1_score:0.37872\n",
      "[7]\tdtrain-F1_score:0.40296\tdval-F1_score:0.37872\n",
      "[8]\tdtrain-F1_score:0.40296\tdval-F1_score:0.37872\n",
      "[9]\tdtrain-F1_score:0.40296\tdval-F1_score:0.37872\n",
      "[10]\tdtrain-F1_score:0.40248\tdval-F1_score:0.38305\n",
      "[11]\tdtrain-F1_score:0.39234\tdval-F1_score:0.36488\n",
      "[12]\tdtrain-F1_score:0.39234\tdval-F1_score:0.36488\n",
      "[13]\tdtrain-F1_score:0.39412\tdval-F1_score:0.36639\n",
      "[14]\tdtrain-F1_score:0.39412\tdval-F1_score:0.36639\n",
      "[15]\tdtrain-F1_score:0.39418\tdval-F1_score:0.36639\n",
      "[16]\tdtrain-F1_score:0.39421\tdval-F1_score:0.37037\n",
      "[17]\tdtrain-F1_score:0.39421\tdval-F1_score:0.37037\n",
      "[18]\tdtrain-F1_score:0.39439\tdval-F1_score:0.37037\n",
      "[19]\tdtrain-F1_score:0.39439\tdval-F1_score:0.37037\n",
      "[20]\tdtrain-F1_score:0.39533\tdval-F1_score:0.37088\n",
      "[0]\tdtrain-F1_score:0.00000\tdval-F1_score:0.00000\n",
      "[1]\tdtrain-F1_score:0.36512\tdval-F1_score:0.38139\n",
      "[2]\tdtrain-F1_score:0.36841\tdval-F1_score:0.38051\n",
      "[3]\tdtrain-F1_score:0.39937\tdval-F1_score:0.38202\n",
      "[4]\tdtrain-F1_score:0.39930\tdval-F1_score:0.38202\n",
      "[5]\tdtrain-F1_score:0.39922\tdval-F1_score:0.38202\n"
     ]
    },
    {
     "name": "stderr",
     "output_type": "stream",
     "text": [
      "c:\\Users\\Lenovo\\anaconda3\\lib\\site-packages\\xgboost\\training.py:39: UserWarning: `feval` is deprecated, use `custom_metric` instead.  They have different behavior when custom objective is also used.See https://xgboost.readthedocs.io/en/latest/tutorials/custom_metric_obj.html for details on the `custom_metric`.\n",
      "  warnings.warn(\n"
     ]
    },
    {
     "name": "stdout",
     "output_type": "stream",
     "text": [
      "[6]\tdtrain-F1_score:0.39902\tdval-F1_score:0.37959\n",
      "[7]\tdtrain-F1_score:0.39902\tdval-F1_score:0.37959\n",
      "[8]\tdtrain-F1_score:0.39047\tdval-F1_score:0.35961\n",
      "[9]\tdtrain-F1_score:0.39047\tdval-F1_score:0.35961\n",
      "[10]\tdtrain-F1_score:0.39067\tdval-F1_score:0.36161\n",
      "[11]\tdtrain-F1_score:0.39067\tdval-F1_score:0.36161\n",
      "[12]\tdtrain-F1_score:0.39004\tdval-F1_score:0.36338\n",
      "[13]\tdtrain-F1_score:0.39183\tdval-F1_score:0.36490\n",
      "[0]\tdtrain-F1_score:0.00000\tdval-F1_score:0.00000\n",
      "[1]\tdtrain-F1_score:0.36646\tdval-F1_score:0.38139\n",
      "[2]\tdtrain-F1_score:0.36841\tdval-F1_score:0.38051\n",
      "[3]\tdtrain-F1_score:0.39895\tdval-F1_score:0.37959\n",
      "[4]\tdtrain-F1_score:0.39895\tdval-F1_score:0.37959\n",
      "[5]\tdtrain-F1_score:0.39895\tdval-F1_score:0.37959\n"
     ]
    },
    {
     "name": "stderr",
     "output_type": "stream",
     "text": [
      "c:\\Users\\Lenovo\\anaconda3\\lib\\site-packages\\xgboost\\training.py:39: UserWarning: `feval` is deprecated, use `custom_metric` instead.  They have different behavior when custom objective is also used.See https://xgboost.readthedocs.io/en/latest/tutorials/custom_metric_obj.html for details on the `custom_metric`.\n",
      "  warnings.warn(\n"
     ]
    },
    {
     "name": "stdout",
     "output_type": "stream",
     "text": [
      "[6]\tdtrain-F1_score:0.39895\tdval-F1_score:0.37959\n",
      "[7]\tdtrain-F1_score:0.39895\tdval-F1_score:0.37959\n",
      "[8]\tdtrain-F1_score:0.39895\tdval-F1_score:0.37959\n",
      "[9]\tdtrain-F1_score:0.39895\tdval-F1_score:0.37959\n",
      "[10]\tdtrain-F1_score:0.39895\tdval-F1_score:0.37959\n",
      "[11]\tdtrain-F1_score:0.38638\tdval-F1_score:0.35033\n",
      "[0]\tdtrain-F1_score:0.00000\tdval-F1_score:0.00000\n",
      "[1]\tdtrain-F1_score:0.00000\tdval-F1_score:0.00000\n",
      "[2]\tdtrain-F1_score:0.38912\tdval-F1_score:0.36215\n",
      "[3]\tdtrain-F1_score:0.38912\tdval-F1_score:0.36215\n",
      "[4]\tdtrain-F1_score:0.38912\tdval-F1_score:0.36215\n",
      "[5]\tdtrain-F1_score:0.38912\tdval-F1_score:0.36215\n"
     ]
    },
    {
     "name": "stderr",
     "output_type": "stream",
     "text": [
      "c:\\Users\\Lenovo\\anaconda3\\lib\\site-packages\\xgboost\\training.py:39: UserWarning: `feval` is deprecated, use `custom_metric` instead.  They have different behavior when custom objective is also used.See https://xgboost.readthedocs.io/en/latest/tutorials/custom_metric_obj.html for details on the `custom_metric`.\n",
      "  warnings.warn(\n"
     ]
    },
    {
     "name": "stdout",
     "output_type": "stream",
     "text": [
      "[6]\tdtrain-F1_score:0.38912\tdval-F1_score:0.36215\n",
      "[7]\tdtrain-F1_score:0.38912\tdval-F1_score:0.36215\n",
      "[8]\tdtrain-F1_score:0.38912\tdval-F1_score:0.36215\n",
      "[9]\tdtrain-F1_score:0.38912\tdval-F1_score:0.36215\n",
      "[10]\tdtrain-F1_score:0.38912\tdval-F1_score:0.36215\n",
      "[11]\tdtrain-F1_score:0.38912\tdval-F1_score:0.36215\n"
     ]
    },
    {
     "name": "stderr",
     "output_type": "stream",
     "text": [
      "C:\\Users\\Lenovo\\AppData\\Local\\Temp\\ipykernel_15712\\538103137.py:50: FutureWarning: The frame.append method is deprecated and will be removed from pandas in a future version. Use pandas.concat instead.\n",
      "  imp_perf = imp_perf.append(imp_perf_l, True)\n"
     ]
    },
    {
     "data": {
      "text/html": [
       "<div>\n",
       "<style scoped>\n",
       "    .dataframe tbody tr th:only-of-type {\n",
       "        vertical-align: middle;\n",
       "    }\n",
       "\n",
       "    .dataframe tbody tr th {\n",
       "        vertical-align: top;\n",
       "    }\n",
       "\n",
       "    .dataframe thead th {\n",
       "        text-align: right;\n",
       "    }\n",
       "</style>\n",
       "<table border=\"1\" class=\"dataframe\">\n",
       "  <thead>\n",
       "    <tr style=\"text-align: right;\">\n",
       "      <th></th>\n",
       "      <th>imp_thr</th>\n",
       "      <th>auc</th>\n",
       "      <th>f1</th>\n",
       "      <th>precision</th>\n",
       "      <th>recall</th>\n",
       "    </tr>\n",
       "  </thead>\n",
       "  <tbody>\n",
       "    <tr>\n",
       "      <th>0</th>\n",
       "      <td>10</td>\n",
       "      <td>0.78</td>\n",
       "      <td>0.42</td>\n",
       "      <td>0.29</td>\n",
       "      <td>0.76</td>\n",
       "    </tr>\n",
       "    <tr>\n",
       "      <th>1</th>\n",
       "      <td>20</td>\n",
       "      <td>0.79</td>\n",
       "      <td>0.43</td>\n",
       "      <td>0.30</td>\n",
       "      <td>0.79</td>\n",
       "    </tr>\n",
       "    <tr>\n",
       "      <th>2</th>\n",
       "      <td>30</td>\n",
       "      <td>0.77</td>\n",
       "      <td>0.40</td>\n",
       "      <td>0.28</td>\n",
       "      <td>0.75</td>\n",
       "    </tr>\n",
       "    <tr>\n",
       "      <th>3</th>\n",
       "      <td>40</td>\n",
       "      <td>0.76</td>\n",
       "      <td>0.39</td>\n",
       "      <td>0.27</td>\n",
       "      <td>0.73</td>\n",
       "    </tr>\n",
       "    <tr>\n",
       "      <th>4</th>\n",
       "      <td>50</td>\n",
       "      <td>0.76</td>\n",
       "      <td>0.39</td>\n",
       "      <td>0.26</td>\n",
       "      <td>0.74</td>\n",
       "    </tr>\n",
       "    <tr>\n",
       "      <th>5</th>\n",
       "      <td>60</td>\n",
       "      <td>0.75</td>\n",
       "      <td>0.38</td>\n",
       "      <td>0.26</td>\n",
       "      <td>0.72</td>\n",
       "    </tr>\n",
       "    <tr>\n",
       "      <th>6</th>\n",
       "      <td>70</td>\n",
       "      <td>0.73</td>\n",
       "      <td>0.36</td>\n",
       "      <td>0.24</td>\n",
       "      <td>0.72</td>\n",
       "    </tr>\n",
       "    <tr>\n",
       "      <th>7</th>\n",
       "      <td>80</td>\n",
       "      <td>0.73</td>\n",
       "      <td>0.37</td>\n",
       "      <td>0.25</td>\n",
       "      <td>0.67</td>\n",
       "    </tr>\n",
       "    <tr>\n",
       "      <th>8</th>\n",
       "      <td>90</td>\n",
       "      <td>0.72</td>\n",
       "      <td>0.37</td>\n",
       "      <td>0.26</td>\n",
       "      <td>0.65</td>\n",
       "    </tr>\n",
       "    <tr>\n",
       "      <th>9</th>\n",
       "      <td>100</td>\n",
       "      <td>0.71</td>\n",
       "      <td>0.39</td>\n",
       "      <td>0.29</td>\n",
       "      <td>0.59</td>\n",
       "    </tr>\n",
       "    <tr>\n",
       "      <th>10</th>\n",
       "      <td>400</td>\n",
       "      <td>0.69</td>\n",
       "      <td>0.40</td>\n",
       "      <td>0.34</td>\n",
       "      <td>0.47</td>\n",
       "    </tr>\n",
       "  </tbody>\n",
       "</table>\n",
       "</div>"
      ],
      "text/plain": [
       "   imp_thr   auc    f1  precision  recall\n",
       "0       10  0.78  0.42       0.29    0.76\n",
       "1       20  0.79  0.43       0.30    0.79\n",
       "2       30  0.77  0.40       0.28    0.75\n",
       "3       40  0.76  0.39       0.27    0.73\n",
       "4       50  0.76  0.39       0.26    0.74\n",
       "5       60  0.75  0.38       0.26    0.72\n",
       "6       70  0.73  0.36       0.24    0.72\n",
       "7       80  0.73  0.37       0.25    0.67\n",
       "8       90  0.72  0.37       0.26    0.65\n",
       "9      100  0.71  0.39       0.29    0.59\n",
       "10     400  0.69  0.40       0.34    0.47"
      ]
     },
     "execution_count": 83,
     "metadata": {},
     "output_type": "execute_result"
    }
   ],
   "source": [
    "thr = [10, 20, 30, 40, 50, 60, 70, 80, 90, 100, 400]\n",
    "for th in thr:\n",
    "    imp_feats = list(feat_imp[feat_imp['score']>=th]['name'])\n",
    "    x_imp_feats = x[imp_feats]\n",
    "    \n",
    "    train_features, test_features, train_labels, test_labels = train_test_split(x_imp_feats, y4, \n",
    "                                                                            test_size = 0.10, random_state = 42)\n",
    "    train_features1, val_features, train_labels1, val_labels = train_test_split(train_features, train_labels, \n",
    "                                                                                test_size = 0.10, random_state = 42)\n",
    "    \n",
    "    feature_names = list(train_features)\n",
    "    \n",
    "    dtrain = xgboost.DMatrix(train_features, label=train_labels, feature_names=feature_names)\n",
    "    dtest = xgboost.DMatrix(test_features, label=test_labels, feature_names=feature_names)\n",
    "    dtrain1 = xgboost.DMatrix(train_features1, label=train_labels1, feature_names=feature_names)\n",
    "    dval = xgboost.DMatrix(val_features, label=val_labels, feature_names=feature_names)\n",
    "    \n",
    "    params = {'max_depth': 6,\n",
    "     'min_child_weight': 18,\n",
    "     'eta': 0.2,\n",
    "     'subsample': 1.0,\n",
    "     'colsample_bytree': 1.0,\n",
    "     'objective': 'binary:logistic',\n",
    "     'disable_default_eval_metric': 1,\n",
    "     'seed': 42,\n",
    "     'tree_method': 'hist',\n",
    "     'scale_pos_weight': 9.471599402092675}\n",
    "    num_boost_round=999\n",
    "\n",
    "    xgboost_imp = xgboost.train(\n",
    "        params,\n",
    "        dtrain1,\n",
    "        num_boost_round=num_boost_round,\n",
    "        evals=[(dtrain1, 'dtrain'), (dval, 'dval')],\n",
    "        feval=f1_eval,\n",
    "        early_stopping_rounds = 10,\n",
    "        maximize=True)\n",
    "\n",
    "    xgboost_imp_predt = np.where(xgboost_imp.predict(dtest) > 0.5, 1, 0)\n",
    "    auc = round(metrics.roc_auc_score(dtest.get_label(), xgboost_imp_predt),2)\n",
    "    f1 = round(metrics.f1_score(dtest.get_label(),xgboost_imp_predt),2)\n",
    "    pr = round(metrics.precision_score(dtest.get_label(), xgboost_imp_predt),2)\n",
    "    rc = round(metrics.recall_score(dtest.get_label(), xgboost_imp_predt),2)\n",
    "    \n",
    "    values = [th, auc, f1, pr, rc]\n",
    "    zipped = zip(column_names, values)\n",
    "    a_dictionary = dict(zipped)\n",
    "    imp_perf_l.append(a_dictionary) \n",
    "\n",
    "imp_perf = imp_perf.append(imp_perf_l, True)\n",
    "imp_perf"
   ]
  },
  {
   "attachments": {},
   "cell_type": "markdown",
   "metadata": {},
   "source": [
    "### 2.3 All features without enrichment features"
   ]
  },
  {
   "cell_type": "code",
   "execution_count": 84,
   "metadata": {},
   "outputs": [
    {
     "name": "stderr",
     "output_type": "stream",
     "text": [
      "C:\\Users\\Lenovo\\AppData\\Local\\Temp\\ipykernel_15712\\1049210408.py:1: FutureWarning: In a future version of pandas all arguments of DataFrame.drop except for the argument 'labels' will be keyword-only.\n",
      "  x_no_enrichm = x.drop(['pos_ADJ',\n"
     ]
    }
   ],
   "source": [
    "x_no_enrichm = x.drop(['pos_ADJ',\n",
    " 'pos_ADP',\n",
    " 'pos_ADV',\n",
    " 'pos_AUX',\n",
    " 'pos_DET',\n",
    " 'pos_INTJ',\n",
    " 'pos_NOUN',\n",
    " 'pos_PRON',\n",
    " 'pos_PROPN',\n",
    " 'pos_SCONJ',\n",
    " 'pos_VERB',\n",
    " 'pos_X',\n",
    " 'dep_ROOT',\n",
    " 'dep_acl',\n",
    " 'dep_acomp',\n",
    " 'dep_advcl',\n",
    " 'dep_advmod',\n",
    " 'dep_agent',\n",
    " 'dep_amod',\n",
    " 'dep_appos',\n",
    " 'dep_attr',\n",
    " 'dep_aux',\n",
    " 'dep_auxpass',\n",
    " 'dep_case',\n",
    " 'dep_cc',\n",
    " 'dep_ccomp',\n",
    " 'dep_compound',\n",
    " 'dep_conj',\n",
    " 'dep_csubj',\n",
    " 'dep_dative',\n",
    " 'dep_dep',\n",
    " 'dep_det',\n",
    " 'dep_dobj',\n",
    " 'dep_expl',\n",
    " 'dep_intj',\n",
    " 'dep_mark',\n",
    " 'dep_meta',\n",
    " 'dep_neg',\n",
    " 'dep_nmod',\n",
    " 'dep_npadvmod',\n",
    " 'dep_nsubj',\n",
    " 'dep_nsubjpass',\n",
    " 'dep_nummod',\n",
    " 'dep_oprd',\n",
    " 'dep_parataxis',\n",
    " 'dep_pcomp',\n",
    " 'dep_pobj',\n",
    " 'dep_poss',\n",
    " 'dep_preconj',\n",
    " 'dep_predet',\n",
    " 'dep_prep',\n",
    " 'dep_prt',\n",
    " 'dep_punct',\n",
    " 'dep_quantmod',\n",
    " 'dep_relcl',\n",
    " 'dep_xcomp',\n",
    " 'ne_CARDINAL',\n",
    " 'ne_DATE',\n",
    " 'ne_EVENT',\n",
    " 'ne_FAC',\n",
    " 'ne_GPE',\n",
    " 'ne_LANGUAGE',\n",
    " 'ne_LAW',\n",
    " 'ne_LOC',\n",
    " 'ne_MONEY',\n",
    " 'ne_NORP',\n",
    " 'ne_ORDINAL',\n",
    " 'ne_ORG',\n",
    " 'ne_PERCENT',\n",
    " 'ne_PERSON',\n",
    " 'ne_PRODUCT',\n",
    " 'ne_QUANTITY',\n",
    " 'ne_TIME',\n",
    " 'ne_WORK_OF_ART',                \n",
    " 'pos_ADJ_context',\n",
    " 'pos_ADP_context',\n",
    " 'pos_ADV_context',\n",
    " 'pos_AUX_context',\n",
    " 'pos_DET_context',\n",
    " 'pos_INTJ_context',\n",
    " 'pos_NOUN_context',\n",
    " 'pos_PRON_context',\n",
    " 'pos_PROPN_context',\n",
    " 'pos_SCONJ_context',\n",
    " 'pos_VERB_context',\n",
    " 'pos_X_context',\n",
    " 'dep_ROOT_context',\n",
    " 'dep_acl_context',\n",
    " 'dep_acomp_context',\n",
    " 'dep_advcl_context',\n",
    " 'dep_advmod_context',\n",
    " 'dep_agent_context',\n",
    " 'dep_amod_context',\n",
    " 'dep_appos_context',\n",
    " 'dep_attr_context',\n",
    " 'dep_aux_context',\n",
    " 'dep_auxpass_context',\n",
    " 'dep_case_context',\n",
    " 'dep_cc_context',\n",
    " 'dep_ccomp_context',\n",
    " 'dep_compound_context',\n",
    " 'dep_conj_context',\n",
    " 'dep_csubj_context',\n",
    " 'dep_dative_context',\n",
    " 'dep_dep_context',\n",
    " 'dep_det_context',\n",
    " 'dep_dobj_context',\n",
    " 'dep_expl_context',\n",
    " 'dep_intj_context',\n",
    " 'dep_mark_context',\n",
    " 'dep_meta_context',\n",
    " 'dep_neg_context',\n",
    " 'dep_nmod_context',\n",
    " 'dep_npadvmod_context',\n",
    " 'dep_nsubj_context',\n",
    " 'dep_nsubjpass_context',\n",
    " 'dep_nummod_context',\n",
    " 'dep_oprd_context',\n",
    " 'dep_parataxis_context',\n",
    " 'dep_pcomp_context',\n",
    " 'dep_pobj_context',\n",
    " 'dep_poss_context',\n",
    " 'dep_preconj_context',\n",
    " 'dep_predet_context',\n",
    " 'dep_prep_context',\n",
    " 'dep_prt_context',\n",
    " 'dep_punct_context',\n",
    " 'dep_quantmod_context',\n",
    " 'dep_relcl_context',\n",
    " 'dep_xcomp_context',\n",
    " 'ne_CARDINAL_context',\n",
    " 'ne_DATE_context',\n",
    " 'ne_EVENT_context',\n",
    " 'ne_FAC_context',\n",
    " 'ne_GPE_context',\n",
    " 'ne_LAW_context',\n",
    " 'ne_LOC_context',\n",
    " 'ne_MONEY_context',\n",
    " 'ne_NORP_context',\n",
    " 'ne_ORDINAL_context',\n",
    " 'ne_ORG_context',\n",
    " 'ne_PERCENT_context',\n",
    " 'ne_PERSON_context',\n",
    " 'ne_PRODUCT_context',\n",
    " 'ne_QUANTITY_context',\n",
    " 'ne_TIME_context',\n",
    " 'ne_WORK_OF_ART_context',\n",
    " 'ne_LANGUAGE_context'], 1)"
   ]
  },
  {
   "cell_type": "code",
   "execution_count": 85,
   "metadata": {},
   "outputs": [],
   "source": [
    "train_features, test_features, train_labels, test_labels = train_test_split(x_no_enrichm, y4, \n",
    "                                                                            test_size = 0.10, random_state = 42)\n",
    "train_features1, val_features, train_labels1, val_labels = train_test_split(train_features, train_labels, \n",
    "                                                                            test_size = 0.10, random_state = 42)"
   ]
  },
  {
   "cell_type": "code",
   "execution_count": 86,
   "metadata": {},
   "outputs": [
    {
     "data": {
      "text/plain": [
       "134"
      ]
     },
     "execution_count": 86,
     "metadata": {},
     "output_type": "execute_result"
    }
   ],
   "source": [
    "feature_names = list(x_no_enrichm.columns)\n",
    "len(feature_names)"
   ]
  },
  {
   "cell_type": "code",
   "execution_count": 87,
   "metadata": {},
   "outputs": [],
   "source": [
    "dtrain = xgboost.DMatrix(train_features, label=train_labels, feature_names=feature_names)\n",
    "dtest = xgboost.DMatrix(test_features, label=test_labels, feature_names=feature_names)\n",
    "dtrain1 = xgboost.DMatrix(train_features1, label=train_labels1, feature_names=feature_names)\n",
    "dval = xgboost.DMatrix(val_features, label=val_labels, feature_names=feature_names)"
   ]
  },
  {
   "cell_type": "code",
   "execution_count": 88,
   "metadata": {},
   "outputs": [],
   "source": [
    "params = {'max_depth': 6,\n",
    " 'min_child_weight': 18,\n",
    " 'eta': 0.2,\n",
    " 'subsample': 1.0,\n",
    " 'colsample_bytree': 1.0,\n",
    " 'objective': 'binary:logistic',\n",
    " 'disable_default_eval_metric': 1,\n",
    " 'seed': 42,\n",
    " 'tree_method': 'hist',\n",
    " 'scale_pos_weight': 9.471599402092675}\n",
    "num_boost_round=999"
   ]
  },
  {
   "cell_type": "code",
   "execution_count": 89,
   "metadata": {
    "scrolled": true
   },
   "outputs": [
    {
     "name": "stdout",
     "output_type": "stream",
     "text": [
      "[0]\tdtrain-F1_score:0.00000\tdval-F1_score:0.00000\n",
      "[1]\tdtrain-F1_score:0.36653\tdval-F1_score:0.38172\n"
     ]
    },
    {
     "name": "stderr",
     "output_type": "stream",
     "text": [
      "c:\\Users\\Lenovo\\anaconda3\\lib\\site-packages\\xgboost\\training.py:39: UserWarning: `feval` is deprecated, use `custom_metric` instead.  They have different behavior when custom objective is also used.See https://xgboost.readthedocs.io/en/latest/tutorials/custom_metric_obj.html for details on the `custom_metric`.\n",
      "  warnings.warn(\n"
     ]
    },
    {
     "name": "stdout",
     "output_type": "stream",
     "text": [
      "[2]\tdtrain-F1_score:0.43389\tdval-F1_score:0.40234\n",
      "[3]\tdtrain-F1_score:0.44814\tdval-F1_score:0.40631\n",
      "[4]\tdtrain-F1_score:0.44571\tdval-F1_score:0.40550\n",
      "[5]\tdtrain-F1_score:0.44288\tdval-F1_score:0.40878\n",
      "[6]\tdtrain-F1_score:0.44721\tdval-F1_score:0.40545\n",
      "[7]\tdtrain-F1_score:0.44717\tdval-F1_score:0.40609\n",
      "[8]\tdtrain-F1_score:0.45106\tdval-F1_score:0.40924\n",
      "[9]\tdtrain-F1_score:0.45366\tdval-F1_score:0.40790\n",
      "[10]\tdtrain-F1_score:0.45301\tdval-F1_score:0.40777\n",
      "[11]\tdtrain-F1_score:0.45454\tdval-F1_score:0.40519\n",
      "[12]\tdtrain-F1_score:0.45704\tdval-F1_score:0.40258\n",
      "[13]\tdtrain-F1_score:0.46100\tdval-F1_score:0.40711\n",
      "[14]\tdtrain-F1_score:0.46052\tdval-F1_score:0.40580\n",
      "[15]\tdtrain-F1_score:0.46141\tdval-F1_score:0.40711\n",
      "[16]\tdtrain-F1_score:0.46263\tdval-F1_score:0.40902\n",
      "[17]\tdtrain-F1_score:0.46383\tdval-F1_score:0.41034\n",
      "[18]\tdtrain-F1_score:0.46547\tdval-F1_score:0.41158\n",
      "[19]\tdtrain-F1_score:0.46621\tdval-F1_score:0.40902\n",
      "[20]\tdtrain-F1_score:0.46825\tdval-F1_score:0.40960\n",
      "[21]\tdtrain-F1_score:0.46814\tdval-F1_score:0.41026\n",
      "[22]\tdtrain-F1_score:0.46864\tdval-F1_score:0.41346\n",
      "[23]\tdtrain-F1_score:0.46929\tdval-F1_score:0.41214\n",
      "[24]\tdtrain-F1_score:0.47010\tdval-F1_score:0.41456\n",
      "[25]\tdtrain-F1_score:0.47065\tdval-F1_score:0.41956\n",
      "[26]\tdtrain-F1_score:0.47164\tdval-F1_score:0.42357\n",
      "[27]\tdtrain-F1_score:0.47349\tdval-F1_score:0.42222\n",
      "[28]\tdtrain-F1_score:0.47578\tdval-F1_score:0.42222\n",
      "[29]\tdtrain-F1_score:0.47681\tdval-F1_score:0.42675\n",
      "[30]\tdtrain-F1_score:0.47788\tdval-F1_score:0.42472\n",
      "[31]\tdtrain-F1_score:0.47879\tdval-F1_score:0.42289\n",
      "[32]\tdtrain-F1_score:0.47955\tdval-F1_score:0.42038\n",
      "[33]\tdtrain-F1_score:0.48115\tdval-F1_score:0.42271\n",
      "[34]\tdtrain-F1_score:0.48312\tdval-F1_score:0.41890\n",
      "[35]\tdtrain-F1_score:0.48563\tdval-F1_score:0.41956\n",
      "[36]\tdtrain-F1_score:0.48522\tdval-F1_score:0.42022\n",
      "[37]\tdtrain-F1_score:0.48644\tdval-F1_score:0.42453\n",
      "[38]\tdtrain-F1_score:0.48720\tdval-F1_score:0.42879\n",
      "[39]\tdtrain-F1_score:0.48849\tdval-F1_score:0.42722\n",
      "[40]\tdtrain-F1_score:0.49117\tdval-F1_score:0.42722\n",
      "[41]\tdtrain-F1_score:0.49269\tdval-F1_score:0.42587\n",
      "[42]\tdtrain-F1_score:0.49355\tdval-F1_score:0.42453\n",
      "[43]\tdtrain-F1_score:0.49584\tdval-F1_score:0.42767\n",
      "[44]\tdtrain-F1_score:0.49771\tdval-F1_score:0.42835\n",
      "[45]\tdtrain-F1_score:0.49932\tdval-F1_score:0.42835\n",
      "[46]\tdtrain-F1_score:0.49991\tdval-F1_score:0.43014\n",
      "[47]\tdtrain-F1_score:0.50025\tdval-F1_score:0.43218\n",
      "[48]\tdtrain-F1_score:0.50127\tdval-F1_score:0.43150\n",
      "[49]\tdtrain-F1_score:0.50228\tdval-F1_score:0.43082\n",
      "[50]\tdtrain-F1_score:0.50295\tdval-F1_score:0.42902\n",
      "[51]\tdtrain-F1_score:0.50430\tdval-F1_score:0.43014\n",
      "[52]\tdtrain-F1_score:0.50522\tdval-F1_score:0.42633\n",
      "[53]\tdtrain-F1_score:0.50716\tdval-F1_score:0.42567\n",
      "[54]\tdtrain-F1_score:0.50929\tdval-F1_score:0.43106\n",
      "[55]\tdtrain-F1_score:0.50963\tdval-F1_score:0.43381\n",
      "[56]\tdtrain-F1_score:0.51064\tdval-F1_score:0.43243\n",
      "[57]\tdtrain-F1_score:0.51259\tdval-F1_score:0.43450\n",
      "[58]\tdtrain-F1_score:0.51546\tdval-F1_score:0.43200\n",
      "[59]\tdtrain-F1_score:0.51603\tdval-F1_score:0.43200\n",
      "[60]\tdtrain-F1_score:0.51590\tdval-F1_score:0.43548\n",
      "[61]\tdtrain-F1_score:0.51690\tdval-F1_score:0.43548\n",
      "[62]\tdtrain-F1_score:0.51733\tdval-F1_score:0.43478\n",
      "[63]\tdtrain-F1_score:0.51868\tdval-F1_score:0.43339\n",
      "[64]\tdtrain-F1_score:0.52055\tdval-F1_score:0.43408\n",
      "[65]\tdtrain-F1_score:0.52093\tdval-F1_score:0.43408\n",
      "[66]\tdtrain-F1_score:0.52381\tdval-F1_score:0.43062\n",
      "[67]\tdtrain-F1_score:0.52454\tdval-F1_score:0.43200\n",
      "[68]\tdtrain-F1_score:0.52467\tdval-F1_score:0.43200\n",
      "[69]\tdtrain-F1_score:0.52375\tdval-F1_score:0.43269\n"
     ]
    }
   ],
   "source": [
    "xgboost_no_enrichm = xgboost.train(\n",
    "    params,\n",
    "    dtrain1,\n",
    "    num_boost_round=num_boost_round,\n",
    "    evals=[(dtrain1, 'dtrain'), (dval, 'dval')],\n",
    "    feval=f1_eval,\n",
    "    early_stopping_rounds = 10,\n",
    "    maximize=True)"
   ]
  },
  {
   "cell_type": "code",
   "execution_count": 90,
   "metadata": {},
   "outputs": [],
   "source": [
    "\n",
    "# xgboost_no_enrichm.save_model(\"xgboost_no_enrichm.model\")\n",
    "xgboost_no_enrichm = xgboost.Booster()\n",
    "xgboost_no_enrichm.load_model(\"data/xgboost_no_enrichm.model\")"
   ]
  },
  {
   "cell_type": "code",
   "execution_count": 91,
   "metadata": {},
   "outputs": [
    {
     "name": "stdout",
     "output_type": "stream",
     "text": [
      "Performance of xgboost_no_enrichm, test:\n",
      "F1: 0.45\n",
      "Precision: 0.32\n",
      "Recall: 0.76\n",
      "AUC: 0.79\n",
      "Accuracy: 0.82\n",
      "Confusion matrix:\n",
      " [[2291   74]\n",
      " [ 493  231]]\n"
     ]
    }
   ],
   "source": [
    "xgboost_no_enrichm_predt = np.where(xgboost_no_enrichm.predict(dtest) > 0.5, 1, 0)\n",
    "print('Performance of xgboost_no_enrichm, test:')\n",
    "print('F1:', round(metrics.f1_score(dtest.get_label(),xgboost_no_enrichm_predt),2))\n",
    "print('Precision:', round(metrics.precision_score(dtest.get_label(), xgboost_no_enrichm_predt),2))\n",
    "print('Recall:', round(metrics.recall_score(dtest.get_label(), xgboost_no_enrichm_predt),2))\n",
    "print('AUC:', round(metrics.roc_auc_score(dtest.get_label(), xgboost_no_enrichm_predt),2))\n",
    "print('Accuracy:', round(metrics.accuracy_score(dtest.get_label(), xgboost_no_enrichm_predt),2))\n",
    "print('Confusion matrix:\\n', metrics.confusion_matrix(dtest.get_label(), xgboost_no_enrichm_predt).transpose())"
   ]
  },
  {
   "cell_type": "code",
   "execution_count": 92,
   "metadata": {},
   "outputs": [
    {
     "data": {
      "text/plain": [
       "Text(0, 0.5, 'Features')"
      ]
     },
     "execution_count": 92,
     "metadata": {},
     "output_type": "execute_result"
    },
    {
     "data": {
      "image/png": "[encoded data removed]",
      "text/plain": [
       "<Figure size 800x800 with 1 Axes>"
      ]
     },
     "metadata": {},
     "output_type": "display_data"
    }
   ],
   "source": [
    "fig, ax = plt.subplots(1, 1, figsize=(8,8))\n",
    "plt.rcParams['font.size'] = 16\n",
    "\n",
    "xgboost.plot_importance(xgboost_no_enrichm, ax=ax, show_values=False, max_num_features=20,\n",
    "                       importance_type='gain', height=0.7, grid=False, color='lightsteelblue')\n",
    "ax.set_ylabel('Features', fontsize=16)"
   ]
  },
  {
   "attachments": {},
   "cell_type": "markdown",
   "metadata": {},
   "source": [
    "### 2.4 All features without TF-IDF"
   ]
  },
  {
   "cell_type": "code",
   "execution_count": 93,
   "metadata": {},
   "outputs": [
    {
     "name": "stderr",
     "output_type": "stream",
     "text": [
      "C:\\Users\\Lenovo\\AppData\\Local\\Temp\\ipykernel_15712\\3945757450.py:1: FutureWarning: In a future version of pandas all arguments of DataFrame.drop except for the argument 'labels' will be keyword-only.\n",
      "  x_no_tfidf = x.drop(['tfidf_art'], 1)\n"
     ]
    }
   ],
   "source": [
    "x_no_tfidf = x.drop(['tfidf_art'], 1)"
   ]
  },
  {
   "cell_type": "code",
   "execution_count": 94,
   "metadata": {},
   "outputs": [],
   "source": [
    "train_features, test_features, train_labels, test_labels = train_test_split(x_no_tfidf, y4, \n",
    "                                                                            test_size = 0.10, random_state = 42)\n",
    "train_features1, val_features, train_labels1, val_labels = train_test_split(train_features, train_labels, \n",
    "                                                                            test_size = 0.10, random_state = 42)"
   ]
  },
  {
   "cell_type": "code",
   "execution_count": 95,
   "metadata": {},
   "outputs": [
    {
     "data": {
      "text/plain": [
       "281"
      ]
     },
     "execution_count": 95,
     "metadata": {},
     "output_type": "execute_result"
    }
   ],
   "source": [
    "feature_names = list(x_no_tfidf.columns)\n",
    "len(feature_names)"
   ]
  },
  {
   "cell_type": "code",
   "execution_count": 96,
   "metadata": {},
   "outputs": [],
   "source": [
    "dtrain = xgboost.DMatrix(train_features, label=train_labels, feature_names=feature_names)\n",
    "dtest = xgboost.DMatrix(test_features, label=test_labels, feature_names=feature_names)\n",
    "dtrain1 = xgboost.DMatrix(train_features1, label=train_labels1, feature_names=feature_names)\n",
    "dval = xgboost.DMatrix(val_features, label=val_labels, feature_names=feature_names)"
   ]
  },
  {
   "cell_type": "code",
   "execution_count": 97,
   "metadata": {},
   "outputs": [],
   "source": [
    "params = {'max_depth': 6,\n",
    " 'min_child_weight': 18,\n",
    " 'eta': 0.2,\n",
    " 'subsample': 1.0,\n",
    " 'colsample_bytree': 1.0,\n",
    " 'objective': 'binary:logistic',\n",
    " 'disable_default_eval_metric': 1,\n",
    " 'seed': 42,\n",
    " 'tree_method': 'hist',\n",
    " 'scale_pos_weight': 9.471599402092675}\n",
    "num_boost_round=999"
   ]
  },
  {
   "cell_type": "code",
   "execution_count": 98,
   "metadata": {
    "scrolled": true
   },
   "outputs": [
    {
     "name": "stdout",
     "output_type": "stream",
     "text": [
      "[0]\tdtrain-F1_score:0.00000\tdval-F1_score:0.00000\n"
     ]
    },
    {
     "name": "stderr",
     "output_type": "stream",
     "text": [
      "c:\\Users\\Lenovo\\anaconda3\\lib\\site-packages\\xgboost\\training.py:39: UserWarning: `feval` is deprecated, use `custom_metric` instead.  They have different behavior when custom objective is also used.See https://xgboost.readthedocs.io/en/latest/tutorials/custom_metric_obj.html for details on the `custom_metric`.\n",
      "  warnings.warn(\n"
     ]
    },
    {
     "name": "stdout",
     "output_type": "stream",
     "text": [
      "[1]\tdtrain-F1_score:0.33202\tdval-F1_score:0.30539\n",
      "[2]\tdtrain-F1_score:0.42907\tdval-F1_score:0.40355\n",
      "[3]\tdtrain-F1_score:0.45272\tdval-F1_score:0.41091\n",
      "[4]\tdtrain-F1_score:0.45584\tdval-F1_score:0.40215\n",
      "[5]\tdtrain-F1_score:0.45764\tdval-F1_score:0.41770\n",
      "[6]\tdtrain-F1_score:0.45552\tdval-F1_score:0.41319\n",
      "[7]\tdtrain-F1_score:0.45819\tdval-F1_score:0.41463\n",
      "[8]\tdtrain-F1_score:0.45946\tdval-F1_score:0.41509\n",
      "[9]\tdtrain-F1_score:0.46095\tdval-F1_score:0.41736\n",
      "[10]\tdtrain-F1_score:0.46212\tdval-F1_score:0.42333\n",
      "[11]\tdtrain-F1_score:0.46362\tdval-F1_score:0.42333\n",
      "[12]\tdtrain-F1_score:0.46544\tdval-F1_score:0.42333\n",
      "[13]\tdtrain-F1_score:0.46805\tdval-F1_score:0.41653\n",
      "[14]\tdtrain-F1_score:0.47038\tdval-F1_score:0.41459\n",
      "[15]\tdtrain-F1_score:0.46942\tdval-F1_score:0.41883\n",
      "[16]\tdtrain-F1_score:0.47128\tdval-F1_score:0.41587\n",
      "[17]\tdtrain-F1_score:0.47479\tdval-F1_score:0.41325\n",
      "[18]\tdtrain-F1_score:0.47658\tdval-F1_score:0.41575\n",
      "[19]\tdtrain-F1_score:0.47782\tdval-F1_score:0.41824\n",
      "[20]\tdtrain-F1_score:0.47999\tdval-F1_score:0.41550\n"
     ]
    }
   ],
   "source": [
    "xgboost_no_tfidf = xgboost.train(\n",
    "    params,\n",
    "    dtrain1,\n",
    "    num_boost_round=num_boost_round,\n",
    "    evals=[(dtrain1, 'dtrain'), (dval, 'dval')],\n",
    "    feval=f1_eval,\n",
    "    early_stopping_rounds = 10,\n",
    "    maximize=True)"
   ]
  },
  {
   "cell_type": "code",
   "execution_count": 99,
   "metadata": {},
   "outputs": [],
   "source": [
    "\n",
    "# xgboost_no_tfidf.save_model(\"xgboost_no_tfidf.model\")\n",
    "xgboost_no_tfidf = xgboost.Booster()\n",
    "xgboost_no_tfidf.load_model(\"data/xgboost_no_tfidf.model\")"
   ]
  },
  {
   "cell_type": "code",
   "execution_count": 100,
   "metadata": {},
   "outputs": [
    {
     "name": "stdout",
     "output_type": "stream",
     "text": [
      "Performance of xgboost_no_tfidf, test:\n",
      "F1: 0.43\n",
      "Precision: 0.3\n",
      "Recall: 0.8\n",
      "AUC: 0.8\n",
      "Accuracy: 0.79\n",
      "Confusion matrix:\n",
      " [[2208   61]\n",
      " [ 576  244]]\n"
     ]
    }
   ],
   "source": [
    "xgboost_no_tfidf_predt = np.where(xgboost_no_tfidf.predict(dtest) > 0.5, 1, 0)\n",
    "print('Performance of xgboost_no_tfidf, test:')\n",
    "print('F1:', round(metrics.f1_score(dtest.get_label(),xgboost_no_tfidf_predt),2))\n",
    "print('Precision:', round(metrics.precision_score(dtest.get_label(), xgboost_no_tfidf_predt),2))\n",
    "print('Recall:', round(metrics.recall_score(dtest.get_label(), xgboost_no_tfidf_predt),2))\n",
    "print('AUC:', round(metrics.roc_auc_score(dtest.get_label(), xgboost_no_tfidf_predt),2))\n",
    "print('Accuracy:', round(metrics.accuracy_score(dtest.get_label(), xgboost_no_tfidf_predt),2))\n",
    "print('Confusion matrix:\\n', metrics.confusion_matrix(dtest.get_label(), xgboost_no_tfidf_predt).transpose())"
   ]
  },
  {
   "cell_type": "code",
   "execution_count": 101,
   "metadata": {},
   "outputs": [
    {
     "data": {
      "text/plain": [
       "Text(0, 0.5, 'Features')"
      ]
     },
     "execution_count": 101,
     "metadata": {},
     "output_type": "execute_result"
    },
    {
     "data": {
      "image/png": "[encoded data removed]",
      "text/plain": [
       "<Figure size 800x800 with 1 Axes>"
      ]
     },
     "metadata": {},
     "output_type": "display_data"
    }
   ],
   "source": [
    "fig, ax = plt.subplots(1, 1, figsize=(8,8))\n",
    "plt.rcParams['font.size'] = 16\n",
    "\n",
    "xgboost.plot_importance(xgboost_no_tfidf, ax=ax, show_values=False, max_num_features=20,\n",
    "                       importance_type='gain', height=0.7, grid=False, color='lightsteelblue')\n",
    "ax.set_ylabel('Features', fontsize=16)"
   ]
  },
  {
   "attachments": {},
   "cell_type": "markdown",
   "metadata": {},
   "source": [
    "### 2.5 All features without LIWC2015"
   ]
  },
  {
   "cell_type": "code",
   "execution_count": 102,
   "metadata": {},
   "outputs": [
    {
     "name": "stderr",
     "output_type": "stream",
     "text": [
      "C:\\Users\\Lenovo\\AppData\\Local\\Temp\\ipykernel_15712\\1877739225.py:1: FutureWarning: In a future version of pandas all arguments of DataFrame.drop except for the argument 'labels' will be keyword-only.\n",
      "  x_no_liwc = x.drop(['affect ',\n"
     ]
    }
   ],
   "source": [
    "x_no_liwc = x.drop(['affect ',\n",
    " 'posemo ',\n",
    " 'negemo ',\n",
    " 'anx ',\n",
    " 'anger ',\n",
    " 'sad ',\n",
    " 'social ',\n",
    " 'family ',\n",
    " 'friend ',\n",
    " 'female ',\n",
    " 'male ',\n",
    " 'cogproc ',\n",
    " 'insight ',\n",
    " 'cause ',\n",
    " 'discrep ',\n",
    " 'tentat ',\n",
    " 'certain ',\n",
    " 'differ ',\n",
    " 'percept ',\n",
    " 'see ',\n",
    " 'hear ',\n",
    " 'feel ',\n",
    " 'bio ',\n",
    " 'body ',\n",
    " 'health ',\n",
    " 'sexual ',\n",
    " 'ingest ',\n",
    " 'drives ',\n",
    " 'affiliation ',\n",
    " 'achieve ',\n",
    " 'power ',\n",
    " 'reward ',\n",
    " 'risk ',\n",
    " 'focuspast ',\n",
    " 'focuspresent ',\n",
    " 'focusfuture ',\n",
    " 'relativ ',\n",
    " 'motion ',\n",
    " 'space ',\n",
    " 'time ',\n",
    " 'work ',\n",
    " 'leisure ',\n",
    " 'home ',\n",
    " 'money ',\n",
    " 'relig ',\n",
    " 'death ',\n",
    " 'informal ',\n",
    " 'swear ',\n",
    " 'netspeak ',\n",
    " 'assent ',\n",
    " 'nonflu ',\n",
    " 'filler ',\n",
    " 'affect _context',\n",
    " 'posemo _context',\n",
    " 'negemo _context',\n",
    " 'anx _context',\n",
    " 'anger _context',\n",
    " 'sad _context',\n",
    " 'social _context',\n",
    " 'family _context',\n",
    " 'friend _context',\n",
    " 'female _context',\n",
    " 'male _context',\n",
    " 'cogproc _context',\n",
    " 'insight _context',\n",
    " 'cause _context',\n",
    " 'discrep _context',\n",
    " 'tentat _context',\n",
    " 'certain _context',\n",
    " 'differ _context',\n",
    " 'percept _context',\n",
    " 'see _context',\n",
    " 'hear _context',\n",
    " 'feel _context',\n",
    " 'bio _context',\n",
    " 'body _context',\n",
    " 'health _context',\n",
    " 'sexual _context',\n",
    " 'ingest _context',\n",
    " 'drives _context',\n",
    " 'affiliation _context',\n",
    " 'achieve _context',\n",
    " 'power _context',\n",
    " 'reward _context',\n",
    " 'risk _context',\n",
    " 'focuspast _context',\n",
    " 'focuspresent _context',\n",
    " 'focusfuture _context',\n",
    " 'relativ _context',\n",
    " 'motion _context',\n",
    " 'space _context',\n",
    " 'time _context',\n",
    " 'work _context',\n",
    " 'leisure _context',\n",
    " 'home _context',\n",
    " 'money _context',\n",
    " 'relig _context',\n",
    " 'death _context',\n",
    " 'informal _context',\n",
    " 'swear _context',\n",
    " 'netspeak _context',\n",
    " 'assent _context',\n",
    " 'nonflu _context',\n",
    " 'filler _context'], 1)"
   ]
  },
  {
   "cell_type": "code",
   "execution_count": 103,
   "metadata": {},
   "outputs": [],
   "source": [
    "train_features, test_features, train_labels, test_labels = train_test_split(x_no_liwc, y4, \n",
    "                                                                            test_size = 0.10, random_state = 42)\n",
    "train_features1, val_features, train_labels1, val_labels = train_test_split(train_features, train_labels, \n",
    "                                                                            test_size = 0.10, random_state = 42)"
   ]
  },
  {
   "cell_type": "code",
   "execution_count": 104,
   "metadata": {},
   "outputs": [
    {
     "data": {
      "text/plain": [
       "178"
      ]
     },
     "execution_count": 104,
     "metadata": {},
     "output_type": "execute_result"
    }
   ],
   "source": [
    "feature_names = list(x_no_liwc.columns)\n",
    "len(feature_names)"
   ]
  },
  {
   "cell_type": "code",
   "execution_count": 105,
   "metadata": {},
   "outputs": [],
   "source": [
    "dtrain = xgboost.DMatrix(train_features, label=train_labels, feature_names=feature_names)\n",
    "dtest = xgboost.DMatrix(test_features, label=test_labels, feature_names=feature_names)\n",
    "dtrain1 = xgboost.DMatrix(train_features1, label=train_labels1, feature_names=feature_names)\n",
    "dval = xgboost.DMatrix(val_features, label=val_labels, feature_names=feature_names)"
   ]
  },
  {
   "cell_type": "code",
   "execution_count": 106,
   "metadata": {},
   "outputs": [],
   "source": [
    "params = {'max_depth': 6,\n",
    " 'min_child_weight': 18,\n",
    " 'eta': 0.2,\n",
    " 'subsample': 1.0,\n",
    " 'colsample_bytree': 1.0,\n",
    " 'objective': 'binary:logistic',\n",
    " 'disable_default_eval_metric': 1,\n",
    " 'seed': 42,\n",
    " 'tree_method': 'hist',\n",
    " 'scale_pos_weight': 9.471599402092675}\n",
    "num_boost_round=999"
   ]
  },
  {
   "cell_type": "code",
   "execution_count": 107,
   "metadata": {
    "scrolled": true
   },
   "outputs": [
    {
     "name": "stderr",
     "output_type": "stream",
     "text": [
      "c:\\Users\\Lenovo\\anaconda3\\lib\\site-packages\\xgboost\\training.py:39: UserWarning: `feval` is deprecated, use `custom_metric` instead.  They have different behavior when custom objective is also used.See https://xgboost.readthedocs.io/en/latest/tutorials/custom_metric_obj.html for details on the `custom_metric`.\n",
      "  warnings.warn(\n"
     ]
    },
    {
     "name": "stdout",
     "output_type": "stream",
     "text": [
      "[0]\tdtrain-F1_score:0.00000\tdval-F1_score:0.00000\n",
      "[1]\tdtrain-F1_score:0.32993\tdval-F1_score:0.30267\n",
      "[2]\tdtrain-F1_score:0.45314\tdval-F1_score:0.42205\n",
      "[3]\tdtrain-F1_score:0.45615\tdval-F1_score:0.41544\n",
      "[4]\tdtrain-F1_score:0.46177\tdval-F1_score:0.41727\n",
      "[5]\tdtrain-F1_score:0.45932\tdval-F1_score:0.41187\n",
      "[6]\tdtrain-F1_score:0.46222\tdval-F1_score:0.41438\n",
      "[7]\tdtrain-F1_score:0.46253\tdval-F1_score:0.41096\n",
      "[8]\tdtrain-F1_score:0.46190\tdval-F1_score:0.41286\n",
      "[9]\tdtrain-F1_score:0.46082\tdval-F1_score:0.41118\n",
      "[10]\tdtrain-F1_score:0.46393\tdval-F1_score:0.41967\n",
      "[11]\tdtrain-F1_score:0.46525\tdval-F1_score:0.41424\n"
     ]
    }
   ],
   "source": [
    "xgboost_no_liwc = xgboost.train(\n",
    "    params,\n",
    "    dtrain1,\n",
    "    num_boost_round=num_boost_round,\n",
    "    evals=[(dtrain1, 'dtrain'), (dval, 'dval')],\n",
    "    feval=f1_eval,\n",
    "    early_stopping_rounds = 10,\n",
    "    maximize=True)"
   ]
  },
  {
   "cell_type": "code",
   "execution_count": 108,
   "metadata": {},
   "outputs": [],
   "source": [
    "\n",
    "xgboost_no_liwc.save_model(\"data/xgboost_no_liwc.model\")\n",
    "# xgboost_no_liwc = xgboost.Booster()\n",
    "# xgboost_no_liwc.load_model(\"xgboost_no_liwc.model\")"
   ]
  },
  {
   "cell_type": "code",
   "execution_count": 109,
   "metadata": {},
   "outputs": [
    {
     "name": "stdout",
     "output_type": "stream",
     "text": [
      "Performance of xgboost_no_liwc, test:\n",
      "F1: 0.41\n",
      "Precision: 0.29\n",
      "Recall: 0.69\n",
      "AUC: 0.75\n",
      "Accuracy: 0.8\n",
      "Confusion matrix:\n",
      " [[2263   94]\n",
      " [ 521  211]]\n"
     ]
    }
   ],
   "source": [
    "xgboost_no_liwc_predt = np.where(xgboost_no_liwc.predict(dtest) > 0.5, 1, 0)\n",
    "print('Performance of xgboost_no_liwc, test:')\n",
    "print('F1:', round(metrics.f1_score(dtest.get_label(),xgboost_no_liwc_predt),2))\n",
    "print('Precision:', round(metrics.precision_score(dtest.get_label(), xgboost_no_liwc_predt),2))\n",
    "print('Recall:', round(metrics.recall_score(dtest.get_label(), xgboost_no_liwc_predt),2))\n",
    "print('AUC:', round(metrics.roc_auc_score(dtest.get_label(), xgboost_no_liwc_predt),2))\n",
    "print('Accuracy:', round(metrics.accuracy_score(dtest.get_label(), xgboost_no_liwc_predt),2))\n",
    "print('Confusion matrix:\\n', metrics.confusion_matrix(dtest.get_label(), xgboost_no_liwc_predt).transpose())"
   ]
  },
  {
   "cell_type": "code",
   "execution_count": 110,
   "metadata": {},
   "outputs": [
    {
     "data": {
      "text/plain": [
       "Text(0, 0.5, 'Features')"
      ]
     },
     "execution_count": 110,
     "metadata": {},
     "output_type": "execute_result"
    },
    {
     "data": {
      "image/png": "[encoded data removed]",
      "text/plain": [
       "<Figure size 800x800 with 1 Axes>"
      ]
     },
     "metadata": {},
     "output_type": "display_data"
    }
   ],
   "source": [
    "fig, ax = plt.subplots(1, 1, figsize=(8,8))\n",
    "plt.rcParams['font.size'] = 16\n",
    "\n",
    "xgboost.plot_importance(xgboost_no_liwc, ax=ax, show_values=False, max_num_features=20,\n",
    "                       importance_type='gain', height=0.7, grid=False, color='lightsteelblue')\n",
    "ax.set_ylabel('Features', fontsize=16)"
   ]
  },
  {
   "attachments": {},
   "cell_type": "markdown",
   "metadata": {},
   "source": [
    "### 2.6 All features without lexical features"
   ]
  },
  {
   "cell_type": "code",
   "execution_count": 111,
   "metadata": {},
   "outputs": [
    {
     "name": "stderr",
     "output_type": "stream",
     "text": [
      "C:\\Users\\Lenovo\\AppData\\Local\\Temp\\ipykernel_15712\\1735490617.py:1: FutureWarning: In a future version of pandas all arguments of DataFrame.drop except for the argument 'labels' will be keyword-only.\n",
      "  x_no_lex = x.drop(['negative_conc',\n"
     ]
    }
   ],
   "source": [
    "x_no_lex = x.drop(['negative_conc',\n",
    " 'positive_conc',\n",
    " 'weak_subj',\n",
    " 'strong_subj',\n",
    " 'hyperbolic_terms',\n",
    " 'attitude_markers',\n",
    " 'kill_verbs',\n",
    " 'bias_lexicon',\n",
    " 'assertive_verbs',\n",
    " 'factive_verbs',\n",
    " 'report_verbs',\n",
    " 'implicative_verbs',                   \n",
    " 'hedges',\n",
    " 'boosters',\n",
    " 'negative_conc_context',\n",
    " 'positive_conc_context',\n",
    " 'weak_subj_context',\n",
    " 'strong_subj_context',\n",
    " 'hyperbolic_terms_context',\n",
    " 'attitude_markers_context',\n",
    " 'kill_verbs_context',\n",
    " 'bias_lexicon_context',\n",
    " 'assertive_verbs_context',\n",
    " 'factive_verbs_context',\n",
    " 'report_verbs_context',\n",
    " 'implicative_verbs_context',\n",
    " 'hedges_context',\n",
    " 'boosters_context'], 1)"
   ]
  },
  {
   "cell_type": "code",
   "execution_count": 112,
   "metadata": {},
   "outputs": [],
   "source": [
    "train_features, test_features, train_labels, test_labels = train_test_split(x_no_lex, y4, \n",
    "                                                                            test_size = 0.10, random_state = 42)\n",
    "train_features1, val_features, train_labels1, val_labels = train_test_split(train_features, train_labels, \n",
    "                                                                            test_size = 0.10, random_state = 42)"
   ]
  },
  {
   "cell_type": "code",
   "execution_count": 113,
   "metadata": {},
   "outputs": [
    {
     "data": {
      "text/plain": [
       "254"
      ]
     },
     "execution_count": 113,
     "metadata": {},
     "output_type": "execute_result"
    }
   ],
   "source": [
    "feature_names = list(x_no_lex.columns)\n",
    "len(feature_names)"
   ]
  },
  {
   "cell_type": "code",
   "execution_count": 114,
   "metadata": {},
   "outputs": [],
   "source": [
    "dtrain = xgboost.DMatrix(train_features, label=train_labels, feature_names=feature_names)\n",
    "dtest = xgboost.DMatrix(test_features, label=test_labels, feature_names=feature_names)\n",
    "dtrain1 = xgboost.DMatrix(train_features1, label=train_labels1, feature_names=feature_names)\n",
    "dval = xgboost.DMatrix(val_features, label=val_labels, feature_names=feature_names)"
   ]
  },
  {
   "cell_type": "code",
   "execution_count": 115,
   "metadata": {},
   "outputs": [],
   "source": [
    "params = {'max_depth': 6,\n",
    " 'min_child_weight': 18,\n",
    " 'eta': 0.2,\n",
    " 'subsample': 1.0,\n",
    " 'colsample_bytree': 1.0,\n",
    " 'objective': 'binary:logistic',\n",
    " 'disable_default_eval_metric': 1,\n",
    " 'seed': 42,\n",
    " 'tree_method': 'hist',\n",
    " 'scale_pos_weight': 9.471599402092675}\n",
    "num_boost_round=999"
   ]
  },
  {
   "cell_type": "code",
   "execution_count": 116,
   "metadata": {
    "scrolled": true
   },
   "outputs": [
    {
     "name": "stdout",
     "output_type": "stream",
     "text": [
      "[0]\tdtrain-F1_score:0.00000\tdval-F1_score:0.00000\n"
     ]
    },
    {
     "name": "stderr",
     "output_type": "stream",
     "text": [
      "c:\\Users\\Lenovo\\anaconda3\\lib\\site-packages\\xgboost\\training.py:39: UserWarning: `feval` is deprecated, use `custom_metric` instead.  They have different behavior when custom objective is also used.See https://xgboost.readthedocs.io/en/latest/tutorials/custom_metric_obj.html for details on the `custom_metric`.\n",
      "  warnings.warn(\n"
     ]
    },
    {
     "name": "stdout",
     "output_type": "stream",
     "text": [
      "[1]\tdtrain-F1_score:0.00661\tdval-F1_score:0.00000\n",
      "[2]\tdtrain-F1_score:0.29836\tdval-F1_score:0.26891\n",
      "[3]\tdtrain-F1_score:0.32859\tdval-F1_score:0.29907\n",
      "[4]\tdtrain-F1_score:0.35916\tdval-F1_score:0.31771\n",
      "[5]\tdtrain-F1_score:0.35286\tdval-F1_score:0.30956\n",
      "[6]\tdtrain-F1_score:0.36285\tdval-F1_score:0.31510\n",
      "[7]\tdtrain-F1_score:0.36930\tdval-F1_score:0.31842\n",
      "[8]\tdtrain-F1_score:0.37207\tdval-F1_score:0.31800\n",
      "[9]\tdtrain-F1_score:0.37192\tdval-F1_score:0.32454\n",
      "[10]\tdtrain-F1_score:0.37719\tdval-F1_score:0.32510\n",
      "[11]\tdtrain-F1_score:0.37771\tdval-F1_score:0.32467\n",
      "[12]\tdtrain-F1_score:0.38012\tdval-F1_score:0.32546\n",
      "[13]\tdtrain-F1_score:0.38098\tdval-F1_score:0.32503\n",
      "[14]\tdtrain-F1_score:0.38203\tdval-F1_score:0.33118\n",
      "[15]\tdtrain-F1_score:0.38777\tdval-F1_score:0.32852\n",
      "[16]\tdtrain-F1_score:0.38761\tdval-F1_score:0.33596\n",
      "[17]\tdtrain-F1_score:0.38762\tdval-F1_score:0.33596\n",
      "[18]\tdtrain-F1_score:0.38906\tdval-F1_score:0.33640\n",
      "[19]\tdtrain-F1_score:0.39059\tdval-F1_score:0.33729\n",
      "[20]\tdtrain-F1_score:0.39738\tdval-F1_score:0.33598\n",
      "[21]\tdtrain-F1_score:0.39784\tdval-F1_score:0.33684\n",
      "[22]\tdtrain-F1_score:0.39945\tdval-F1_score:0.33681\n",
      "[23]\tdtrain-F1_score:0.40138\tdval-F1_score:0.33594\n",
      "[24]\tdtrain-F1_score:0.40327\tdval-F1_score:0.34204\n",
      "[25]\tdtrain-F1_score:0.40469\tdval-F1_score:0.34241\n",
      "[26]\tdtrain-F1_score:0.40685\tdval-F1_score:0.34411\n",
      "[27]\tdtrain-F1_score:0.40937\tdval-F1_score:0.34197\n",
      "[28]\tdtrain-F1_score:0.41044\tdval-F1_score:0.34278\n",
      "[29]\tdtrain-F1_score:0.41313\tdval-F1_score:0.34367\n",
      "[30]\tdtrain-F1_score:0.41485\tdval-F1_score:0.34492\n",
      "[31]\tdtrain-F1_score:0.41672\tdval-F1_score:0.34403\n",
      "[32]\tdtrain-F1_score:0.42098\tdval-F1_score:0.34359\n",
      "[33]\tdtrain-F1_score:0.42235\tdval-F1_score:0.35038\n",
      "[34]\tdtrain-F1_score:0.42314\tdval-F1_score:0.34650\n",
      "[35]\tdtrain-F1_score:0.42577\tdval-F1_score:0.34783\n",
      "[36]\tdtrain-F1_score:0.42586\tdval-F1_score:0.34860\n",
      "[37]\tdtrain-F1_score:0.42663\tdval-F1_score:0.34937\n",
      "[38]\tdtrain-F1_score:0.42626\tdval-F1_score:0.34684\n",
      "[39]\tdtrain-F1_score:0.42668\tdval-F1_score:0.34509\n",
      "[40]\tdtrain-F1_score:0.42794\tdval-F1_score:0.34717\n",
      "[41]\tdtrain-F1_score:0.42995\tdval-F1_score:0.34937\n",
      "[42]\tdtrain-F1_score:0.43091\tdval-F1_score:0.34837\n",
      "[43]\tdtrain-F1_score:0.43305\tdval-F1_score:0.34969\n"
     ]
    }
   ],
   "source": [
    "xgboost_no_lex = xgboost.train(\n",
    "    params,\n",
    "    dtrain1,\n",
    "    num_boost_round=num_boost_round,\n",
    "    evals=[(dtrain1, 'dtrain'), (dval, 'dval')],\n",
    "    feval=f1_eval,\n",
    "    early_stopping_rounds = 10,\n",
    "    maximize=True)"
   ]
  },
  {
   "cell_type": "code",
   "execution_count": 117,
   "metadata": {},
   "outputs": [],
   "source": [
    "\n",
    "# xgboost_no_lex.save_model(\"xgboost_no_lex.model\")\n",
    "xgboost_no_lex = xgboost.Booster()\n",
    "xgboost_no_lex.load_model(\"data/xgboost_no_lex.model\")"
   ]
  },
  {
   "cell_type": "code",
   "execution_count": 118,
   "metadata": {},
   "outputs": [
    {
     "name": "stdout",
     "output_type": "stream",
     "text": [
      "Performance of xgboost_no_lex, test:\n",
      "F1: 0.4\n",
      "Precision: 0.26\n",
      "Recall: 0.85\n",
      "AUC: 0.79\n",
      "Accuracy: 0.75\n",
      "Confusion matrix:\n",
      " [[2044   47]\n",
      " [ 740  258]]\n"
     ]
    }
   ],
   "source": [
    "xgboost_no_lex_predt = np.where(xgboost_no_lex.predict(dtest) > 0.5, 1, 0)\n",
    "print('Performance of xgboost_no_lex, test:')\n",
    "print('F1:', round(metrics.f1_score(dtest.get_label(),xgboost_no_lex_predt),2))\n",
    "print('Precision:', round(metrics.precision_score(dtest.get_label(), xgboost_no_lex_predt),2))\n",
    "print('Recall:', round(metrics.recall_score(dtest.get_label(), xgboost_no_lex_predt),2))\n",
    "print('AUC:', round(metrics.roc_auc_score(dtest.get_label(), xgboost_no_lex_predt),2))\n",
    "print('Accuracy:', round(metrics.accuracy_score(dtest.get_label(), xgboost_no_lex_predt),2))\n",
    "print('Confusion matrix:\\n', metrics.confusion_matrix(dtest.get_label(), xgboost_no_lex_predt).transpose())"
   ]
  },
  {
   "cell_type": "code",
   "execution_count": 119,
   "metadata": {},
   "outputs": [
    {
     "data": {
      "text/plain": [
       "Text(0, 0.5, 'Features')"
      ]
     },
     "execution_count": 119,
     "metadata": {},
     "output_type": "execute_result"
    },
    {
     "data": {
      "image/png": "[encoded data removed]",
      "text/plain": [
       "<Figure size 800x800 with 1 Axes>"
      ]
     },
     "metadata": {},
     "output_type": "display_data"
    }
   ],
   "source": [
    "fig, ax = plt.subplots(1, 1, figsize=(8,8))\n",
    "plt.rcParams['font.size'] = 16\n",
    "\n",
    "xgboost.plot_importance(xgboost_no_lex, ax=ax, show_values=False, max_num_features=20,\n",
    "                       importance_type='gain', height=0.7, grid=False, color='lightsteelblue')\n",
    "ax.set_ylabel('Features', fontsize=16)"
   ]
  },
  {
   "attachments": {},
   "cell_type": "markdown",
   "metadata": {},
   "source": [
    "### 2.7 All features without bias lexicon"
   ]
  },
  {
   "cell_type": "code",
   "execution_count": 120,
   "metadata": {},
   "outputs": [
    {
     "name": "stderr",
     "output_type": "stream",
     "text": [
      "C:\\Users\\Lenovo\\AppData\\Local\\Temp\\ipykernel_15712\\2136798192.py:1: FutureWarning: In a future version of pandas all arguments of DataFrame.drop except for the argument 'labels' will be keyword-only.\n",
      "  x_no_bias_lex = x.drop(['bias_lexicon', 'bias_lexicon_context'], 1)\n"
     ]
    }
   ],
   "source": [
    "x_no_bias_lex = x.drop(['bias_lexicon', 'bias_lexicon_context'], 1)"
   ]
  },
  {
   "cell_type": "code",
   "execution_count": 121,
   "metadata": {},
   "outputs": [],
   "source": [
    "train_features, test_features, train_labels, test_labels = train_test_split(x_no_bias_lex, y4, \n",
    "                                                                            test_size = 0.10, random_state = 42)\n",
    "train_features1, val_features, train_labels1, val_labels = train_test_split(train_features, train_labels, \n",
    "                                                                            test_size = 0.10, random_state = 42)"
   ]
  },
  {
   "cell_type": "code",
   "execution_count": 122,
   "metadata": {},
   "outputs": [
    {
     "data": {
      "text/plain": [
       "280"
      ]
     },
     "execution_count": 122,
     "metadata": {},
     "output_type": "execute_result"
    }
   ],
   "source": [
    "feature_names = list(x_no_bias_lex.columns)\n",
    "len(feature_names)"
   ]
  },
  {
   "cell_type": "code",
   "execution_count": 123,
   "metadata": {},
   "outputs": [],
   "source": [
    "dtrain = xgboost.DMatrix(train_features, label=train_labels, feature_names=feature_names)\n",
    "dtest = xgboost.DMatrix(test_features, label=test_labels, feature_names=feature_names)\n",
    "dtrain1 = xgboost.DMatrix(train_features1, label=train_labels1, feature_names=feature_names)\n",
    "dval = xgboost.DMatrix(val_features, label=val_labels, feature_names=feature_names)"
   ]
  },
  {
   "cell_type": "code",
   "execution_count": 124,
   "metadata": {},
   "outputs": [],
   "source": [
    "params = {'max_depth': 6,\n",
    " 'min_child_weight': 18,\n",
    " 'eta': 0.2,\n",
    " 'subsample': 1.0,\n",
    " 'colsample_bytree': 1.0,\n",
    " 'objective': 'binary:logistic',\n",
    " 'disable_default_eval_metric': 1,\n",
    " 'seed': 42,\n",
    " 'tree_method': 'hist',\n",
    " 'scale_pos_weight': 9.471599402092675}\n",
    "num_boost_round=999"
   ]
  },
  {
   "cell_type": "code",
   "execution_count": 125,
   "metadata": {
    "scrolled": true
   },
   "outputs": [
    {
     "name": "stdout",
     "output_type": "stream",
     "text": [
      "[0]\tdtrain-F1_score:0.00000\tdval-F1_score:0.00000\n"
     ]
    },
    {
     "name": "stderr",
     "output_type": "stream",
     "text": [
      "c:\\Users\\Lenovo\\anaconda3\\lib\\site-packages\\xgboost\\training.py:39: UserWarning: `feval` is deprecated, use `custom_metric` instead.  They have different behavior when custom objective is also used.See https://xgboost.readthedocs.io/en/latest/tutorials/custom_metric_obj.html for details on the `custom_metric`.\n",
      "  warnings.warn(\n"
     ]
    },
    {
     "name": "stdout",
     "output_type": "stream",
     "text": [
      "[1]\tdtrain-F1_score:0.40836\tdval-F1_score:0.36634\n",
      "[2]\tdtrain-F1_score:0.43990\tdval-F1_score:0.40149\n",
      "[3]\tdtrain-F1_score:0.44511\tdval-F1_score:0.40816\n",
      "[4]\tdtrain-F1_score:0.44605\tdval-F1_score:0.40794\n",
      "[5]\tdtrain-F1_score:0.44432\tdval-F1_score:0.40714\n",
      "[6]\tdtrain-F1_score:0.44563\tdval-F1_score:0.40636\n",
      "[7]\tdtrain-F1_score:0.44579\tdval-F1_score:0.40422\n",
      "[8]\tdtrain-F1_score:0.44817\tdval-F1_score:0.40760\n",
      "[9]\tdtrain-F1_score:0.45111\tdval-F1_score:0.40893\n",
      "[10]\tdtrain-F1_score:0.45553\tdval-F1_score:0.42123\n",
      "[11]\tdtrain-F1_score:0.45605\tdval-F1_score:0.42123\n",
      "[12]\tdtrain-F1_score:0.45977\tdval-F1_score:0.41413\n",
      "[13]\tdtrain-F1_score:0.46349\tdval-F1_score:0.41521\n",
      "[14]\tdtrain-F1_score:0.46728\tdval-F1_score:0.41575\n",
      "[15]\tdtrain-F1_score:0.46781\tdval-F1_score:0.41563\n",
      "[16]\tdtrain-F1_score:0.47003\tdval-F1_score:0.41186\n",
      "[17]\tdtrain-F1_score:0.47452\tdval-F1_score:0.42205\n",
      "[18]\tdtrain-F1_score:0.47445\tdval-F1_score:0.41875\n",
      "[19]\tdtrain-F1_score:0.47783\tdval-F1_score:0.42368\n",
      "[20]\tdtrain-F1_score:0.48282\tdval-F1_score:0.42154\n",
      "[21]\tdtrain-F1_score:0.48314\tdval-F1_score:0.41916\n",
      "[22]\tdtrain-F1_score:0.48385\tdval-F1_score:0.41729\n",
      "[23]\tdtrain-F1_score:0.48507\tdval-F1_score:0.42183\n",
      "[24]\tdtrain-F1_score:0.48682\tdval-F1_score:0.42308\n",
      "[25]\tdtrain-F1_score:0.48936\tdval-F1_score:0.42541\n",
      "[26]\tdtrain-F1_score:0.49213\tdval-F1_score:0.43027\n",
      "[27]\tdtrain-F1_score:0.49110\tdval-F1_score:0.43027\n",
      "[28]\tdtrain-F1_score:0.49597\tdval-F1_score:0.42710\n",
      "[29]\tdtrain-F1_score:0.49566\tdval-F1_score:0.42121\n",
      "[30]\tdtrain-F1_score:0.50032\tdval-F1_score:0.41176\n",
      "[31]\tdtrain-F1_score:0.50135\tdval-F1_score:0.40822\n",
      "[32]\tdtrain-F1_score:0.50263\tdval-F1_score:0.40763\n",
      "[33]\tdtrain-F1_score:0.50327\tdval-F1_score:0.40584\n",
      "[34]\tdtrain-F1_score:0.50302\tdval-F1_score:0.40466\n",
      "[35]\tdtrain-F1_score:0.50310\tdval-F1_score:0.40407\n"
     ]
    }
   ],
   "source": [
    "xgboost_no_bias_lex = xgboost.train(\n",
    "    params,\n",
    "    dtrain1,\n",
    "    num_boost_round=num_boost_round,\n",
    "    evals=[(dtrain1, 'dtrain'), (dval, 'dval')],\n",
    "    feval=f1_eval,\n",
    "    early_stopping_rounds = 10,\n",
    "    maximize=True)"
   ]
  },
  {
   "cell_type": "code",
   "execution_count": 126,
   "metadata": {},
   "outputs": [],
   "source": [
    "\n",
    "# xgboost_no_bias_lex.save_model(\"xgboost_no_bias_lex.model\")\n",
    "xgboost_no_bias_lex = xgboost.Booster()\n",
    "xgboost_no_bias_lex.load_model(\"data/xgboost_no_bias_lex.model\")"
   ]
  },
  {
   "cell_type": "code",
   "execution_count": 127,
   "metadata": {},
   "outputs": [
    {
     "name": "stdout",
     "output_type": "stream",
     "text": [
      "Performance of xgboost_no_bias_lex, test:\n",
      "F1: 0.44\n",
      "Precision: 0.3\n",
      "Recall: 0.81\n",
      "AUC: 0.8\n",
      "Accuracy: 0.8\n",
      "Confusion matrix:\n",
      " [[2216   58]\n",
      " [ 568  247]]\n"
     ]
    }
   ],
   "source": [
    "xgboost_no_bias_lex_predt = np.where(xgboost_no_bias_lex.predict(dtest) > 0.5, 1, 0)\n",
    "print('Performance of xgboost_no_bias_lex, test:')\n",
    "print('F1:', round(metrics.f1_score(dtest.get_label(),xgboost_no_bias_lex_predt),2))\n",
    "print('Precision:', round(metrics.precision_score(dtest.get_label(), xgboost_no_bias_lex_predt),2))\n",
    "print('Recall:', round(metrics.recall_score(dtest.get_label(), xgboost_no_bias_lex_predt),2))\n",
    "print('AUC:', round(metrics.roc_auc_score(dtest.get_label(), xgboost_no_bias_lex_predt),2))\n",
    "print('Accuracy:', round(metrics.accuracy_score(dtest.get_label(), xgboost_no_bias_lex_predt),2))\n",
    "print('Confusion matrix:\\n', metrics.confusion_matrix(dtest.get_label(), xgboost_no_bias_lex_predt).transpose())"
   ]
  },
  {
   "cell_type": "code",
   "execution_count": 128,
   "metadata": {},
   "outputs": [
    {
     "data": {
      "text/plain": [
       "Text(0, 0.5, 'Features')"
      ]
     },
     "execution_count": 128,
     "metadata": {},
     "output_type": "execute_result"
    },
    {
     "data": {
      "image/png": "[encoded data removed]",
      "text/plain": [
       "<Figure size 800x800 with 1 Axes>"
      ]
     },
     "metadata": {},
     "output_type": "display_data"
    }
   ],
   "source": [
    "fig, ax = plt.subplots(1, 1, figsize=(8,8))\n",
    "plt.rcParams['font.size'] = 16\n",
    "\n",
    "xgboost.plot_importance(xgboost_no_bias_lex, ax=ax, show_values=False, max_num_features=20,\n",
    "                       importance_type='gain', height=0.7, grid=False, color='lightsteelblue')\n",
    "ax.set_ylabel('Features', fontsize=16)"
   ]
  },
  {
   "attachments": {},
   "cell_type": "markdown",
   "metadata": {},
   "source": [
    "### 2.8 No context"
   ]
  },
  {
   "cell_type": "code",
   "execution_count": 129,
   "metadata": {},
   "outputs": [
    {
     "name": "stderr",
     "output_type": "stream",
     "text": [
      "C:\\Users\\Lenovo\\AppData\\Local\\Temp\\ipykernel_15712\\3696920975.py:1: FutureWarning: In a future version of pandas all arguments of DataFrame.drop except for the argument 'labels' will be keyword-only.\n",
      "  x_no_context = x.drop(['negative_conc_context',\n"
     ]
    }
   ],
   "source": [
    "x_no_context = x.drop(['negative_conc_context',\n",
    " 'positive_conc_context',\n",
    " 'weak_subj_context',\n",
    " 'strong_subj_context',\n",
    " 'hyperbolic_terms_context',\n",
    " 'attitude_markers_context',\n",
    " 'kill_verbs_context',\n",
    " 'bias_lexicon_context',\n",
    " 'assertive_verbs_context',\n",
    " 'factive_verbs_context',\n",
    " 'report_verbs_context',\n",
    " 'implicative_verbs_context',                       \n",
    " 'hedges_context',\n",
    " 'boosters_context',\n",
    " 'affect _context',\n",
    " 'posemo _context',\n",
    " 'negemo _context',\n",
    " 'anx _context',\n",
    " 'anger _context',\n",
    " 'sad _context',\n",
    " 'social _context',\n",
    " 'family _context',\n",
    " 'friend _context',\n",
    " 'female _context',\n",
    " 'male _context',\n",
    " 'cogproc _context',\n",
    " 'insight _context',\n",
    " 'cause _context',\n",
    " 'discrep _context',\n",
    " 'tentat _context',\n",
    " 'certain _context',\n",
    " 'differ _context',\n",
    " 'percept _context',\n",
    " 'see _context',\n",
    " 'hear _context',\n",
    " 'feel _context',\n",
    " 'bio _context',\n",
    " 'body _context',\n",
    " 'health _context',\n",
    " 'sexual _context',\n",
    " 'ingest _context',\n",
    " 'drives _context',\n",
    " 'affiliation _context',\n",
    " 'achieve _context',\n",
    " 'power _context',\n",
    " 'reward _context',\n",
    " 'risk _context',\n",
    " 'focuspast _context',\n",
    " 'focuspresent _context',\n",
    " 'focusfuture _context',\n",
    " 'relativ _context',\n",
    " 'motion _context',\n",
    " 'space _context',\n",
    " 'time _context',\n",
    " 'work _context',\n",
    " 'leisure _context',\n",
    " 'home _context',\n",
    " 'money _context',\n",
    " 'relig _context',\n",
    " 'death _context',\n",
    " 'informal _context',\n",
    " 'swear _context',\n",
    " 'netspeak _context',\n",
    " 'assent _context',\n",
    " 'nonflu _context',\n",
    " 'filler _context',\n",
    " 'pos_ADJ_context',\n",
    " 'pos_ADP_context',\n",
    " 'pos_ADV_context',\n",
    " 'pos_AUX_context',\n",
    " 'pos_DET_context',\n",
    " 'pos_INTJ_context',\n",
    " 'pos_NOUN_context',\n",
    " 'pos_PRON_context',\n",
    " 'pos_PROPN_context',\n",
    " 'pos_SCONJ_context',\n",
    " 'pos_VERB_context',\n",
    " 'pos_X_context',\n",
    " 'dep_ROOT_context',\n",
    " 'dep_acl_context',\n",
    " 'dep_acomp_context',\n",
    " 'dep_advcl_context',\n",
    " 'dep_advmod_context',\n",
    " 'dep_agent_context',\n",
    " 'dep_amod_context',\n",
    " 'dep_appos_context',\n",
    " 'dep_attr_context',\n",
    " 'dep_aux_context',\n",
    " 'dep_auxpass_context',\n",
    " 'dep_case_context',\n",
    " 'dep_cc_context',\n",
    " 'dep_ccomp_context',\n",
    " 'dep_compound_context',\n",
    " 'dep_conj_context',\n",
    " 'dep_csubj_context',\n",
    " 'dep_dative_context',\n",
    " 'dep_dep_context',\n",
    " 'dep_det_context',\n",
    " 'dep_dobj_context',\n",
    " 'dep_expl_context',\n",
    " 'dep_intj_context',\n",
    " 'dep_mark_context',\n",
    " 'dep_meta_context',\n",
    " 'dep_neg_context',\n",
    " 'dep_nmod_context',\n",
    " 'dep_npadvmod_context',\n",
    " 'dep_nsubj_context',\n",
    " 'dep_nsubjpass_context',\n",
    " 'dep_nummod_context',\n",
    " 'dep_oprd_context',\n",
    " 'dep_parataxis_context',\n",
    " 'dep_pcomp_context',\n",
    " 'dep_pobj_context',\n",
    " 'dep_poss_context',\n",
    " 'dep_preconj_context',\n",
    " 'dep_predet_context',\n",
    " 'dep_prep_context',\n",
    " 'dep_prt_context',\n",
    " 'dep_punct_context',\n",
    " 'dep_quantmod_context',\n",
    " 'dep_relcl_context',\n",
    " 'dep_xcomp_context',\n",
    " 'ne_CARDINAL_context',\n",
    " 'ne_DATE_context',\n",
    " 'ne_EVENT_context',\n",
    " 'ne_FAC_context',\n",
    " 'ne_GPE_context',\n",
    " 'ne_LAW_context',\n",
    " 'ne_LOC_context',\n",
    " 'ne_MONEY_context',\n",
    " 'ne_NORP_context',\n",
    " 'ne_ORDINAL_context',\n",
    " 'ne_ORG_context',\n",
    " 'ne_PERCENT_context',\n",
    " 'ne_PERSON_context',\n",
    " 'ne_PRODUCT_context',\n",
    " 'ne_QUANTITY_context',\n",
    " 'ne_TIME_context',\n",
    " 'ne_WORK_OF_ART_context',\n",
    " 'ne_LANGUAGE_context'], 1)"
   ]
  },
  {
   "cell_type": "code",
   "execution_count": 130,
   "metadata": {},
   "outputs": [],
   "source": [
    "train_features, test_features, train_labels, test_labels = train_test_split(x_no_context, y4, \n",
    "                                                                            test_size = 0.10, random_state = 42)\n",
    "train_features1, val_features, train_labels1, val_labels = train_test_split(train_features, train_labels, \n",
    "                                                                            test_size = 0.10, random_state = 42)"
   ]
  },
  {
   "cell_type": "code",
   "execution_count": 131,
   "metadata": {},
   "outputs": [
    {
     "data": {
      "text/plain": [
       "142"
      ]
     },
     "execution_count": 131,
     "metadata": {},
     "output_type": "execute_result"
    }
   ],
   "source": [
    "feature_names = list(x_no_context.columns)\n",
    "len(feature_names)"
   ]
  },
  {
   "cell_type": "code",
   "execution_count": 132,
   "metadata": {},
   "outputs": [],
   "source": [
    "dtrain = xgboost.DMatrix(train_features, label=train_labels, feature_names=feature_names)\n",
    "dtest = xgboost.DMatrix(test_features, label=test_labels, feature_names=feature_names)\n",
    "dtrain1 = xgboost.DMatrix(train_features1, label=train_labels1, feature_names=feature_names)\n",
    "dval = xgboost.DMatrix(val_features, label=val_labels, feature_names=feature_names)"
   ]
  },
  {
   "cell_type": "code",
   "execution_count": 133,
   "metadata": {},
   "outputs": [],
   "source": [
    "params = {'max_depth': 6,\n",
    " 'min_child_weight': 18,\n",
    " 'eta': 0.2,\n",
    " 'subsample': 1.0,\n",
    " 'colsample_bytree': 1.0,\n",
    " 'objective': 'binary:logistic',\n",
    " 'disable_default_eval_metric': 1,\n",
    " 'seed': 42,\n",
    " 'tree_method': 'hist',\n",
    " 'scale_pos_weight': 9.471599402092675}\n",
    "num_boost_round=999"
   ]
  },
  {
   "cell_type": "code",
   "execution_count": 134,
   "metadata": {
    "scrolled": true
   },
   "outputs": [
    {
     "name": "stdout",
     "output_type": "stream",
     "text": [
      "[0]\tdtrain-F1_score:0.00000\tdval-F1_score:0.00000\n",
      "[1]\tdtrain-F1_score:0.32938\tdval-F1_score:0.29851\n"
     ]
    },
    {
     "name": "stderr",
     "output_type": "stream",
     "text": [
      "c:\\Users\\Lenovo\\anaconda3\\lib\\site-packages\\xgboost\\training.py:39: UserWarning: `feval` is deprecated, use `custom_metric` instead.  They have different behavior when custom objective is also used.See https://xgboost.readthedocs.io/en/latest/tutorials/custom_metric_obj.html for details on the `custom_metric`.\n",
      "  warnings.warn(\n"
     ]
    },
    {
     "name": "stdout",
     "output_type": "stream",
     "text": [
      "[2]\tdtrain-F1_score:0.45281\tdval-F1_score:0.41684\n",
      "[3]\tdtrain-F1_score:0.45117\tdval-F1_score:0.42066\n",
      "[4]\tdtrain-F1_score:0.45277\tdval-F1_score:0.42182\n",
      "[5]\tdtrain-F1_score:0.45728\tdval-F1_score:0.40408\n",
      "[6]\tdtrain-F1_score:0.45821\tdval-F1_score:0.40947\n",
      "[7]\tdtrain-F1_score:0.45909\tdval-F1_score:0.41087\n",
      "[8]\tdtrain-F1_score:0.45856\tdval-F1_score:0.41275\n",
      "[9]\tdtrain-F1_score:0.45879\tdval-F1_score:0.40796\n",
      "[10]\tdtrain-F1_score:0.45872\tdval-F1_score:0.41128\n",
      "[11]\tdtrain-F1_score:0.46039\tdval-F1_score:0.40594\n",
      "[12]\tdtrain-F1_score:0.46006\tdval-F1_score:0.41128\n",
      "[13]\tdtrain-F1_score:0.46366\tdval-F1_score:0.40932\n"
     ]
    }
   ],
   "source": [
    "xgboost_no_context = xgboost.train(\n",
    "    params,\n",
    "    dtrain1,\n",
    "    num_boost_round=num_boost_round,\n",
    "    evals=[(dtrain1, 'dtrain'), (dval, 'dval')],\n",
    "    feval=f1_eval,\n",
    "    early_stopping_rounds = 10,\n",
    "    maximize=True)"
   ]
  },
  {
   "cell_type": "code",
   "execution_count": 139,
   "metadata": {},
   "outputs": [],
   "source": [
    "\n",
    "xgboost_no_context.save_model(\"xgboost_no_context.model\")\n",
    "xgboost_no_context = xgboost.Booster()\n",
    "xgboost_no_context.load_model(\"xgboost_no_context.model\")"
   ]
  },
  {
   "cell_type": "code",
   "execution_count": 140,
   "metadata": {},
   "outputs": [
    {
     "name": "stdout",
     "output_type": "stream",
     "text": [
      "Performance of xgboost_no_context, test:\n",
      "F1: 0.41\n",
      "Precision: 0.28\n",
      "Recall: 0.74\n",
      "AUC: 0.77\n",
      "Accuracy: 0.79\n",
      "Confusion matrix:\n",
      " [[2211   80]\n",
      " [ 573  225]]\n"
     ]
    }
   ],
   "source": [
    "xgboost_no_context_predt = np.where(xgboost_no_context.predict(dtest) > 0.5, 1, 0)\n",
    "print('Performance of xgboost_no_context, test:')\n",
    "print('F1:', round(metrics.f1_score(dtest.get_label(),xgboost_no_context_predt),2))\n",
    "print('Precision:', round(metrics.precision_score(dtest.get_label(), xgboost_no_context_predt),2))\n",
    "print('Recall:', round(metrics.recall_score(dtest.get_label(), xgboost_no_context_predt),2))\n",
    "print('AUC:', round(metrics.roc_auc_score(dtest.get_label(), xgboost_no_context_predt),2))\n",
    "print('Accuracy:', round(metrics.accuracy_score(dtest.get_label(), xgboost_no_context_predt),2))\n",
    "print('Confusion matrix:\\n', metrics.confusion_matrix(dtest.get_label(), xgboost_no_context_predt).transpose())"
   ]
  },
  {
   "cell_type": "code",
   "execution_count": 141,
   "metadata": {},
   "outputs": [
    {
     "data": {
      "text/plain": [
       "Text(0, 0.5, 'Features')"
      ]
     },
     "execution_count": 141,
     "metadata": {},
     "output_type": "execute_result"
    },
    {
     "data": {
      "image/png": "[encoded data removed]",
      "text/plain": [
       "<Figure size 800x800 with 1 Axes>"
      ]
     },
     "metadata": {},
     "output_type": "display_data"
    }
   ],
   "source": [
    "fig, ax = plt.subplots(1, 1, figsize=(8,8))\n",
    "plt.rcParams['font.size'] = 16\n",
    "\n",
    "xgboost.plot_importance(xgboost_no_context, ax=ax, show_values=False, max_num_features=20,\n",
    "                       importance_type='gain', height=0.7, grid=False, color='lightsteelblue')\n",
    "ax.set_ylabel('Features', fontsize=16)"
   ]
  }
 ],
 "metadata": {
  "kernelspec": {
   "display_name": "base",
   "language": "python",
   "name": "python3"
  },
  "language_info": {
   "codemirror_mode": {
    "name": "ipython",
    "version": 3
   },
   "file_extension": ".py",
   "mimetype": "text/x-python",
   "name": "python",
   "nbconvert_exporter": "python",
   "pygments_lexer": "ipython3",
   "version": "3.9.13"
  },
  "vscode": {
   "interpreter": {
    "hash": "20a9e06a1eee47c4abbed4ec8225ad91d78d9800d202b71b6b0a6e47016c6abd"
   }
  }
 },
 "nbformat": 4,
 "nbformat_minor": 2
}

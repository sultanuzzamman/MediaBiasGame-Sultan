{
 "cells": [
  {
   "attachments": {},
   "cell_type": "markdown",
   "metadata": {},
   "source": [
    "# Survey results processing"
   ]
  },
  {
   "attachments": {},
   "cell_type": "markdown",
   "metadata": {},
   "source": [
    "In this script, we:\n",
    "- assemble the row survey data into a dataset for further media bias analysis,\n",
    "- retrieve descriptive statistics of the assembled dataset.\n",
    "\n",
    "To run this script, the following data files are needed (attached):\n",
    "- annotations_final_notempty.xlsx\n",
    "- sentences_final.xlsx\n",
    "- biased_words_analysis.xlsx\n",
    "- articles.xlsx\n",
    "- labeled_dataset.xlsx\n",
    "- annotators.csv"
   ]
  },
  {
   "cell_type": "code",
   "execution_count": 119,
   "metadata": {
    "pycharm": {
     "is_executing": true
    },
    "scrolled": true
   },
   "outputs": [],
   "source": [
    "# data\n",
    "import pandas as pd\n",
    "import numpy as np\n",
    "\n",
    "# misc\n",
    "import os\n",
    "import re\n",
    "import time\n",
    "import ast\n",
    "import copy\n",
    "from newsplease import NewsPlease\n",
    "\n",
    "# statistics\n",
    "import statistics\n",
    "import statsmodels\n",
    "from statsmodels.stats import inter_rater\n",
    "\n",
    "# visualizations\n",
    "import matplotlib.pyplot as plt\n",
    "from matplotlib.patches import Patch\n",
    "import plotly.express as px\n",
    "from matplotlib import colors"
   ]
  },
  {
   "attachments": {},
   "cell_type": "markdown",
   "metadata": {},
   "source": [
    "## 1 Dataset assembling"
   ]
  },
  {
   "cell_type": "code",
   "execution_count": 120,
   "metadata": {
    "scrolled": true
   },
   "outputs": [
    {
     "data": {
      "text/html": [
       "<div>\n",
       "<style scoped>\n",
       "    .dataframe tbody tr th:only-of-type {\n",
       "        vertical-align: middle;\n",
       "    }\n",
       "\n",
       "    .dataframe tbody tr th {\n",
       "        vertical-align: top;\n",
       "    }\n",
       "\n",
       "    .dataframe thead th {\n",
       "        text-align: right;\n",
       "    }\n",
       "</style>\n",
       "<table border=\"1\" class=\"dataframe\">\n",
       "  <thead>\n",
       "    <tr style=\"text-align: right;\">\n",
       "      <th></th>\n",
       "      <th>Unnamed: 0.1</th>\n",
       "      <th>Unnamed: 0</th>\n",
       "      <th>survey_record_id</th>\n",
       "      <th>sentence_id</th>\n",
       "      <th>group_id</th>\n",
       "      <th>created_at</th>\n",
       "      <th>label</th>\n",
       "      <th>words</th>\n",
       "      <th>factual</th>\n",
       "      <th>group_id.1</th>\n",
       "      <th>...</th>\n",
       "      <th>mturk_id</th>\n",
       "      <th>age</th>\n",
       "      <th>gender</th>\n",
       "      <th>education</th>\n",
       "      <th>native_english_speaker</th>\n",
       "      <th>political_ideology</th>\n",
       "      <th>followed_news_outlets</th>\n",
       "      <th>news_check_frequency</th>\n",
       "      <th>survey_completed</th>\n",
       "      <th>political_ideology_lcr</th>\n",
       "    </tr>\n",
       "  </thead>\n",
       "  <tbody>\n",
       "    <tr>\n",
       "      <th>0</th>\n",
       "      <td>0</td>\n",
       "      <td>19227</td>\n",
       "      <td>73a9148bc907314e086de8debe345824</td>\n",
       "      <td>1942</td>\n",
       "      <td>67</td>\n",
       "      <td>NaN</td>\n",
       "      <td>Biased</td>\n",
       "      <td>match-fixing,infamous,notorious</td>\n",
       "      <td>Entirely factual</td>\n",
       "      <td>67</td>\n",
       "      <td>...</td>\n",
       "      <td>73a9148bc907314e086de8debe345824</td>\n",
       "      <td>26.0</td>\n",
       "      <td>prefer not to say</td>\n",
       "      <td>graduate work</td>\n",
       "      <td>near native</td>\n",
       "      <td>18</td>\n",
       "      <td>[Reuters, BuzzFeed]</td>\n",
       "      <td>several times per month</td>\n",
       "      <td>True</td>\n",
       "      <td>right</td>\n",
       "    </tr>\n",
       "    <tr>\n",
       "      <th>1</th>\n",
       "      <td>1</td>\n",
       "      <td>19228</td>\n",
       "      <td>73a9148bc907314e086de8debe345824</td>\n",
       "      <td>1620</td>\n",
       "      <td>67</td>\n",
       "      <td>NaN</td>\n",
       "      <td>Biased</td>\n",
       "      <td>high</td>\n",
       "      <td>Expresses writer’s opinion</td>\n",
       "      <td>67</td>\n",
       "      <td>...</td>\n",
       "      <td>73a9148bc907314e086de8debe345824</td>\n",
       "      <td>26.0</td>\n",
       "      <td>prefer not to say</td>\n",
       "      <td>graduate work</td>\n",
       "      <td>near native</td>\n",
       "      <td>18</td>\n",
       "      <td>[Reuters, BuzzFeed]</td>\n",
       "      <td>several times per month</td>\n",
       "      <td>True</td>\n",
       "      <td>right</td>\n",
       "    </tr>\n",
       "  </tbody>\n",
       "</table>\n",
       "<p>2 rows × 25 columns</p>\n",
       "</div>"
      ],
      "text/plain": [
       "   Unnamed: 0.1  Unnamed: 0                  survey_record_id  sentence_id  \\\n",
       "0             0       19227  73a9148bc907314e086de8debe345824         1942   \n",
       "1             1       19228  73a9148bc907314e086de8debe345824         1620   \n",
       "\n",
       "   group_id  created_at   label                            words  \\\n",
       "0        67         NaN  Biased  match-fixing,infamous,notorious   \n",
       "1        67         NaN  Biased                             high   \n",
       "\n",
       "                      factual  group_id.1  ...  \\\n",
       "0            Entirely factual          67  ...   \n",
       "1  Expresses writer’s opinion          67  ...   \n",
       "\n",
       "                           mturk_id   age             gender      education  \\\n",
       "0  73a9148bc907314e086de8debe345824  26.0  prefer not to say  graduate work   \n",
       "1  73a9148bc907314e086de8debe345824  26.0  prefer not to say  graduate work   \n",
       "\n",
       "  native_english_speaker political_ideology  followed_news_outlets  \\\n",
       "0            near native                 18    [Reuters, BuzzFeed]   \n",
       "1            near native                 18    [Reuters, BuzzFeed]   \n",
       "\n",
       "      news_check_frequency survey_completed political_ideology_lcr  \n",
       "0  several times per month             True                  right  \n",
       "1  several times per month             True                  right  \n",
       "\n",
       "[2 rows x 25 columns]"
      ]
     },
     "execution_count": 120,
     "metadata": {},
     "output_type": "execute_result"
    }
   ],
   "source": [
    "# upload annotation results without rejected ones and without the following ones:\n",
    "#os.chdir('/Users/Lenovo/Desktop/Master Thesis/4. Survey/Results processing')\n",
    "#os.chdir('E:\\German Autolabs Laptop\\sultan\\Thesis\\Code\\Classic-ML-Automated-Identification-of-Bias-Inducing-Words-in-News-Articles\\1.1_Survey_results_processing')\n",
    "annotations = pd.read_excel(\"data/annotations_final_notempty.xlsx\",engine='openpyxl')\n",
    "annotations['political_ideology_lcr'] = annotations['political_ideology'].apply(lambda x: \"left\" if x < -3\n",
    "                                                                                else (\"right\" if x > 3 else \"center\"))\n",
    "annotations[\"followed_news_outlets\"] = annotations.followed_news_outlets.apply(lambda s: list(ast.literal_eval(s)))\n",
    "\n",
    "annotations.head(2)"
   ]
  },
  {
   "cell_type": "code",
   "execution_count": 121,
   "metadata": {},
   "outputs": [
    {
     "data": {
      "text/html": [
       "<div>\n",
       "<style scoped>\n",
       "    .dataframe tbody tr th:only-of-type {\n",
       "        vertical-align: middle;\n",
       "    }\n",
       "\n",
       "    .dataframe tbody tr th {\n",
       "        vertical-align: top;\n",
       "    }\n",
       "\n",
       "    .dataframe thead th {\n",
       "        text-align: right;\n",
       "    }\n",
       "</style>\n",
       "<table border=\"1\" class=\"dataframe\">\n",
       "  <thead>\n",
       "    <tr style=\"text-align: right;\">\n",
       "      <th></th>\n",
       "      <th>sentence</th>\n",
       "      <th>news_link</th>\n",
       "      <th>outlet</th>\n",
       "      <th>topic</th>\n",
       "      <th>type</th>\n",
       "      <th>group_id</th>\n",
       "      <th>num_sent</th>\n",
       "      <th>Unnamed: 7</th>\n",
       "    </tr>\n",
       "  </thead>\n",
       "  <tbody>\n",
       "    <tr>\n",
       "      <th>0</th>\n",
       "      <td>YouTube is making clear there will be no “birt...</td>\n",
       "      <td>https://eu.usatoday.com/story/tech/2020/02/03/...</td>\n",
       "      <td>usa-today</td>\n",
       "      <td>elections-2020</td>\n",
       "      <td>center</td>\n",
       "      <td>1</td>\n",
       "      <td>1</td>\n",
       "      <td>NaN</td>\n",
       "    </tr>\n",
       "    <tr>\n",
       "      <th>1</th>\n",
       "      <td>The increasingly bitter dispute between Americ...</td>\n",
       "      <td>https://www.nbcnews.com/news/sports/women-s-te...</td>\n",
       "      <td>msnbc</td>\n",
       "      <td>sport</td>\n",
       "      <td>left</td>\n",
       "      <td>1</td>\n",
       "      <td>1</td>\n",
       "      <td>NaN</td>\n",
       "    </tr>\n",
       "  </tbody>\n",
       "</table>\n",
       "</div>"
      ],
      "text/plain": [
       "                                            sentence  \\\n",
       "0  YouTube is making clear there will be no “birt...   \n",
       "1  The increasingly bitter dispute between Americ...   \n",
       "\n",
       "                                           news_link     outlet  \\\n",
       "0  https://eu.usatoday.com/story/tech/2020/02/03/...  usa-today   \n",
       "1  https://www.nbcnews.com/news/sports/women-s-te...      msnbc   \n",
       "\n",
       "            topic    type  group_id  num_sent Unnamed: 7  \n",
       "0  elections-2020  center         1         1        NaN  \n",
       "1           sport    left         1         1        NaN  "
      ]
     },
     "execution_count": 121,
     "metadata": {},
     "output_type": "execute_result"
    }
   ],
   "source": [
    "\n",
    "all_sentences = pd.read_excel(\"data/sentences_final.xlsx\",engine='openpyxl')\n",
    "all_sentences.head(2)"
   ]
  },
  {
   "cell_type": "code",
   "execution_count": 122,
   "metadata": {},
   "outputs": [],
   "source": [
    "# pivoting\n",
    "turker_words = annotations.pivot(index='text', columns='survey_record_id', values='words')\n",
    "turker_bias = annotations.pivot(index='text', columns='survey_record_id', values='label')\n",
    "turker_opin = annotations.pivot(index='text', columns='survey_record_id', values='factual')"
   ]
  },
  {
   "attachments": {},
   "cell_type": "markdown",
   "metadata": {},
   "source": [
    "### 1.1 Labels - biased/non-biased"
   ]
  },
  {
   "cell_type": "code",
   "execution_count": 123,
   "metadata": {
    "collapsed": true
   },
   "outputs": [
    {
     "name": "stderr",
     "output_type": "stream",
     "text": [
      "C:\\Users\\Lenovo\\AppData\\Local\\Temp\\ipykernel_4992\\3785490413.py:4: SettingWithCopyWarning:\n",
      "\n",
      "\n",
      "A value is trying to be set on a copy of a slice from a DataFrame.\n",
      "Try using .loc[row_indexer,col_indexer] = value instead\n",
      "\n",
      "See the caveats in the documentation: https://pandas.pydata.org/pandas-docs/stable/user_guide/indexing.html#returning-a-view-versus-a-copy\n",
      "\n",
      "C:\\Users\\Lenovo\\AppData\\Local\\Temp\\ipykernel_4992\\3785490413.py:6: SettingWithCopyWarning:\n",
      "\n",
      "\n",
      "A value is trying to be set on a copy of a slice from a DataFrame.\n",
      "Try using .loc[row_indexer,col_indexer] = value instead\n",
      "\n",
      "See the caveats in the documentation: https://pandas.pydata.org/pandas-docs/stable/user_guide/indexing.html#returning-a-view-versus-a-copy\n",
      "\n"
     ]
    }
   ],
   "source": [
    "turker_bias[\"Biased\"] = turker_bias.apply(lambda row: sum(row[1:len(turker_bias.columns)]==\"Biased\") ,axis=1)\n",
    "turker_bias[\"Non-biased\"] = turker_bias.apply(lambda row: sum(row[1:(len(turker_bias.columns)-1)]==\"Non-biased\") ,axis=1)\n",
    "results_bias = turker_bias[[\"Biased\", 'Non-biased']]\n",
    "results_bias[\"Label_bias\"] = results_bias.apply(lambda row: \"Biased\" if row[\"Biased\"]>((row[\"Biased\"]+row[\"Non-biased\"])/2) else (\"Non-biased\" if row[\"Non-biased\"]>((row[\"Biased\"]+row[\"Non-biased\"])/2) else \"No agreement\"), axis=1)\n",
    "\n",
    "results_bias[\"Total_annotations\"] = results_bias[\"Biased\"] + results_bias[\"Non-biased\"]"
   ]
  },
  {
   "cell_type": "code",
   "execution_count": 124,
   "metadata": {
    "scrolled": true
   },
   "outputs": [
    {
     "data": {
      "text/html": [
       "<div>\n",
       "<style scoped>\n",
       "    .dataframe tbody tr th:only-of-type {\n",
       "        vertical-align: middle;\n",
       "    }\n",
       "\n",
       "    .dataframe tbody tr th {\n",
       "        vertical-align: top;\n",
       "    }\n",
       "\n",
       "    .dataframe thead th {\n",
       "        text-align: right;\n",
       "    }\n",
       "</style>\n",
       "<table border=\"1\" class=\"dataframe\">\n",
       "  <thead>\n",
       "    <tr style=\"text-align: right;\">\n",
       "      <th>survey_record_id</th>\n",
       "      <th>Biased</th>\n",
       "      <th>Non-biased</th>\n",
       "      <th>Label_bias</th>\n",
       "      <th>Total_annotations</th>\n",
       "    </tr>\n",
       "    <tr>\n",
       "      <th>text</th>\n",
       "      <th></th>\n",
       "      <th></th>\n",
       "      <th></th>\n",
       "      <th></th>\n",
       "    </tr>\n",
       "  </thead>\n",
       "  <tbody>\n",
       "    <tr>\n",
       "      <th>A 10-hour hearing broadcast on the courtâ€™s website showed Sun, China's greatest ever swimmer, and one of its biggest sports stars, to be evasive at times under questioning that was hampered by severe translation issues between Chinese and English.</th>\n",
       "      <td>0</td>\n",
       "      <td>1</td>\n",
       "      <td>Non-biased</td>\n",
       "      <td>1</td>\n",
       "    </tr>\n",
       "    <tr>\n",
       "      <th>A Guatemalan mom who says she sustained severe chemical burns and was sexually assaulted in front of her young daughter during a kidnapping in Mexico is asking the U.S. government to let her into the country while her asylum case plays out.</th>\n",
       "      <td>0</td>\n",
       "      <td>1</td>\n",
       "      <td>Non-biased</td>\n",
       "      <td>1</td>\n",
       "    </tr>\n",
       "    <tr>\n",
       "      <th>A federal judge dismissed the United States womenâ€™s soccer teamâ€™s bid for equal pay on Friday, rejecting claims the players had been underpaid in a crushing defeat for the reigning world champions.</th>\n",
       "      <td>1</td>\n",
       "      <td>0</td>\n",
       "      <td>Biased</td>\n",
       "      <td>1</td>\n",
       "    </tr>\n",
       "    <tr>\n",
       "      <th>A federal judge in Tucson, Arizona delivered a blow Monday to the Trump administrationâ€™s strategy of criminalizing humanitarian aid work along the southern border with her decision to overturn the convictions of four volunteers on religious freedom grounds.</th>\n",
       "      <td>1</td>\n",
       "      <td>1</td>\n",
       "      <td>No agreement</td>\n",
       "      <td>2</td>\n",
       "    </tr>\n",
       "    <tr>\n",
       "      <th>A poll released Tuesday finds 75 percent of Americans want substantial restrictions on abortion, including 60 percent of Democrats and 61 percent of those who identify as â€œpro-choice.â€</th>\n",
       "      <td>0</td>\n",
       "      <td>1</td>\n",
       "      <td>Non-biased</td>\n",
       "      <td>1</td>\n",
       "    </tr>\n",
       "    <tr>\n",
       "      <th>AP Confirms: Democrats Are Lying to the Public About Coronavirus Readiness...</th>\n",
       "      <td>1</td>\n",
       "      <td>0</td>\n",
       "      <td>Biased</td>\n",
       "      <td>1</td>\n",
       "    </tr>\n",
       "    <tr>\n",
       "      <th>Abortion propaganda was always meant to obscure the reality of abortion, not justify it.</th>\n",
       "      <td>1</td>\n",
       "      <td>0</td>\n",
       "      <td>Biased</td>\n",
       "      <td>1</td>\n",
       "    </tr>\n",
       "    <tr>\n",
       "      <th>After tremendous pressure on the Department of Homeland Security, Miller is advancing his agenda of not just blocking migrants from entering the country illegally, but making life in the U.S. so unbearable for legal immigrants that they leave the country.</th>\n",
       "      <td>1</td>\n",
       "      <td>0</td>\n",
       "      <td>Biased</td>\n",
       "      <td>1</td>\n",
       "    </tr>\n",
       "    <tr>\n",
       "      <th>After walking off following another hardcourt loss to Novak Djokovic, allowing Serbia to level the final after Roberto Bautista Agut won the opening singles for Spain, Nadal urged the men's tour and the sport's international governing body to form one major team tournament.</th>\n",
       "      <td>1</td>\n",
       "      <td>1</td>\n",
       "      <td>No agreement</td>\n",
       "      <td>2</td>\n",
       "    </tr>\n",
       "    <tr>\n",
       "      <th>Alex Berenson, a former reporter at the New York Times who has written extensively debunking fearmongering claims related to the lockdowns wrote on Twitter Thursday that the tech giant to benefit the most from pandemic stay-home orders is refused to sell his latest book.</th>\n",
       "      <td>1</td>\n",
       "      <td>0</td>\n",
       "      <td>Biased</td>\n",
       "      <td>1</td>\n",
       "    </tr>\n",
       "    <tr>\n",
       "      <th>Although he didnâ€™t seem to direct his comments at anyone in particular, many celebrities that consider themselves climate change activists have not adjusted their lifestyles of taking private jets to their engagements around the globe, for example, Leonardo DiCaprio, Katy Perry and Orlando Bloom all took heat in 2019 when they were among the A-listers to attend Googleâ€™s climate change conference by way of private jets and mega yachts.</th>\n",
       "      <td>1</td>\n",
       "      <td>0</td>\n",
       "      <td>Biased</td>\n",
       "      <td>1</td>\n",
       "    </tr>\n",
       "    <tr>\n",
       "      <th>An investigative journalist whose exposÃ©s on the deep-rooted corruption in African soccer led to the downfall of a member of the high-powered FIFA Council was shot dead Wednesday, months after a Ghana politician called for retribution against him.</th>\n",
       "      <td>1</td>\n",
       "      <td>0</td>\n",
       "      <td>Biased</td>\n",
       "      <td>1</td>\n",
       "    </tr>\n",
       "    <tr>\n",
       "      <th>Andres Iniesta, the former Barcelona captain and World Cup-winning Spanish soccer star, apologized Tuesday after being criticized for posting a picture of him posing with two people clad in blackface during a popular Christian celebration.</th>\n",
       "      <td>0</td>\n",
       "      <td>1</td>\n",
       "      <td>Non-biased</td>\n",
       "      <td>1</td>\n",
       "    </tr>\n",
       "    <tr>\n",
       "      <th>Angry Democrats blamed Republicans for what they see as a debacle that could leave millions of Americans without health care.</th>\n",
       "      <td>2</td>\n",
       "      <td>0</td>\n",
       "      <td>Biased</td>\n",
       "      <td>2</td>\n",
       "    </tr>\n",
       "    <tr>\n",
       "      <th>As people sip cafecito and eat croquetas at the landmark restaurant, the buzz here these days is what Cubans say is the alarming rise of Democratic presidential frontrunner Sen. Bernie Sanders, whose unabashed defense of late Cuban dictator Fidel Castro has riled Cuban-Americans who view his comments as a personal attack.</th>\n",
       "      <td>2</td>\n",
       "      <td>0</td>\n",
       "      <td>Biased</td>\n",
       "      <td>2</td>\n",
       "    </tr>\n",
       "    <tr>\n",
       "      <th>Australian sports stars, sparked in part by a call to action from tennis player Nick Kyrgios, have rallied to raise funds in support of relief and recovery efforts for victims of the countryâ€™s bushfire catastrophe.</th>\n",
       "      <td>0</td>\n",
       "      <td>2</td>\n",
       "      <td>Non-biased</td>\n",
       "      <td>2</td>\n",
       "    </tr>\n",
       "    <tr>\n",
       "      <th>Big Ten Commissioner Jim Delany told The Athletic last month he was ready to start talking about a larger playoff field, and prominent Big Ten athletic directors Barry Alvarez of Wisconsin and Jim Phillips from Northwestern have voiced support for that idea.</th>\n",
       "      <td>0</td>\n",
       "      <td>1</td>\n",
       "      <td>Non-biased</td>\n",
       "      <td>1</td>\n",
       "    </tr>\n",
       "    <tr>\n",
       "      <th>But Omar used Ivankaâ€™s pro-family posts as a way to make a political point about her fatherâ€™s policies regarding the families separation at U.S.-Mexico border.</th>\n",
       "      <td>0</td>\n",
       "      <td>1</td>\n",
       "      <td>Non-biased</td>\n",
       "      <td>1</td>\n",
       "    </tr>\n",
       "    <tr>\n",
       "      <th>But as early as this month, the U.S. Supreme Court could issue a decision that would mean the end of deferred action for Paz and hundreds of thousands of other young immigrants.</th>\n",
       "      <td>0</td>\n",
       "      <td>1</td>\n",
       "      <td>Non-biased</td>\n",
       "      <td>1</td>\n",
       "    </tr>\n",
       "    <tr>\n",
       "      <th>But director Nick Sweeneyâ€™s forthcoming documentary on McCorvey, â€œAKA Jane Roe,â€ contains a major bombshell: her conversion from abortion rights icon to born-again Christian abortion opponent was â€œall an act.â€</th>\n",
       "      <td>1</td>\n",
       "      <td>0</td>\n",
       "      <td>Biased</td>\n",
       "      <td>1</td>\n",
       "    </tr>\n",
       "    <tr>\n",
       "      <th>But the fact that Trump cloaks this fact by stoking false fears about immigrant crime and delivering rage-filled rants about â€œillegalâ€ immigration shows that this isnâ€™t some genuine and reasoned policy view about the costs and benefits of new entrants to the labor force â€” itâ€™s a reactionary stance built atop anti-immigrant bigotry.</th>\n",
       "      <td>1</td>\n",
       "      <td>0</td>\n",
       "      <td>Biased</td>\n",
       "      <td>1</td>\n",
       "    </tr>\n",
       "    <tr>\n",
       "      <th>By forcing us to abandon our regular routines and habits, if not our livelihoods, the pandemic has led us to postpone many of the activities from which we derive joy and pleasure. Our society often operates under the premise of instant gratification, a concept that has gone out the window given the uncertainty surrounding the virus.</th>\n",
       "      <td>1</td>\n",
       "      <td>0</td>\n",
       "      <td>Biased</td>\n",
       "      <td>1</td>\n",
       "    </tr>\n",
       "    <tr>\n",
       "      <th>CTE is a degenerative brain disease that has been found in former players of North American football , soccer, hockey, rugby union and others exposed to repeated head injury.</th>\n",
       "      <td>1</td>\n",
       "      <td>0</td>\n",
       "      <td>Biased</td>\n",
       "      <td>1</td>\n",
       "    </tr>\n",
       "    <tr>\n",
       "      <th>Cerio was reportedly screaming in agony on the floor and could be seen on video clutching both her legs in pain before she was tended by medical staff and athletic trainers.</th>\n",
       "      <td>1</td>\n",
       "      <td>0</td>\n",
       "      <td>Biased</td>\n",
       "      <td>1</td>\n",
       "    </tr>\n",
       "    <tr>\n",
       "      <th>Coach Guerrier adds that the refereeâ€™s continued mid-game scrutiny ultimately made â€œa spectacleâ€ of her daughter, and that he continued to insist that something would have to be done as the child grows up and continues to compete in the sport.</th>\n",
       "      <td>0</td>\n",
       "      <td>1</td>\n",
       "      <td>Non-biased</td>\n",
       "      <td>1</td>\n",
       "    </tr>\n",
       "  </tbody>\n",
       "</table>\n",
       "</div>"
      ],
      "text/plain": [
       "survey_record_id                                    Biased  Non-biased  \\\n",
       "text                                                                     \n",
       "A 10-hour hearing broadcast on the courtâ€™s we...       0           1   \n",
       "A Guatemalan mom who says she sustained severe ...       0           1   \n",
       "A federal judge dismissed the United States wom...       1           0   \n",
       "A federal judge in Tucson, Arizona delivered a ...       1           1   \n",
       "A poll released Tuesday finds 75 percent of Ame...       0           1   \n",
       "AP Confirms: Democrats Are Lying to the Public ...       1           0   \n",
       "Abortion propaganda was always meant to obscure...       1           0   \n",
       "After tremendous pressure on the Department of ...       1           0   \n",
       "After walking off following another hardcourt l...       1           1   \n",
       "Alex Berenson, a former reporter at the New Yor...       1           0   \n",
       "Although he didnâ€™t seem to direct his comment...       1           0   \n",
       "An investigative journalist whose exposÃ©s on t...       1           0   \n",
       "Andres Iniesta, the former Barcelona captain an...       0           1   \n",
       "Angry Democrats blamed Republicans for what the...       2           0   \n",
       "As people sip cafecito and eat croquetas at the...       2           0   \n",
       "Australian sports stars, sparked in part by a c...       0           2   \n",
       "Big Ten Commissioner Jim Delany told The Athlet...       0           1   \n",
       "But Omar used Ivankaâ€™s pro-family posts as a ...       0           1   \n",
       "But as early as this month, the U.S. Supreme Co...       0           1   \n",
       "But director Nick Sweeneyâ€™s forthcoming docum...       1           0   \n",
       "But the fact that Trump cloaks this fact by sto...       1           0   \n",
       "By forcing us to abandon our regular routines a...       1           0   \n",
       "CTE is a degenerative brain disease that has be...       1           0   \n",
       "Cerio was reportedly screaming in agony on the ...       1           0   \n",
       "Coach Guerrier adds that the refereeâ€™s contin...       0           1   \n",
       "\n",
       "survey_record_id                                      Label_bias  \\\n",
       "text                                                               \n",
       "A 10-hour hearing broadcast on the courtâ€™s we...    Non-biased   \n",
       "A Guatemalan mom who says she sustained severe ...    Non-biased   \n",
       "A federal judge dismissed the United States wom...        Biased   \n",
       "A federal judge in Tucson, Arizona delivered a ...  No agreement   \n",
       "A poll released Tuesday finds 75 percent of Ame...    Non-biased   \n",
       "AP Confirms: Democrats Are Lying to the Public ...        Biased   \n",
       "Abortion propaganda was always meant to obscure...        Biased   \n",
       "After tremendous pressure on the Department of ...        Biased   \n",
       "After walking off following another hardcourt l...  No agreement   \n",
       "Alex Berenson, a former reporter at the New Yor...        Biased   \n",
       "Although he didnâ€™t seem to direct his comment...        Biased   \n",
       "An investigative journalist whose exposÃ©s on t...        Biased   \n",
       "Andres Iniesta, the former Barcelona captain an...    Non-biased   \n",
       "Angry Democrats blamed Republicans for what the...        Biased   \n",
       "As people sip cafecito and eat croquetas at the...        Biased   \n",
       "Australian sports stars, sparked in part by a c...    Non-biased   \n",
       "Big Ten Commissioner Jim Delany told The Athlet...    Non-biased   \n",
       "But Omar used Ivankaâ€™s pro-family posts as a ...    Non-biased   \n",
       "But as early as this month, the U.S. Supreme Co...    Non-biased   \n",
       "But director Nick Sweeneyâ€™s forthcoming docum...        Biased   \n",
       "But the fact that Trump cloaks this fact by sto...        Biased   \n",
       "By forcing us to abandon our regular routines a...        Biased   \n",
       "CTE is a degenerative brain disease that has be...        Biased   \n",
       "Cerio was reportedly screaming in agony on the ...        Biased   \n",
       "Coach Guerrier adds that the refereeâ€™s contin...    Non-biased   \n",
       "\n",
       "survey_record_id                                    Total_annotations  \n",
       "text                                                                   \n",
       "A 10-hour hearing broadcast on the courtâ€™s we...                  1  \n",
       "A Guatemalan mom who says she sustained severe ...                  1  \n",
       "A federal judge dismissed the United States wom...                  1  \n",
       "A federal judge in Tucson, Arizona delivered a ...                  2  \n",
       "A poll released Tuesday finds 75 percent of Ame...                  1  \n",
       "AP Confirms: Democrats Are Lying to the Public ...                  1  \n",
       "Abortion propaganda was always meant to obscure...                  1  \n",
       "After tremendous pressure on the Department of ...                  1  \n",
       "After walking off following another hardcourt l...                  2  \n",
       "Alex Berenson, a former reporter at the New Yor...                  1  \n",
       "Although he didnâ€™t seem to direct his comment...                  1  \n",
       "An investigative journalist whose exposÃ©s on t...                  1  \n",
       "Andres Iniesta, the former Barcelona captain an...                  1  \n",
       "Angry Democrats blamed Republicans for what the...                  2  \n",
       "As people sip cafecito and eat croquetas at the...                  2  \n",
       "Australian sports stars, sparked in part by a c...                  2  \n",
       "Big Ten Commissioner Jim Delany told The Athlet...                  1  \n",
       "But Omar used Ivankaâ€™s pro-family posts as a ...                  1  \n",
       "But as early as this month, the U.S. Supreme Co...                  1  \n",
       "But director Nick Sweeneyâ€™s forthcoming docum...                  1  \n",
       "But the fact that Trump cloaks this fact by sto...                  1  \n",
       "By forcing us to abandon our regular routines a...                  1  \n",
       "CTE is a degenerative brain disease that has be...                  1  \n",
       "Cerio was reportedly screaming in agony on the ...                  1  \n",
       "Coach Guerrier adds that the refereeâ€™s contin...                  1  "
      ]
     },
     "execution_count": 124,
     "metadata": {},
     "output_type": "execute_result"
    }
   ],
   "source": [
    "results_bias.head(25)"
   ]
  },
  {
   "cell_type": "code",
   "execution_count": 125,
   "metadata": {},
   "outputs": [],
   "source": [
    "\n",
    "# results_bias.to_excel('results_bias.xlsx')"
   ]
  },
  {
   "cell_type": "code",
   "execution_count": 126,
   "metadata": {},
   "outputs": [
    {
     "name": "stdout",
     "output_type": "stream",
     "text": [
      "Out of 148 11 have no agreement.\n"
     ]
    }
   ],
   "source": [
    "no_ag_bias = results_bias[results_bias['Label_bias']=='No agreement']\n",
    "print(\"Out of\", len(results_bias), len(no_ag_bias), \"have no agreement.\")"
   ]
  },
  {
   "cell_type": "code",
   "execution_count": 127,
   "metadata": {},
   "outputs": [
    {
     "ename": "ValueError",
     "evalue": "zero-size array to reduction operation maximum which has no identity",
     "output_type": "error",
     "traceback": [
      "\u001b[1;31m---------------------------------------------------------------------------\u001b[0m",
      "\u001b[1;31mValueError\u001b[0m                                Traceback (most recent call last)",
      "\u001b[1;32m~\\AppData\\Local\\Temp\\ipykernel_4992\\3924048344.py\u001b[0m in \u001b[0;36m<module>\u001b[1;34m\u001b[0m\n\u001b[0;32m      1\u001b[0m \u001b[0mresults_bias10\u001b[0m \u001b[1;33m=\u001b[0m \u001b[0mresults_bias\u001b[0m\u001b[1;33m[\u001b[0m\u001b[0mresults_bias\u001b[0m\u001b[1;33m[\u001b[0m\u001b[1;34m'Total_annotations'\u001b[0m\u001b[1;33m]\u001b[0m\u001b[1;33m==\u001b[0m\u001b[1;36m10\u001b[0m\u001b[1;33m]\u001b[0m\u001b[1;33m\u001b[0m\u001b[1;33m\u001b[0m\u001b[0m\n\u001b[0;32m      2\u001b[0m \u001b[1;33m\u001b[0m\u001b[0m\n\u001b[1;32m----> 3\u001b[1;33m \u001b[0mfk_bias\u001b[0m \u001b[1;33m=\u001b[0m \u001b[0minter_rater\u001b[0m\u001b[1;33m.\u001b[0m\u001b[0mfleiss_kappa\u001b[0m\u001b[1;33m(\u001b[0m\u001b[0mresults_bias10\u001b[0m\u001b[1;33m[\u001b[0m\u001b[1;33m[\u001b[0m\u001b[1;34m\"Biased\"\u001b[0m\u001b[1;33m,\u001b[0m\u001b[1;34m\"Non-biased\"\u001b[0m\u001b[1;33m]\u001b[0m\u001b[1;33m]\u001b[0m\u001b[1;33m,\u001b[0m \u001b[0mmethod\u001b[0m\u001b[1;33m=\u001b[0m\u001b[1;34m'fleiss'\u001b[0m\u001b[1;33m)\u001b[0m\u001b[1;33m\u001b[0m\u001b[1;33m\u001b[0m\u001b[0m\n\u001b[0m\u001b[0;32m      4\u001b[0m \u001b[1;33m\u001b[0m\u001b[0m\n\u001b[0;32m      5\u001b[0m print(\"Fleiss Kappa for annotation on whether the sentence is biased/impartial:\", \n",
      "\u001b[1;32mc:\\Users\\Lenovo\\anaconda3\\lib\\site-packages\\statsmodels\\stats\\inter_rater.py\u001b[0m in \u001b[0;36mfleiss_kappa\u001b[1;34m(table, method)\u001b[0m\n\u001b[0;32m    246\u001b[0m     \u001b[0mn_total\u001b[0m \u001b[1;33m=\u001b[0m \u001b[0mtable\u001b[0m\u001b[1;33m.\u001b[0m\u001b[0msum\u001b[0m\u001b[1;33m(\u001b[0m\u001b[1;33m)\u001b[0m\u001b[1;33m\u001b[0m\u001b[1;33m\u001b[0m\u001b[0m\n\u001b[0;32m    247\u001b[0m     \u001b[0mn_rater\u001b[0m \u001b[1;33m=\u001b[0m \u001b[0mtable\u001b[0m\u001b[1;33m.\u001b[0m\u001b[0msum\u001b[0m\u001b[1;33m(\u001b[0m\u001b[1;36m1\u001b[0m\u001b[1;33m)\u001b[0m\u001b[1;33m\u001b[0m\u001b[1;33m\u001b[0m\u001b[0m\n\u001b[1;32m--> 248\u001b[1;33m     \u001b[0mn_rat\u001b[0m \u001b[1;33m=\u001b[0m \u001b[0mn_rater\u001b[0m\u001b[1;33m.\u001b[0m\u001b[0mmax\u001b[0m\u001b[1;33m(\u001b[0m\u001b[1;33m)\u001b[0m\u001b[1;33m\u001b[0m\u001b[1;33m\u001b[0m\u001b[0m\n\u001b[0m\u001b[0;32m    249\u001b[0m     \u001b[1;31m#assume fully ranked\u001b[0m\u001b[1;33m\u001b[0m\u001b[1;33m\u001b[0m\u001b[0m\n\u001b[0;32m    250\u001b[0m     \u001b[1;32massert\u001b[0m \u001b[0mn_total\u001b[0m \u001b[1;33m==\u001b[0m \u001b[0mn_sub\u001b[0m \u001b[1;33m*\u001b[0m \u001b[0mn_rat\u001b[0m\u001b[1;33m\u001b[0m\u001b[1;33m\u001b[0m\u001b[0m\n",
      "\u001b[1;32mc:\\Users\\Lenovo\\anaconda3\\lib\\site-packages\\numpy\\core\\_methods.py\u001b[0m in \u001b[0;36m_amax\u001b[1;34m(a, axis, out, keepdims, initial, where)\u001b[0m\n\u001b[0;32m     38\u001b[0m def _amax(a, axis=None, out=None, keepdims=False,\n\u001b[0;32m     39\u001b[0m           initial=_NoValue, where=True):\n\u001b[1;32m---> 40\u001b[1;33m     \u001b[1;32mreturn\u001b[0m \u001b[0mumr_maximum\u001b[0m\u001b[1;33m(\u001b[0m\u001b[0ma\u001b[0m\u001b[1;33m,\u001b[0m \u001b[0maxis\u001b[0m\u001b[1;33m,\u001b[0m \u001b[1;32mNone\u001b[0m\u001b[1;33m,\u001b[0m \u001b[0mout\u001b[0m\u001b[1;33m,\u001b[0m \u001b[0mkeepdims\u001b[0m\u001b[1;33m,\u001b[0m \u001b[0minitial\u001b[0m\u001b[1;33m,\u001b[0m \u001b[0mwhere\u001b[0m\u001b[1;33m)\u001b[0m\u001b[1;33m\u001b[0m\u001b[1;33m\u001b[0m\u001b[0m\n\u001b[0m\u001b[0;32m     41\u001b[0m \u001b[1;33m\u001b[0m\u001b[0m\n\u001b[0;32m     42\u001b[0m def _amin(a, axis=None, out=None, keepdims=False,\n",
      "\u001b[1;31mValueError\u001b[0m: zero-size array to reduction operation maximum which has no identity"
     ]
    }
   ],
   "source": [
    "results_bias10 = results_bias[results_bias['Total_annotations']==10]\n",
    "\n",
    "fk_bias = inter_rater.fleiss_kappa(results_bias10[[\"Biased\",\"Non-biased\"]], method='fleiss')\n",
    "\n",
    "print(\"Fleiss Kappa for annotation on whether the sentence is biased/impartial:\", \n",
    "      round(fk_bias,2), \"(Fair agreement)\")"
   ]
  },
  {
   "attachments": {},
   "cell_type": "markdown",
   "metadata": {},
   "source": [
    "### 1.2 Labels - opinionated/factual"
   ]
  },
  {
   "cell_type": "code",
   "execution_count": 128,
   "metadata": {
    "collapsed": true
   },
   "outputs": [
    {
     "name": "stderr",
     "output_type": "stream",
     "text": [
      "C:\\Users\\Lenovo\\AppData\\Local\\Temp\\ipykernel_4992\\46001291.py:7: SettingWithCopyWarning:\n",
      "\n",
      "\n",
      "A value is trying to be set on a copy of a slice from a DataFrame.\n",
      "Try using .loc[row_indexer,col_indexer] = value instead\n",
      "\n",
      "See the caveats in the documentation: https://pandas.pydata.org/pandas-docs/stable/user_guide/indexing.html#returning-a-view-versus-a-copy\n",
      "\n",
      "C:\\Users\\Lenovo\\AppData\\Local\\Temp\\ipykernel_4992\\46001291.py:10: SettingWithCopyWarning:\n",
      "\n",
      "\n",
      "A value is trying to be set on a copy of a slice from a DataFrame.\n",
      "Try using .loc[row_indexer,col_indexer] = value instead\n",
      "\n",
      "See the caveats in the documentation: https://pandas.pydata.org/pandas-docs/stable/user_guide/indexing.html#returning-a-view-versus-a-copy\n",
      "\n"
     ]
    }
   ],
   "source": [
    "turker_opin[\"Entirely factual\"] = turker_opin.apply(lambda row: sum(row[1:len(turker_opin.columns)]==\"Entirely factual\") ,axis=1)\n",
    "turker_opin[\"Somewhat factual but also opinionated\"] = turker_opin.apply(lambda row: sum(row[1:(len(turker_opin.columns)-1)]==\"Somewhat factual but also opinionated\") ,axis=1)\n",
    "turker_opin[\"Expresses writer’s opinion\"] = turker_opin.apply(lambda row: sum(row[1:(len(turker_opin.columns)-2)]==\"Expresses writer’s opinion\") ,axis=1)\n",
    "\n",
    "results_opin = turker_opin[[\"Entirely factual\", 'Somewhat factual but also opinionated', \"Expresses writer’s opinion\"]]\n",
    "\n",
    "results_opin[\"max_Label_opinion\"] = results_opin.apply(lambda row: max(row[\"Entirely factual\"],\n",
    "                                                                      row[\"Somewhat factual but also opinionated\"],\n",
    "                                                                       row[\"Expresses writer’s opinion\"]), axis=1)\n",
    "results_opin[\"Label_opinion\"] = results_opin.apply(lambda row: \"No agreement\" if ((row[\"Entirely factual\"]==row[\"max_Label_opinion\"] and row[\"Somewhat factual but also opinionated\"]==row[\"max_Label_opinion\"]) \n",
    "                                                   or (row[\"Entirely factual\"]==row[\"max_Label_opinion\"] and row[\"Expresses writer’s opinion\"]==row[\"max_Label_opinion\"])\n",
    "                                                   or (row[\"Somewhat factual but also opinionated\"]==row[\"max_Label_opinion\"] and row[\"Expresses writer’s opinion\"]==row[\"max_Label_opinion\"]))\n",
    "                                                   else (\"Entirely factual\" if row[\"Entirely factual\"]==row[\"max_Label_opinion\"]\n",
    "                                                        else \"Somewhat factual but also opinionated\" if row[\"Somewhat factual but also opinionated\"]==row[\"max_Label_opinion\"]\n",
    "                                                        else \"Expresses writer’s opinion\")\n",
    "                                                   , axis=1)\n",
    "\n",
    "results_opin = results_opin[[\"Entirely factual\", \"Somewhat factual but also opinionated\", \n",
    "                             \"Expresses writer’s opinion\", \"Label_opinion\"]]\n",
    "\n",
    "results_opin[\"Total_annotations\"] = results_opin[\"Entirely factual\"] + results_opin[\"Somewhat factual but also opinionated\"] + results_opin[\"Expresses writer’s opinion\"]\n"
   ]
  },
  {
   "cell_type": "code",
   "execution_count": 129,
   "metadata": {
    "scrolled": true
   },
   "outputs": [
    {
     "data": {
      "text/html": [
       "<div>\n",
       "<style scoped>\n",
       "    .dataframe tbody tr th:only-of-type {\n",
       "        vertical-align: middle;\n",
       "    }\n",
       "\n",
       "    .dataframe tbody tr th {\n",
       "        vertical-align: top;\n",
       "    }\n",
       "\n",
       "    .dataframe thead th {\n",
       "        text-align: right;\n",
       "    }\n",
       "</style>\n",
       "<table border=\"1\" class=\"dataframe\">\n",
       "  <thead>\n",
       "    <tr style=\"text-align: right;\">\n",
       "      <th>survey_record_id</th>\n",
       "      <th>Entirely factual</th>\n",
       "      <th>Somewhat factual but also opinionated</th>\n",
       "      <th>Expresses writer’s opinion</th>\n",
       "      <th>Label_opinion</th>\n",
       "      <th>Total_annotations</th>\n",
       "    </tr>\n",
       "    <tr>\n",
       "      <th>text</th>\n",
       "      <th></th>\n",
       "      <th></th>\n",
       "      <th></th>\n",
       "      <th></th>\n",
       "      <th></th>\n",
       "    </tr>\n",
       "  </thead>\n",
       "  <tbody>\n",
       "    <tr>\n",
       "      <th>A 10-hour hearing broadcast on the courtâ€™s website showed Sun, China's greatest ever swimmer, and one of its biggest sports stars, to be evasive at times under questioning that was hampered by severe translation issues between Chinese and English.</th>\n",
       "      <td>1</td>\n",
       "      <td>0</td>\n",
       "      <td>0</td>\n",
       "      <td>Entirely factual</td>\n",
       "      <td>1</td>\n",
       "    </tr>\n",
       "    <tr>\n",
       "      <th>A Guatemalan mom who says she sustained severe chemical burns and was sexually assaulted in front of her young daughter during a kidnapping in Mexico is asking the U.S. government to let her into the country while her asylum case plays out.</th>\n",
       "      <td>0</td>\n",
       "      <td>0</td>\n",
       "      <td>1</td>\n",
       "      <td>Expresses writer’s opinion</td>\n",
       "      <td>1</td>\n",
       "    </tr>\n",
       "    <tr>\n",
       "      <th>A federal judge dismissed the United States womenâ€™s soccer teamâ€™s bid for equal pay on Friday, rejecting claims the players had been underpaid in a crushing defeat for the reigning world champions.</th>\n",
       "      <td>1</td>\n",
       "      <td>0</td>\n",
       "      <td>0</td>\n",
       "      <td>Entirely factual</td>\n",
       "      <td>1</td>\n",
       "    </tr>\n",
       "    <tr>\n",
       "      <th>A federal judge in Tucson, Arizona delivered a blow Monday to the Trump administrationâ€™s strategy of criminalizing humanitarian aid work along the southern border with her decision to overturn the convictions of four volunteers on religious freedom grounds.</th>\n",
       "      <td>1</td>\n",
       "      <td>0</td>\n",
       "      <td>1</td>\n",
       "      <td>No agreement</td>\n",
       "      <td>2</td>\n",
       "    </tr>\n",
       "    <tr>\n",
       "      <th>A poll released Tuesday finds 75 percent of Americans want substantial restrictions on abortion, including 60 percent of Democrats and 61 percent of those who identify as â€œpro-choice.â€</th>\n",
       "      <td>1</td>\n",
       "      <td>0</td>\n",
       "      <td>0</td>\n",
       "      <td>Entirely factual</td>\n",
       "      <td>1</td>\n",
       "    </tr>\n",
       "    <tr>\n",
       "      <th>AP Confirms: Democrats Are Lying to the Public About Coronavirus Readiness...</th>\n",
       "      <td>0</td>\n",
       "      <td>1</td>\n",
       "      <td>0</td>\n",
       "      <td>Somewhat factual but also opinionated</td>\n",
       "      <td>1</td>\n",
       "    </tr>\n",
       "    <tr>\n",
       "      <th>Abortion propaganda was always meant to obscure the reality of abortion, not justify it.</th>\n",
       "      <td>0</td>\n",
       "      <td>1</td>\n",
       "      <td>0</td>\n",
       "      <td>Somewhat factual but also opinionated</td>\n",
       "      <td>1</td>\n",
       "    </tr>\n",
       "    <tr>\n",
       "      <th>After tremendous pressure on the Department of Homeland Security, Miller is advancing his agenda of not just blocking migrants from entering the country illegally, but making life in the U.S. so unbearable for legal immigrants that they leave the country.</th>\n",
       "      <td>0</td>\n",
       "      <td>0</td>\n",
       "      <td>1</td>\n",
       "      <td>Expresses writer’s opinion</td>\n",
       "      <td>1</td>\n",
       "    </tr>\n",
       "    <tr>\n",
       "      <th>After walking off following another hardcourt loss to Novak Djokovic, allowing Serbia to level the final after Roberto Bautista Agut won the opening singles for Spain, Nadal urged the men's tour and the sport's international governing body to form one major team tournament.</th>\n",
       "      <td>0</td>\n",
       "      <td>2</td>\n",
       "      <td>0</td>\n",
       "      <td>Somewhat factual but also opinionated</td>\n",
       "      <td>2</td>\n",
       "    </tr>\n",
       "    <tr>\n",
       "      <th>Alex Berenson, a former reporter at the New York Times who has written extensively debunking fearmongering claims related to the lockdowns wrote on Twitter Thursday that the tech giant to benefit the most from pandemic stay-home orders is refused to sell his latest book.</th>\n",
       "      <td>0</td>\n",
       "      <td>0</td>\n",
       "      <td>1</td>\n",
       "      <td>Expresses writer’s opinion</td>\n",
       "      <td>1</td>\n",
       "    </tr>\n",
       "    <tr>\n",
       "      <th>Although he didnâ€™t seem to direct his comments at anyone in particular, many celebrities that consider themselves climate change activists have not adjusted their lifestyles of taking private jets to their engagements around the globe, for example, Leonardo DiCaprio, Katy Perry and Orlando Bloom all took heat in 2019 when they were among the A-listers to attend Googleâ€™s climate change conference by way of private jets and mega yachts.</th>\n",
       "      <td>1</td>\n",
       "      <td>0</td>\n",
       "      <td>0</td>\n",
       "      <td>Entirely factual</td>\n",
       "      <td>1</td>\n",
       "    </tr>\n",
       "    <tr>\n",
       "      <th>An investigative journalist whose exposÃ©s on the deep-rooted corruption in African soccer led to the downfall of a member of the high-powered FIFA Council was shot dead Wednesday, months after a Ghana politician called for retribution against him.</th>\n",
       "      <td>1</td>\n",
       "      <td>0</td>\n",
       "      <td>0</td>\n",
       "      <td>Entirely factual</td>\n",
       "      <td>1</td>\n",
       "    </tr>\n",
       "    <tr>\n",
       "      <th>Andres Iniesta, the former Barcelona captain and World Cup-winning Spanish soccer star, apologized Tuesday after being criticized for posting a picture of him posing with two people clad in blackface during a popular Christian celebration.</th>\n",
       "      <td>0</td>\n",
       "      <td>1</td>\n",
       "      <td>0</td>\n",
       "      <td>Somewhat factual but also opinionated</td>\n",
       "      <td>1</td>\n",
       "    </tr>\n",
       "    <tr>\n",
       "      <th>Angry Democrats blamed Republicans for what they see as a debacle that could leave millions of Americans without health care.</th>\n",
       "      <td>0</td>\n",
       "      <td>1</td>\n",
       "      <td>1</td>\n",
       "      <td>No agreement</td>\n",
       "      <td>2</td>\n",
       "    </tr>\n",
       "    <tr>\n",
       "      <th>As people sip cafecito and eat croquetas at the landmark restaurant, the buzz here these days is what Cubans say is the alarming rise of Democratic presidential frontrunner Sen. Bernie Sanders, whose unabashed defense of late Cuban dictator Fidel Castro has riled Cuban-Americans who view his comments as a personal attack.</th>\n",
       "      <td>1</td>\n",
       "      <td>1</td>\n",
       "      <td>0</td>\n",
       "      <td>No agreement</td>\n",
       "      <td>2</td>\n",
       "    </tr>\n",
       "  </tbody>\n",
       "</table>\n",
       "</div>"
      ],
      "text/plain": [
       "survey_record_id                                    Entirely factual  \\\n",
       "text                                                                   \n",
       "A 10-hour hearing broadcast on the courtâ€™s we...                 1   \n",
       "A Guatemalan mom who says she sustained severe ...                 0   \n",
       "A federal judge dismissed the United States wom...                 1   \n",
       "A federal judge in Tucson, Arizona delivered a ...                 1   \n",
       "A poll released Tuesday finds 75 percent of Ame...                 1   \n",
       "AP Confirms: Democrats Are Lying to the Public ...                 0   \n",
       "Abortion propaganda was always meant to obscure...                 0   \n",
       "After tremendous pressure on the Department of ...                 0   \n",
       "After walking off following another hardcourt l...                 0   \n",
       "Alex Berenson, a former reporter at the New Yor...                 0   \n",
       "Although he didnâ€™t seem to direct his comment...                 1   \n",
       "An investigative journalist whose exposÃ©s on t...                 1   \n",
       "Andres Iniesta, the former Barcelona captain an...                 0   \n",
       "Angry Democrats blamed Republicans for what the...                 0   \n",
       "As people sip cafecito and eat croquetas at the...                 1   \n",
       "\n",
       "survey_record_id                                    Somewhat factual but also opinionated  \\\n",
       "text                                                                                        \n",
       "A 10-hour hearing broadcast on the courtâ€™s we...                                      0   \n",
       "A Guatemalan mom who says she sustained severe ...                                      0   \n",
       "A federal judge dismissed the United States wom...                                      0   \n",
       "A federal judge in Tucson, Arizona delivered a ...                                      0   \n",
       "A poll released Tuesday finds 75 percent of Ame...                                      0   \n",
       "AP Confirms: Democrats Are Lying to the Public ...                                      1   \n",
       "Abortion propaganda was always meant to obscure...                                      1   \n",
       "After tremendous pressure on the Department of ...                                      0   \n",
       "After walking off following another hardcourt l...                                      2   \n",
       "Alex Berenson, a former reporter at the New Yor...                                      0   \n",
       "Although he didnâ€™t seem to direct his comment...                                      0   \n",
       "An investigative journalist whose exposÃ©s on t...                                      0   \n",
       "Andres Iniesta, the former Barcelona captain an...                                      1   \n",
       "Angry Democrats blamed Republicans for what the...                                      1   \n",
       "As people sip cafecito and eat croquetas at the...                                      1   \n",
       "\n",
       "survey_record_id                                    Expresses writer’s opinion  \\\n",
       "text                                                                             \n",
       "A 10-hour hearing broadcast on the courtâ€™s we...                           0   \n",
       "A Guatemalan mom who says she sustained severe ...                           1   \n",
       "A federal judge dismissed the United States wom...                           0   \n",
       "A federal judge in Tucson, Arizona delivered a ...                           1   \n",
       "A poll released Tuesday finds 75 percent of Ame...                           0   \n",
       "AP Confirms: Democrats Are Lying to the Public ...                           0   \n",
       "Abortion propaganda was always meant to obscure...                           0   \n",
       "After tremendous pressure on the Department of ...                           1   \n",
       "After walking off following another hardcourt l...                           0   \n",
       "Alex Berenson, a former reporter at the New Yor...                           1   \n",
       "Although he didnâ€™t seem to direct his comment...                           0   \n",
       "An investigative journalist whose exposÃ©s on t...                           0   \n",
       "Andres Iniesta, the former Barcelona captain an...                           0   \n",
       "Angry Democrats blamed Republicans for what the...                           1   \n",
       "As people sip cafecito and eat croquetas at the...                           0   \n",
       "\n",
       "survey_record_id                                                            Label_opinion  \\\n",
       "text                                                                                        \n",
       "A 10-hour hearing broadcast on the courtâ€™s we...                       Entirely factual   \n",
       "A Guatemalan mom who says she sustained severe ...             Expresses writer’s opinion   \n",
       "A federal judge dismissed the United States wom...                       Entirely factual   \n",
       "A federal judge in Tucson, Arizona delivered a ...                           No agreement   \n",
       "A poll released Tuesday finds 75 percent of Ame...                       Entirely factual   \n",
       "AP Confirms: Democrats Are Lying to the Public ...  Somewhat factual but also opinionated   \n",
       "Abortion propaganda was always meant to obscure...  Somewhat factual but also opinionated   \n",
       "After tremendous pressure on the Department of ...             Expresses writer’s opinion   \n",
       "After walking off following another hardcourt l...  Somewhat factual but also opinionated   \n",
       "Alex Berenson, a former reporter at the New Yor...             Expresses writer’s opinion   \n",
       "Although he didnâ€™t seem to direct his comment...                       Entirely factual   \n",
       "An investigative journalist whose exposÃ©s on t...                       Entirely factual   \n",
       "Andres Iniesta, the former Barcelona captain an...  Somewhat factual but also opinionated   \n",
       "Angry Democrats blamed Republicans for what the...                           No agreement   \n",
       "As people sip cafecito and eat croquetas at the...                           No agreement   \n",
       "\n",
       "survey_record_id                                    Total_annotations  \n",
       "text                                                                   \n",
       "A 10-hour hearing broadcast on the courtâ€™s we...                  1  \n",
       "A Guatemalan mom who says she sustained severe ...                  1  \n",
       "A federal judge dismissed the United States wom...                  1  \n",
       "A federal judge in Tucson, Arizona delivered a ...                  2  \n",
       "A poll released Tuesday finds 75 percent of Ame...                  1  \n",
       "AP Confirms: Democrats Are Lying to the Public ...                  1  \n",
       "Abortion propaganda was always meant to obscure...                  1  \n",
       "After tremendous pressure on the Department of ...                  1  \n",
       "After walking off following another hardcourt l...                  2  \n",
       "Alex Berenson, a former reporter at the New Yor...                  1  \n",
       "Although he didnâ€™t seem to direct his comment...                  1  \n",
       "An investigative journalist whose exposÃ©s on t...                  1  \n",
       "Andres Iniesta, the former Barcelona captain an...                  1  \n",
       "Angry Democrats blamed Republicans for what the...                  2  \n",
       "As people sip cafecito and eat croquetas at the...                  2  "
      ]
     },
     "execution_count": 129,
     "metadata": {},
     "output_type": "execute_result"
    }
   ],
   "source": [
    "results_opin.head(15)"
   ]
  },
  {
   "cell_type": "code",
   "execution_count": 12,
   "metadata": {},
   "outputs": [],
   "source": [
    "\n",
    "# results_opin.to_excel('results_opin.xlsx')"
   ]
  },
  {
   "cell_type": "code",
   "execution_count": 130,
   "metadata": {},
   "outputs": [
    {
     "name": "stdout",
     "output_type": "stream",
     "text": [
      "Out of 148 16 have no agreement.\n"
     ]
    }
   ],
   "source": [
    "no_ag_opin = results_opin[results_opin['Label_opinion']=='No agreement']\n",
    "print(\"Out of\", len(results_opin), len(no_ag_opin), \"have no agreement.\")"
   ]
  },
  {
   "cell_type": "code",
   "execution_count": 131,
   "metadata": {},
   "outputs": [
    {
     "ename": "ValueError",
     "evalue": "zero-size array to reduction operation maximum which has no identity",
     "output_type": "error",
     "traceback": [
      "\u001b[1;31m---------------------------------------------------------------------------\u001b[0m",
      "\u001b[1;31mValueError\u001b[0m                                Traceback (most recent call last)",
      "\u001b[1;32m~\\AppData\\Local\\Temp\\ipykernel_4992\\1884337140.py\u001b[0m in \u001b[0;36m<module>\u001b[1;34m\u001b[0m\n\u001b[0;32m      1\u001b[0m \u001b[0mresults_opin10\u001b[0m \u001b[1;33m=\u001b[0m \u001b[0mresults_opin\u001b[0m\u001b[1;33m[\u001b[0m\u001b[0mresults_opin\u001b[0m\u001b[1;33m[\u001b[0m\u001b[1;34m'Total_annotations'\u001b[0m\u001b[1;33m]\u001b[0m\u001b[1;33m==\u001b[0m\u001b[1;36m10\u001b[0m\u001b[1;33m]\u001b[0m\u001b[1;33m\u001b[0m\u001b[1;33m\u001b[0m\u001b[0m\n\u001b[0;32m      2\u001b[0m \u001b[1;33m\u001b[0m\u001b[0m\n\u001b[1;32m----> 3\u001b[1;33m fk_opinion = inter_rater.fleiss_kappa(results_opin10[[\"Entirely factual\", \"Expresses writer’s opinion\", \n\u001b[0m\u001b[0;32m      4\u001b[0m                                                     \"Somewhat factual but also opinionated\"]], method='fleiss')\n\u001b[0;32m      5\u001b[0m \u001b[1;33m\u001b[0m\u001b[0m\n",
      "\u001b[1;32mc:\\Users\\Lenovo\\anaconda3\\lib\\site-packages\\statsmodels\\stats\\inter_rater.py\u001b[0m in \u001b[0;36mfleiss_kappa\u001b[1;34m(table, method)\u001b[0m\n\u001b[0;32m    246\u001b[0m     \u001b[0mn_total\u001b[0m \u001b[1;33m=\u001b[0m \u001b[0mtable\u001b[0m\u001b[1;33m.\u001b[0m\u001b[0msum\u001b[0m\u001b[1;33m(\u001b[0m\u001b[1;33m)\u001b[0m\u001b[1;33m\u001b[0m\u001b[1;33m\u001b[0m\u001b[0m\n\u001b[0;32m    247\u001b[0m     \u001b[0mn_rater\u001b[0m \u001b[1;33m=\u001b[0m \u001b[0mtable\u001b[0m\u001b[1;33m.\u001b[0m\u001b[0msum\u001b[0m\u001b[1;33m(\u001b[0m\u001b[1;36m1\u001b[0m\u001b[1;33m)\u001b[0m\u001b[1;33m\u001b[0m\u001b[1;33m\u001b[0m\u001b[0m\n\u001b[1;32m--> 248\u001b[1;33m     \u001b[0mn_rat\u001b[0m \u001b[1;33m=\u001b[0m \u001b[0mn_rater\u001b[0m\u001b[1;33m.\u001b[0m\u001b[0mmax\u001b[0m\u001b[1;33m(\u001b[0m\u001b[1;33m)\u001b[0m\u001b[1;33m\u001b[0m\u001b[1;33m\u001b[0m\u001b[0m\n\u001b[0m\u001b[0;32m    249\u001b[0m     \u001b[1;31m#assume fully ranked\u001b[0m\u001b[1;33m\u001b[0m\u001b[1;33m\u001b[0m\u001b[0m\n\u001b[0;32m    250\u001b[0m     \u001b[1;32massert\u001b[0m \u001b[0mn_total\u001b[0m \u001b[1;33m==\u001b[0m \u001b[0mn_sub\u001b[0m \u001b[1;33m*\u001b[0m \u001b[0mn_rat\u001b[0m\u001b[1;33m\u001b[0m\u001b[1;33m\u001b[0m\u001b[0m\n",
      "\u001b[1;32mc:\\Users\\Lenovo\\anaconda3\\lib\\site-packages\\numpy\\core\\_methods.py\u001b[0m in \u001b[0;36m_amax\u001b[1;34m(a, axis, out, keepdims, initial, where)\u001b[0m\n\u001b[0;32m     38\u001b[0m def _amax(a, axis=None, out=None, keepdims=False,\n\u001b[0;32m     39\u001b[0m           initial=_NoValue, where=True):\n\u001b[1;32m---> 40\u001b[1;33m     \u001b[1;32mreturn\u001b[0m \u001b[0mumr_maximum\u001b[0m\u001b[1;33m(\u001b[0m\u001b[0ma\u001b[0m\u001b[1;33m,\u001b[0m \u001b[0maxis\u001b[0m\u001b[1;33m,\u001b[0m \u001b[1;32mNone\u001b[0m\u001b[1;33m,\u001b[0m \u001b[0mout\u001b[0m\u001b[1;33m,\u001b[0m \u001b[0mkeepdims\u001b[0m\u001b[1;33m,\u001b[0m \u001b[0minitial\u001b[0m\u001b[1;33m,\u001b[0m \u001b[0mwhere\u001b[0m\u001b[1;33m)\u001b[0m\u001b[1;33m\u001b[0m\u001b[1;33m\u001b[0m\u001b[0m\n\u001b[0m\u001b[0;32m     41\u001b[0m \u001b[1;33m\u001b[0m\u001b[0m\n\u001b[0;32m     42\u001b[0m def _amin(a, axis=None, out=None, keepdims=False,\n",
      "\u001b[1;31mValueError\u001b[0m: zero-size array to reduction operation maximum which has no identity"
     ]
    }
   ],
   "source": [
    "results_opin10 = results_opin[results_opin['Total_annotations']==10]\n",
    "\n",
    "fk_opinion = inter_rater.fleiss_kappa(results_opin10[[\"Entirely factual\", \"Expresses writer’s opinion\", \n",
    "                                                    \"Somewhat factual but also opinionated\"]], method='fleiss')\n",
    "\n",
    "print(\"Fleiss Kappa for annotation on whether the sentence is opinionated/factual:\", \n",
    "      round(fk_opinion,2), \"(Slight agreement)\")"
   ]
  },
  {
   "attachments": {},
   "cell_type": "markdown",
   "metadata": {},
   "source": [
    "### 1.3 Biased words"
   ]
  },
  {
   "attachments": {},
   "cell_type": "markdown",
   "metadata": {},
   "source": [
    "#### 1.3.1 Count frequency of highlighted words"
   ]
  },
  {
   "cell_type": "code",
   "execution_count": 132,
   "metadata": {},
   "outputs": [],
   "source": [
    "survey_codes = list(turker_words)\n",
    "results_words = turker_words.copy(deep = True)\n",
    "\n",
    "for survey in survey_codes: \n",
    "    # remove quotation marks, spaces and dots. Split string to list of selected words\n",
    "    results_words[survey] = results_words[survey].apply(lambda x: re.sub(r'“', '', x) if pd.isna(x) == False else x)\n",
    "    results_words[survey] = results_words[survey].apply(lambda x: re.sub(r'”', '', x) if pd.isna(x) == False else x)\n",
    "    results_words[survey] = results_words[survey].apply(lambda x: re.sub(r'\\.', '', x) if pd.isna(x) == False else x)\n",
    "    results_words[survey] = results_words[survey].apply(lambda x: x.split(',') if pd.isna(x) == False else x)\n",
    "\n",
    "results_words = results_words.where(pd.notnull(results_words), None)"
   ]
  },
  {
   "cell_type": "code",
   "execution_count": 134,
   "metadata": {
    "scrolled": true
   },
   "outputs": [
    {
     "ename": "TypeError",
     "evalue": "'numpy.float64' object is not iterable",
     "output_type": "error",
     "traceback": [
      "\u001b[1;31m---------------------------------------------------------------------------\u001b[0m",
      "\u001b[1;31mTypeError\u001b[0m                                 Traceback (most recent call last)",
      "\u001b[1;32m~\\AppData\\Local\\Temp\\ipykernel_4992\\2932034094.py\u001b[0m in \u001b[0;36m<module>\u001b[1;34m\u001b[0m\n\u001b[0;32m      4\u001b[0m     \u001b[1;32mfor\u001b[0m \u001b[0msurvey\u001b[0m \u001b[1;32min\u001b[0m \u001b[0msurvey_codes\u001b[0m\u001b[1;33m:\u001b[0m \u001b[1;31m# iterate over columns to include each survey\u001b[0m\u001b[1;33m\u001b[0m\u001b[1;33m\u001b[0m\u001b[0m\n\u001b[0;32m      5\u001b[0m         \u001b[1;32mif\u001b[0m \u001b[0mresults_words\u001b[0m\u001b[1;33m[\u001b[0m\u001b[0msurvey\u001b[0m\u001b[1;33m]\u001b[0m\u001b[1;33m[\u001b[0m\u001b[0mind\u001b[0m\u001b[1;33m]\u001b[0m \u001b[1;33m!=\u001b[0m \u001b[1;32mNone\u001b[0m\u001b[1;33m:\u001b[0m\u001b[1;33m\u001b[0m\u001b[1;33m\u001b[0m\u001b[0m\n\u001b[1;32m----> 6\u001b[1;33m             \u001b[1;32mfor\u001b[0m \u001b[0mword\u001b[0m \u001b[1;32min\u001b[0m \u001b[0mresults_words\u001b[0m\u001b[1;33m[\u001b[0m\u001b[0msurvey\u001b[0m\u001b[1;33m]\u001b[0m\u001b[1;33m[\u001b[0m\u001b[0mind\u001b[0m\u001b[1;33m]\u001b[0m\u001b[1;33m:\u001b[0m\u001b[1;33m\u001b[0m\u001b[1;33m\u001b[0m\u001b[0m\n\u001b[0m\u001b[0;32m      7\u001b[0m                 \u001b[0mword_\u001b[0m \u001b[1;33m=\u001b[0m \u001b[0mword\u001b[0m\u001b[1;33m.\u001b[0m\u001b[0mstrip\u001b[0m\u001b[1;33m(\u001b[0m\u001b[1;33m)\u001b[0m \u001b[1;31m# remove whitespaces from the beginning and end\u001b[0m\u001b[1;33m\u001b[0m\u001b[1;33m\u001b[0m\u001b[0m\n\u001b[0;32m      8\u001b[0m                 \u001b[1;32mif\u001b[0m \u001b[0mword_\u001b[0m \u001b[1;32min\u001b[0m \u001b[0mresults_words\u001b[0m\u001b[1;33m[\u001b[0m\u001b[1;34m\"Words_freq\"\u001b[0m\u001b[1;33m]\u001b[0m\u001b[1;33m[\u001b[0m\u001b[0mind\u001b[0m\u001b[1;33m]\u001b[0m\u001b[1;33m:\u001b[0m\u001b[1;33m\u001b[0m\u001b[1;33m\u001b[0m\u001b[0m\n",
      "\u001b[1;31mTypeError\u001b[0m: 'numpy.float64' object is not iterable"
     ]
    }
   ],
   "source": [
    "results_words[\"Words_freq\"] = [{} for _ in range(len(results_words))]\n",
    "\n",
    "for ind in results_words.index: # iterate over each sentence\n",
    "    for survey in survey_codes: # iterate over columns to include each survey\n",
    "        if results_words[survey][ind] != None:\n",
    "            for word in results_words[survey][ind]:\n",
    "                word_ = word.strip() # remove whitespaces from the beginning and end\n",
    "                if word_ in results_words[\"Words_freq\"][ind]:\n",
    "                    results_words[\"Words_freq\"][ind][word_] += 1\n",
    "                else:\n",
    "                    results_words[\"Words_freq\"][ind][word_] = 1\n",
    "\n",
    "results_words = pd.merge(results_words, results_bias, left_index = True, right_index = True, how='left')\n",
    "\n",
    "results_words = results_words[[\"Words_freq\", \"Total_annotations\"]]\n",
    "results_words = results_words.reset_index()\n",
    "results_words.head(25)"
   ]
  },
  {
   "cell_type": "code",
   "execution_count": 135,
   "metadata": {},
   "outputs": [],
   "source": [
    "def update_annotations(d):\n",
    "    d_upd = {}\n",
    "    for p in d:\n",
    "        w_list = p.split(\" \")\n",
    "        for w in w_list:\n",
    "            if w in d_upd:\n",
    "                d_upd[w]+=d[p]\n",
    "            else:\n",
    "                d_upd[w]=d[p]\n",
    "    return(d_upd)\n",
    "\n",
    "results_words[\"biased_upd\"] = results_words.apply(lambda row: update_annotations(row['Words_freq']), axis=1)\n",
    "results_words['words_freq_manual'] = None\n",
    "\n",
    "# biased_words_analysis.to_excel(\"biased_words_analysis.xlsx\")"
   ]
  },
  {
   "attachments": {},
   "cell_type": "markdown",
   "metadata": {},
   "source": [
    "We manually go through all the sentences, correct mistakes in annotations, and decide on the reasonable threshold. Corrected annotations are in the column \"words_freq_manual\". The threshold is chosen to be 4."
   ]
  },
  {
   "attachments": {},
   "cell_type": "markdown",
   "metadata": {},
   "source": [
    "#### 1.3.2 Select only words highlighted at least 4 times"
   ]
  },
  {
   "cell_type": "code",
   "execution_count": 136,
   "metadata": {},
   "outputs": [],
   "source": [
    "# words selected more than 4 times\n",
    "def list_biased_words(dic):\n",
    "    biased = {k: v for k, v in dic.items() if v >= 4}\n",
    "    biased = list(biased.keys())\n",
    "    return(biased)"
   ]
  },
  {
   "cell_type": "code",
   "execution_count": 137,
   "metadata": {},
   "outputs": [
    {
     "data": {
      "text/html": [
       "<div>\n",
       "<style scoped>\n",
       "    .dataframe tbody tr th:only-of-type {\n",
       "        vertical-align: middle;\n",
       "    }\n",
       "\n",
       "    .dataframe tbody tr th {\n",
       "        vertical-align: top;\n",
       "    }\n",
       "\n",
       "    .dataframe thead th {\n",
       "        text-align: right;\n",
       "    }\n",
       "</style>\n",
       "<table border=\"1\" class=\"dataframe\">\n",
       "  <thead>\n",
       "    <tr style=\"text-align: right;\">\n",
       "      <th></th>\n",
       "      <th>text</th>\n",
       "      <th>Total_annotations</th>\n",
       "      <th>biased_words4</th>\n",
       "    </tr>\n",
       "  </thead>\n",
       "  <tbody>\n",
       "    <tr>\n",
       "      <th>0</th>\n",
       "      <td>Gautney consented to this field, job, and cit...</td>\n",
       "      <td>11</td>\n",
       "      <td>[bailed, unsuspecting]</td>\n",
       "    </tr>\n",
       "    <tr>\n",
       "      <th>1</th>\n",
       "      <td>Trade jobs such as electricians or carpenters...</td>\n",
       "      <td>10</td>\n",
       "      <td>[deter]</td>\n",
       "    </tr>\n",
       "    <tr>\n",
       "      <th>2</th>\n",
       "      <td>While conservatives may find comfort in the o...</td>\n",
       "      <td>10</td>\n",
       "      <td>[brain, statists]</td>\n",
       "    </tr>\n",
       "    <tr>\n",
       "      <th>3</th>\n",
       "      <td>\"Orange Is the New Black\" star Yael Stone is r...</td>\n",
       "      <td>12</td>\n",
       "      <td>[renouncing]</td>\n",
       "    </tr>\n",
       "    <tr>\n",
       "      <th>4</th>\n",
       "      <td>...immigrants as criminals and eugenics, all o...</td>\n",
       "      <td>10</td>\n",
       "      <td>[]</td>\n",
       "    </tr>\n",
       "    <tr>\n",
       "      <th>5</th>\n",
       "      <td>...we sounded the alarm in the early months of...</td>\n",
       "      <td>11</td>\n",
       "      <td>[alarm, inherently, threat]</td>\n",
       "    </tr>\n",
       "    <tr>\n",
       "      <th>6</th>\n",
       "      <td>A 10-hour hearing broadcast on the court’s web...</td>\n",
       "      <td>9</td>\n",
       "      <td>[evasive, greatest, ever]</td>\n",
       "    </tr>\n",
       "    <tr>\n",
       "      <th>7</th>\n",
       "      <td>A 60-foot chunk of the Ocean Cleanup device, d...</td>\n",
       "      <td>10</td>\n",
       "      <td>[fanfare]</td>\n",
       "    </tr>\n",
       "    <tr>\n",
       "      <th>8</th>\n",
       "      <td>A 70% majority of Americans view the economy a...</td>\n",
       "      <td>11</td>\n",
       "      <td>[unfairly]</td>\n",
       "    </tr>\n",
       "    <tr>\n",
       "      <th>9</th>\n",
       "      <td>A Catholic priest in Rhode Island who barred s...</td>\n",
       "      <td>12</td>\n",
       "      <td>[abortion, worse, than, pedophilia]</td>\n",
       "    </tr>\n",
       "  </tbody>\n",
       "</table>\n",
       "</div>"
      ],
      "text/plain": [
       "                                                text  Total_annotations  \\\n",
       "0   Gautney consented to this field, job, and cit...                 11   \n",
       "1   Trade jobs such as electricians or carpenters...                 10   \n",
       "2   While conservatives may find comfort in the o...                 10   \n",
       "3  \"Orange Is the New Black\" star Yael Stone is r...                 12   \n",
       "4  ...immigrants as criminals and eugenics, all o...                 10   \n",
       "5  ...we sounded the alarm in the early months of...                 11   \n",
       "6  A 10-hour hearing broadcast on the court’s web...                  9   \n",
       "7  A 60-foot chunk of the Ocean Cleanup device, d...                 10   \n",
       "8  A 70% majority of Americans view the economy a...                 11   \n",
       "9  A Catholic priest in Rhode Island who barred s...                 12   \n",
       "\n",
       "                         biased_words4  \n",
       "0               [bailed, unsuspecting]  \n",
       "1                              [deter]  \n",
       "2                    [brain, statists]  \n",
       "3                         [renouncing]  \n",
       "4                                   []  \n",
       "5          [alarm, inherently, threat]  \n",
       "6            [evasive, greatest, ever]  \n",
       "7                            [fanfare]  \n",
       "8                           [unfairly]  \n",
       "9  [abortion, worse, than, pedophilia]  "
      ]
     },
     "execution_count": 137,
     "metadata": {},
     "output_type": "execute_result"
    }
   ],
   "source": [
    "\n",
    "annotations_words = pd.read_excel(\"data/biased_words_analysis.xlsx\",engine='openpyxl')\n",
    "annotations_words['words_freq_manual_dic']=annotations_words['words_freq_manual'].apply(lambda s: ast.literal_eval(s))\n",
    "annotations_words['biased_words4'] = annotations_words.apply(lambda row: list_biased_words(row['words_freq_manual_dic']), axis=1)\n",
    "annotations_biased_words = annotations_words[['text','Total_annotations','biased_words4']]\n",
    "annotations_biased_words.head(10)"
   ]
  },
  {
   "attachments": {},
   "cell_type": "markdown",
   "metadata": {},
   "source": [
    "### 1.4 Final labeled sentences"
   ]
  },
  {
   "cell_type": "code",
   "execution_count": 138,
   "metadata": {},
   "outputs": [],
   "source": [
    "# download articles\n",
    "# articles = all_sentences.replace({np.nan: None})\n",
    "# articles['article'] = None\n",
    "\n",
    "# for index, row in articles.iterrows():\n",
    "#     if row['news_link'] != None:\n",
    "#         try:\n",
    "#             print(index)\n",
    "#             articles.at[index,'article'] = NewsPlease.from_url(row['news_link']).maintext\n",
    "#         except:\n",
    "#             print(index, \"An exception occurred\")\n",
    "            \n",
    "# articles = articles[['sentence','article']]\n",
    "\n",
    "# articles.to_excel(\"articles.xlsx\")"
   ]
  },
  {
   "cell_type": "code",
   "execution_count": 139,
   "metadata": {},
   "outputs": [],
   "source": [
    "\n",
    "all_articles = pd.read_excel(\"data/articles.xlsx\",engine='openpyxl')"
   ]
  },
  {
   "cell_type": "code",
   "execution_count": 140,
   "metadata": {},
   "outputs": [
    {
     "name": "stdout",
     "output_type": "stream",
     "text": [
      "len: 1700\n",
      "Is there missing values? True\n",
      "Number of missing values:\n",
      " sentence            0\n",
      "news_link           0\n",
      "outlet              0\n",
      "topic               0\n",
      "type                0\n",
      "group_id            0\n",
      "num_sent            0\n",
      "Label_bias       1619\n",
      "Label_opinion    1619\n",
      "biased_words4       0\n",
      "article           100\n",
      "dtype: int64\n"
     ]
    }
   ],
   "source": [
    "labeled_sentences = pd.merge(all_sentences, results_bias,\n",
    "                           left_on = 'sentence', right_index = True,\n",
    "                           how='left')\n",
    "labeled_sentences = pd.merge(labeled_sentences, results_opin,\n",
    "                           left_on = 'sentence', right_index = True,\n",
    "                           how='left')\n",
    "labeled_sentences = pd.merge(labeled_sentences, annotations_biased_words,\n",
    "                           left_on = 'sentence', right_on = 'text',\n",
    "                           how='left')\n",
    "labeled_sentences = pd.merge(labeled_sentences, all_articles,\n",
    "                           left_on = 'sentence', right_on = 'sentence',\n",
    "                           how='left')\n",
    "labeled_sentences = labeled_sentences[['sentence',\n",
    " 'news_link',\n",
    " 'outlet',\n",
    " 'topic',\n",
    " 'type',\n",
    " 'group_id',\n",
    " 'num_sent',\n",
    " 'Label_bias',\n",
    " 'Label_opinion',\n",
    " 'biased_words4',\n",
    " 'article']]\n",
    "\n",
    "print('len:', len(labeled_sentences))\n",
    "print('Is there missing values?', labeled_sentences.isnull().values.any())\n",
    "print('Number of missing values:\\n', labeled_sentences.isnull().sum())"
   ]
  },
  {
   "cell_type": "code",
   "execution_count": 141,
   "metadata": {},
   "outputs": [
    {
     "data": {
      "text/html": [
       "<div>\n",
       "<style scoped>\n",
       "    .dataframe tbody tr th:only-of-type {\n",
       "        vertical-align: middle;\n",
       "    }\n",
       "\n",
       "    .dataframe tbody tr th {\n",
       "        vertical-align: top;\n",
       "    }\n",
       "\n",
       "    .dataframe thead th {\n",
       "        text-align: right;\n",
       "    }\n",
       "</style>\n",
       "<table border=\"1\" class=\"dataframe\">\n",
       "  <thead>\n",
       "    <tr style=\"text-align: right;\">\n",
       "      <th></th>\n",
       "      <th>sentence</th>\n",
       "      <th>news_link</th>\n",
       "      <th>outlet</th>\n",
       "      <th>topic</th>\n",
       "      <th>type</th>\n",
       "      <th>group_id</th>\n",
       "      <th>num_sent</th>\n",
       "      <th>Label_bias</th>\n",
       "      <th>Label_opinion</th>\n",
       "      <th>biased_words4</th>\n",
       "      <th>article</th>\n",
       "    </tr>\n",
       "  </thead>\n",
       "  <tbody>\n",
       "    <tr>\n",
       "      <th>0</th>\n",
       "      <td>YouTube is making clear there will be no “birt...</td>\n",
       "      <td>https://eu.usatoday.com/story/tech/2020/02/03/...</td>\n",
       "      <td>usa-today</td>\n",
       "      <td>elections-2020</td>\n",
       "      <td>center</td>\n",
       "      <td>1</td>\n",
       "      <td>1</td>\n",
       "      <td>NaN</td>\n",
       "      <td>NaN</td>\n",
       "      <td>[belated, birtherism]</td>\n",
       "      <td>YouTube says no ‘deepfakes’ or ‘birther’ video...</td>\n",
       "    </tr>\n",
       "    <tr>\n",
       "      <th>1</th>\n",
       "      <td>The increasingly bitter dispute between Americ...</td>\n",
       "      <td>https://www.nbcnews.com/news/sports/women-s-te...</td>\n",
       "      <td>msnbc</td>\n",
       "      <td>sport</td>\n",
       "      <td>left</td>\n",
       "      <td>1</td>\n",
       "      <td>1</td>\n",
       "      <td>NaN</td>\n",
       "      <td>NaN</td>\n",
       "      <td>[bitter]</td>\n",
       "      <td>FRISCO, Texas — The increasingly bitter disput...</td>\n",
       "    </tr>\n",
       "    <tr>\n",
       "      <th>2</th>\n",
       "      <td>So while there may be a humanitarian crisis dr...</td>\n",
       "      <td>https://www.alternet.org/2019/01/here-are-5-of...</td>\n",
       "      <td>alternet</td>\n",
       "      <td>immigration</td>\n",
       "      <td>left</td>\n",
       "      <td>1</td>\n",
       "      <td>1</td>\n",
       "      <td>NaN</td>\n",
       "      <td>NaN</td>\n",
       "      <td>[crisis]</td>\n",
       "      <td>Speaking to the country for the first time fro...</td>\n",
       "    </tr>\n",
       "  </tbody>\n",
       "</table>\n",
       "</div>"
      ],
      "text/plain": [
       "                                            sentence  \\\n",
       "0  YouTube is making clear there will be no “birt...   \n",
       "1  The increasingly bitter dispute between Americ...   \n",
       "2  So while there may be a humanitarian crisis dr...   \n",
       "\n",
       "                                           news_link     outlet  \\\n",
       "0  https://eu.usatoday.com/story/tech/2020/02/03/...  usa-today   \n",
       "1  https://www.nbcnews.com/news/sports/women-s-te...      msnbc   \n",
       "2  https://www.alternet.org/2019/01/here-are-5-of...   alternet   \n",
       "\n",
       "            topic    type  group_id  num_sent Label_bias Label_opinion  \\\n",
       "0  elections-2020  center         1         1        NaN           NaN   \n",
       "1           sport    left         1         1        NaN           NaN   \n",
       "2     immigration    left         1         1        NaN           NaN   \n",
       "\n",
       "           biased_words4                                            article  \n",
       "0  [belated, birtherism]  YouTube says no ‘deepfakes’ or ‘birther’ video...  \n",
       "1               [bitter]  FRISCO, Texas — The increasingly bitter disput...  \n",
       "2               [crisis]  Speaking to the country for the first time fro...  "
      ]
     },
     "execution_count": 141,
     "metadata": {},
     "output_type": "execute_result"
    }
   ],
   "source": [
    "labeled_sentences.head(3)"
   ]
  },
  {
   "cell_type": "code",
   "execution_count": null,
   "metadata": {
    "scrolled": true
   },
   "outputs": [],
   "source": [
    "\n",
    "# labeled_sentences.to_excel('labeled_dataset.xlsx')"
   ]
  },
  {
   "attachments": {},
   "cell_type": "markdown",
   "metadata": {},
   "source": [
    "## 2 Descriptive statistics"
   ]
  },
  {
   "attachments": {},
   "cell_type": "markdown",
   "metadata": {},
   "source": [
    "### 2.1 Dataset exploration"
   ]
  },
  {
   "cell_type": "code",
   "execution_count": 142,
   "metadata": {},
   "outputs": [],
   "source": [
    "\n",
    "sentences = pd.read_excel('data/labeled_dataset.xlsx',engine='openpyxl')"
   ]
  },
  {
   "cell_type": "code",
   "execution_count": 143,
   "metadata": {},
   "outputs": [
    {
     "data": {
      "text/html": [
       "<div>\n",
       "<style scoped>\n",
       "    .dataframe tbody tr th:only-of-type {\n",
       "        vertical-align: middle;\n",
       "    }\n",
       "\n",
       "    .dataframe tbody tr th {\n",
       "        vertical-align: top;\n",
       "    }\n",
       "\n",
       "    .dataframe thead th {\n",
       "        text-align: right;\n",
       "    }\n",
       "</style>\n",
       "<table border=\"1\" class=\"dataframe\">\n",
       "  <thead>\n",
       "    <tr style=\"text-align: right;\">\n",
       "      <th></th>\n",
       "      <th>Unnamed: 0</th>\n",
       "      <th>sentence</th>\n",
       "      <th>news_link</th>\n",
       "      <th>outlet</th>\n",
       "      <th>topic</th>\n",
       "      <th>type</th>\n",
       "      <th>group_id</th>\n",
       "      <th>num_sent</th>\n",
       "      <th>Label_bias</th>\n",
       "      <th>Label_opinion</th>\n",
       "      <th>article</th>\n",
       "      <th>biased_words4</th>\n",
       "    </tr>\n",
       "  </thead>\n",
       "  <tbody>\n",
       "    <tr>\n",
       "      <th>0</th>\n",
       "      <td>0</td>\n",
       "      <td>YouTube is making clear there will be no “birt...</td>\n",
       "      <td>https://eu.usatoday.com/story/tech/2020/02/03/...</td>\n",
       "      <td>usa-today</td>\n",
       "      <td>elections-2020</td>\n",
       "      <td>center</td>\n",
       "      <td>1</td>\n",
       "      <td>1</td>\n",
       "      <td>Biased</td>\n",
       "      <td>Somewhat factual but also opinionated</td>\n",
       "      <td>YouTube says no ‘deepfakes’ or ‘birther’ video...</td>\n",
       "      <td>['belated', 'birtherism']</td>\n",
       "    </tr>\n",
       "    <tr>\n",
       "      <th>1</th>\n",
       "      <td>1</td>\n",
       "      <td>The increasingly bitter dispute between Americ...</td>\n",
       "      <td>https://www.nbcnews.com/news/sports/women-s-te...</td>\n",
       "      <td>msnbc</td>\n",
       "      <td>sport</td>\n",
       "      <td>left</td>\n",
       "      <td>1</td>\n",
       "      <td>1</td>\n",
       "      <td>Non-biased</td>\n",
       "      <td>Entirely factual</td>\n",
       "      <td>FRISCO, Texas — The increasingly bitter disput...</td>\n",
       "      <td>['bitter']</td>\n",
       "    </tr>\n",
       "    <tr>\n",
       "      <th>2</th>\n",
       "      <td>2</td>\n",
       "      <td>So while there may be a humanitarian crisis dr...</td>\n",
       "      <td>https://www.alternet.org/2019/01/here-are-5-of...</td>\n",
       "      <td>alternet</td>\n",
       "      <td>immigration</td>\n",
       "      <td>left</td>\n",
       "      <td>1</td>\n",
       "      <td>1</td>\n",
       "      <td>Biased</td>\n",
       "      <td>Expresses writer’s opinion</td>\n",
       "      <td>Speaking to the country for the first time fro...</td>\n",
       "      <td>['crisis']</td>\n",
       "    </tr>\n",
       "  </tbody>\n",
       "</table>\n",
       "</div>"
      ],
      "text/plain": [
       "   Unnamed: 0                                           sentence  \\\n",
       "0           0  YouTube is making clear there will be no “birt...   \n",
       "1           1  The increasingly bitter dispute between Americ...   \n",
       "2           2  So while there may be a humanitarian crisis dr...   \n",
       "\n",
       "                                           news_link     outlet  \\\n",
       "0  https://eu.usatoday.com/story/tech/2020/02/03/...  usa-today   \n",
       "1  https://www.nbcnews.com/news/sports/women-s-te...      msnbc   \n",
       "2  https://www.alternet.org/2019/01/here-are-5-of...   alternet   \n",
       "\n",
       "            topic    type  group_id  num_sent  Label_bias  \\\n",
       "0  elections-2020  center         1         1      Biased   \n",
       "1           sport    left         1         1  Non-biased   \n",
       "2     immigration    left         1         1      Biased   \n",
       "\n",
       "                           Label_opinion  \\\n",
       "0  Somewhat factual but also opinionated   \n",
       "1                       Entirely factual   \n",
       "2             Expresses writer’s opinion   \n",
       "\n",
       "                                             article  \\\n",
       "0  YouTube says no ‘deepfakes’ or ‘birther’ video...   \n",
       "1  FRISCO, Texas — The increasingly bitter disput...   \n",
       "2  Speaking to the country for the first time fro...   \n",
       "\n",
       "               biased_words4  \n",
       "0  ['belated', 'birtherism']  \n",
       "1                 ['bitter']  \n",
       "2                 ['crisis']  "
      ]
     },
     "execution_count": 143,
     "metadata": {},
     "output_type": "execute_result"
    }
   ],
   "source": [
    "sentences.head(3)"
   ]
  },
  {
   "cell_type": "code",
   "execution_count": 144,
   "metadata": {},
   "outputs": [
    {
     "data": {
      "text/html": [
       "<div>\n",
       "<style scoped>\n",
       "    .dataframe tbody tr th:only-of-type {\n",
       "        vertical-align: middle;\n",
       "    }\n",
       "\n",
       "    .dataframe tbody tr th {\n",
       "        vertical-align: top;\n",
       "    }\n",
       "\n",
       "    .dataframe thead th {\n",
       "        text-align: right;\n",
       "    }\n",
       "</style>\n",
       "<table border=\"1\" class=\"dataframe\">\n",
       "  <thead>\n",
       "    <tr style=\"text-align: right;\">\n",
       "      <th></th>\n",
       "      <th>type</th>\n",
       "      <th>outlet</th>\n",
       "      <th>num_sentences</th>\n",
       "    </tr>\n",
       "  </thead>\n",
       "  <tbody>\n",
       "    <tr>\n",
       "      <th>0</th>\n",
       "      <td>center</td>\n",
       "      <td>reuters</td>\n",
       "      <td>158</td>\n",
       "    </tr>\n",
       "    <tr>\n",
       "      <th>1</th>\n",
       "      <td>center</td>\n",
       "      <td>usa-today</td>\n",
       "      <td>157</td>\n",
       "    </tr>\n",
       "    <tr>\n",
       "      <th>2</th>\n",
       "      <td>left</td>\n",
       "      <td>alternet</td>\n",
       "      <td>338</td>\n",
       "    </tr>\n",
       "    <tr>\n",
       "      <th>3</th>\n",
       "      <td>left</td>\n",
       "      <td>huffpost</td>\n",
       "      <td>114</td>\n",
       "    </tr>\n",
       "    <tr>\n",
       "      <th>4</th>\n",
       "      <td>left</td>\n",
       "      <td>msnbc</td>\n",
       "      <td>242</td>\n",
       "    </tr>\n",
       "    <tr>\n",
       "      <th>5</th>\n",
       "      <td>right</td>\n",
       "      <td>breitbart</td>\n",
       "      <td>377</td>\n",
       "    </tr>\n",
       "    <tr>\n",
       "      <th>6</th>\n",
       "      <td>right</td>\n",
       "      <td>federalist</td>\n",
       "      <td>203</td>\n",
       "    </tr>\n",
       "    <tr>\n",
       "      <th>7</th>\n",
       "      <td>right</td>\n",
       "      <td>fox-news</td>\n",
       "      <td>111</td>\n",
       "    </tr>\n",
       "  </tbody>\n",
       "</table>\n",
       "</div>"
      ],
      "text/plain": [
       "     type      outlet  num_sentences\n",
       "0  center     reuters            158\n",
       "1  center   usa-today            157\n",
       "2    left    alternet            338\n",
       "3    left    huffpost            114\n",
       "4    left       msnbc            242\n",
       "5   right   breitbart            377\n",
       "6   right  federalist            203\n",
       "7   right    fox-news            111"
      ]
     },
     "execution_count": 144,
     "metadata": {},
     "output_type": "execute_result"
    }
   ],
   "source": [
    "# outlets\n",
    "types_outlets = sentences.groupby(['type','outlet'])[['sentence']].count()\n",
    "types_outlets = types_outlets.reset_index()\n",
    "types_outlets = types_outlets.rename(columns={\"sentence\": \"num_sentences\"})\n",
    "types_outlets"
   ]
  },
  {
   "cell_type": "code",
   "execution_count": 148,
   "metadata": {},
   "outputs": [
    {
     "data": {
      "application/vnd.plotly.v1+json": {
       "config": {
        "plotlyServerURL": "https://plot.ly"
       },
       "data": [
        {
         "branchvalues": "total",
         "customdata": [
          [
           "left"
          ],
          [
           "right"
          ],
          [
           "right"
          ],
          [
           "right"
          ],
          [
           "left"
          ],
          [
           "left"
          ],
          [
           "center"
          ],
          [
           "center"
          ],
          [
           "center"
          ],
          [
           "left"
          ],
          [
           "right"
          ]
         ],
         "domain": {
          "x": [
           0,
           1
          ],
          "y": [
           0,
           1
          ]
         },
         "hovertemplate": "labels=%{label}<br>num_sentences=%{value}<br>parent=%{parent}<br>id=%{id}<br>type=%{customdata[0]}<extra></extra>",
         "ids": [
          "left/alternet",
          "right/breitbart",
          "right/federalist",
          "right/fox-news",
          "left/huffpost",
          "left/msnbc",
          "center/reuters",
          "center/usa-today",
          "center",
          "left",
          "right"
         ],
         "labels": [
          "alternet",
          "breitbart",
          "federalist",
          "fox-news",
          "huffpost",
          "msnbc",
          "reuters",
          "usa-today",
          "center",
          "left",
          "right"
         ],
         "marker": {
          "colors": [
           "steelblue",
           "indianred",
           "indianred",
           "indianred",
           "steelblue",
           "steelblue",
           "thistle",
           "thistle",
           "thistle",
           "steelblue",
           "indianred"
          ]
         },
         "name": "",
         "parents": [
          "left",
          "right",
          "right",
          "right",
          "left",
          "left",
          "center",
          "center",
          "",
          "",
          ""
         ],
         "textfont": {
          "size": 20
         },
         "type": "sunburst",
         "values": [
          338,
          377,
          203,
          111,
          114,
          242,
          158,
          157,
          315,
          694,
          691
         ]
        }
       ],
       "layout": {
        "legend": {
         "tracegroupgap": 0
        },
        "margin": {
         "t": 60
        },
        "template": {
         "data": {
          "bar": [
           {
            "error_x": {
             "color": "#2a3f5f"
            },
            "error_y": {
             "color": "#2a3f5f"
            },
            "marker": {
             "line": {
              "color": "#E5ECF6",
              "width": 0.5
             },
             "pattern": {
              "fillmode": "overlay",
              "size": 10,
              "solidity": 0.2
             }
            },
            "type": "bar"
           }
          ],
          "barpolar": [
           {
            "marker": {
             "line": {
              "color": "#E5ECF6",
              "width": 0.5
             },
             "pattern": {
              "fillmode": "overlay",
              "size": 10,
              "solidity": 0.2
             }
            },
            "type": "barpolar"
           }
          ],
          "carpet": [
           {
            "aaxis": {
             "endlinecolor": "#2a3f5f",
             "gridcolor": "white",
             "linecolor": "white",
             "minorgridcolor": "white",
             "startlinecolor": "#2a3f5f"
            },
            "baxis": {
             "endlinecolor": "#2a3f5f",
             "gridcolor": "white",
             "linecolor": "white",
             "minorgridcolor": "white",
             "startlinecolor": "#2a3f5f"
            },
            "type": "carpet"
           }
          ],
          "choropleth": [
           {
            "colorbar": {
             "outlinewidth": 0,
             "ticks": ""
            },
            "type": "choropleth"
           }
          ],
          "contour": [
           {
            "colorbar": {
             "outlinewidth": 0,
             "ticks": ""
            },
            "colorscale": [
             [
              0,
              "#0d0887"
             ],
             [
              0.1111111111111111,
              "#46039f"
             ],
             [
              0.2222222222222222,
              "#7201a8"
             ],
             [
              0.3333333333333333,
              "#9c179e"
             ],
             [
              0.4444444444444444,
              "#bd3786"
             ],
             [
              0.5555555555555556,
              "#d8576b"
             ],
             [
              0.6666666666666666,
              "#ed7953"
             ],
             [
              0.7777777777777778,
              "#fb9f3a"
             ],
             [
              0.8888888888888888,
              "#fdca26"
             ],
             [
              1,
              "#f0f921"
             ]
            ],
            "type": "contour"
           }
          ],
          "contourcarpet": [
           {
            "colorbar": {
             "outlinewidth": 0,
             "ticks": ""
            },
            "type": "contourcarpet"
           }
          ],
          "heatmap": [
           {
            "colorbar": {
             "outlinewidth": 0,
             "ticks": ""
            },
            "colorscale": [
             [
              0,
              "#0d0887"
             ],
             [
              0.1111111111111111,
              "#46039f"
             ],
             [
              0.2222222222222222,
              "#7201a8"
             ],
             [
              0.3333333333333333,
              "#9c179e"
             ],
             [
              0.4444444444444444,
              "#bd3786"
             ],
             [
              0.5555555555555556,
              "#d8576b"
             ],
             [
              0.6666666666666666,
              "#ed7953"
             ],
             [
              0.7777777777777778,
              "#fb9f3a"
             ],
             [
              0.8888888888888888,
              "#fdca26"
             ],
             [
              1,
              "#f0f921"
             ]
            ],
            "type": "heatmap"
           }
          ],
          "heatmapgl": [
           {
            "colorbar": {
             "outlinewidth": 0,
             "ticks": ""
            },
            "colorscale": [
             [
              0,
              "#0d0887"
             ],
             [
              0.1111111111111111,
              "#46039f"
             ],
             [
              0.2222222222222222,
              "#7201a8"
             ],
             [
              0.3333333333333333,
              "#9c179e"
             ],
             [
              0.4444444444444444,
              "#bd3786"
             ],
             [
              0.5555555555555556,
              "#d8576b"
             ],
             [
              0.6666666666666666,
              "#ed7953"
             ],
             [
              0.7777777777777778,
              "#fb9f3a"
             ],
             [
              0.8888888888888888,
              "#fdca26"
             ],
             [
              1,
              "#f0f921"
             ]
            ],
            "type": "heatmapgl"
           }
          ],
          "histogram": [
           {
            "marker": {
             "pattern": {
              "fillmode": "overlay",
              "size": 10,
              "solidity": 0.2
             }
            },
            "type": "histogram"
           }
          ],
          "histogram2d": [
           {
            "colorbar": {
             "outlinewidth": 0,
             "ticks": ""
            },
            "colorscale": [
             [
              0,
              "#0d0887"
             ],
             [
              0.1111111111111111,
              "#46039f"
             ],
             [
              0.2222222222222222,
              "#7201a8"
             ],
             [
              0.3333333333333333,
              "#9c179e"
             ],
             [
              0.4444444444444444,
              "#bd3786"
             ],
             [
              0.5555555555555556,
              "#d8576b"
             ],
             [
              0.6666666666666666,
              "#ed7953"
             ],
             [
              0.7777777777777778,
              "#fb9f3a"
             ],
             [
              0.8888888888888888,
              "#fdca26"
             ],
             [
              1,
              "#f0f921"
             ]
            ],
            "type": "histogram2d"
           }
          ],
          "histogram2dcontour": [
           {
            "colorbar": {
             "outlinewidth": 0,
             "ticks": ""
            },
            "colorscale": [
             [
              0,
              "#0d0887"
             ],
             [
              0.1111111111111111,
              "#46039f"
             ],
             [
              0.2222222222222222,
              "#7201a8"
             ],
             [
              0.3333333333333333,
              "#9c179e"
             ],
             [
              0.4444444444444444,
              "#bd3786"
             ],
             [
              0.5555555555555556,
              "#d8576b"
             ],
             [
              0.6666666666666666,
              "#ed7953"
             ],
             [
              0.7777777777777778,
              "#fb9f3a"
             ],
             [
              0.8888888888888888,
              "#fdca26"
             ],
             [
              1,
              "#f0f921"
             ]
            ],
            "type": "histogram2dcontour"
           }
          ],
          "mesh3d": [
           {
            "colorbar": {
             "outlinewidth": 0,
             "ticks": ""
            },
            "type": "mesh3d"
           }
          ],
          "parcoords": [
           {
            "line": {
             "colorbar": {
              "outlinewidth": 0,
              "ticks": ""
             }
            },
            "type": "parcoords"
           }
          ],
          "pie": [
           {
            "automargin": true,
            "type": "pie"
           }
          ],
          "scatter": [
           {
            "fillpattern": {
             "fillmode": "overlay",
             "size": 10,
             "solidity": 0.2
            },
            "type": "scatter"
           }
          ],
          "scatter3d": [
           {
            "line": {
             "colorbar": {
              "outlinewidth": 0,
              "ticks": ""
             }
            },
            "marker": {
             "colorbar": {
              "outlinewidth": 0,
              "ticks": ""
             }
            },
            "type": "scatter3d"
           }
          ],
          "scattercarpet": [
           {
            "marker": {
             "colorbar": {
              "outlinewidth": 0,
              "ticks": ""
             }
            },
            "type": "scattercarpet"
           }
          ],
          "scattergeo": [
           {
            "marker": {
             "colorbar": {
              "outlinewidth": 0,
              "ticks": ""
             }
            },
            "type": "scattergeo"
           }
          ],
          "scattergl": [
           {
            "marker": {
             "colorbar": {
              "outlinewidth": 0,
              "ticks": ""
             }
            },
            "type": "scattergl"
           }
          ],
          "scattermapbox": [
           {
            "marker": {
             "colorbar": {
              "outlinewidth": 0,
              "ticks": ""
             }
            },
            "type": "scattermapbox"
           }
          ],
          "scatterpolar": [
           {
            "marker": {
             "colorbar": {
              "outlinewidth": 0,
              "ticks": ""
             }
            },
            "type": "scatterpolar"
           }
          ],
          "scatterpolargl": [
           {
            "marker": {
             "colorbar": {
              "outlinewidth": 0,
              "ticks": ""
             }
            },
            "type": "scatterpolargl"
           }
          ],
          "scatterternary": [
           {
            "marker": {
             "colorbar": {
              "outlinewidth": 0,
              "ticks": ""
             }
            },
            "type": "scatterternary"
           }
          ],
          "surface": [
           {
            "colorbar": {
             "outlinewidth": 0,
             "ticks": ""
            },
            "colorscale": [
             [
              0,
              "#0d0887"
             ],
             [
              0.1111111111111111,
              "#46039f"
             ],
             [
              0.2222222222222222,
              "#7201a8"
             ],
             [
              0.3333333333333333,
              "#9c179e"
             ],
             [
              0.4444444444444444,
              "#bd3786"
             ],
             [
              0.5555555555555556,
              "#d8576b"
             ],
             [
              0.6666666666666666,
              "#ed7953"
             ],
             [
              0.7777777777777778,
              "#fb9f3a"
             ],
             [
              0.8888888888888888,
              "#fdca26"
             ],
             [
              1,
              "#f0f921"
             ]
            ],
            "type": "surface"
           }
          ],
          "table": [
           {
            "cells": {
             "fill": {
              "color": "#EBF0F8"
             },
             "line": {
              "color": "white"
             }
            },
            "header": {
             "fill": {
              "color": "#C8D4E3"
             },
             "line": {
              "color": "white"
             }
            },
            "type": "table"
           }
          ]
         },
         "layout": {
          "annotationdefaults": {
           "arrowcolor": "#2a3f5f",
           "arrowhead": 0,
           "arrowwidth": 1
          },
          "autotypenumbers": "strict",
          "coloraxis": {
           "colorbar": {
            "outlinewidth": 0,
            "ticks": ""
           }
          },
          "colorscale": {
           "diverging": [
            [
             0,
             "#8e0152"
            ],
            [
             0.1,
             "#c51b7d"
            ],
            [
             0.2,
             "#de77ae"
            ],
            [
             0.3,
             "#f1b6da"
            ],
            [
             0.4,
             "#fde0ef"
            ],
            [
             0.5,
             "#f7f7f7"
            ],
            [
             0.6,
             "#e6f5d0"
            ],
            [
             0.7,
             "#b8e186"
            ],
            [
             0.8,
             "#7fbc41"
            ],
            [
             0.9,
             "#4d9221"
            ],
            [
             1,
             "#276419"
            ]
           ],
           "sequential": [
            [
             0,
             "#0d0887"
            ],
            [
             0.1111111111111111,
             "#46039f"
            ],
            [
             0.2222222222222222,
             "#7201a8"
            ],
            [
             0.3333333333333333,
             "#9c179e"
            ],
            [
             0.4444444444444444,
             "#bd3786"
            ],
            [
             0.5555555555555556,
             "#d8576b"
            ],
            [
             0.6666666666666666,
             "#ed7953"
            ],
            [
             0.7777777777777778,
             "#fb9f3a"
            ],
            [
             0.8888888888888888,
             "#fdca26"
            ],
            [
             1,
             "#f0f921"
            ]
           ],
           "sequentialminus": [
            [
             0,
             "#0d0887"
            ],
            [
             0.1111111111111111,
             "#46039f"
            ],
            [
             0.2222222222222222,
             "#7201a8"
            ],
            [
             0.3333333333333333,
             "#9c179e"
            ],
            [
             0.4444444444444444,
             "#bd3786"
            ],
            [
             0.5555555555555556,
             "#d8576b"
            ],
            [
             0.6666666666666666,
             "#ed7953"
            ],
            [
             0.7777777777777778,
             "#fb9f3a"
            ],
            [
             0.8888888888888888,
             "#fdca26"
            ],
            [
             1,
             "#f0f921"
            ]
           ]
          },
          "colorway": [
           "#636efa",
           "#EF553B",
           "#00cc96",
           "#ab63fa",
           "#FFA15A",
           "#19d3f3",
           "#FF6692",
           "#B6E880",
           "#FF97FF",
           "#FECB52"
          ],
          "font": {
           "color": "#2a3f5f"
          },
          "geo": {
           "bgcolor": "white",
           "lakecolor": "white",
           "landcolor": "#E5ECF6",
           "showlakes": true,
           "showland": true,
           "subunitcolor": "white"
          },
          "hoverlabel": {
           "align": "left"
          },
          "hovermode": "closest",
          "mapbox": {
           "style": "light"
          },
          "paper_bgcolor": "white",
          "plot_bgcolor": "#E5ECF6",
          "polar": {
           "angularaxis": {
            "gridcolor": "white",
            "linecolor": "white",
            "ticks": ""
           },
           "bgcolor": "#E5ECF6",
           "radialaxis": {
            "gridcolor": "white",
            "linecolor": "white",
            "ticks": ""
           }
          },
          "scene": {
           "xaxis": {
            "backgroundcolor": "#E5ECF6",
            "gridcolor": "white",
            "gridwidth": 2,
            "linecolor": "white",
            "showbackground": true,
            "ticks": "",
            "zerolinecolor": "white"
           },
           "yaxis": {
            "backgroundcolor": "#E5ECF6",
            "gridcolor": "white",
            "gridwidth": 2,
            "linecolor": "white",
            "showbackground": true,
            "ticks": "",
            "zerolinecolor": "white"
           },
           "zaxis": {
            "backgroundcolor": "#E5ECF6",
            "gridcolor": "white",
            "gridwidth": 2,
            "linecolor": "white",
            "showbackground": true,
            "ticks": "",
            "zerolinecolor": "white"
           }
          },
          "shapedefaults": {
           "line": {
            "color": "#2a3f5f"
           }
          },
          "ternary": {
           "aaxis": {
            "gridcolor": "white",
            "linecolor": "white",
            "ticks": ""
           },
           "baxis": {
            "gridcolor": "white",
            "linecolor": "white",
            "ticks": ""
           },
           "bgcolor": "#E5ECF6",
           "caxis": {
            "gridcolor": "white",
            "linecolor": "white",
            "ticks": ""
           }
          },
          "title": {
           "x": 0.05
          },
          "xaxis": {
           "automargin": true,
           "gridcolor": "white",
           "linecolor": "white",
           "ticks": "",
           "title": {
            "standoff": 15
           },
           "zerolinecolor": "white",
           "zerolinewidth": 2
          },
          "yaxis": {
           "automargin": true,
           "gridcolor": "white",
           "linecolor": "white",
           "ticks": "",
           "title": {
            "standoff": 15
           },
           "zerolinecolor": "white",
           "zerolinewidth": 2
          }
         }
        }
       }
      }
     },
     "metadata": {},
     "output_type": "display_data"
    }
   ],
   "source": [
    "fig = px.sunburst(data_frame = types_outlets,\n",
    "                  path = ['type', 'outlet'],\n",
    "                  values = 'num_sentences',\n",
    "                  color='type',\n",
    "                  color_discrete_map={'center':'thistle', 'left':'steelblue','right':'indianred'})\n",
    "fig.update_traces(textfont_size=20)\n",
    "fig.show()"
   ]
  },
  {
   "cell_type": "code",
   "execution_count": 149,
   "metadata": {},
   "outputs": [
    {
     "data": {
      "text/html": [
       "<div>\n",
       "<style scoped>\n",
       "    .dataframe tbody tr th:only-of-type {\n",
       "        vertical-align: middle;\n",
       "    }\n",
       "\n",
       "    .dataframe tbody tr th {\n",
       "        vertical-align: top;\n",
       "    }\n",
       "\n",
       "    .dataframe thead th {\n",
       "        text-align: right;\n",
       "    }\n",
       "</style>\n",
       "<table border=\"1\" class=\"dataframe\">\n",
       "  <thead>\n",
       "    <tr style=\"text-align: right;\">\n",
       "      <th></th>\n",
       "      <th>topic</th>\n",
       "      <th>num_sentences</th>\n",
       "    </tr>\n",
       "  </thead>\n",
       "  <tbody>\n",
       "    <tr>\n",
       "      <th>0</th>\n",
       "      <td>abortion</td>\n",
       "      <td>126</td>\n",
       "    </tr>\n",
       "    <tr>\n",
       "      <th>1</th>\n",
       "      <td>coronavirus</td>\n",
       "      <td>122</td>\n",
       "    </tr>\n",
       "    <tr>\n",
       "      <th>2</th>\n",
       "      <td>elections-2020</td>\n",
       "      <td>111</td>\n",
       "    </tr>\n",
       "    <tr>\n",
       "      <th>3</th>\n",
       "      <td>environment</td>\n",
       "      <td>135</td>\n",
       "    </tr>\n",
       "    <tr>\n",
       "      <th>4</th>\n",
       "      <td>gender</td>\n",
       "      <td>128</td>\n",
       "    </tr>\n",
       "    <tr>\n",
       "      <th>5</th>\n",
       "      <td>gun-control</td>\n",
       "      <td>124</td>\n",
       "    </tr>\n",
       "    <tr>\n",
       "      <th>6</th>\n",
       "      <td>immigration</td>\n",
       "      <td>122</td>\n",
       "    </tr>\n",
       "    <tr>\n",
       "      <th>7</th>\n",
       "      <td>int.-politics-&amp;-world-news</td>\n",
       "      <td>88</td>\n",
       "    </tr>\n",
       "    <tr>\n",
       "      <th>8</th>\n",
       "      <td>middle-class</td>\n",
       "      <td>118</td>\n",
       "    </tr>\n",
       "    <tr>\n",
       "      <th>9</th>\n",
       "      <td>sport</td>\n",
       "      <td>126</td>\n",
       "    </tr>\n",
       "    <tr>\n",
       "      <th>10</th>\n",
       "      <td>student-debt</td>\n",
       "      <td>127</td>\n",
       "    </tr>\n",
       "    <tr>\n",
       "      <th>11</th>\n",
       "      <td>trump-presidency</td>\n",
       "      <td>120</td>\n",
       "    </tr>\n",
       "    <tr>\n",
       "      <th>12</th>\n",
       "      <td>vaccines</td>\n",
       "      <td>122</td>\n",
       "    </tr>\n",
       "    <tr>\n",
       "      <th>13</th>\n",
       "      <td>white-nationalism</td>\n",
       "      <td>131</td>\n",
       "    </tr>\n",
       "  </tbody>\n",
       "</table>\n",
       "</div>"
      ],
      "text/plain": [
       "                         topic  num_sentences\n",
       "0                     abortion            126\n",
       "1                  coronavirus            122\n",
       "2               elections-2020            111\n",
       "3                  environment            135\n",
       "4                       gender            128\n",
       "5                  gun-control            124\n",
       "6                  immigration            122\n",
       "7   int.-politics-&-world-news             88\n",
       "8                 middle-class            118\n",
       "9                        sport            126\n",
       "10                student-debt            127\n",
       "11            trump-presidency            120\n",
       "12                    vaccines            122\n",
       "13           white-nationalism            131"
      ]
     },
     "execution_count": 149,
     "metadata": {},
     "output_type": "execute_result"
    }
   ],
   "source": [
    "# topics\n",
    "topics = sentences.groupby(['topic'])[['sentence']].count()\n",
    "topics = topics.reset_index()\n",
    "topics = topics.rename(columns={\"sentence\": \"num_sentences\"})\n",
    "topics = topics.replace('international-politics-and-world-news', 'int.-politics-&-world-news')\n",
    "\n",
    "topics"
   ]
  },
  {
   "cell_type": "code",
   "execution_count": 150,
   "metadata": {},
   "outputs": [
    {
     "data": {
      "image/png": "[encoded data removed]",
      "text/plain": [
       "<Figure size 1000x700 with 1 Axes>"
      ]
     },
     "metadata": {},
     "output_type": "display_data"
    }
   ],
   "source": [
    "alphas = np.linspace(0.05, 0.95, 14)\n",
    "teal_rgba = np.array([np.array(list(colors.to_rgba('teal', alpha=None))),]*14)\n",
    "teal_rgba[:, 3] = alphas\n",
    "teal_rgba\n",
    "\n",
    "def my_autopct(pct):\n",
    "    return ('%.1f%%' % pct) if pct > 3 else ''\n",
    "\n",
    "fig1, ax1 = plt.subplots(figsize=(10,7))\n",
    "my_pie = ax1.pie(topics.num_sentences, labels=topics.topic,\n",
    "        startangle=90, textprops={'fontsize': 18}, #labeldistance=None,\n",
    "        autopct=my_autopct, pctdistance=0.8,\n",
    "       colors=teal_rgba)\n",
    "ax1.axis('equal')  # Equal aspect ratio ensures that pie is drawn as a circle.\n",
    "#ax1.legend(loc='upper right') #, bbox_to_anchor=(1.24, 0.95))\n",
    "\n",
    "for pie_wedge in my_pie[0]:\n",
    "    pie_wedge.set_edgecolor('white')\n",
    "\n",
    "plt.show()"
   ]
  },
  {
   "attachments": {},
   "cell_type": "markdown",
   "metadata": {},
   "source": [
    "### 2.2 Who are our annotators?"
   ]
  },
  {
   "cell_type": "code",
   "execution_count": 151,
   "metadata": {},
   "outputs": [
    {
     "name": "stdout",
     "output_type": "stream",
     "text": [
      "Total number of annotators: 20\n"
     ]
    }
   ],
   "source": [
    "\n",
    "all_annotators = pd.read_excel('data/annotators.xlsx',engine='openpyxl')\n",
    "\n",
    "#annotators = all_annotators[all_annotators.id.isin(set(annotations.survey_record_id))]\n",
    "annotators = all_annotators[all_annotators.id.isin(set(all_annotators.id))]\n",
    "\n",
    "annotators = annotators.drop_duplicates(subset=['mturk_id'])\n",
    "annotators['political_ideology_lcr'] = annotators['political_ideology'].apply(lambda x: \"left\" if x < -3\n",
    "                                                                                else (\"right\" if x > 3 else \"center\"))\n",
    "#annotators[\"followed_news_outlets\"] = annotators.followed_news_outlets.apply(lambda s: list(ast.literal_eval(s)))\n",
    "\n",
    "print('Total number of annotators:', len(annotators))\n",
    "#print(len(all_annotators))"
   ]
  },
  {
   "cell_type": "code",
   "execution_count": 152,
   "metadata": {},
   "outputs": [
    {
     "data": {
      "text/html": [
       "<div>\n",
       "<style scoped>\n",
       "    .dataframe tbody tr th:only-of-type {\n",
       "        vertical-align: middle;\n",
       "    }\n",
       "\n",
       "    .dataframe tbody tr th {\n",
       "        vertical-align: top;\n",
       "    }\n",
       "\n",
       "    .dataframe thead th {\n",
       "        text-align: right;\n",
       "    }\n",
       "</style>\n",
       "<table border=\"1\" class=\"dataframe\">\n",
       "  <thead>\n",
       "    <tr style=\"text-align: right;\">\n",
       "      <th></th>\n",
       "      <th>id</th>\n",
       "      <th>mturk_id</th>\n",
       "      <th>age</th>\n",
       "      <th>gender</th>\n",
       "      <th>education</th>\n",
       "      <th>native_english_speaker</th>\n",
       "      <th>political_ideology</th>\n",
       "      <th>followed_news_outlets</th>\n",
       "      <th>news_check_frequency</th>\n",
       "      <th>survey_completed</th>\n",
       "      <th>political_ideology_lcr</th>\n",
       "    </tr>\n",
       "  </thead>\n",
       "  <tbody>\n",
       "    <tr>\n",
       "      <th>0</th>\n",
       "      <td>73a9148bc907314e086de8debe345824</td>\n",
       "      <td>73a9148bc907314e086de8debe345824</td>\n",
       "      <td>26</td>\n",
       "      <td>prefer not to say</td>\n",
       "      <td>graduate work</td>\n",
       "      <td>near native</td>\n",
       "      <td>18</td>\n",
       "      <td>Reuters,BuzzFeed</td>\n",
       "      <td>several times per month</td>\n",
       "      <td>True</td>\n",
       "      <td>right</td>\n",
       "    </tr>\n",
       "    <tr>\n",
       "      <th>1</th>\n",
       "      <td>efdbdfb640615da88d14815a06cbf499</td>\n",
       "      <td>efdbdfb640615da88d14815a06cbf499</td>\n",
       "      <td>29</td>\n",
       "      <td>male</td>\n",
       "      <td>bachelor 's degree</td>\n",
       "      <td>near native</td>\n",
       "      <td>10</td>\n",
       "      <td>The Guardian</td>\n",
       "      <td>very rarely</td>\n",
       "      <td>True</td>\n",
       "      <td>right</td>\n",
       "    </tr>\n",
       "  </tbody>\n",
       "</table>\n",
       "</div>"
      ],
      "text/plain": [
       "                                 id                          mturk_id  age  \\\n",
       "0  73a9148bc907314e086de8debe345824  73a9148bc907314e086de8debe345824   26   \n",
       "1  efdbdfb640615da88d14815a06cbf499  efdbdfb640615da88d14815a06cbf499   29   \n",
       "\n",
       "              gender           education native_english_speaker  \\\n",
       "0  prefer not to say       graduate work            near native   \n",
       "1               male  bachelor 's degree            near native   \n",
       "\n",
       "   political_ideology followed_news_outlets     news_check_frequency  \\\n",
       "0                  18      Reuters,BuzzFeed  several times per month   \n",
       "1                  10          The Guardian              very rarely   \n",
       "\n",
       "   survey_completed political_ideology_lcr  \n",
       "0              True                  right  \n",
       "1              True                  right  "
      ]
     },
     "execution_count": 152,
     "metadata": {},
     "output_type": "execute_result"
    }
   ],
   "source": [
    "annotators.head(2)"
   ]
  },
  {
   "cell_type": "code",
   "execution_count": 153,
   "metadata": {},
   "outputs": [
    {
     "data": {
      "text/html": [
       "<div>\n",
       "<style scoped>\n",
       "    .dataframe tbody tr th:only-of-type {\n",
       "        vertical-align: middle;\n",
       "    }\n",
       "\n",
       "    .dataframe tbody tr th {\n",
       "        vertical-align: top;\n",
       "    }\n",
       "\n",
       "    .dataframe thead th {\n",
       "        text-align: right;\n",
       "    }\n",
       "</style>\n",
       "<table border=\"1\" class=\"dataframe\">\n",
       "  <thead>\n",
       "    <tr style=\"text-align: right;\">\n",
       "      <th></th>\n",
       "      <th>age_bins</th>\n",
       "      <th>num_participants</th>\n",
       "    </tr>\n",
       "  </thead>\n",
       "  <tbody>\n",
       "    <tr>\n",
       "      <th>0</th>\n",
       "      <td>(0, 20]</td>\n",
       "      <td>0</td>\n",
       "    </tr>\n",
       "    <tr>\n",
       "      <th>1</th>\n",
       "      <td>(20, 30]</td>\n",
       "      <td>16</td>\n",
       "    </tr>\n",
       "    <tr>\n",
       "      <th>2</th>\n",
       "      <td>(30, 40]</td>\n",
       "      <td>4</td>\n",
       "    </tr>\n",
       "    <tr>\n",
       "      <th>3</th>\n",
       "      <td>(40, 50]</td>\n",
       "      <td>0</td>\n",
       "    </tr>\n",
       "    <tr>\n",
       "      <th>4</th>\n",
       "      <td>(50, 60]</td>\n",
       "      <td>0</td>\n",
       "    </tr>\n",
       "    <tr>\n",
       "      <th>5</th>\n",
       "      <td>(60, 70]</td>\n",
       "      <td>0</td>\n",
       "    </tr>\n",
       "    <tr>\n",
       "      <th>6</th>\n",
       "      <td>(70, 80]</td>\n",
       "      <td>0</td>\n",
       "    </tr>\n",
       "  </tbody>\n",
       "</table>\n",
       "</div>"
      ],
      "text/plain": [
       "   age_bins  num_participants\n",
       "0   (0, 20]                 0\n",
       "1  (20, 30]                16\n",
       "2  (30, 40]                 4\n",
       "3  (40, 50]                 0\n",
       "4  (50, 60]                 0\n",
       "5  (60, 70]                 0\n",
       "6  (70, 80]                 0"
      ]
     },
     "execution_count": 153,
     "metadata": {},
     "output_type": "execute_result"
    }
   ],
   "source": [
    "# age distribution\n",
    "annotators_age = annotators.groupby(['age'])[['id']].count()\n",
    "annotators_age = annotators_age.reset_index()\n",
    "annotators_age = annotators_age.rename(columns={\"id\": \"num_participants\"})\n",
    "annotators_age['age_bins'] = pd.cut(x=annotators_age['age'], bins=[0, 20, 30, 40, 50, 60, 70, 80])\n",
    "\n",
    "annotators_age = annotators_age[annotators_age['age']>0]\n",
    "\n",
    "annotators_age = annotators_age.groupby(['age_bins'])[['num_participants']].sum()\n",
    "annotators_age = annotators_age.reset_index()\n",
    "annotators_age"
   ]
  },
  {
   "cell_type": "code",
   "execution_count": 154,
   "metadata": {},
   "outputs": [
    {
     "data": {
      "image/png": "[encoded data removed]",
      "text/plain": [
       "<Figure size 1000x700 with 1 Axes>"
      ]
     },
     "metadata": {},
     "output_type": "display_data"
    }
   ],
   "source": [
    "alphas = np.linspace(0.05, 0.95, 7)\n",
    "teal_rgba = np.array([np.array(list(colors.to_rgba('teal', alpha=None))),]*7)\n",
    "teal_rgba[:, 3] = alphas\n",
    "teal_rgba\n",
    "\n",
    "def my_autopct(pct):\n",
    "    return ('%.1f%%' % pct) if pct > 3 else ''\n",
    "\n",
    "fig1, ax1 = plt.subplots(figsize=(10,7))\n",
    "my_pie = ax1.pie(annotators_age.num_participants, labels=annotators_age.age_bins,\n",
    "        startangle=90, textprops={'fontsize': 20}, #labeldistance=None,\n",
    "        autopct=my_autopct, pctdistance=0.8,\n",
    "       colors=teal_rgba)\n",
    "ax1.axis('equal')  # Equal aspect ratio ensures that pie is drawn as a circle.\n",
    "#ax1.legend(loc='upper right') #, bbox_to_anchor=(1.24, 0.95))\n",
    "\n",
    "for pie_wedge in my_pie[0]:\n",
    "    pie_wedge.set_edgecolor('white')\n",
    "\n",
    "plt.show()"
   ]
  },
  {
   "cell_type": "code",
   "execution_count": 157,
   "metadata": {},
   "outputs": [
    {
     "data": {
      "text/html": [
       "<div>\n",
       "<style scoped>\n",
       "    .dataframe tbody tr th:only-of-type {\n",
       "        vertical-align: middle;\n",
       "    }\n",
       "\n",
       "    .dataframe tbody tr th {\n",
       "        vertical-align: top;\n",
       "    }\n",
       "\n",
       "    .dataframe thead th {\n",
       "        text-align: right;\n",
       "    }\n",
       "</style>\n",
       "<table border=\"1\" class=\"dataframe\">\n",
       "  <thead>\n",
       "    <tr style=\"text-align: right;\">\n",
       "      <th></th>\n",
       "      <th>gender</th>\n",
       "      <th>num_participants</th>\n",
       "    </tr>\n",
       "  </thead>\n",
       "  <tbody>\n",
       "    <tr>\n",
       "      <th>0</th>\n",
       "      <td>female</td>\n",
       "      <td>1</td>\n",
       "    </tr>\n",
       "    <tr>\n",
       "      <th>1</th>\n",
       "      <td>male</td>\n",
       "      <td>17</td>\n",
       "    </tr>\n",
       "    <tr>\n",
       "      <th>2</th>\n",
       "      <td>prefer not to say</td>\n",
       "      <td>2</td>\n",
       "    </tr>\n",
       "  </tbody>\n",
       "</table>\n",
       "</div>"
      ],
      "text/plain": [
       "              gender  num_participants\n",
       "0             female                 1\n",
       "1               male                17\n",
       "2  prefer not to say                 2"
      ]
     },
     "execution_count": 157,
     "metadata": {},
     "output_type": "execute_result"
    }
   ],
   "source": [
    "# gender distribution\n",
    "annotators_gender = annotators.groupby(['gender'])[['id']].count()\n",
    "annotators_gender = annotators_gender.reset_index()\n",
    "annotators_gender = annotators_gender.rename(columns={\"id\": \"num_participants\"})\n",
    "annotators_gender"
   ]
  },
  {
   "cell_type": "code",
   "execution_count": 158,
   "metadata": {},
   "outputs": [
    {
     "data": {
      "image/png": "[encoded data removed]",
      "text/plain": [
       "<Figure size 1000x700 with 1 Axes>"
      ]
     },
     "metadata": {},
     "output_type": "display_data"
    }
   ],
   "source": [
    "alphas = np.linspace(0.2, 0.95, 3)\n",
    "teal_rgba = np.array([np.array(list(colors.to_rgba('rosybrown', alpha=None))),]*3)\n",
    "teal_rgba[:, 3] = alphas\n",
    "teal_rgba\n",
    "\n",
    "def my_autopct(pct):\n",
    "    return ('%.1f%%' % pct) if pct > 3 else ''\n",
    "\n",
    "fig1, ax1 = plt.subplots(figsize=(10,7))\n",
    "my_pie = ax1.pie(annotators_gender.num_participants, labels=annotators_gender.gender,\n",
    "        startangle=90, textprops={'fontsize': 20}, #labeldistance=None,\n",
    "        autopct=my_autopct, pctdistance=0.8,\n",
    "       colors=teal_rgba)\n",
    "ax1.axis('equal')  # Equal aspect ratio ensures that pie is drawn as a circle.\n",
    "#ax1.legend(loc='upper right') #, bbox_to_anchor=(1.24, 0.95))\n",
    "\n",
    "for pie_wedge in my_pie[0]:\n",
    "    pie_wedge.set_edgecolor('white')\n",
    "\n",
    "plt.show()"
   ]
  },
  {
   "cell_type": "code",
   "execution_count": 159,
   "metadata": {},
   "outputs": [
    {
     "data": {
      "text/html": [
       "<div>\n",
       "<style scoped>\n",
       "    .dataframe tbody tr th:only-of-type {\n",
       "        vertical-align: middle;\n",
       "    }\n",
       "\n",
       "    .dataframe tbody tr th {\n",
       "        vertical-align: top;\n",
       "    }\n",
       "\n",
       "    .dataframe thead th {\n",
       "        text-align: right;\n",
       "    }\n",
       "</style>\n",
       "<table border=\"1\" class=\"dataframe\">\n",
       "  <thead>\n",
       "    <tr style=\"text-align: right;\">\n",
       "      <th></th>\n",
       "      <th>education</th>\n",
       "      <th>num_participants</th>\n",
       "    </tr>\n",
       "  </thead>\n",
       "  <tbody>\n",
       "    <tr>\n",
       "      <th>0</th>\n",
       "      <td>bachelor 's degree</td>\n",
       "      <td>13</td>\n",
       "    </tr>\n",
       "    <tr>\n",
       "      <th>1</th>\n",
       "      <td>graduate work</td>\n",
       "      <td>5</td>\n",
       "    </tr>\n",
       "    <tr>\n",
       "      <th>2</th>\n",
       "      <td>high school graduation</td>\n",
       "      <td>1</td>\n",
       "    </tr>\n",
       "    <tr>\n",
       "      <th>3</th>\n",
       "      <td>some high school</td>\n",
       "      <td>1</td>\n",
       "    </tr>\n",
       "  </tbody>\n",
       "</table>\n",
       "</div>"
      ],
      "text/plain": [
       "                education  num_participants\n",
       "0      bachelor 's degree                13\n",
       "1           graduate work                 5\n",
       "2  high school graduation                 1\n",
       "3        some high school                 1"
      ]
     },
     "execution_count": 159,
     "metadata": {},
     "output_type": "execute_result"
    }
   ],
   "source": [
    "# education\n",
    "annotators_edu = annotators.groupby(['education'])[['id']].count()\n",
    "annotators_edu = annotators_edu.reset_index()\n",
    "annotators_edu = annotators_edu.rename(columns={\"id\": \"num_participants\"})\n",
    "#annotators_edu['sorting'] = [5,6,7,2,8,4,1,3]\n",
    "#annotators_edu = annotators_edu.sort_values(by=['sorting']).reset_index()\n",
    "annotators_edu = annotators_edu[['education','num_participants']]\n",
    "annotators_edu"
   ]
  },
  {
   "cell_type": "code",
   "execution_count": 160,
   "metadata": {},
   "outputs": [
    {
     "data": {
      "image/png": "[encoded data removed]",
      "text/plain": [
       "<Figure size 1000x700 with 1 Axes>"
      ]
     },
     "metadata": {},
     "output_type": "display_data"
    }
   ],
   "source": [
    "alphas = np.linspace(0.05, 0.95, 8)\n",
    "teal_rgba = np.array([np.array(list(colors.to_rgba('olive', alpha=None))),]*8)\n",
    "teal_rgba[:, 3] = alphas\n",
    "teal_rgba\n",
    "\n",
    "def my_autopct(pct):\n",
    "    return ('%.1f%%' % pct) if pct > 3 else ''\n",
    "\n",
    "fig1, ax1 = plt.subplots(figsize=(10,7))\n",
    "my_pie = ax1.pie(annotators_edu.num_participants, labels=annotators_edu.education,\n",
    "        startangle=90, textprops={'fontsize': 20}, #labeldistance=None,\n",
    "        autopct=my_autopct, pctdistance=0.8,\n",
    "       colors=teal_rgba)\n",
    "ax1.axis('equal')  # Equal aspect ratio ensures that pie is drawn as a circle.\n",
    "#ax1.legend(loc='upper right', bbox_to_anchor=(1.15, 0.95))\n",
    "\n",
    "for pie_wedge in my_pie[0]:\n",
    "    pie_wedge.set_edgecolor('white')\n",
    "\n",
    "plt.show()"
   ]
  },
  {
   "cell_type": "code",
   "execution_count": 161,
   "metadata": {},
   "outputs": [
    {
     "data": {
      "text/html": [
       "<div>\n",
       "<style scoped>\n",
       "    .dataframe tbody tr th:only-of-type {\n",
       "        vertical-align: middle;\n",
       "    }\n",
       "\n",
       "    .dataframe tbody tr th {\n",
       "        vertical-align: top;\n",
       "    }\n",
       "\n",
       "    .dataframe thead th {\n",
       "        text-align: right;\n",
       "    }\n",
       "</style>\n",
       "<table border=\"1\" class=\"dataframe\">\n",
       "  <thead>\n",
       "    <tr style=\"text-align: right;\">\n",
       "      <th></th>\n",
       "      <th>native_english_speaker</th>\n",
       "      <th>num_participants</th>\n",
       "    </tr>\n",
       "  </thead>\n",
       "  <tbody>\n",
       "    <tr>\n",
       "      <th>0</th>\n",
       "      <td>near native</td>\n",
       "      <td>13</td>\n",
       "    </tr>\n",
       "    <tr>\n",
       "      <th>1</th>\n",
       "      <td>non native</td>\n",
       "      <td>7</td>\n",
       "    </tr>\n",
       "  </tbody>\n",
       "</table>\n",
       "</div>"
      ],
      "text/plain": [
       "  native_english_speaker  num_participants\n",
       "0            near native                13\n",
       "1             non native                 7"
      ]
     },
     "execution_count": 161,
     "metadata": {},
     "output_type": "execute_result"
    }
   ],
   "source": [
    "# english knowledge\n",
    "annotators_eng = annotators.groupby(['native_english_speaker'])[['id']].count()\n",
    "annotators_eng = annotators_eng.reset_index()\n",
    "annotators_eng = annotators_eng.rename(columns={\"id\": \"num_participants\"})\n",
    "annotators_eng"
   ]
  },
  {
   "cell_type": "code",
   "execution_count": 162,
   "metadata": {},
   "outputs": [
    {
     "data": {
      "image/png": "[encoded data removed]",
      "text/plain": [
       "<Figure size 1000x700 with 1 Axes>"
      ]
     },
     "metadata": {},
     "output_type": "display_data"
    }
   ],
   "source": [
    "alphas = np.linspace(0.3, 0.99, 3)\n",
    "teal_rgba = np.array([np.array(list(colors.to_rgba('saddlebrown', alpha=None))),]*3)\n",
    "teal_rgba[:, 3] = alphas\n",
    "teal_rgba\n",
    "\n",
    "def my_autopct(pct):\n",
    "    return ('%.1f%%' % pct) if pct > 2 else ''\n",
    "\n",
    "fig1, ax1 = plt.subplots(figsize=(10,7))\n",
    "my_pie = ax1.pie(annotators_eng.num_participants, labels=annotators_eng.native_english_speaker,\n",
    "        startangle=90, textprops={'fontsize': 20}, #labeldistance=None,\n",
    "        autopct=my_autopct, pctdistance=0.8,\n",
    "       colors=teal_rgba)\n",
    "ax1.axis('equal')  # Equal aspect ratio ensures that pie is drawn as a circle.\n",
    "#ax1.legend(loc='upper right', bbox_to_anchor=(1.15, 0.95))\n",
    "\n",
    "for pie_wedge in my_pie[0]:\n",
    "    pie_wedge.set_edgecolor('white')\n",
    "\n",
    "plt.show()"
   ]
  },
  {
   "cell_type": "code",
   "execution_count": 163,
   "metadata": {},
   "outputs": [
    {
     "data": {
      "text/html": [
       "<div>\n",
       "<style scoped>\n",
       "    .dataframe tbody tr th:only-of-type {\n",
       "        vertical-align: middle;\n",
       "    }\n",
       "\n",
       "    .dataframe tbody tr th {\n",
       "        vertical-align: top;\n",
       "    }\n",
       "\n",
       "    .dataframe thead th {\n",
       "        text-align: right;\n",
       "    }\n",
       "</style>\n",
       "<table border=\"1\" class=\"dataframe\">\n",
       "  <thead>\n",
       "    <tr style=\"text-align: right;\">\n",
       "      <th></th>\n",
       "      <th>political_ideology_lcr</th>\n",
       "      <th>num_participants</th>\n",
       "    </tr>\n",
       "  </thead>\n",
       "  <tbody>\n",
       "    <tr>\n",
       "      <th>0</th>\n",
       "      <td>liberal</td>\n",
       "      <td>6</td>\n",
       "    </tr>\n",
       "    <tr>\n",
       "      <th>1</th>\n",
       "      <td>center</td>\n",
       "      <td>2</td>\n",
       "    </tr>\n",
       "    <tr>\n",
       "      <th>2</th>\n",
       "      <td>conservative</td>\n",
       "      <td>12</td>\n",
       "    </tr>\n",
       "  </tbody>\n",
       "</table>\n",
       "</div>"
      ],
      "text/plain": [
       "  political_ideology_lcr  num_participants\n",
       "0                liberal                 6\n",
       "1                 center                 2\n",
       "2           conservative                12"
      ]
     },
     "execution_count": 163,
     "metadata": {},
     "output_type": "execute_result"
    }
   ],
   "source": [
    "# political orientation\n",
    "annotators_polit = annotators.groupby(['political_ideology_lcr'])[['id']].count()\n",
    "annotators_polit = annotators_polit.reset_index()\n",
    "annotators_polit = annotators_polit.rename(columns={\"id\": \"num_participants\"})\n",
    "annotators_polit['sorting'] = [2, 1, 3]\n",
    "annotators_polit = annotators_polit.sort_values(by=['sorting']).reset_index()\n",
    "annotators_polit = annotators_polit[['political_ideology_lcr','num_participants']]\n",
    "annotators_polit = annotators_polit.replace('left', 'liberal')\n",
    "annotators_polit = annotators_polit.replace('right', 'conservative')\n",
    "annotators_polit"
   ]
  },
  {
   "cell_type": "code",
   "execution_count": 164,
   "metadata": {},
   "outputs": [
    {
     "data": {
      "image/png": "[encoded data removed]",
      "text/plain": [
       "<Figure size 1000x700 with 1 Axes>"
      ]
     },
     "metadata": {},
     "output_type": "display_data"
    }
   ],
   "source": [
    "cols = np.array([\n",
    "    np.array(colors.to_rgba('steelblue', alpha=0.8)),\n",
    "    np.array(colors.to_rgba('indianred', alpha=0.8)),\n",
    "    np.array(colors.to_rgba('thistle', alpha=0.8))])\n",
    "\n",
    "def my_autopct(pct):\n",
    "    return ('%.1f%%' % pct) if pct > 2 else ''\n",
    "\n",
    "fig1, ax1 = plt.subplots(figsize=(10,7))\n",
    "my_pie = ax1.pie(annotators_polit.num_participants, labels=annotators_polit.political_ideology_lcr,\n",
    "        startangle=90, textprops={'fontsize': 20}, #labeldistance=None,\n",
    "        autopct=my_autopct, pctdistance=0.8,\n",
    "       colors=cols)\n",
    "ax1.axis('equal')  # Equal aspect ratio ensures that pie is drawn as a circle.\n",
    "#ax1.legend(loc='upper right', bbox_to_anchor=(1.15, 0.95))\n",
    "\n",
    "for pie_wedge in my_pie[0]:\n",
    "    pie_wedge.set_edgecolor('white')\n",
    "\n",
    "plt.show()"
   ]
  },
  {
   "cell_type": "code",
   "execution_count": 165,
   "metadata": {},
   "outputs": [
    {
     "data": {
      "text/html": [
       "<div>\n",
       "<style scoped>\n",
       "    .dataframe tbody tr th:only-of-type {\n",
       "        vertical-align: middle;\n",
       "    }\n",
       "\n",
       "    .dataframe tbody tr th {\n",
       "        vertical-align: top;\n",
       "    }\n",
       "\n",
       "    .dataframe thead th {\n",
       "        text-align: right;\n",
       "    }\n",
       "</style>\n",
       "<table border=\"1\" class=\"dataframe\">\n",
       "  <thead>\n",
       "    <tr style=\"text-align: right;\">\n",
       "      <th></th>\n",
       "      <th>news_outlet</th>\n",
       "      <th>num_participants</th>\n",
       "      <th>slant_allsides</th>\n",
       "    </tr>\n",
       "  </thead>\n",
       "  <tbody>\n",
       "    <tr>\n",
       "      <th>0</th>\n",
       "      <td>misc</td>\n",
       "      <td>18</td>\n",
       "      <td>misc</td>\n",
       "    </tr>\n",
       "    <tr>\n",
       "      <th>1</th>\n",
       "      <td>e</td>\n",
       "      <td>57</td>\n",
       "      <td>NaN</td>\n",
       "    </tr>\n",
       "    <tr>\n",
       "      <th>2</th>\n",
       "      <td>u</td>\n",
       "      <td>19</td>\n",
       "      <td>NaN</td>\n",
       "    </tr>\n",
       "    <tr>\n",
       "      <th>3</th>\n",
       "      <td>t</td>\n",
       "      <td>21</td>\n",
       "      <td>NaN</td>\n",
       "    </tr>\n",
       "    <tr>\n",
       "      <th>4</th>\n",
       "      <td>r</td>\n",
       "      <td>23</td>\n",
       "      <td>NaN</td>\n",
       "    </tr>\n",
       "    <tr>\n",
       "      <th>5</th>\n",
       "      <td>s</td>\n",
       "      <td>35</td>\n",
       "      <td>NaN</td>\n",
       "    </tr>\n",
       "    <tr>\n",
       "      <th>6</th>\n",
       "      <td>,</td>\n",
       "      <td>27</td>\n",
       "      <td>NaN</td>\n",
       "    </tr>\n",
       "    <tr>\n",
       "      <th>7</th>\n",
       "      <td>B</td>\n",
       "      <td>8</td>\n",
       "      <td>NaN</td>\n",
       "    </tr>\n",
       "    <tr>\n",
       "      <th>8</th>\n",
       "      <td>z</td>\n",
       "      <td>8</td>\n",
       "      <td>NaN</td>\n",
       "    </tr>\n",
       "    <tr>\n",
       "      <th>9</th>\n",
       "      <td>d</td>\n",
       "      <td>15</td>\n",
       "      <td>NaN</td>\n",
       "    </tr>\n",
       "    <tr>\n",
       "      <th>10</th>\n",
       "      <td>T</td>\n",
       "      <td>17</td>\n",
       "      <td>NaN</td>\n",
       "    </tr>\n",
       "    <tr>\n",
       "      <th>11</th>\n",
       "      <td>h</td>\n",
       "      <td>13</td>\n",
       "      <td>NaN</td>\n",
       "    </tr>\n",
       "    <tr>\n",
       "      <th>12</th>\n",
       "      <td></td>\n",
       "      <td>42</td>\n",
       "      <td>NaN</td>\n",
       "    </tr>\n",
       "    <tr>\n",
       "      <th>13</th>\n",
       "      <td>G</td>\n",
       "      <td>6</td>\n",
       "      <td>NaN</td>\n",
       "    </tr>\n",
       "    <tr>\n",
       "      <th>14</th>\n",
       "      <td>a</td>\n",
       "      <td>29</td>\n",
       "      <td>NaN</td>\n",
       "    </tr>\n",
       "    <tr>\n",
       "      <th>15</th>\n",
       "      <td>i</td>\n",
       "      <td>36</td>\n",
       "      <td>NaN</td>\n",
       "    </tr>\n",
       "    <tr>\n",
       "      <th>16</th>\n",
       "      <td>n</td>\n",
       "      <td>30</td>\n",
       "      <td>NaN</td>\n",
       "    </tr>\n",
       "    <tr>\n",
       "      <th>17</th>\n",
       "      <td>m</td>\n",
       "      <td>8</td>\n",
       "      <td>NaN</td>\n",
       "    </tr>\n",
       "    <tr>\n",
       "      <th>18</th>\n",
       "      <td>g</td>\n",
       "      <td>8</td>\n",
       "      <td>NaN</td>\n",
       "    </tr>\n",
       "    <tr>\n",
       "      <th>19</th>\n",
       "      <td>C</td>\n",
       "      <td>10</td>\n",
       "      <td>NaN</td>\n",
       "    </tr>\n",
       "    <tr>\n",
       "      <th>20</th>\n",
       "      <td>N</td>\n",
       "      <td>24</td>\n",
       "      <td>NaN</td>\n",
       "    </tr>\n",
       "    <tr>\n",
       "      <th>21</th>\n",
       "      <td>w</td>\n",
       "      <td>8</td>\n",
       "      <td>NaN</td>\n",
       "    </tr>\n",
       "    <tr>\n",
       "      <th>22</th>\n",
       "      <td>o</td>\n",
       "      <td>20</td>\n",
       "      <td>NaN</td>\n",
       "    </tr>\n",
       "    <tr>\n",
       "      <th>23</th>\n",
       "      <td>S</td>\n",
       "      <td>6</td>\n",
       "      <td>NaN</td>\n",
       "    </tr>\n",
       "    <tr>\n",
       "      <th>24</th>\n",
       "      <td>l</td>\n",
       "      <td>7</td>\n",
       "      <td>NaN</td>\n",
       "    </tr>\n",
       "  </tbody>\n",
       "</table>\n",
       "</div>"
      ],
      "text/plain": [
       "   news_outlet  num_participants slant_allsides\n",
       "0         misc                18           misc\n",
       "1            e                57            NaN\n",
       "2            u                19            NaN\n",
       "3            t                21            NaN\n",
       "4            r                23            NaN\n",
       "5            s                35            NaN\n",
       "6            ,                27            NaN\n",
       "7            B                 8            NaN\n",
       "8            z                 8            NaN\n",
       "9            d                15            NaN\n",
       "10           T                17            NaN\n",
       "11           h                13            NaN\n",
       "12                            42            NaN\n",
       "13           G                 6            NaN\n",
       "14           a                29            NaN\n",
       "15           i                36            NaN\n",
       "16           n                30            NaN\n",
       "17           m                 8            NaN\n",
       "18           g                 8            NaN\n",
       "19           C                10            NaN\n",
       "20           N                24            NaN\n",
       "21           w                 8            NaN\n",
       "22           o                20            NaN\n",
       "23           S                 6            NaN\n",
       "24           l                 7            NaN"
      ]
     },
     "execution_count": 165,
     "metadata": {},
     "output_type": "execute_result"
    }
   ],
   "source": [
    "# followed news outlets\n",
    "all_outlets = []\n",
    "all_outlets_freq = {}\n",
    "\n",
    "for ind in annotators.index:\n",
    "    #print(type(annotators['followed_news_outlets'][ind]))\n",
    "    for outlet in annotators['followed_news_outlets'][ind]:\n",
    "        if outlet not in all_outlets:\n",
    "            all_outlets.append(outlet)\n",
    "            all_outlets_freq[outlet]=1\n",
    "        else:\n",
    "            all_outlets_freq[outlet]+=1\n",
    "            \n",
    "all_outlets_freq_filt = {}\n",
    "all_outlets_freq_filt['misc']=0\n",
    "\n",
    "for outlet in all_outlets_freq:\n",
    "    if all_outlets_freq[outlet] > 5:\n",
    "        all_outlets_freq_filt[outlet]=all_outlets_freq[outlet]\n",
    "    else:\n",
    "        all_outlets_freq_filt['misc']+=1\n",
    "\n",
    "all_outlets_freq_filt\n",
    "\n",
    "# pd\n",
    "annotators_outlets = pd.DataFrame.from_dict(all_outlets_freq_filt, orient='index')\n",
    "annotators_outlets = annotators_outlets.reset_index()\n",
    "annotators_outlets = annotators_outlets.rename(columns={\"index\": \"news_outlet\",\n",
    "                                                        0:\"num_participants\"})\n",
    "\n",
    "# add slant from allsides\n",
    "slant_allsides_dict = {'misc':'misc',\n",
    " 'ABC News':'left',\n",
    " 'CNN':'left',\n",
    " 'MSNBC':'left',\n",
    " 'The Washington Post':'left',\n",
    " 'New York Post':'right',\n",
    " 'New York Times':'left',\n",
    " 'NPR':'center',\n",
    " 'Fox News':'right',\n",
    " 'Breitbart':'right',\n",
    " 'The Wall Street Journal':'right',\n",
    " 'Business Insider':'center',\n",
    " 'Reuters':'center',\n",
    " 'The Guardian':'left',\n",
    " 'CBS News':'left',\n",
    " 'USA Today':'center',\n",
    " 'Time magazine':'left',\n",
    " 'Vice':'left',\n",
    " 'BuzzFeed':'left',\n",
    " 'Huffington Post':'left',\n",
    " 'The Federalist':'right',\n",
    " 'BBC':'center'}\n",
    "\n",
    "slant_allsides = pd.DataFrame.from_dict(slant_allsides_dict, orient='index')\n",
    "slant_allsides = slant_allsides.reset_index()\n",
    "slant_allsides = slant_allsides.rename(columns={\"index\": \"news_outlet\",\n",
    "                                                        0:\"slant_allsides\"})\n",
    "\n",
    "annotators_outlets = pd.merge(annotators_outlets, slant_allsides,\n",
    "                             left_on='news_outlet', right_on='news_outlet', how='left')\n",
    "annotators_outlets"
   ]
  },
  {
   "cell_type": "code",
   "execution_count": 166,
   "metadata": {},
   "outputs": [
    {
     "ename": "ValueError",
     "evalue": "('None entries cannot have not-None children', slant_allsides    nan\nnews_outlet          \nName: 12, dtype: object)",
     "output_type": "error",
     "traceback": [
      "\u001b[1;31m---------------------------------------------------------------------------\u001b[0m",
      "\u001b[1;31mValueError\u001b[0m                                Traceback (most recent call last)",
      "\u001b[1;32m~\\AppData\\Local\\Temp\\ipykernel_4992\\3897869310.py\u001b[0m in \u001b[0;36m<module>\u001b[1;34m\u001b[0m\n\u001b[1;32m----> 1\u001b[1;33m fig = px.sunburst(data_frame = annotators_outlets,\n\u001b[0m\u001b[0;32m      2\u001b[0m                   \u001b[0mpath\u001b[0m \u001b[1;33m=\u001b[0m \u001b[1;33m[\u001b[0m\u001b[1;34m'slant_allsides'\u001b[0m\u001b[1;33m,\u001b[0m \u001b[1;34m'news_outlet'\u001b[0m\u001b[1;33m]\u001b[0m\u001b[1;33m,\u001b[0m\u001b[1;33m\u001b[0m\u001b[1;33m\u001b[0m\u001b[0m\n\u001b[0;32m      3\u001b[0m                   \u001b[0mvalues\u001b[0m \u001b[1;33m=\u001b[0m \u001b[1;34m'num_participants'\u001b[0m\u001b[1;33m,\u001b[0m\u001b[1;33m\u001b[0m\u001b[1;33m\u001b[0m\u001b[0m\n\u001b[0;32m      4\u001b[0m                   \u001b[0mcolor\u001b[0m\u001b[1;33m=\u001b[0m\u001b[1;34m'slant_allsides'\u001b[0m\u001b[1;33m,\u001b[0m\u001b[1;33m\u001b[0m\u001b[1;33m\u001b[0m\u001b[0m\n\u001b[0;32m      5\u001b[0m                   color_discrete_map={'center':'thistle', 'left':'steelblue',\n",
      "\u001b[1;32mc:\\Users\\Lenovo\\anaconda3\\lib\\site-packages\\plotly\\express\\_chart_types.py\u001b[0m in \u001b[0;36msunburst\u001b[1;34m(data_frame, names, values, parents, path, ids, color, color_continuous_scale, range_color, color_continuous_midpoint, color_discrete_sequence, color_discrete_map, hover_name, hover_data, custom_data, labels, title, template, width, height, branchvalues, maxdepth)\u001b[0m\n\u001b[0;32m   1539\u001b[0m     \u001b[1;32mif\u001b[0m \u001b[0mpath\u001b[0m \u001b[1;32mis\u001b[0m \u001b[1;32mnot\u001b[0m \u001b[1;32mNone\u001b[0m \u001b[1;32mand\u001b[0m \u001b[0mbranchvalues\u001b[0m \u001b[1;32mis\u001b[0m \u001b[1;32mNone\u001b[0m\u001b[1;33m:\u001b[0m\u001b[1;33m\u001b[0m\u001b[1;33m\u001b[0m\u001b[0m\n\u001b[0;32m   1540\u001b[0m         \u001b[0mbranchvalues\u001b[0m \u001b[1;33m=\u001b[0m \u001b[1;34m\"total\"\u001b[0m\u001b[1;33m\u001b[0m\u001b[1;33m\u001b[0m\u001b[0m\n\u001b[1;32m-> 1541\u001b[1;33m     return make_figure(\n\u001b[0m\u001b[0;32m   1542\u001b[0m         \u001b[0margs\u001b[0m\u001b[1;33m=\u001b[0m\u001b[0mlocals\u001b[0m\u001b[1;33m(\u001b[0m\u001b[1;33m)\u001b[0m\u001b[1;33m,\u001b[0m\u001b[1;33m\u001b[0m\u001b[1;33m\u001b[0m\u001b[0m\n\u001b[0;32m   1543\u001b[0m         \u001b[0mconstructor\u001b[0m\u001b[1;33m=\u001b[0m\u001b[0mgo\u001b[0m\u001b[1;33m.\u001b[0m\u001b[0mSunburst\u001b[0m\u001b[1;33m,\u001b[0m\u001b[1;33m\u001b[0m\u001b[1;33m\u001b[0m\u001b[0m\n",
      "\u001b[1;32mc:\\Users\\Lenovo\\anaconda3\\lib\\site-packages\\plotly\\express\\_core.py\u001b[0m in \u001b[0;36mmake_figure\u001b[1;34m(args, constructor, trace_patch, layout_patch)\u001b[0m\n\u001b[0;32m   1990\u001b[0m     \u001b[0margs\u001b[0m \u001b[1;33m=\u001b[0m \u001b[0mbuild_dataframe\u001b[0m\u001b[1;33m(\u001b[0m\u001b[0margs\u001b[0m\u001b[1;33m,\u001b[0m \u001b[0mconstructor\u001b[0m\u001b[1;33m)\u001b[0m\u001b[1;33m\u001b[0m\u001b[1;33m\u001b[0m\u001b[0m\n\u001b[0;32m   1991\u001b[0m     \u001b[1;32mif\u001b[0m \u001b[0mconstructor\u001b[0m \u001b[1;32min\u001b[0m \u001b[1;33m[\u001b[0m\u001b[0mgo\u001b[0m\u001b[1;33m.\u001b[0m\u001b[0mTreemap\u001b[0m\u001b[1;33m,\u001b[0m \u001b[0mgo\u001b[0m\u001b[1;33m.\u001b[0m\u001b[0mSunburst\u001b[0m\u001b[1;33m,\u001b[0m \u001b[0mgo\u001b[0m\u001b[1;33m.\u001b[0m\u001b[0mIcicle\u001b[0m\u001b[1;33m]\u001b[0m \u001b[1;32mand\u001b[0m \u001b[0margs\u001b[0m\u001b[1;33m[\u001b[0m\u001b[1;34m\"path\"\u001b[0m\u001b[1;33m]\u001b[0m \u001b[1;32mis\u001b[0m \u001b[1;32mnot\u001b[0m \u001b[1;32mNone\u001b[0m\u001b[1;33m:\u001b[0m\u001b[1;33m\u001b[0m\u001b[1;33m\u001b[0m\u001b[0m\n\u001b[1;32m-> 1992\u001b[1;33m         \u001b[0margs\u001b[0m \u001b[1;33m=\u001b[0m \u001b[0mprocess_dataframe_hierarchy\u001b[0m\u001b[1;33m(\u001b[0m\u001b[0margs\u001b[0m\u001b[1;33m)\u001b[0m\u001b[1;33m\u001b[0m\u001b[1;33m\u001b[0m\u001b[0m\n\u001b[0m\u001b[0;32m   1993\u001b[0m     \u001b[1;32mif\u001b[0m \u001b[0mconstructor\u001b[0m \u001b[1;32min\u001b[0m \u001b[1;33m[\u001b[0m\u001b[0mgo\u001b[0m\u001b[1;33m.\u001b[0m\u001b[0mPie\u001b[0m\u001b[1;33m]\u001b[0m\u001b[1;33m:\u001b[0m\u001b[1;33m\u001b[0m\u001b[1;33m\u001b[0m\u001b[0m\n\u001b[0;32m   1994\u001b[0m         \u001b[0margs\u001b[0m\u001b[1;33m,\u001b[0m \u001b[0mtrace_patch\u001b[0m \u001b[1;33m=\u001b[0m \u001b[0mprocess_dataframe_pie\u001b[0m\u001b[1;33m(\u001b[0m\u001b[0margs\u001b[0m\u001b[1;33m,\u001b[0m \u001b[0mtrace_patch\u001b[0m\u001b[1;33m)\u001b[0m\u001b[1;33m\u001b[0m\u001b[1;33m\u001b[0m\u001b[0m\n",
      "\u001b[1;32mc:\\Users\\Lenovo\\anaconda3\\lib\\site-packages\\plotly\\express\\_core.py\u001b[0m in \u001b[0;36mprocess_dataframe_hierarchy\u001b[1;34m(args)\u001b[0m\n\u001b[0;32m   1543\u001b[0m     \u001b[0mdf\u001b[0m \u001b[1;33m=\u001b[0m \u001b[0margs\u001b[0m\u001b[1;33m[\u001b[0m\u001b[1;34m\"data_frame\"\u001b[0m\u001b[1;33m]\u001b[0m\u001b[1;33m\u001b[0m\u001b[1;33m\u001b[0m\u001b[0m\n\u001b[0;32m   1544\u001b[0m     \u001b[0mpath\u001b[0m \u001b[1;33m=\u001b[0m \u001b[0margs\u001b[0m\u001b[1;33m[\u001b[0m\u001b[1;34m\"path\"\u001b[0m\u001b[1;33m]\u001b[0m\u001b[1;33m[\u001b[0m\u001b[1;33m:\u001b[0m\u001b[1;33m:\u001b[0m\u001b[1;33m-\u001b[0m\u001b[1;36m1\u001b[0m\u001b[1;33m]\u001b[0m\u001b[1;33m\u001b[0m\u001b[1;33m\u001b[0m\u001b[0m\n\u001b[1;32m-> 1545\u001b[1;33m     \u001b[0m_check_dataframe_all_leaves\u001b[0m\u001b[1;33m(\u001b[0m\u001b[0mdf\u001b[0m\u001b[1;33m[\u001b[0m\u001b[0mpath\u001b[0m\u001b[1;33m[\u001b[0m\u001b[1;33m:\u001b[0m\u001b[1;33m:\u001b[0m\u001b[1;33m-\u001b[0m\u001b[1;36m1\u001b[0m\u001b[1;33m]\u001b[0m\u001b[1;33m]\u001b[0m\u001b[1;33m)\u001b[0m\u001b[1;33m\u001b[0m\u001b[1;33m\u001b[0m\u001b[0m\n\u001b[0m\u001b[0;32m   1546\u001b[0m     \u001b[0mdiscrete_color\u001b[0m \u001b[1;33m=\u001b[0m \u001b[1;32mFalse\u001b[0m\u001b[1;33m\u001b[0m\u001b[1;33m\u001b[0m\u001b[0m\n\u001b[0;32m   1547\u001b[0m \u001b[1;33m\u001b[0m\u001b[0m\n",
      "\u001b[1;32mc:\\Users\\Lenovo\\anaconda3\\lib\\site-packages\\plotly\\express\\_core.py\u001b[0m in \u001b[0;36m_check_dataframe_all_leaves\u001b[1;34m(df)\u001b[0m\n\u001b[0;32m   1522\u001b[0m         \u001b[0mi\u001b[0m \u001b[1;33m=\u001b[0m \u001b[0mnp\u001b[0m\u001b[1;33m.\u001b[0m\u001b[0mnonzero\u001b[0m\u001b[1;33m(\u001b[0m\u001b[0mrow\u001b[0m\u001b[1;33m.\u001b[0m\u001b[0mvalues\u001b[0m\u001b[1;33m)\u001b[0m\u001b[1;33m[\u001b[0m\u001b[1;36m0\u001b[0m\u001b[1;33m]\u001b[0m\u001b[1;33m[\u001b[0m\u001b[1;36m0\u001b[0m\u001b[1;33m]\u001b[0m\u001b[1;33m\u001b[0m\u001b[1;33m\u001b[0m\u001b[0m\n\u001b[0;32m   1523\u001b[0m         \u001b[1;32mif\u001b[0m \u001b[1;32mnot\u001b[0m \u001b[0mrow\u001b[0m\u001b[1;33m[\u001b[0m\u001b[0mi\u001b[0m\u001b[1;33m:\u001b[0m\u001b[1;33m]\u001b[0m\u001b[1;33m.\u001b[0m\u001b[0mall\u001b[0m\u001b[1;33m(\u001b[0m\u001b[1;33m)\u001b[0m\u001b[1;33m:\u001b[0m\u001b[1;33m\u001b[0m\u001b[1;33m\u001b[0m\u001b[0m\n\u001b[1;32m-> 1524\u001b[1;33m             raise ValueError(\n\u001b[0m\u001b[0;32m   1525\u001b[0m                 \u001b[1;34m\"None entries cannot have not-None children\"\u001b[0m\u001b[1;33m,\u001b[0m\u001b[1;33m\u001b[0m\u001b[1;33m\u001b[0m\u001b[0m\n\u001b[0;32m   1526\u001b[0m                 \u001b[0mdf_sorted\u001b[0m\u001b[1;33m.\u001b[0m\u001b[0miloc\u001b[0m\u001b[1;33m[\u001b[0m\u001b[0mnull_row_index\u001b[0m\u001b[1;33m]\u001b[0m\u001b[1;33m,\u001b[0m\u001b[1;33m\u001b[0m\u001b[1;33m\u001b[0m\u001b[0m\n",
      "\u001b[1;31mValueError\u001b[0m: ('None entries cannot have not-None children', slant_allsides    nan\nnews_outlet          \nName: 12, dtype: object)"
     ]
    }
   ],
   "source": [
    "fig = px.sunburst(data_frame = annotators_outlets,\n",
    "                  path = ['slant_allsides', 'news_outlet'],\n",
    "                  values = 'num_participants',\n",
    "                  color='slant_allsides',\n",
    "                  color_discrete_map={'center':'thistle', 'left':'steelblue',\n",
    "                                      'right':'indianred', 'misc':'dimgray'})\n",
    "fig.update_traces(textfont_size=20)\n",
    "fig.show()"
   ]
  },
  {
   "cell_type": "code",
   "execution_count": 167,
   "metadata": {},
   "outputs": [
    {
     "data": {
      "text/html": [
       "<div>\n",
       "<style scoped>\n",
       "    .dataframe tbody tr th:only-of-type {\n",
       "        vertical-align: middle;\n",
       "    }\n",
       "\n",
       "    .dataframe tbody tr th {\n",
       "        vertical-align: top;\n",
       "    }\n",
       "\n",
       "    .dataframe thead th {\n",
       "        text-align: right;\n",
       "    }\n",
       "</style>\n",
       "<table border=\"1\" class=\"dataframe\">\n",
       "  <thead>\n",
       "    <tr style=\"text-align: right;\">\n",
       "      <th></th>\n",
       "      <th>news_check_frequency</th>\n",
       "      <th>num_participants</th>\n",
       "    </tr>\n",
       "  </thead>\n",
       "  <tbody>\n",
       "    <tr>\n",
       "      <th>0</th>\n",
       "      <td>every day</td>\n",
       "      <td>5</td>\n",
       "    </tr>\n",
       "    <tr>\n",
       "      <th>1</th>\n",
       "      <td>several times per day</td>\n",
       "      <td>3</td>\n",
       "    </tr>\n",
       "    <tr>\n",
       "      <th>2</th>\n",
       "      <td>several times per month</td>\n",
       "      <td>1</td>\n",
       "    </tr>\n",
       "    <tr>\n",
       "      <th>3</th>\n",
       "      <td>several times per week</td>\n",
       "      <td>9</td>\n",
       "    </tr>\n",
       "    <tr>\n",
       "      <th>4</th>\n",
       "      <td>very rarely</td>\n",
       "      <td>2</td>\n",
       "    </tr>\n",
       "  </tbody>\n",
       "</table>\n",
       "</div>"
      ],
      "text/plain": [
       "      news_check_frequency  num_participants\n",
       "0                every day                 5\n",
       "1    several times per day                 3\n",
       "2  several times per month                 1\n",
       "3   several times per week                 9\n",
       "4              very rarely                 2"
      ]
     },
     "execution_count": 167,
     "metadata": {},
     "output_type": "execute_result"
    }
   ],
   "source": [
    "# news consumption frequency\n",
    "annotators_cons = annotators.groupby(['news_check_frequency'])[['id']].count()\n",
    "annotators_cons = annotators_cons.reset_index()\n",
    "annotators_cons = annotators_cons.rename(columns={\"id\": \"num_participants\"})\n",
    "#annotators_cons['sorting'] = [4, 0, 5, 2, 3, 1]\n",
    "#annotators_cons = annotators_cons.sort_values(by=['sorting']).reset_index()\n",
    "annotators_cons = annotators_cons[['news_check_frequency','num_participants']]\n",
    "annotators_cons"
   ]
  },
  {
   "cell_type": "code",
   "execution_count": 180,
   "metadata": {},
   "outputs": [
    {
     "data": {
      "image/png": "[encoded data removed]",
      "text/plain": [
       "<Figure size 1000x700 with 1 Axes>"
      ]
     },
     "metadata": {},
     "output_type": "display_data"
    }
   ],
   "source": [
    "alphas = np.linspace(0.05, 0.8, 6)\n",
    "teal_rgba = np.array([np.array(list(colors.to_rgba('maroon', alpha=None))),]*6)\n",
    "teal_rgba[:, 3] = alphas\n",
    "teal_rgba\n",
    "\n",
    "def my_autopct(pct):\n",
    "    return ('%.1f%%' % pct) if pct > 2 else ''\n",
    "\n",
    "fig1, ax1 = plt.subplots(figsize=(10,7))\n",
    "my_pie = ax1.pie(annotators_cons.num_participants, labels=annotators_cons.news_check_frequency,\n",
    "        startangle=90, textprops={'fontsize': 20}, #labeldistance=None,\n",
    "        autopct=my_autopct, pctdistance=0.8,\n",
    "       colors=teal_rgba)\n",
    "ax1.axis('equal')  # Equal aspect ratio ensures that pie is drawn as a circle.\n",
    "#ax1.legend(loc='upper right', bbox_to_anchor=(1.15, 0.95))\n",
    "\n",
    "for pie_wedge in my_pie[0]:\n",
    "    pie_wedge.set_edgecolor('white')\n",
    "\n",
    "plt.show()"
   ]
  }
 ],
 "metadata": {
  "kernelspec": {
   "display_name": "base",
   "language": "python",
   "name": "python3"
  },
  "language_info": {
   "codemirror_mode": {
    "name": "ipython",
    "version": 3
   },
   "file_extension": ".py",
   "mimetype": "text/x-python",
   "name": "python",
   "nbconvert_exporter": "python",
   "pygments_lexer": "ipython3",
   "version": "3.9.13"
  },
  "vscode": {
   "interpreter": {
    "hash": "20a9e06a1eee47c4abbed4ec8225ad91d78d9800d202b71b6b0a6e47016c6abd"
   }
  }
 },
 "nbformat": 4,
 "nbformat_minor": 2
}

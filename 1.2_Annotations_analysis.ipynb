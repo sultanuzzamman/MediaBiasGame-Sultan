{
 "cells": [
  {
   "attachments": {},
   "cell_type": "markdown",
   "metadata": {},
   "source": [
    "# Annotations analysis"
   ]
  },
  {
   "attachments": {},
   "cell_type": "markdown",
   "metadata": {},
   "source": [
    "In this script, we:\n",
    "- explore the annotations,\n",
    "- explore the perception of bias.\n",
    "\n",
    "To run this script, the following data files are needed (attached):\n",
    "- labeled_dataset.xlsx\n",
    "- annotations_final_notempty.xlsx\n",
    "- results_bias.xlsx"
   ]
  },
  {
   "cell_type": "code",
   "execution_count": 19,
   "metadata": {
    "scrolled": true
   },
   "outputs": [],
   "source": [
    "# data\n",
    "import pandas as pd\n",
    "import numpy as np\n",
    "\n",
    "# misc\n",
    "import os\n",
    "import re\n",
    "import time\n",
    "import ast\n",
    "import copy\n",
    "\n",
    "# statistics\n",
    "import statistics\n",
    "import statsmodels\n",
    "from statsmodels.stats import inter_rater\n",
    "import krippendorff\n",
    "\n",
    "# visualizations\n",
    "import matplotlib.pyplot as plt\n",
    "from matplotlib.patches import Patch\n",
    "import plotly.express as px\n",
    "from matplotlib import colors"
   ]
  },
  {
   "cell_type": "code",
   "execution_count": 20,
   "metadata": {},
   "outputs": [
    {
     "data": {
      "text/html": [
       "<div>\n",
       "<style scoped>\n",
       "    .dataframe tbody tr th:only-of-type {\n",
       "        vertical-align: middle;\n",
       "    }\n",
       "\n",
       "    .dataframe tbody tr th {\n",
       "        vertical-align: top;\n",
       "    }\n",
       "\n",
       "    .dataframe thead th {\n",
       "        text-align: right;\n",
       "    }\n",
       "</style>\n",
       "<table border=\"1\" class=\"dataframe\">\n",
       "  <thead>\n",
       "    <tr style=\"text-align: right;\">\n",
       "      <th></th>\n",
       "      <th>Unnamed: 0</th>\n",
       "      <th>sentence</th>\n",
       "      <th>news_link</th>\n",
       "      <th>outlet</th>\n",
       "      <th>topic</th>\n",
       "      <th>type</th>\n",
       "      <th>group_id</th>\n",
       "      <th>num_sent</th>\n",
       "      <th>Label_bias</th>\n",
       "      <th>Label_opinion</th>\n",
       "      <th>article</th>\n",
       "      <th>biased_words4</th>\n",
       "      <th>biased_words</th>\n",
       "    </tr>\n",
       "  </thead>\n",
       "  <tbody>\n",
       "    <tr>\n",
       "      <th>0</th>\n",
       "      <td>0</td>\n",
       "      <td>YouTube is making clear there will be no “birt...</td>\n",
       "      <td>https://eu.usatoday.com/story/tech/2020/02/03/...</td>\n",
       "      <td>usa-today</td>\n",
       "      <td>elections-2020</td>\n",
       "      <td>center</td>\n",
       "      <td>1</td>\n",
       "      <td>1</td>\n",
       "      <td>Biased</td>\n",
       "      <td>Somewhat factual but also opinionated</td>\n",
       "      <td>YouTube says no ‘deepfakes’ or ‘birther’ video...</td>\n",
       "      <td>['belated', 'birtherism']</td>\n",
       "      <td>[belated, birtherism]</td>\n",
       "    </tr>\n",
       "    <tr>\n",
       "      <th>1</th>\n",
       "      <td>1</td>\n",
       "      <td>The increasingly bitter dispute between Americ...</td>\n",
       "      <td>https://www.nbcnews.com/news/sports/women-s-te...</td>\n",
       "      <td>msnbc</td>\n",
       "      <td>sport</td>\n",
       "      <td>left</td>\n",
       "      <td>1</td>\n",
       "      <td>1</td>\n",
       "      <td>Non-biased</td>\n",
       "      <td>Entirely factual</td>\n",
       "      <td>FRISCO, Texas — The increasingly bitter disput...</td>\n",
       "      <td>['bitter']</td>\n",
       "      <td>[bitter]</td>\n",
       "    </tr>\n",
       "  </tbody>\n",
       "</table>\n",
       "</div>"
      ],
      "text/plain": [
       "   Unnamed: 0                                           sentence  \\\n",
       "0           0  YouTube is making clear there will be no “birt...   \n",
       "1           1  The increasingly bitter dispute between Americ...   \n",
       "\n",
       "                                           news_link     outlet  \\\n",
       "0  https://eu.usatoday.com/story/tech/2020/02/03/...  usa-today   \n",
       "1  https://www.nbcnews.com/news/sports/women-s-te...      msnbc   \n",
       "\n",
       "            topic    type  group_id  num_sent  Label_bias  \\\n",
       "0  elections-2020  center         1         1      Biased   \n",
       "1           sport    left         1         1  Non-biased   \n",
       "\n",
       "                           Label_opinion  \\\n",
       "0  Somewhat factual but also opinionated   \n",
       "1                       Entirely factual   \n",
       "\n",
       "                                             article  \\\n",
       "0  YouTube says no ‘deepfakes’ or ‘birther’ video...   \n",
       "1  FRISCO, Texas — The increasingly bitter disput...   \n",
       "\n",
       "               biased_words4           biased_words  \n",
       "0  ['belated', 'birtherism']  [belated, birtherism]  \n",
       "1                 ['bitter']               [bitter]  "
      ]
     },
     "execution_count": 20,
     "metadata": {},
     "output_type": "execute_result"
    }
   ],
   "source": [
    "\n",
    "labeled_sentences = pd.read_excel('data/labeled_dataset.xlsx',engine='openpyxl')\n",
    "labeled_sentences[\"biased_words\"] = labeled_sentences.biased_words4.apply(lambda s: list(ast.literal_eval(s)))\n",
    "labeled_sentences.head(2)"
   ]
  },
  {
   "cell_type": "code",
   "execution_count": 22,
   "metadata": {},
   "outputs": [
    {
     "data": {
      "text/html": [
       "<div>\n",
       "<style scoped>\n",
       "    .dataframe tbody tr th:only-of-type {\n",
       "        vertical-align: middle;\n",
       "    }\n",
       "\n",
       "    .dataframe tbody tr th {\n",
       "        vertical-align: top;\n",
       "    }\n",
       "\n",
       "    .dataframe thead th {\n",
       "        text-align: right;\n",
       "    }\n",
       "</style>\n",
       "<table border=\"1\" class=\"dataframe\">\n",
       "  <thead>\n",
       "    <tr style=\"text-align: right;\">\n",
       "      <th></th>\n",
       "      <th>Unnamed: 0.1</th>\n",
       "      <th>Unnamed: 0</th>\n",
       "      <th>survey_record_id</th>\n",
       "      <th>sentence_id</th>\n",
       "      <th>group_id</th>\n",
       "      <th>created_at</th>\n",
       "      <th>label</th>\n",
       "      <th>words</th>\n",
       "      <th>factual</th>\n",
       "      <th>group_id.1</th>\n",
       "      <th>...</th>\n",
       "      <th>mturk_id</th>\n",
       "      <th>age</th>\n",
       "      <th>gender</th>\n",
       "      <th>education</th>\n",
       "      <th>native_english_speaker</th>\n",
       "      <th>political_ideology</th>\n",
       "      <th>followed_news_outlets</th>\n",
       "      <th>news_check_frequency</th>\n",
       "      <th>survey_completed</th>\n",
       "      <th>political_ideology_lcr</th>\n",
       "    </tr>\n",
       "  </thead>\n",
       "  <tbody>\n",
       "    <tr>\n",
       "      <th>0</th>\n",
       "      <td>0</td>\n",
       "      <td>19227</td>\n",
       "      <td>73a9148bc907314e086de8debe345824</td>\n",
       "      <td>1942</td>\n",
       "      <td>67</td>\n",
       "      <td>NaN</td>\n",
       "      <td>Biased</td>\n",
       "      <td>match-fixing,infamous,notorious</td>\n",
       "      <td>Entirely factual</td>\n",
       "      <td>67</td>\n",
       "      <td>...</td>\n",
       "      <td>73a9148bc907314e086de8debe345824</td>\n",
       "      <td>26.0</td>\n",
       "      <td>prefer not to say</td>\n",
       "      <td>graduate work</td>\n",
       "      <td>near native</td>\n",
       "      <td>18</td>\n",
       "      <td>[Reuters, BuzzFeed]</td>\n",
       "      <td>several times per month</td>\n",
       "      <td>True</td>\n",
       "      <td>right</td>\n",
       "    </tr>\n",
       "    <tr>\n",
       "      <th>1</th>\n",
       "      <td>1</td>\n",
       "      <td>19228</td>\n",
       "      <td>73a9148bc907314e086de8debe345824</td>\n",
       "      <td>1620</td>\n",
       "      <td>67</td>\n",
       "      <td>NaN</td>\n",
       "      <td>Biased</td>\n",
       "      <td>high</td>\n",
       "      <td>Expresses writer’s opinion</td>\n",
       "      <td>67</td>\n",
       "      <td>...</td>\n",
       "      <td>73a9148bc907314e086de8debe345824</td>\n",
       "      <td>26.0</td>\n",
       "      <td>prefer not to say</td>\n",
       "      <td>graduate work</td>\n",
       "      <td>near native</td>\n",
       "      <td>18</td>\n",
       "      <td>[Reuters, BuzzFeed]</td>\n",
       "      <td>several times per month</td>\n",
       "      <td>True</td>\n",
       "      <td>right</td>\n",
       "    </tr>\n",
       "  </tbody>\n",
       "</table>\n",
       "<p>2 rows × 25 columns</p>\n",
       "</div>"
      ],
      "text/plain": [
       "   Unnamed: 0.1  Unnamed: 0                  survey_record_id  sentence_id  \\\n",
       "0             0       19227  73a9148bc907314e086de8debe345824         1942   \n",
       "1             1       19228  73a9148bc907314e086de8debe345824         1620   \n",
       "\n",
       "   group_id  created_at   label                            words  \\\n",
       "0        67         NaN  Biased  match-fixing,infamous,notorious   \n",
       "1        67         NaN  Biased                             high   \n",
       "\n",
       "                      factual  group_id.1  ...  \\\n",
       "0            Entirely factual          67  ...   \n",
       "1  Expresses writer’s opinion          67  ...   \n",
       "\n",
       "                           mturk_id   age             gender      education  \\\n",
       "0  73a9148bc907314e086de8debe345824  26.0  prefer not to say  graduate work   \n",
       "1  73a9148bc907314e086de8debe345824  26.0  prefer not to say  graduate work   \n",
       "\n",
       "  native_english_speaker political_ideology  followed_news_outlets  \\\n",
       "0            near native                 18    [Reuters, BuzzFeed]   \n",
       "1            near native                 18    [Reuters, BuzzFeed]   \n",
       "\n",
       "      news_check_frequency survey_completed political_ideology_lcr  \n",
       "0  several times per month             True                  right  \n",
       "1  several times per month             True                  right  \n",
       "\n",
       "[2 rows x 25 columns]"
      ]
     },
     "execution_count": 22,
     "metadata": {},
     "output_type": "execute_result"
    }
   ],
   "source": [
    "\n",
    "annotations = pd.read_excel('data/annotations_final_notempty.xlsx',engine='openpyxl')\n",
    "annotations['political_ideology_lcr'] = annotations['political_ideology'].apply(lambda x: \"left\" if x < -3\n",
    "                                                                                else (\"right\" if x > 3 else \"center\"))\n",
    "annotations[\"followed_news_outlets\"] = annotations.followed_news_outlets.apply(lambda s: list(ast.literal_eval(s)))\n",
    "\n",
    "annotations.head(2)\n"
   ]
  },
  {
   "cell_type": "code",
   "execution_count": 23,
   "metadata": {},
   "outputs": [
    {
     "data": {
      "text/html": [
       "<div>\n",
       "<style scoped>\n",
       "    .dataframe tbody tr th:only-of-type {\n",
       "        vertical-align: middle;\n",
       "    }\n",
       "\n",
       "    .dataframe tbody tr th {\n",
       "        vertical-align: top;\n",
       "    }\n",
       "\n",
       "    .dataframe thead th {\n",
       "        text-align: right;\n",
       "    }\n",
       "</style>\n",
       "<table border=\"1\" class=\"dataframe\">\n",
       "  <thead>\n",
       "    <tr style=\"text-align: right;\">\n",
       "      <th></th>\n",
       "      <th>sentence</th>\n",
       "      <th>Biased</th>\n",
       "      <th>Non-biased</th>\n",
       "      <th>Label_bias</th>\n",
       "      <th>Total_annotations</th>\n",
       "    </tr>\n",
       "  </thead>\n",
       "  <tbody>\n",
       "    <tr>\n",
       "      <th>0</th>\n",
       "      <td>Orange Is the New Black\" star Yael Stone is re...</td>\n",
       "      <td>0</td>\n",
       "      <td>1</td>\n",
       "      <td>Non-biased</td>\n",
       "      <td>1</td>\n",
       "    </tr>\n",
       "    <tr>\n",
       "      <th>1</th>\n",
       "      <td>A 10-hour hearing broadcast on the courtâ€™s w...</td>\n",
       "      <td>0</td>\n",
       "      <td>1</td>\n",
       "      <td>Non-biased</td>\n",
       "      <td>1</td>\n",
       "    </tr>\n",
       "  </tbody>\n",
       "</table>\n",
       "</div>"
      ],
      "text/plain": [
       "                                            sentence  Biased  Non-biased  \\\n",
       "0  Orange Is the New Black\" star Yael Stone is re...       0           1   \n",
       "1  A 10-hour hearing broadcast on the courtâ€™s w...       0           1   \n",
       "\n",
       "   Label_bias  Total_annotations  \n",
       "0  Non-biased                  1  \n",
       "1  Non-biased                  1  "
      ]
     },
     "execution_count": 23,
     "metadata": {},
     "output_type": "execute_result"
    }
   ],
   "source": [
    "results_bias = pd.read_excel('data/results_bias.xlsx',engine='openpyxl')\n",
    "results_bias.head(2)"
   ]
  },
  {
   "attachments": {},
   "cell_type": "markdown",
   "metadata": {},
   "source": [
    "## 1 Annotations exploration"
   ]
  },
  {
   "cell_type": "code",
   "execution_count": 24,
   "metadata": {},
   "outputs": [
    {
     "name": "stdout",
     "output_type": "stream",
     "text": [
      "Average number of biased words in the senetcne: 2\n"
     ]
    }
   ],
   "source": [
    "labeled_sentences['num_biased_words'] = labeled_sentences.biased_words.apply(lambda row: len(row))\n",
    "sent_with_biased_words = labeled_sentences[labeled_sentences['num_biased_words']>0]\n",
    "print('Average number of biased words in the senetcne:', int(sent_with_biased_words.num_biased_words.mean()))"
   ]
  },
  {
   "cell_type": "code",
   "execution_count": 25,
   "metadata": {},
   "outputs": [
    {
     "data": {
      "text/html": [
       "<div>\n",
       "<style scoped>\n",
       "    .dataframe tbody tr th:only-of-type {\n",
       "        vertical-align: middle;\n",
       "    }\n",
       "\n",
       "    .dataframe tbody tr th {\n",
       "        vertical-align: top;\n",
       "    }\n",
       "\n",
       "    .dataframe thead th {\n",
       "        text-align: right;\n",
       "    }\n",
       "</style>\n",
       "<table border=\"1\" class=\"dataframe\">\n",
       "  <thead>\n",
       "    <tr style=\"text-align: right;\">\n",
       "      <th></th>\n",
       "      <th>Label_bias</th>\n",
       "      <th>num_sentences</th>\n",
       "    </tr>\n",
       "  </thead>\n",
       "  <tbody>\n",
       "    <tr>\n",
       "      <th>0</th>\n",
       "      <td>Biased</td>\n",
       "      <td>1018</td>\n",
       "    </tr>\n",
       "    <tr>\n",
       "      <th>1</th>\n",
       "      <td>Non-biased</td>\n",
       "      <td>533</td>\n",
       "    </tr>\n",
       "    <tr>\n",
       "      <th>2</th>\n",
       "      <td>No agreement</td>\n",
       "      <td>149</td>\n",
       "    </tr>\n",
       "  </tbody>\n",
       "</table>\n",
       "</div>"
      ],
      "text/plain": [
       "     Label_bias  num_sentences\n",
       "0        Biased           1018\n",
       "1    Non-biased            533\n",
       "2  No agreement            149"
      ]
     },
     "execution_count": 25,
     "metadata": {},
     "output_type": "execute_result"
    }
   ],
   "source": [
    "# bias vs non-bias\n",
    "bias_obs = labeled_sentences.groupby(['Label_bias'])[['sentence']].count()\n",
    "bias_obs = bias_obs.reset_index()\n",
    "bias_obs = bias_obs.rename(columns={\"sentence\": \"num_sentences\"})\n",
    "bias_obs['sorting'] = [1, 3, 2]\n",
    "bias_obs = bias_obs.sort_values(by=['sorting']).reset_index()\n",
    "bias_obs = bias_obs[['Label_bias','num_sentences']]\n",
    "\n",
    "bias_obs"
   ]
  },
  {
   "cell_type": "code",
   "execution_count": 26,
   "metadata": {},
   "outputs": [
    {
     "data": {
      "image/png": "[encoded data removed]",
      "text/plain": [
       "<Figure size 1000x700 with 1 Axes>"
      ]
     },
     "metadata": {},
     "output_type": "display_data"
    }
   ],
   "source": [
    "cols = np.array([\n",
    "    np.array(colors.to_rgba('indianred', alpha=0.8)),\n",
    "    np.array(colors.to_rgba('seagreen', alpha=0.8)),\n",
    "    np.array(colors.to_rgba('dimgray', alpha=0.8))])\n",
    "\n",
    "def my_autopct(pct):\n",
    "    return ('%.1f%%' % pct) if pct > 2 else ''\n",
    "\n",
    "fig1, ax1 = plt.subplots(figsize=(10,7))\n",
    "my_pie = ax1.pie(bias_obs.num_sentences, labels=bias_obs.Label_bias,\n",
    "        startangle=90, textprops={'fontsize': 20}, #labeldistance=None,\n",
    "        autopct=my_autopct, pctdistance=0.8,\n",
    "       colors=cols)\n",
    "ax1.axis('equal')  # Equal aspect ratio ensures that pie is drawn as a circle.\n",
    "#ax1.legend(loc='upper right', bbox_to_anchor=(1.15, 0.95))\n",
    "\n",
    "for pie_wedge in my_pie[0]:\n",
    "    pie_wedge.set_edgecolor('white')\n",
    "\n",
    "plt.show()"
   ]
  },
  {
   "cell_type": "code",
   "execution_count": 27,
   "metadata": {},
   "outputs": [
    {
     "data": {
      "text/html": [
       "<div>\n",
       "<style scoped>\n",
       "    .dataframe tbody tr th:only-of-type {\n",
       "        vertical-align: middle;\n",
       "    }\n",
       "\n",
       "    .dataframe tbody tr th {\n",
       "        vertical-align: top;\n",
       "    }\n",
       "\n",
       "    .dataframe thead th {\n",
       "        text-align: right;\n",
       "    }\n",
       "</style>\n",
       "<table border=\"1\" class=\"dataframe\">\n",
       "  <thead>\n",
       "    <tr style=\"text-align: right;\">\n",
       "      <th></th>\n",
       "      <th>Label_opinion</th>\n",
       "      <th>num_sentences</th>\n",
       "    </tr>\n",
       "  </thead>\n",
       "  <tbody>\n",
       "    <tr>\n",
       "      <th>0</th>\n",
       "      <td>Factual</td>\n",
       "      <td>572</td>\n",
       "    </tr>\n",
       "    <tr>\n",
       "      <th>1</th>\n",
       "      <td>Both</td>\n",
       "      <td>433</td>\n",
       "    </tr>\n",
       "    <tr>\n",
       "      <th>2</th>\n",
       "      <td>Opinionated</td>\n",
       "      <td>521</td>\n",
       "    </tr>\n",
       "    <tr>\n",
       "      <th>3</th>\n",
       "      <td>No agreement</td>\n",
       "      <td>174</td>\n",
       "    </tr>\n",
       "  </tbody>\n",
       "</table>\n",
       "</div>"
      ],
      "text/plain": [
       "  Label_opinion  num_sentences\n",
       "0       Factual            572\n",
       "1          Both            433\n",
       "2   Opinionated            521\n",
       "3  No agreement            174"
      ]
     },
     "execution_count": 27,
     "metadata": {},
     "output_type": "execute_result"
    }
   ],
   "source": [
    "# opinionated vs factual\n",
    "opin_obs = labeled_sentences.groupby(['Label_opinion'])[['sentence']].count()\n",
    "opin_obs = opin_obs.reset_index()\n",
    "opin_obs = opin_obs.rename(columns={\"sentence\": \"num_sentences\"})\n",
    "opin_obs['sorting'] = [1, 3, 4, 2]\n",
    "opin_obs = opin_obs.sort_values(by=['sorting']).reset_index()\n",
    "opin_obs = opin_obs[['Label_opinion','num_sentences']]\n",
    "opin_obs = opin_obs.replace('Entirely factual', 'Factual')\n",
    "opin_obs = opin_obs.replace('Expresses writer’s opinion', 'Opinionated')\n",
    "opin_obs = opin_obs.replace('Somewhat factual but also opinionated', 'Both')\n",
    "\n",
    "opin_obs"
   ]
  },
  {
   "cell_type": "code",
   "execution_count": 28,
   "metadata": {},
   "outputs": [
    {
     "data": {
      "image/png": "[encoded data removed]",
      "text/plain": [
       "<Figure size 1000x700 with 1 Axes>"
      ]
     },
     "metadata": {},
     "output_type": "display_data"
    }
   ],
   "source": [
    "cols = np.array([\n",
    "    np.array(colors.to_rgba('seagreen', alpha=0.8)),\n",
    "    np.array(colors.to_rgba('darkkhaki', alpha=0.8)),\n",
    "    np.array(colors.to_rgba('indianred', alpha=0.8)),\n",
    "    np.array(colors.to_rgba('dimgray', alpha=0.8))])\n",
    "\n",
    "def my_autopct(pct):\n",
    "    return ('%.1f%%' % pct) if pct > 2 else ''\n",
    "\n",
    "fig1, ax1 = plt.subplots(figsize=(10,7))\n",
    "my_pie = ax1.pie(opin_obs.num_sentences, labels=opin_obs.Label_opinion,\n",
    "        startangle=90, textprops={'fontsize': 20}, #labeldistance=None,\n",
    "        autopct=my_autopct, pctdistance=0.8,\n",
    "       colors=cols)\n",
    "ax1.axis('equal')  # Equal aspect ratio ensures that pie is drawn as a circle.\n",
    "#ax1.legend(loc='upper right', bbox_to_anchor=(1.15, 0.95))\n",
    "\n",
    "for pie_wedge in my_pie[0]:\n",
    "    pie_wedge.set_edgecolor('white')\n",
    "\n",
    "plt.show()"
   ]
  },
  {
   "cell_type": "code",
   "execution_count": 29,
   "metadata": {},
   "outputs": [
    {
     "data": {
      "text/html": [
       "<div>\n",
       "<style scoped>\n",
       "    .dataframe tbody tr th:only-of-type {\n",
       "        vertical-align: middle;\n",
       "    }\n",
       "\n",
       "    .dataframe tbody tr th {\n",
       "        vertical-align: top;\n",
       "    }\n",
       "\n",
       "    .dataframe thead th {\n",
       "        text-align: right;\n",
       "    }\n",
       "</style>\n",
       "<table border=\"1\" class=\"dataframe\">\n",
       "  <thead>\n",
       "    <tr style=\"text-align: right;\">\n",
       "      <th></th>\n",
       "      <th>type</th>\n",
       "      <th>Label_bias</th>\n",
       "      <th>num_sentences</th>\n",
       "    </tr>\n",
       "  </thead>\n",
       "  <tbody>\n",
       "    <tr>\n",
       "      <th>0</th>\n",
       "      <td>center</td>\n",
       "      <td>Biased</td>\n",
       "      <td>88</td>\n",
       "    </tr>\n",
       "    <tr>\n",
       "      <th>1</th>\n",
       "      <td>center</td>\n",
       "      <td>No agr.</td>\n",
       "      <td>27</td>\n",
       "    </tr>\n",
       "    <tr>\n",
       "      <th>2</th>\n",
       "      <td>center</td>\n",
       "      <td>Non-biased</td>\n",
       "      <td>200</td>\n",
       "    </tr>\n",
       "    <tr>\n",
       "      <th>3</th>\n",
       "      <td>left</td>\n",
       "      <td>Biased</td>\n",
       "      <td>477</td>\n",
       "    </tr>\n",
       "    <tr>\n",
       "      <th>4</th>\n",
       "      <td>left</td>\n",
       "      <td>No agr.</td>\n",
       "      <td>57</td>\n",
       "    </tr>\n",
       "    <tr>\n",
       "      <th>5</th>\n",
       "      <td>left</td>\n",
       "      <td>Non-biased</td>\n",
       "      <td>160</td>\n",
       "    </tr>\n",
       "    <tr>\n",
       "      <th>6</th>\n",
       "      <td>right</td>\n",
       "      <td>Biased</td>\n",
       "      <td>453</td>\n",
       "    </tr>\n",
       "    <tr>\n",
       "      <th>7</th>\n",
       "      <td>right</td>\n",
       "      <td>No agr.</td>\n",
       "      <td>65</td>\n",
       "    </tr>\n",
       "    <tr>\n",
       "      <th>8</th>\n",
       "      <td>right</td>\n",
       "      <td>Non-biased</td>\n",
       "      <td>173</td>\n",
       "    </tr>\n",
       "  </tbody>\n",
       "</table>\n",
       "</div>"
      ],
      "text/plain": [
       "     type  Label_bias  num_sentences\n",
       "0  center      Biased             88\n",
       "1  center     No agr.             27\n",
       "2  center  Non-biased            200\n",
       "3    left      Biased            477\n",
       "4    left     No agr.             57\n",
       "5    left  Non-biased            160\n",
       "6   right      Biased            453\n",
       "7   right     No agr.             65\n",
       "8   right  Non-biased            173"
      ]
     },
     "execution_count": 29,
     "metadata": {},
     "output_type": "execute_result"
    }
   ],
   "source": [
    "type_bias = labeled_sentences.groupby(['type','Label_bias'])[['sentence']].count()\n",
    "type_bias = type_bias.reset_index()\n",
    "type_bias = type_bias.rename(columns={\"sentence\": \"num_sentences\"})\n",
    "type_bias = type_bias.replace('No agreement', 'No agr.')\n",
    "type_bias"
   ]
  },
  {
   "cell_type": "code",
   "execution_count": 30,
   "metadata": {},
   "outputs": [
    {
     "data": {
      "application/vnd.plotly.v1+json": {
       "config": {
        "plotlyServerURL": "https://plot.ly"
       },
       "data": [
        {
         "branchvalues": "total",
         "customdata": [
          [
           "center"
          ],
          [
           "left"
          ],
          [
           "right"
          ],
          [
           "center"
          ],
          [
           "left"
          ],
          [
           "right"
          ],
          [
           "center"
          ],
          [
           "left"
          ],
          [
           "right"
          ],
          [
           "center"
          ],
          [
           "left"
          ],
          [
           "right"
          ]
         ],
         "domain": {
          "x": [
           0,
           1
          ],
          "y": [
           0,
           1
          ]
         },
         "hovertemplate": "labels=%{label}<br>num_sentences=%{value}<br>parent=%{parent}<br>id=%{id}<br>type=%{customdata[0]}<extra></extra>",
         "ids": [
          "center/Biased",
          "left/Biased",
          "right/Biased",
          "center/No agr.",
          "left/No agr.",
          "right/No agr.",
          "center/Non-biased",
          "left/Non-biased",
          "right/Non-biased",
          "center",
          "left",
          "right"
         ],
         "labels": [
          "Biased",
          "Biased",
          "Biased",
          "No agr.",
          "No agr.",
          "No agr.",
          "Non-biased",
          "Non-biased",
          "Non-biased",
          "center",
          "left",
          "right"
         ],
         "marker": {
          "colors": [
           "thistle",
           "steelblue",
           "indianred",
           "thistle",
           "steelblue",
           "indianred",
           "thistle",
           "steelblue",
           "indianred",
           "thistle",
           "steelblue",
           "indianred"
          ]
         },
         "name": "",
         "parents": [
          "center",
          "left",
          "right",
          "center",
          "left",
          "right",
          "center",
          "left",
          "right",
          "",
          "",
          ""
         ],
         "textfont": {
          "size": 20
         },
         "type": "sunburst",
         "values": [
          88,
          477,
          453,
          27,
          57,
          65,
          200,
          160,
          173,
          315,
          694,
          691
         ]
        }
       ],
       "layout": {
        "legend": {
         "tracegroupgap": 0
        },
        "margin": {
         "t": 60
        },
        "template": {
         "data": {
          "bar": [
           {
            "error_x": {
             "color": "#2a3f5f"
            },
            "error_y": {
             "color": "#2a3f5f"
            },
            "marker": {
             "line": {
              "color": "#E5ECF6",
              "width": 0.5
             },
             "pattern": {
              "fillmode": "overlay",
              "size": 10,
              "solidity": 0.2
             }
            },
            "type": "bar"
           }
          ],
          "barpolar": [
           {
            "marker": {
             "line": {
              "color": "#E5ECF6",
              "width": 0.5
             },
             "pattern": {
              "fillmode": "overlay",
              "size": 10,
              "solidity": 0.2
             }
            },
            "type": "barpolar"
           }
          ],
          "carpet": [
           {
            "aaxis": {
             "endlinecolor": "#2a3f5f",
             "gridcolor": "white",
             "linecolor": "white",
             "minorgridcolor": "white",
             "startlinecolor": "#2a3f5f"
            },
            "baxis": {
             "endlinecolor": "#2a3f5f",
             "gridcolor": "white",
             "linecolor": "white",
             "minorgridcolor": "white",
             "startlinecolor": "#2a3f5f"
            },
            "type": "carpet"
           }
          ],
          "choropleth": [
           {
            "colorbar": {
             "outlinewidth": 0,
             "ticks": ""
            },
            "type": "choropleth"
           }
          ],
          "contour": [
           {
            "colorbar": {
             "outlinewidth": 0,
             "ticks": ""
            },
            "colorscale": [
             [
              0,
              "#0d0887"
             ],
             [
              0.1111111111111111,
              "#46039f"
             ],
             [
              0.2222222222222222,
              "#7201a8"
             ],
             [
              0.3333333333333333,
              "#9c179e"
             ],
             [
              0.4444444444444444,
              "#bd3786"
             ],
             [
              0.5555555555555556,
              "#d8576b"
             ],
             [
              0.6666666666666666,
              "#ed7953"
             ],
             [
              0.7777777777777778,
              "#fb9f3a"
             ],
             [
              0.8888888888888888,
              "#fdca26"
             ],
             [
              1,
              "#f0f921"
             ]
            ],
            "type": "contour"
           }
          ],
          "contourcarpet": [
           {
            "colorbar": {
             "outlinewidth": 0,
             "ticks": ""
            },
            "type": "contourcarpet"
           }
          ],
          "heatmap": [
           {
            "colorbar": {
             "outlinewidth": 0,
             "ticks": ""
            },
            "colorscale": [
             [
              0,
              "#0d0887"
             ],
             [
              0.1111111111111111,
              "#46039f"
             ],
             [
              0.2222222222222222,
              "#7201a8"
             ],
             [
              0.3333333333333333,
              "#9c179e"
             ],
             [
              0.4444444444444444,
              "#bd3786"
             ],
             [
              0.5555555555555556,
              "#d8576b"
             ],
             [
              0.6666666666666666,
              "#ed7953"
             ],
             [
              0.7777777777777778,
              "#fb9f3a"
             ],
             [
              0.8888888888888888,
              "#fdca26"
             ],
             [
              1,
              "#f0f921"
             ]
            ],
            "type": "heatmap"
           }
          ],
          "heatmapgl": [
           {
            "colorbar": {
             "outlinewidth": 0,
             "ticks": ""
            },
            "colorscale": [
             [
              0,
              "#0d0887"
             ],
             [
              0.1111111111111111,
              "#46039f"
             ],
             [
              0.2222222222222222,
              "#7201a8"
             ],
             [
              0.3333333333333333,
              "#9c179e"
             ],
             [
              0.4444444444444444,
              "#bd3786"
             ],
             [
              0.5555555555555556,
              "#d8576b"
             ],
             [
              0.6666666666666666,
              "#ed7953"
             ],
             [
              0.7777777777777778,
              "#fb9f3a"
             ],
             [
              0.8888888888888888,
              "#fdca26"
             ],
             [
              1,
              "#f0f921"
             ]
            ],
            "type": "heatmapgl"
           }
          ],
          "histogram": [
           {
            "marker": {
             "pattern": {
              "fillmode": "overlay",
              "size": 10,
              "solidity": 0.2
             }
            },
            "type": "histogram"
           }
          ],
          "histogram2d": [
           {
            "colorbar": {
             "outlinewidth": 0,
             "ticks": ""
            },
            "colorscale": [
             [
              0,
              "#0d0887"
             ],
             [
              0.1111111111111111,
              "#46039f"
             ],
             [
              0.2222222222222222,
              "#7201a8"
             ],
             [
              0.3333333333333333,
              "#9c179e"
             ],
             [
              0.4444444444444444,
              "#bd3786"
             ],
             [
              0.5555555555555556,
              "#d8576b"
             ],
             [
              0.6666666666666666,
              "#ed7953"
             ],
             [
              0.7777777777777778,
              "#fb9f3a"
             ],
             [
              0.8888888888888888,
              "#fdca26"
             ],
             [
              1,
              "#f0f921"
             ]
            ],
            "type": "histogram2d"
           }
          ],
          "histogram2dcontour": [
           {
            "colorbar": {
             "outlinewidth": 0,
             "ticks": ""
            },
            "colorscale": [
             [
              0,
              "#0d0887"
             ],
             [
              0.1111111111111111,
              "#46039f"
             ],
             [
              0.2222222222222222,
              "#7201a8"
             ],
             [
              0.3333333333333333,
              "#9c179e"
             ],
             [
              0.4444444444444444,
              "#bd3786"
             ],
             [
              0.5555555555555556,
              "#d8576b"
             ],
             [
              0.6666666666666666,
              "#ed7953"
             ],
             [
              0.7777777777777778,
              "#fb9f3a"
             ],
             [
              0.8888888888888888,
              "#fdca26"
             ],
             [
              1,
              "#f0f921"
             ]
            ],
            "type": "histogram2dcontour"
           }
          ],
          "mesh3d": [
           {
            "colorbar": {
             "outlinewidth": 0,
             "ticks": ""
            },
            "type": "mesh3d"
           }
          ],
          "parcoords": [
           {
            "line": {
             "colorbar": {
              "outlinewidth": 0,
              "ticks": ""
             }
            },
            "type": "parcoords"
           }
          ],
          "pie": [
           {
            "automargin": true,
            "type": "pie"
           }
          ],
          "scatter": [
           {
            "fillpattern": {
             "fillmode": "overlay",
             "size": 10,
             "solidity": 0.2
            },
            "type": "scatter"
           }
          ],
          "scatter3d": [
           {
            "line": {
             "colorbar": {
              "outlinewidth": 0,
              "ticks": ""
             }
            },
            "marker": {
             "colorbar": {
              "outlinewidth": 0,
              "ticks": ""
             }
            },
            "type": "scatter3d"
           }
          ],
          "scattercarpet": [
           {
            "marker": {
             "colorbar": {
              "outlinewidth": 0,
              "ticks": ""
             }
            },
            "type": "scattercarpet"
           }
          ],
          "scattergeo": [
           {
            "marker": {
             "colorbar": {
              "outlinewidth": 0,
              "ticks": ""
             }
            },
            "type": "scattergeo"
           }
          ],
          "scattergl": [
           {
            "marker": {
             "colorbar": {
              "outlinewidth": 0,
              "ticks": ""
             }
            },
            "type": "scattergl"
           }
          ],
          "scattermapbox": [
           {
            "marker": {
             "colorbar": {
              "outlinewidth": 0,
              "ticks": ""
             }
            },
            "type": "scattermapbox"
           }
          ],
          "scatterpolar": [
           {
            "marker": {
             "colorbar": {
              "outlinewidth": 0,
              "ticks": ""
             }
            },
            "type": "scatterpolar"
           }
          ],
          "scatterpolargl": [
           {
            "marker": {
             "colorbar": {
              "outlinewidth": 0,
              "ticks": ""
             }
            },
            "type": "scatterpolargl"
           }
          ],
          "scatterternary": [
           {
            "marker": {
             "colorbar": {
              "outlinewidth": 0,
              "ticks": ""
             }
            },
            "type": "scatterternary"
           }
          ],
          "surface": [
           {
            "colorbar": {
             "outlinewidth": 0,
             "ticks": ""
            },
            "colorscale": [
             [
              0,
              "#0d0887"
             ],
             [
              0.1111111111111111,
              "#46039f"
             ],
             [
              0.2222222222222222,
              "#7201a8"
             ],
             [
              0.3333333333333333,
              "#9c179e"
             ],
             [
              0.4444444444444444,
              "#bd3786"
             ],
             [
              0.5555555555555556,
              "#d8576b"
             ],
             [
              0.6666666666666666,
              "#ed7953"
             ],
             [
              0.7777777777777778,
              "#fb9f3a"
             ],
             [
              0.8888888888888888,
              "#fdca26"
             ],
             [
              1,
              "#f0f921"
             ]
            ],
            "type": "surface"
           }
          ],
          "table": [
           {
            "cells": {
             "fill": {
              "color": "#EBF0F8"
             },
             "line": {
              "color": "white"
             }
            },
            "header": {
             "fill": {
              "color": "#C8D4E3"
             },
             "line": {
              "color": "white"
             }
            },
            "type": "table"
           }
          ]
         },
         "layout": {
          "annotationdefaults": {
           "arrowcolor": "#2a3f5f",
           "arrowhead": 0,
           "arrowwidth": 1
          },
          "autotypenumbers": "strict",
          "coloraxis": {
           "colorbar": {
            "outlinewidth": 0,
            "ticks": ""
           }
          },
          "colorscale": {
           "diverging": [
            [
             0,
             "#8e0152"
            ],
            [
             0.1,
             "#c51b7d"
            ],
            [
             0.2,
             "#de77ae"
            ],
            [
             0.3,
             "#f1b6da"
            ],
            [
             0.4,
             "#fde0ef"
            ],
            [
             0.5,
             "#f7f7f7"
            ],
            [
             0.6,
             "#e6f5d0"
            ],
            [
             0.7,
             "#b8e186"
            ],
            [
             0.8,
             "#7fbc41"
            ],
            [
             0.9,
             "#4d9221"
            ],
            [
             1,
             "#276419"
            ]
           ],
           "sequential": [
            [
             0,
             "#0d0887"
            ],
            [
             0.1111111111111111,
             "#46039f"
            ],
            [
             0.2222222222222222,
             "#7201a8"
            ],
            [
             0.3333333333333333,
             "#9c179e"
            ],
            [
             0.4444444444444444,
             "#bd3786"
            ],
            [
             0.5555555555555556,
             "#d8576b"
            ],
            [
             0.6666666666666666,
             "#ed7953"
            ],
            [
             0.7777777777777778,
             "#fb9f3a"
            ],
            [
             0.8888888888888888,
             "#fdca26"
            ],
            [
             1,
             "#f0f921"
            ]
           ],
           "sequentialminus": [
            [
             0,
             "#0d0887"
            ],
            [
             0.1111111111111111,
             "#46039f"
            ],
            [
             0.2222222222222222,
             "#7201a8"
            ],
            [
             0.3333333333333333,
             "#9c179e"
            ],
            [
             0.4444444444444444,
             "#bd3786"
            ],
            [
             0.5555555555555556,
             "#d8576b"
            ],
            [
             0.6666666666666666,
             "#ed7953"
            ],
            [
             0.7777777777777778,
             "#fb9f3a"
            ],
            [
             0.8888888888888888,
             "#fdca26"
            ],
            [
             1,
             "#f0f921"
            ]
           ]
          },
          "colorway": [
           "#636efa",
           "#EF553B",
           "#00cc96",
           "#ab63fa",
           "#FFA15A",
           "#19d3f3",
           "#FF6692",
           "#B6E880",
           "#FF97FF",
           "#FECB52"
          ],
          "font": {
           "color": "#2a3f5f"
          },
          "geo": {
           "bgcolor": "white",
           "lakecolor": "white",
           "landcolor": "#E5ECF6",
           "showlakes": true,
           "showland": true,
           "subunitcolor": "white"
          },
          "hoverlabel": {
           "align": "left"
          },
          "hovermode": "closest",
          "mapbox": {
           "style": "light"
          },
          "paper_bgcolor": "white",
          "plot_bgcolor": "#E5ECF6",
          "polar": {
           "angularaxis": {
            "gridcolor": "white",
            "linecolor": "white",
            "ticks": ""
           },
           "bgcolor": "#E5ECF6",
           "radialaxis": {
            "gridcolor": "white",
            "linecolor": "white",
            "ticks": ""
           }
          },
          "scene": {
           "xaxis": {
            "backgroundcolor": "#E5ECF6",
            "gridcolor": "white",
            "gridwidth": 2,
            "linecolor": "white",
            "showbackground": true,
            "ticks": "",
            "zerolinecolor": "white"
           },
           "yaxis": {
            "backgroundcolor": "#E5ECF6",
            "gridcolor": "white",
            "gridwidth": 2,
            "linecolor": "white",
            "showbackground": true,
            "ticks": "",
            "zerolinecolor": "white"
           },
           "zaxis": {
            "backgroundcolor": "#E5ECF6",
            "gridcolor": "white",
            "gridwidth": 2,
            "linecolor": "white",
            "showbackground": true,
            "ticks": "",
            "zerolinecolor": "white"
           }
          },
          "shapedefaults": {
           "line": {
            "color": "#2a3f5f"
           }
          },
          "ternary": {
           "aaxis": {
            "gridcolor": "white",
            "linecolor": "white",
            "ticks": ""
           },
           "baxis": {
            "gridcolor": "white",
            "linecolor": "white",
            "ticks": ""
           },
           "bgcolor": "#E5ECF6",
           "caxis": {
            "gridcolor": "white",
            "linecolor": "white",
            "ticks": ""
           }
          },
          "title": {
           "x": 0.05
          },
          "xaxis": {
           "automargin": true,
           "gridcolor": "white",
           "linecolor": "white",
           "ticks": "",
           "title": {
            "standoff": 15
           },
           "zerolinecolor": "white",
           "zerolinewidth": 2
          },
          "yaxis": {
           "automargin": true,
           "gridcolor": "white",
           "linecolor": "white",
           "ticks": "",
           "title": {
            "standoff": 15
           },
           "zerolinecolor": "white",
           "zerolinewidth": 2
          }
         }
        }
       }
      }
     },
     "metadata": {},
     "output_type": "display_data"
    }
   ],
   "source": [
    "fig = px.sunburst(data_frame = type_bias,\n",
    "                  path = ['type', 'Label_bias'],\n",
    "                  values = 'num_sentences',\n",
    "                  color='type',\n",
    "                  color_discrete_map={'center':'thistle', 'left':'steelblue','right':'indianred'})\n",
    "fig.update_traces(textfont_size=20)\n",
    "fig.show()"
   ]
  },
  {
   "cell_type": "code",
   "execution_count": 31,
   "metadata": {},
   "outputs": [
    {
     "data": {
      "text/html": [
       "<div>\n",
       "<style scoped>\n",
       "    .dataframe tbody tr th:only-of-type {\n",
       "        vertical-align: middle;\n",
       "    }\n",
       "\n",
       "    .dataframe tbody tr th {\n",
       "        vertical-align: top;\n",
       "    }\n",
       "\n",
       "    .dataframe thead th {\n",
       "        text-align: right;\n",
       "    }\n",
       "</style>\n",
       "<table border=\"1\" class=\"dataframe\">\n",
       "  <thead>\n",
       "    <tr style=\"text-align: right;\">\n",
       "      <th></th>\n",
       "      <th>type</th>\n",
       "      <th>Label_opinion</th>\n",
       "      <th>num_sentences</th>\n",
       "    </tr>\n",
       "  </thead>\n",
       "  <tbody>\n",
       "    <tr>\n",
       "      <th>0</th>\n",
       "      <td>center</td>\n",
       "      <td>Factual</td>\n",
       "      <td>210</td>\n",
       "    </tr>\n",
       "    <tr>\n",
       "      <th>1</th>\n",
       "      <td>center</td>\n",
       "      <td>Opinionated</td>\n",
       "      <td>22</td>\n",
       "    </tr>\n",
       "    <tr>\n",
       "      <th>2</th>\n",
       "      <td>center</td>\n",
       "      <td>No agr.</td>\n",
       "      <td>31</td>\n",
       "    </tr>\n",
       "    <tr>\n",
       "      <th>3</th>\n",
       "      <td>center</td>\n",
       "      <td>Both</td>\n",
       "      <td>52</td>\n",
       "    </tr>\n",
       "    <tr>\n",
       "      <th>4</th>\n",
       "      <td>left</td>\n",
       "      <td>Factual</td>\n",
       "      <td>177</td>\n",
       "    </tr>\n",
       "    <tr>\n",
       "      <th>5</th>\n",
       "      <td>left</td>\n",
       "      <td>Opinionated</td>\n",
       "      <td>250</td>\n",
       "    </tr>\n",
       "    <tr>\n",
       "      <th>6</th>\n",
       "      <td>left</td>\n",
       "      <td>No agr.</td>\n",
       "      <td>58</td>\n",
       "    </tr>\n",
       "    <tr>\n",
       "      <th>7</th>\n",
       "      <td>left</td>\n",
       "      <td>Both</td>\n",
       "      <td>209</td>\n",
       "    </tr>\n",
       "    <tr>\n",
       "      <th>8</th>\n",
       "      <td>right</td>\n",
       "      <td>Factual</td>\n",
       "      <td>185</td>\n",
       "    </tr>\n",
       "    <tr>\n",
       "      <th>9</th>\n",
       "      <td>right</td>\n",
       "      <td>Opinionated</td>\n",
       "      <td>249</td>\n",
       "    </tr>\n",
       "    <tr>\n",
       "      <th>10</th>\n",
       "      <td>right</td>\n",
       "      <td>No agr.</td>\n",
       "      <td>85</td>\n",
       "    </tr>\n",
       "    <tr>\n",
       "      <th>11</th>\n",
       "      <td>right</td>\n",
       "      <td>Both</td>\n",
       "      <td>172</td>\n",
       "    </tr>\n",
       "  </tbody>\n",
       "</table>\n",
       "</div>"
      ],
      "text/plain": [
       "      type Label_opinion  num_sentences\n",
       "0   center       Factual            210\n",
       "1   center   Opinionated             22\n",
       "2   center       No agr.             31\n",
       "3   center          Both             52\n",
       "4     left       Factual            177\n",
       "5     left   Opinionated            250\n",
       "6     left       No agr.             58\n",
       "7     left          Both            209\n",
       "8    right       Factual            185\n",
       "9    right   Opinionated            249\n",
       "10   right       No agr.             85\n",
       "11   right          Both            172"
      ]
     },
     "execution_count": 31,
     "metadata": {},
     "output_type": "execute_result"
    }
   ],
   "source": [
    "type_opin = labeled_sentences.groupby(['type','Label_opinion'])[['sentence']].count()\n",
    "type_opin = type_opin.reset_index()\n",
    "type_opin = type_opin.rename(columns={\"sentence\": \"num_sentences\"})\n",
    "type_opin = type_opin.replace('Entirely factual', 'Factual')\n",
    "type_opin = type_opin.replace('Expresses writer’s opinion', 'Opinionated')\n",
    "type_opin = type_opin.replace('Somewhat factual but also opinionated', 'Both')\n",
    "type_opin = type_opin.replace('No agreement', 'No agr.')\n",
    "type_opin"
   ]
  },
  {
   "cell_type": "code",
   "execution_count": 32,
   "metadata": {},
   "outputs": [
    {
     "data": {
      "application/vnd.plotly.v1+json": {
       "config": {
        "plotlyServerURL": "https://plot.ly"
       },
       "data": [
        {
         "branchvalues": "total",
         "customdata": [
          [
           "center"
          ],
          [
           "left"
          ],
          [
           "right"
          ],
          [
           "center"
          ],
          [
           "left"
          ],
          [
           "right"
          ],
          [
           "center"
          ],
          [
           "left"
          ],
          [
           "right"
          ],
          [
           "center"
          ],
          [
           "left"
          ],
          [
           "right"
          ],
          [
           "center"
          ],
          [
           "left"
          ],
          [
           "right"
          ]
         ],
         "domain": {
          "x": [
           0,
           1
          ],
          "y": [
           0,
           1
          ]
         },
         "hovertemplate": "labels=%{label}<br>num_sentences=%{value}<br>parent=%{parent}<br>id=%{id}<br>type=%{customdata[0]}<extra></extra>",
         "ids": [
          "center/Both",
          "left/Both",
          "right/Both",
          "center/Factual",
          "left/Factual",
          "right/Factual",
          "center/No agr.",
          "left/No agr.",
          "right/No agr.",
          "center/Opinionated",
          "left/Opinionated",
          "right/Opinionated",
          "center",
          "left",
          "right"
         ],
         "labels": [
          "Both",
          "Both",
          "Both",
          "Factual",
          "Factual",
          "Factual",
          "No agr.",
          "No agr.",
          "No agr.",
          "Opinionated",
          "Opinionated",
          "Opinionated",
          "center",
          "left",
          "right"
         ],
         "marker": {
          "colors": [
           "thistle",
           "steelblue",
           "indianred",
           "thistle",
           "steelblue",
           "indianred",
           "thistle",
           "steelblue",
           "indianred",
           "thistle",
           "steelblue",
           "indianred",
           "thistle",
           "steelblue",
           "indianred"
          ]
         },
         "name": "",
         "parents": [
          "center",
          "left",
          "right",
          "center",
          "left",
          "right",
          "center",
          "left",
          "right",
          "center",
          "left",
          "right",
          "",
          "",
          ""
         ],
         "textfont": {
          "size": 20
         },
         "type": "sunburst",
         "values": [
          52,
          209,
          172,
          210,
          177,
          185,
          31,
          58,
          85,
          22,
          250,
          249,
          315,
          694,
          691
         ]
        }
       ],
       "layout": {
        "legend": {
         "tracegroupgap": 0
        },
        "margin": {
         "t": 60
        },
        "template": {
         "data": {
          "bar": [
           {
            "error_x": {
             "color": "#2a3f5f"
            },
            "error_y": {
             "color": "#2a3f5f"
            },
            "marker": {
             "line": {
              "color": "#E5ECF6",
              "width": 0.5
             },
             "pattern": {
              "fillmode": "overlay",
              "size": 10,
              "solidity": 0.2
             }
            },
            "type": "bar"
           }
          ],
          "barpolar": [
           {
            "marker": {
             "line": {
              "color": "#E5ECF6",
              "width": 0.5
             },
             "pattern": {
              "fillmode": "overlay",
              "size": 10,
              "solidity": 0.2
             }
            },
            "type": "barpolar"
           }
          ],
          "carpet": [
           {
            "aaxis": {
             "endlinecolor": "#2a3f5f",
             "gridcolor": "white",
             "linecolor": "white",
             "minorgridcolor": "white",
             "startlinecolor": "#2a3f5f"
            },
            "baxis": {
             "endlinecolor": "#2a3f5f",
             "gridcolor": "white",
             "linecolor": "white",
             "minorgridcolor": "white",
             "startlinecolor": "#2a3f5f"
            },
            "type": "carpet"
           }
          ],
          "choropleth": [
           {
            "colorbar": {
             "outlinewidth": 0,
             "ticks": ""
            },
            "type": "choropleth"
           }
          ],
          "contour": [
           {
            "colorbar": {
             "outlinewidth": 0,
             "ticks": ""
            },
            "colorscale": [
             [
              0,
              "#0d0887"
             ],
             [
              0.1111111111111111,
              "#46039f"
             ],
             [
              0.2222222222222222,
              "#7201a8"
             ],
             [
              0.3333333333333333,
              "#9c179e"
             ],
             [
              0.4444444444444444,
              "#bd3786"
             ],
             [
              0.5555555555555556,
              "#d8576b"
             ],
             [
              0.6666666666666666,
              "#ed7953"
             ],
             [
              0.7777777777777778,
              "#fb9f3a"
             ],
             [
              0.8888888888888888,
              "#fdca26"
             ],
             [
              1,
              "#f0f921"
             ]
            ],
            "type": "contour"
           }
          ],
          "contourcarpet": [
           {
            "colorbar": {
             "outlinewidth": 0,
             "ticks": ""
            },
            "type": "contourcarpet"
           }
          ],
          "heatmap": [
           {
            "colorbar": {
             "outlinewidth": 0,
             "ticks": ""
            },
            "colorscale": [
             [
              0,
              "#0d0887"
             ],
             [
              0.1111111111111111,
              "#46039f"
             ],
             [
              0.2222222222222222,
              "#7201a8"
             ],
             [
              0.3333333333333333,
              "#9c179e"
             ],
             [
              0.4444444444444444,
              "#bd3786"
             ],
             [
              0.5555555555555556,
              "#d8576b"
             ],
             [
              0.6666666666666666,
              "#ed7953"
             ],
             [
              0.7777777777777778,
              "#fb9f3a"
             ],
             [
              0.8888888888888888,
              "#fdca26"
             ],
             [
              1,
              "#f0f921"
             ]
            ],
            "type": "heatmap"
           }
          ],
          "heatmapgl": [
           {
            "colorbar": {
             "outlinewidth": 0,
             "ticks": ""
            },
            "colorscale": [
             [
              0,
              "#0d0887"
             ],
             [
              0.1111111111111111,
              "#46039f"
             ],
             [
              0.2222222222222222,
              "#7201a8"
             ],
             [
              0.3333333333333333,
              "#9c179e"
             ],
             [
              0.4444444444444444,
              "#bd3786"
             ],
             [
              0.5555555555555556,
              "#d8576b"
             ],
             [
              0.6666666666666666,
              "#ed7953"
             ],
             [
              0.7777777777777778,
              "#fb9f3a"
             ],
             [
              0.8888888888888888,
              "#fdca26"
             ],
             [
              1,
              "#f0f921"
             ]
            ],
            "type": "heatmapgl"
           }
          ],
          "histogram": [
           {
            "marker": {
             "pattern": {
              "fillmode": "overlay",
              "size": 10,
              "solidity": 0.2
             }
            },
            "type": "histogram"
           }
          ],
          "histogram2d": [
           {
            "colorbar": {
             "outlinewidth": 0,
             "ticks": ""
            },
            "colorscale": [
             [
              0,
              "#0d0887"
             ],
             [
              0.1111111111111111,
              "#46039f"
             ],
             [
              0.2222222222222222,
              "#7201a8"
             ],
             [
              0.3333333333333333,
              "#9c179e"
             ],
             [
              0.4444444444444444,
              "#bd3786"
             ],
             [
              0.5555555555555556,
              "#d8576b"
             ],
             [
              0.6666666666666666,
              "#ed7953"
             ],
             [
              0.7777777777777778,
              "#fb9f3a"
             ],
             [
              0.8888888888888888,
              "#fdca26"
             ],
             [
              1,
              "#f0f921"
             ]
            ],
            "type": "histogram2d"
           }
          ],
          "histogram2dcontour": [
           {
            "colorbar": {
             "outlinewidth": 0,
             "ticks": ""
            },
            "colorscale": [
             [
              0,
              "#0d0887"
             ],
             [
              0.1111111111111111,
              "#46039f"
             ],
             [
              0.2222222222222222,
              "#7201a8"
             ],
             [
              0.3333333333333333,
              "#9c179e"
             ],
             [
              0.4444444444444444,
              "#bd3786"
             ],
             [
              0.5555555555555556,
              "#d8576b"
             ],
             [
              0.6666666666666666,
              "#ed7953"
             ],
             [
              0.7777777777777778,
              "#fb9f3a"
             ],
             [
              0.8888888888888888,
              "#fdca26"
             ],
             [
              1,
              "#f0f921"
             ]
            ],
            "type": "histogram2dcontour"
           }
          ],
          "mesh3d": [
           {
            "colorbar": {
             "outlinewidth": 0,
             "ticks": ""
            },
            "type": "mesh3d"
           }
          ],
          "parcoords": [
           {
            "line": {
             "colorbar": {
              "outlinewidth": 0,
              "ticks": ""
             }
            },
            "type": "parcoords"
           }
          ],
          "pie": [
           {
            "automargin": true,
            "type": "pie"
           }
          ],
          "scatter": [
           {
            "fillpattern": {
             "fillmode": "overlay",
             "size": 10,
             "solidity": 0.2
            },
            "type": "scatter"
           }
          ],
          "scatter3d": [
           {
            "line": {
             "colorbar": {
              "outlinewidth": 0,
              "ticks": ""
             }
            },
            "marker": {
             "colorbar": {
              "outlinewidth": 0,
              "ticks": ""
             }
            },
            "type": "scatter3d"
           }
          ],
          "scattercarpet": [
           {
            "marker": {
             "colorbar": {
              "outlinewidth": 0,
              "ticks": ""
             }
            },
            "type": "scattercarpet"
           }
          ],
          "scattergeo": [
           {
            "marker": {
             "colorbar": {
              "outlinewidth": 0,
              "ticks": ""
             }
            },
            "type": "scattergeo"
           }
          ],
          "scattergl": [
           {
            "marker": {
             "colorbar": {
              "outlinewidth": 0,
              "ticks": ""
             }
            },
            "type": "scattergl"
           }
          ],
          "scattermapbox": [
           {
            "marker": {
             "colorbar": {
              "outlinewidth": 0,
              "ticks": ""
             }
            },
            "type": "scattermapbox"
           }
          ],
          "scatterpolar": [
           {
            "marker": {
             "colorbar": {
              "outlinewidth": 0,
              "ticks": ""
             }
            },
            "type": "scatterpolar"
           }
          ],
          "scatterpolargl": [
           {
            "marker": {
             "colorbar": {
              "outlinewidth": 0,
              "ticks": ""
             }
            },
            "type": "scatterpolargl"
           }
          ],
          "scatterternary": [
           {
            "marker": {
             "colorbar": {
              "outlinewidth": 0,
              "ticks": ""
             }
            },
            "type": "scatterternary"
           }
          ],
          "surface": [
           {
            "colorbar": {
             "outlinewidth": 0,
             "ticks": ""
            },
            "colorscale": [
             [
              0,
              "#0d0887"
             ],
             [
              0.1111111111111111,
              "#46039f"
             ],
             [
              0.2222222222222222,
              "#7201a8"
             ],
             [
              0.3333333333333333,
              "#9c179e"
             ],
             [
              0.4444444444444444,
              "#bd3786"
             ],
             [
              0.5555555555555556,
              "#d8576b"
             ],
             [
              0.6666666666666666,
              "#ed7953"
             ],
             [
              0.7777777777777778,
              "#fb9f3a"
             ],
             [
              0.8888888888888888,
              "#fdca26"
             ],
             [
              1,
              "#f0f921"
             ]
            ],
            "type": "surface"
           }
          ],
          "table": [
           {
            "cells": {
             "fill": {
              "color": "#EBF0F8"
             },
             "line": {
              "color": "white"
             }
            },
            "header": {
             "fill": {
              "color": "#C8D4E3"
             },
             "line": {
              "color": "white"
             }
            },
            "type": "table"
           }
          ]
         },
         "layout": {
          "annotationdefaults": {
           "arrowcolor": "#2a3f5f",
           "arrowhead": 0,
           "arrowwidth": 1
          },
          "autotypenumbers": "strict",
          "coloraxis": {
           "colorbar": {
            "outlinewidth": 0,
            "ticks": ""
           }
          },
          "colorscale": {
           "diverging": [
            [
             0,
             "#8e0152"
            ],
            [
             0.1,
             "#c51b7d"
            ],
            [
             0.2,
             "#de77ae"
            ],
            [
             0.3,
             "#f1b6da"
            ],
            [
             0.4,
             "#fde0ef"
            ],
            [
             0.5,
             "#f7f7f7"
            ],
            [
             0.6,
             "#e6f5d0"
            ],
            [
             0.7,
             "#b8e186"
            ],
            [
             0.8,
             "#7fbc41"
            ],
            [
             0.9,
             "#4d9221"
            ],
            [
             1,
             "#276419"
            ]
           ],
           "sequential": [
            [
             0,
             "#0d0887"
            ],
            [
             0.1111111111111111,
             "#46039f"
            ],
            [
             0.2222222222222222,
             "#7201a8"
            ],
            [
             0.3333333333333333,
             "#9c179e"
            ],
            [
             0.4444444444444444,
             "#bd3786"
            ],
            [
             0.5555555555555556,
             "#d8576b"
            ],
            [
             0.6666666666666666,
             "#ed7953"
            ],
            [
             0.7777777777777778,
             "#fb9f3a"
            ],
            [
             0.8888888888888888,
             "#fdca26"
            ],
            [
             1,
             "#f0f921"
            ]
           ],
           "sequentialminus": [
            [
             0,
             "#0d0887"
            ],
            [
             0.1111111111111111,
             "#46039f"
            ],
            [
             0.2222222222222222,
             "#7201a8"
            ],
            [
             0.3333333333333333,
             "#9c179e"
            ],
            [
             0.4444444444444444,
             "#bd3786"
            ],
            [
             0.5555555555555556,
             "#d8576b"
            ],
            [
             0.6666666666666666,
             "#ed7953"
            ],
            [
             0.7777777777777778,
             "#fb9f3a"
            ],
            [
             0.8888888888888888,
             "#fdca26"
            ],
            [
             1,
             "#f0f921"
            ]
           ]
          },
          "colorway": [
           "#636efa",
           "#EF553B",
           "#00cc96",
           "#ab63fa",
           "#FFA15A",
           "#19d3f3",
           "#FF6692",
           "#B6E880",
           "#FF97FF",
           "#FECB52"
          ],
          "font": {
           "color": "#2a3f5f"
          },
          "geo": {
           "bgcolor": "white",
           "lakecolor": "white",
           "landcolor": "#E5ECF6",
           "showlakes": true,
           "showland": true,
           "subunitcolor": "white"
          },
          "hoverlabel": {
           "align": "left"
          },
          "hovermode": "closest",
          "mapbox": {
           "style": "light"
          },
          "paper_bgcolor": "white",
          "plot_bgcolor": "#E5ECF6",
          "polar": {
           "angularaxis": {
            "gridcolor": "white",
            "linecolor": "white",
            "ticks": ""
           },
           "bgcolor": "#E5ECF6",
           "radialaxis": {
            "gridcolor": "white",
            "linecolor": "white",
            "ticks": ""
           }
          },
          "scene": {
           "xaxis": {
            "backgroundcolor": "#E5ECF6",
            "gridcolor": "white",
            "gridwidth": 2,
            "linecolor": "white",
            "showbackground": true,
            "ticks": "",
            "zerolinecolor": "white"
           },
           "yaxis": {
            "backgroundcolor": "#E5ECF6",
            "gridcolor": "white",
            "gridwidth": 2,
            "linecolor": "white",
            "showbackground": true,
            "ticks": "",
            "zerolinecolor": "white"
           },
           "zaxis": {
            "backgroundcolor": "#E5ECF6",
            "gridcolor": "white",
            "gridwidth": 2,
            "linecolor": "white",
            "showbackground": true,
            "ticks": "",
            "zerolinecolor": "white"
           }
          },
          "shapedefaults": {
           "line": {
            "color": "#2a3f5f"
           }
          },
          "ternary": {
           "aaxis": {
            "gridcolor": "white",
            "linecolor": "white",
            "ticks": ""
           },
           "baxis": {
            "gridcolor": "white",
            "linecolor": "white",
            "ticks": ""
           },
           "bgcolor": "#E5ECF6",
           "caxis": {
            "gridcolor": "white",
            "linecolor": "white",
            "ticks": ""
           }
          },
          "title": {
           "x": 0.05
          },
          "xaxis": {
           "automargin": true,
           "gridcolor": "white",
           "linecolor": "white",
           "ticks": "",
           "title": {
            "standoff": 15
           },
           "zerolinecolor": "white",
           "zerolinewidth": 2
          },
          "yaxis": {
           "automargin": true,
           "gridcolor": "white",
           "linecolor": "white",
           "ticks": "",
           "title": {
            "standoff": 15
           },
           "zerolinecolor": "white",
           "zerolinewidth": 2
          }
         }
        }
       }
      }
     },
     "metadata": {},
     "output_type": "display_data"
    }
   ],
   "source": [
    "fig = px.sunburst(data_frame = type_opin,\n",
    "                  path = ['type', 'Label_opinion'],\n",
    "                  values = 'num_sentences',\n",
    "                  color='type',\n",
    "                  color_discrete_map={'center':'thistle', 'left':'steelblue','right':'indianred'})\n",
    "fig.update_traces(textfont_size=20)\n",
    "fig.show()"
   ]
  },
  {
   "attachments": {},
   "cell_type": "markdown",
   "metadata": {},
   "source": [
    "## 2 Bias perception"
   ]
  },
  {
   "attachments": {},
   "cell_type": "markdown",
   "metadata": {},
   "source": [
    "### 2.1 Bias perception across the topics"
   ]
  },
  {
   "cell_type": "code",
   "execution_count": 33,
   "metadata": {},
   "outputs": [
    {
     "data": {
      "text/html": [
       "<div>\n",
       "<style scoped>\n",
       "    .dataframe tbody tr th:only-of-type {\n",
       "        vertical-align: middle;\n",
       "    }\n",
       "\n",
       "    .dataframe tbody tr th {\n",
       "        vertical-align: top;\n",
       "    }\n",
       "\n",
       "    .dataframe thead th {\n",
       "        text-align: right;\n",
       "    }\n",
       "</style>\n",
       "<table border=\"1\" class=\"dataframe\">\n",
       "  <thead>\n",
       "    <tr style=\"text-align: right;\">\n",
       "      <th></th>\n",
       "      <th>Unnamed: 0</th>\n",
       "      <th>sentence</th>\n",
       "      <th>news_link</th>\n",
       "      <th>outlet</th>\n",
       "      <th>topic</th>\n",
       "      <th>type</th>\n",
       "      <th>group_id</th>\n",
       "      <th>num_sent</th>\n",
       "      <th>Label_bias</th>\n",
       "      <th>Label_opinion</th>\n",
       "      <th>article</th>\n",
       "      <th>biased_words4</th>\n",
       "      <th>biased_words</th>\n",
       "      <th>num_biased_words</th>\n",
       "      <th>Biased</th>\n",
       "      <th>Non-biased</th>\n",
       "      <th>Total_annotations</th>\n",
       "    </tr>\n",
       "  </thead>\n",
       "  <tbody>\n",
       "    <tr>\n",
       "      <th>0</th>\n",
       "      <td>0</td>\n",
       "      <td>YouTube is making clear there will be no “birt...</td>\n",
       "      <td>https://eu.usatoday.com/story/tech/2020/02/03/...</td>\n",
       "      <td>usa-today</td>\n",
       "      <td>elections-2020</td>\n",
       "      <td>center</td>\n",
       "      <td>1</td>\n",
       "      <td>1</td>\n",
       "      <td>Biased</td>\n",
       "      <td>Somewhat factual but also opinionated</td>\n",
       "      <td>YouTube says no ‘deepfakes’ or ‘birther’ video...</td>\n",
       "      <td>['belated', 'birtherism']</td>\n",
       "      <td>[belated, birtherism]</td>\n",
       "      <td>2</td>\n",
       "      <td>NaN</td>\n",
       "      <td>NaN</td>\n",
       "      <td>NaN</td>\n",
       "    </tr>\n",
       "    <tr>\n",
       "      <th>1</th>\n",
       "      <td>1</td>\n",
       "      <td>The increasingly bitter dispute between Americ...</td>\n",
       "      <td>https://www.nbcnews.com/news/sports/women-s-te...</td>\n",
       "      <td>msnbc</td>\n",
       "      <td>sport</td>\n",
       "      <td>left</td>\n",
       "      <td>1</td>\n",
       "      <td>1</td>\n",
       "      <td>Non-biased</td>\n",
       "      <td>Entirely factual</td>\n",
       "      <td>FRISCO, Texas — The increasingly bitter disput...</td>\n",
       "      <td>['bitter']</td>\n",
       "      <td>[bitter]</td>\n",
       "      <td>1</td>\n",
       "      <td>NaN</td>\n",
       "      <td>NaN</td>\n",
       "      <td>NaN</td>\n",
       "    </tr>\n",
       "    <tr>\n",
       "      <th>2</th>\n",
       "      <td>2</td>\n",
       "      <td>So while there may be a humanitarian crisis dr...</td>\n",
       "      <td>https://www.alternet.org/2019/01/here-are-5-of...</td>\n",
       "      <td>alternet</td>\n",
       "      <td>immigration</td>\n",
       "      <td>left</td>\n",
       "      <td>1</td>\n",
       "      <td>1</td>\n",
       "      <td>Biased</td>\n",
       "      <td>Expresses writer’s opinion</td>\n",
       "      <td>Speaking to the country for the first time fro...</td>\n",
       "      <td>['crisis']</td>\n",
       "      <td>[crisis]</td>\n",
       "      <td>1</td>\n",
       "      <td>NaN</td>\n",
       "      <td>NaN</td>\n",
       "      <td>NaN</td>\n",
       "    </tr>\n",
       "  </tbody>\n",
       "</table>\n",
       "</div>"
      ],
      "text/plain": [
       "   Unnamed: 0                                           sentence  \\\n",
       "0           0  YouTube is making clear there will be no “birt...   \n",
       "1           1  The increasingly bitter dispute between Americ...   \n",
       "2           2  So while there may be a humanitarian crisis dr...   \n",
       "\n",
       "                                           news_link     outlet  \\\n",
       "0  https://eu.usatoday.com/story/tech/2020/02/03/...  usa-today   \n",
       "1  https://www.nbcnews.com/news/sports/women-s-te...      msnbc   \n",
       "2  https://www.alternet.org/2019/01/here-are-5-of...   alternet   \n",
       "\n",
       "            topic    type  group_id  num_sent  Label_bias  \\\n",
       "0  elections-2020  center         1         1      Biased   \n",
       "1           sport    left         1         1  Non-biased   \n",
       "2     immigration    left         1         1      Biased   \n",
       "\n",
       "                           Label_opinion  \\\n",
       "0  Somewhat factual but also opinionated   \n",
       "1                       Entirely factual   \n",
       "2             Expresses writer’s opinion   \n",
       "\n",
       "                                             article  \\\n",
       "0  YouTube says no ‘deepfakes’ or ‘birther’ video...   \n",
       "1  FRISCO, Texas — The increasingly bitter disput...   \n",
       "2  Speaking to the country for the first time fro...   \n",
       "\n",
       "               biased_words4           biased_words  num_biased_words  Biased  \\\n",
       "0  ['belated', 'birtherism']  [belated, birtherism]                 2     NaN   \n",
       "1                 ['bitter']               [bitter]                 1     NaN   \n",
       "2                 ['crisis']               [crisis]                 1     NaN   \n",
       "\n",
       "   Non-biased  Total_annotations  \n",
       "0         NaN                NaN  \n",
       "1         NaN                NaN  \n",
       "2         NaN                NaN  "
      ]
     },
     "execution_count": 33,
     "metadata": {},
     "output_type": "execute_result"
    }
   ],
   "source": [
    "des_st_topics = pd.merge(labeled_sentences, results_bias[['sentence', 'Biased', 'Non-biased', 'Total_annotations']],\n",
    "                           left_on = 'sentence', right_on = 'sentence',\n",
    "                           how='left')\n",
    "des_st_topics.head(3)"
   ]
  },
  {
   "cell_type": "code",
   "execution_count": 34,
   "metadata": {},
   "outputs": [
    {
     "name": "stdout",
     "output_type": "stream",
     "text": [
      "Is there missing values? True\n",
      "Number of missing values:\n",
      " Unnamed: 0              0\n",
      "sentence                0\n",
      "news_link              19\n",
      "outlet                  0\n",
      "topic                   0\n",
      "type                    0\n",
      "group_id                0\n",
      "num_sent                0\n",
      "Label_bias              0\n",
      "Label_opinion           0\n",
      "article               100\n",
      "biased_words4           0\n",
      "biased_words            0\n",
      "num_biased_words        0\n",
      "Biased               1591\n",
      "Non-biased           1591\n",
      "Total_annotations    1591\n",
      "dtype: int64\n"
     ]
    }
   ],
   "source": [
    "print('Is there missing values?', des_st_topics.isnull().values.any())\n",
    "print('Number of missing values:\\n', des_st_topics.isnull().sum())\n",
    "des_st_topics = des_st_topics.fillna(0)"
   ]
  },
  {
   "cell_type": "code",
   "execution_count": 36,
   "metadata": {
    "scrolled": true
   },
   "outputs": [
    {
     "data": {
      "text/html": [
       "<div>\n",
       "<style scoped>\n",
       "    .dataframe tbody tr th:only-of-type {\n",
       "        vertical-align: middle;\n",
       "    }\n",
       "\n",
       "    .dataframe tbody tr th {\n",
       "        vertical-align: top;\n",
       "    }\n",
       "\n",
       "    .dataframe thead th {\n",
       "        text-align: right;\n",
       "    }\n",
       "</style>\n",
       "<table border=\"1\" class=\"dataframe\">\n",
       "  <thead>\n",
       "    <tr style=\"text-align: right;\">\n",
       "      <th></th>\n",
       "      <th>topic</th>\n",
       "      <th>Biased</th>\n",
       "      <th>Non-biased</th>\n",
       "      <th>Total_annotations</th>\n",
       "      <th>sentence</th>\n",
       "      <th>bias_perc</th>\n",
       "      <th>nonbias_perc</th>\n",
       "      <th>controversial</th>\n",
       "    </tr>\n",
       "  </thead>\n",
       "  <tbody>\n",
       "    <tr>\n",
       "      <th>0</th>\n",
       "      <td>abortion</td>\n",
       "      <td>10.0</td>\n",
       "      <td>6.0</td>\n",
       "      <td>16.0</td>\n",
       "      <td>126</td>\n",
       "      <td>62.5</td>\n",
       "      <td>37.5</td>\n",
       "      <td>yes</td>\n",
       "    </tr>\n",
       "    <tr>\n",
       "      <th>1</th>\n",
       "      <td>coronavirus</td>\n",
       "      <td>13.0</td>\n",
       "      <td>2.0</td>\n",
       "      <td>15.0</td>\n",
       "      <td>122</td>\n",
       "      <td>86.7</td>\n",
       "      <td>13.3</td>\n",
       "      <td>yes</td>\n",
       "    </tr>\n",
       "    <tr>\n",
       "      <th>2</th>\n",
       "      <td>elections-2020</td>\n",
       "      <td>1.0</td>\n",
       "      <td>2.0</td>\n",
       "      <td>3.0</td>\n",
       "      <td>111</td>\n",
       "      <td>33.3</td>\n",
       "      <td>66.7</td>\n",
       "      <td>yes</td>\n",
       "    </tr>\n",
       "    <tr>\n",
       "      <th>3</th>\n",
       "      <td>environment</td>\n",
       "      <td>8.0</td>\n",
       "      <td>3.0</td>\n",
       "      <td>11.0</td>\n",
       "      <td>135</td>\n",
       "      <td>72.7</td>\n",
       "      <td>27.3</td>\n",
       "      <td>yes</td>\n",
       "    </tr>\n",
       "    <tr>\n",
       "      <th>4</th>\n",
       "      <td>gender</td>\n",
       "      <td>2.0</td>\n",
       "      <td>1.0</td>\n",
       "      <td>3.0</td>\n",
       "      <td>128</td>\n",
       "      <td>66.7</td>\n",
       "      <td>33.3</td>\n",
       "      <td>yes</td>\n",
       "    </tr>\n",
       "    <tr>\n",
       "      <th>5</th>\n",
       "      <td>gun-control</td>\n",
       "      <td>4.0</td>\n",
       "      <td>2.0</td>\n",
       "      <td>6.0</td>\n",
       "      <td>124</td>\n",
       "      <td>66.7</td>\n",
       "      <td>33.3</td>\n",
       "      <td>yes</td>\n",
       "    </tr>\n",
       "    <tr>\n",
       "      <th>6</th>\n",
       "      <td>immigration</td>\n",
       "      <td>14.0</td>\n",
       "      <td>3.0</td>\n",
       "      <td>17.0</td>\n",
       "      <td>122</td>\n",
       "      <td>82.4</td>\n",
       "      <td>17.6</td>\n",
       "      <td>yes</td>\n",
       "    </tr>\n",
       "    <tr>\n",
       "      <th>11</th>\n",
       "      <td>trump-presidency</td>\n",
       "      <td>3.0</td>\n",
       "      <td>4.0</td>\n",
       "      <td>7.0</td>\n",
       "      <td>120</td>\n",
       "      <td>42.9</td>\n",
       "      <td>57.1</td>\n",
       "      <td>yes</td>\n",
       "    </tr>\n",
       "    <tr>\n",
       "      <th>12</th>\n",
       "      <td>vaccines</td>\n",
       "      <td>1.0</td>\n",
       "      <td>1.0</td>\n",
       "      <td>2.0</td>\n",
       "      <td>122</td>\n",
       "      <td>50.0</td>\n",
       "      <td>50.0</td>\n",
       "      <td>yes</td>\n",
       "    </tr>\n",
       "    <tr>\n",
       "      <th>13</th>\n",
       "      <td>white-nationalism</td>\n",
       "      <td>2.0</td>\n",
       "      <td>2.0</td>\n",
       "      <td>4.0</td>\n",
       "      <td>131</td>\n",
       "      <td>50.0</td>\n",
       "      <td>50.0</td>\n",
       "      <td>yes</td>\n",
       "    </tr>\n",
       "    <tr>\n",
       "      <th>7</th>\n",
       "      <td>int.-politics-&amp;-world-news</td>\n",
       "      <td>3.0</td>\n",
       "      <td>3.0</td>\n",
       "      <td>7.0</td>\n",
       "      <td>88</td>\n",
       "      <td>42.9</td>\n",
       "      <td>42.9</td>\n",
       "      <td>less</td>\n",
       "    </tr>\n",
       "    <tr>\n",
       "      <th>8</th>\n",
       "      <td>middle-class</td>\n",
       "      <td>3.0</td>\n",
       "      <td>1.0</td>\n",
       "      <td>4.0</td>\n",
       "      <td>118</td>\n",
       "      <td>75.0</td>\n",
       "      <td>25.0</td>\n",
       "      <td>less</td>\n",
       "    </tr>\n",
       "    <tr>\n",
       "      <th>9</th>\n",
       "      <td>sport</td>\n",
       "      <td>18.0</td>\n",
       "      <td>11.0</td>\n",
       "      <td>29.0</td>\n",
       "      <td>126</td>\n",
       "      <td>62.1</td>\n",
       "      <td>37.9</td>\n",
       "      <td>less</td>\n",
       "    </tr>\n",
       "    <tr>\n",
       "      <th>10</th>\n",
       "      <td>student-debt</td>\n",
       "      <td>0.0</td>\n",
       "      <td>1.0</td>\n",
       "      <td>2.0</td>\n",
       "      <td>127</td>\n",
       "      <td>0.0</td>\n",
       "      <td>50.0</td>\n",
       "      <td>less</td>\n",
       "    </tr>\n",
       "  </tbody>\n",
       "</table>\n",
       "</div>"
      ],
      "text/plain": [
       "                         topic  Biased  Non-biased  Total_annotations  \\\n",
       "0                     abortion    10.0         6.0               16.0   \n",
       "1                  coronavirus    13.0         2.0               15.0   \n",
       "2               elections-2020     1.0         2.0                3.0   \n",
       "3                  environment     8.0         3.0               11.0   \n",
       "4                       gender     2.0         1.0                3.0   \n",
       "5                  gun-control     4.0         2.0                6.0   \n",
       "6                  immigration    14.0         3.0               17.0   \n",
       "11            trump-presidency     3.0         4.0                7.0   \n",
       "12                    vaccines     1.0         1.0                2.0   \n",
       "13           white-nationalism     2.0         2.0                4.0   \n",
       "7   int.-politics-&-world-news     3.0         3.0                7.0   \n",
       "8                 middle-class     3.0         1.0                4.0   \n",
       "9                        sport    18.0        11.0               29.0   \n",
       "10                student-debt     0.0         1.0                2.0   \n",
       "\n",
       "    sentence  bias_perc  nonbias_perc controversial  \n",
       "0        126       62.5          37.5           yes  \n",
       "1        122       86.7          13.3           yes  \n",
       "2        111       33.3          66.7           yes  \n",
       "3        135       72.7          27.3           yes  \n",
       "4        128       66.7          33.3           yes  \n",
       "5        124       66.7          33.3           yes  \n",
       "6        122       82.4          17.6           yes  \n",
       "11       120       42.9          57.1           yes  \n",
       "12       122       50.0          50.0           yes  \n",
       "13       131       50.0          50.0           yes  \n",
       "7         88       42.9          42.9          less  \n",
       "8        118       75.0          25.0          less  \n",
       "9        126       62.1          37.9          less  \n",
       "10       127        0.0          50.0          less  "
      ]
     },
     "execution_count": 36,
     "metadata": {},
     "output_type": "execute_result"
    }
   ],
   "source": [
    "# group by topic and summarize the number of bias and non bias labels\n",
    "a = des_st_topics.groupby(['topic'])[['Biased', 'Non-biased', 'Total_annotations']].sum()\n",
    "b = pd.DataFrame(labeled_sentences.groupby(['topic'])['sentence'].count())\n",
    "\n",
    "# divide these numbers by the number of sentences in each topic multiplied by 10\n",
    "des_st_topics_grouped = pd.merge(a, b,\n",
    "                           left_index = True, right_index = True,\n",
    "                           how='left')\n",
    "#des_st_topics_grouped[\"sen_annotations\"] = des_st_topics_grouped.sentence * 10\n",
    "des_st_topics_grouped[\"bias_perc\"] = round(des_st_topics_grouped.Biased / des_st_topics_grouped.Total_annotations * 100, 1)\n",
    "des_st_topics_grouped[\"nonbias_perc\"] = round(des_st_topics_grouped[\"Non-biased\"] / des_st_topics_grouped.Total_annotations * 100, 1)\n",
    "des_st_topics_grouped = des_st_topics_grouped.reset_index()\n",
    "\n",
    "des_st_topics_grouped[\"controversial\"] = [\"yes\",\"yes\",\"yes\",\"yes\",\"yes\",\"yes\",\"yes\",\n",
    "                                          \"less\",\"less\",\"less\",\"less\",\"yes\",\"yes\",\"yes\"]\n",
    "des_st_topics_grouped = des_st_topics_grouped.sort_values(by=['controversial'], ascending=False)\n",
    "des_st_topics_grouped = des_st_topics_grouped.replace('international-politics-and-world-news', 'int.-politics-&-world-news')\n",
    "\n",
    "des_st_topics_grouped"
   ]
  },
  {
   "cell_type": "code",
   "execution_count": 37,
   "metadata": {},
   "outputs": [
    {
     "data": {
      "image/png": "[encoded data removed]",
      "text/plain": [
       "<Figure size 640x480 with 2 Axes>"
      ]
     },
     "metadata": {},
     "output_type": "display_data"
    }
   ],
   "source": [
    "fig, (ax1, ax2) = plt.subplots(1, 2)\n",
    "#fig.suptitle('Bias perception differences across the topics')\n",
    "colors = ['indianred', 'indianred', 'indianred', 'indianred', 'indianred', 'indianred', 'indianred', \n",
    "          'indianred', 'indianred', 'indianred', 'khaki', 'khaki', 'khaki', 'khaki']\n",
    "edgecolors = ['brown', 'brown', 'brown', 'brown', 'brown', 'brown', 'brown', \n",
    "          'brown', 'brown', 'brown', 'darkkhaki', 'darkkhaki', 'darkkhaki', 'darkkhaki']\n",
    "legend_elements = [Patch(facecolor='indianred', edgecolor='brown', label='controversial'),\n",
    "                   Patch(facecolor='khaki', edgecolor='darkkhaki', label='less\\ncontroversial')]\n",
    "\n",
    "# means\n",
    "des_st_topics_grouped_contr = des_st_topics_grouped[des_st_topics_grouped['controversial']==\"yes\"]\n",
    "des_st_topics_grouped_noncontr = des_st_topics_grouped[des_st_topics_grouped['controversial']==\"less\"]\n",
    "contr_bias_mean = des_st_topics_grouped_contr['bias_perc'].mean()\n",
    "contr_nonbias_mean = des_st_topics_grouped_contr['nonbias_perc'].mean()\n",
    "noncontr_bias_mean = des_st_topics_grouped_noncontr['bias_perc'].mean()\n",
    "noncontr_nonbias_mean = des_st_topics_grouped_noncontr['nonbias_perc'].mean()\n",
    "\n",
    "# plots\n",
    "   # biased\n",
    "y_pos1 = np.arange(len(des_st_topics_grouped[\"topic\"]))\n",
    "ax1.barh(y_pos1, des_st_topics_grouped[\"bias_perc\"], align='center', color=colors, alpha=0.8, edgecolor=edgecolors)\n",
    "ax1.set_yticks(y_pos1)\n",
    "ax1.set_yticklabels(des_st_topics_grouped[\"topic\"], fontsize=14)\n",
    "ax1.invert_yaxis() # labels read top-to-bottom\n",
    "ax1.axvline(x = contr_bias_mean, ymin=0.29, ymax=0.97, linewidth=1.5, color='brown')\n",
    "ax1.axvline(x = noncontr_bias_mean, ymin=0.03, ymax=0.33, linewidth=1.5, color='darkkhaki')\n",
    "ax1.set_xlabel('% to total number of\\n sentences in the topic', fontsize=14)\n",
    "ax1.set_title('Labeled as biased', fontsize=14)\n",
    "\n",
    "   # non-biased\n",
    "y_pos2 = np.arange(len(des_st_topics_grouped[\"topic\"]))\n",
    "ax2.barh(y_pos2, des_st_topics_grouped[\"nonbias_perc\"], align='center', color=colors, alpha=0.8, edgecolor=edgecolors) #\n",
    "ax2.set_yticks(y_pos2)\n",
    "ax2.set_yticklabels(des_st_topics_grouped[\"topic\"])\n",
    "ax2.invert_yaxis() # labels read top-to-bottom\n",
    "ax2.axvline(x = contr_nonbias_mean, ymin=0.29, ymax=0.97, linewidth=1.5, color='brown')\n",
    "ax2.axvline(x = noncontr_nonbias_mean, ymin=0.03, ymax=0.33, linewidth=1.5, color='darkkhaki')\n",
    "ax2.set_xlabel('% to total number of\\n sentences in the topic', fontsize=14)\n",
    "ax2.set_title('Labeled as non-biased', fontsize=14)\n",
    "\n",
    "ax2.label_outer()\n",
    "fig.legend(handles=legend_elements, loc='upper left', bbox_to_anchor=(1.25, 0.95), fontsize=12)\n",
    "\n",
    "plt.show()"
   ]
  },
  {
   "attachments": {},
   "cell_type": "markdown",
   "metadata": {},
   "source": [
    "### 2.2 Bias perception across the political ideologies"
   ]
  },
  {
   "cell_type": "code",
   "execution_count": 160,
   "metadata": {
    "scrolled": true
   },
   "outputs": [
    {
     "data": {
      "text/html": [
       "<div>\n",
       "<style scoped>\n",
       "    .dataframe tbody tr th:only-of-type {\n",
       "        vertical-align: middle;\n",
       "    }\n",
       "\n",
       "    .dataframe tbody tr th {\n",
       "        vertical-align: top;\n",
       "    }\n",
       "\n",
       "    .dataframe thead th {\n",
       "        text-align: right;\n",
       "    }\n",
       "</style>\n",
       "<table border=\"1\" class=\"dataframe\">\n",
       "  <thead>\n",
       "    <tr style=\"text-align: right;\">\n",
       "      <th></th>\n",
       "      <th>type</th>\n",
       "      <th>label</th>\n",
       "      <th>political_ideology_lcr</th>\n",
       "      <th>num_participants</th>\n",
       "      <th>total_participants</th>\n",
       "      <th>participants_ratio</th>\n",
       "    </tr>\n",
       "  </thead>\n",
       "  <tbody>\n",
       "  </tbody>\n",
       "</table>\n",
       "</div>"
      ],
      "text/plain": [
       "Empty DataFrame\n",
       "Columns: [type, label, political_ideology_lcr, num_participants, total_participants, participants_ratio]\n",
       "Index: []"
      ]
     },
     "execution_count": 160,
     "metadata": {},
     "output_type": "execute_result"
    }
   ],
   "source": [
    "# group by sentence type, label and political ideology of an annotator\n",
    "des_st_polit = annotations.groupby(['type','label','political_ideology_lcr'])[['sentence_id']].count()\n",
    "des_st_polit = des_st_polit.reset_index()\n",
    "des_st_polit = des_st_polit.rename(columns={\"sentence_id\": \"num_participants\"})\n",
    "\n",
    "# add total number of participants to calculate ratio\n",
    "participants_ideologies = annotations.groupby(['political_ideology_lcr'])[['sentence_id']].count()\n",
    "participants_ideologies = participants_ideologies.rename(columns={\"sentence_id\": \"total_participants\"})\n",
    "des_st_polit = pd.merge(des_st_polit, participants_ideologies,\n",
    "                        left_on = 'political_ideology_lcr', right_index = True,\n",
    "                        how = 'left')\n",
    "\n",
    "# calculate ratio\n",
    "des_st_polit[\"participants_ratio\"] = round(des_st_polit[\"num_participants\"]/des_st_polit[\"total_participants\"]*100, 2)\n",
    "des_st_polit"
   ]
  },
  {
   "cell_type": "code",
   "execution_count": 161,
   "metadata": {},
   "outputs": [
    {
     "ename": "ZeroDivisionError",
     "evalue": "division by zero",
     "output_type": "error",
     "traceback": [
      "\u001b[1;31m---------------------------------------------------------------------------\u001b[0m",
      "\u001b[1;31mZeroDivisionError\u001b[0m                         Traceback (most recent call last)",
      "\u001b[1;32m~\\AppData\\Local\\Temp\\ipykernel_15032\\1825140825.py\u001b[0m in \u001b[0;36m<module>\u001b[1;34m\u001b[0m\n\u001b[0;32m      4\u001b[0m \u001b[1;33m\u001b[0m\u001b[0m\n\u001b[0;32m      5\u001b[0m \u001b[1;31m# percentage of annotations as biased and as non-biased\u001b[0m\u001b[1;33m\u001b[0m\u001b[1;33m\u001b[0m\u001b[0m\n\u001b[1;32m----> 6\u001b[1;33m as_biased = round(sum(des_st_polit_biased.num_participants)/\n\u001b[0m\u001b[0;32m      7\u001b[0m                   (sum(des_st_polit_biased.num_participants)+sum(des_st_polit_nonbiased.num_participants))*100,2)\n\u001b[0;32m      8\u001b[0m \u001b[1;33m\u001b[0m\u001b[0m\n",
      "\u001b[1;31mZeroDivisionError\u001b[0m: division by zero"
     ]
    }
   ],
   "source": [
    "# separate data to biased and non-biased\n",
    "des_st_polit_biased = des_st_polit[des_st_polit[\"label\"]==\"Biased\"]\n",
    "des_st_polit_nonbiased = des_st_polit[des_st_polit[\"label\"]==\"Non-biased\"]\n",
    "\n",
    "# percentage of annotations as biased and as non-biased\n",
    "as_biased = round(sum(des_st_polit_biased.num_participants)/\n",
    "                  (sum(des_st_polit_biased.num_participants)+sum(des_st_polit_nonbiased.num_participants))*100,2)\n",
    "\n",
    "as_nonbiased = round(sum(des_st_polit_nonbiased.num_participants)/\n",
    "                     (sum(des_st_polit_biased.num_participants)+sum(des_st_polit_nonbiased.num_participants))*100,2)\n",
    "\n",
    "# data for both plots\n",
    "sentences_types = ['center', 'left', 'right']\n",
    "x = np.arange(len(sentences_types))\n",
    "width = 0.2\n",
    "\n",
    "     # data for plot (perceived as biased)\n",
    "b_left_annotators = list(des_st_polit_biased[des_st_polit_biased[\"political_ideology_lcr\"]==\"left\"].participants_ratio)\n",
    "b_right_annotators = list(des_st_polit_biased[des_st_polit_biased[\"political_ideology_lcr\"]==\"right\"].participants_ratio)\n",
    "b_center_annotators = list(des_st_polit_biased[des_st_polit_biased[\"political_ideology_lcr\"]==\"center\"].participants_ratio)\n",
    "\n",
    "     # data for plot (perceived as non-biased)\n",
    "nb_left_annotators = list(des_st_polit_nonbiased[des_st_polit_nonbiased[\"political_ideology_lcr\"]==\"left\"].participants_ratio)\n",
    "nb_right_annotators = list(des_st_polit_nonbiased[des_st_polit_nonbiased[\"political_ideology_lcr\"]==\"right\"].participants_ratio)\n",
    "nb_center_annotators = list(des_st_polit_nonbiased[des_st_polit_nonbiased[\"political_ideology_lcr\"]==\"center\"].participants_ratio)\n",
    "\n",
    "\n",
    "\n",
    "# plots\n",
    "fig, (ax1, ax2) = plt.subplots(1, 2, figsize=(12,4))\n",
    "\n",
    "      # perceived as biased\n",
    "b_rects_l = ax1.bar(x - width, b_left_annotators, width, label='liberal \\n annotators',\n",
    "                    color='steelblue', alpha=0.8, edgecolor = 'midnightblue')\n",
    "b_rects_r = ax1.bar(x, b_right_annotators, width, label='conservative \\n annotators',\n",
    "                    color='indianred', alpha=0.8, edgecolor = 'brown')\n",
    "b_rects_c = ax1.bar(x + width, b_center_annotators, width, label='from center',\n",
    "                    color='thistle', alpha=0.8, edgecolor = 'mediumpurple')\n",
    "ax1.set_ylabel('% to total number of annotators\\n of similar ideology', fontsize=14)\n",
    "ax1.set_xlabel('Sentences from ... source', fontsize=14)\n",
    "ax1.set_title('Sentences perceived as \\n biased ('+str(as_biased)+'%)', fontsize=14)\n",
    "ax1.set_xticks(x)\n",
    "ax1.set_xticklabels(sentences_types)\n",
    "ax1.legend(fontsize=11)\n",
    "\n",
    "      # perceived as non-biased\n",
    "nb_rects_l = ax2.bar(x - width, nb_left_annotators, width, label='liberal \\n annotators',\n",
    "                     color='steelblue', alpha=0.8, edgecolor = 'midnightblue')\n",
    "nb_rects_r = ax2.bar(x, nb_right_annotators, width, label='conservative \\n annotators',\n",
    "                     color='indianred', alpha=0.8, edgecolor = 'brown')\n",
    "nb_rects_c = ax2.bar(x + width, nb_center_annotators, width, label='from center',\n",
    "                     color='thistle', alpha=0.8, edgecolor = 'mediumpurple')\n",
    "ax2.set_xlabel('Sentences from ... source', fontsize=14)\n",
    "ax2.set_title('Sentences perceived as \\n non-biased ('+str(as_nonbiased)+'%)', fontsize=14)\n",
    "ax2.set_xticks(x)\n",
    "ax2.set_xticklabels(sentences_types)\n",
    "\n",
    "plt.show()"
   ]
  },
  {
   "attachments": {},
   "cell_type": "markdown",
   "metadata": {},
   "source": [
    "### 2.3 Inter-rater agreement"
   ]
  },
  {
   "cell_type": "code",
   "execution_count": 166,
   "metadata": {},
   "outputs": [],
   "source": [
    "ann_l = annotations[annotations['political_ideology_lcr']=='left']\n",
    "ann_c = annotations[annotations['political_ideology_lcr']=='center']\n",
    "ann_r = annotations[annotations['political_ideology_lcr']=='right']"
   ]
  },
  {
   "cell_type": "code",
   "execution_count": 163,
   "metadata": {
    "collapsed": true
   },
   "outputs": [
    {
     "name": "stderr",
     "output_type": "stream",
     "text": [
      "C:\\Users\\Lenovo\\AppData\\Local\\Temp\\ipykernel_15032\\2845855896.py:6: SettingWithCopyWarning:\n",
      "\n",
      "\n",
      "A value is trying to be set on a copy of a slice from a DataFrame.\n",
      "Try using .loc[row_indexer,col_indexer] = value instead\n",
      "\n",
      "See the caveats in the documentation: https://pandas.pydata.org/pandas-docs/stable/user_guide/indexing.html#returning-a-view-versus-a-copy\n",
      "\n"
     ]
    },
    {
     "ename": "ValueError",
     "evalue": "zero-size array to reduction operation maximum which has no identity",
     "output_type": "error",
     "traceback": [
      "\u001b[1;31m---------------------------------------------------------------------------\u001b[0m",
      "\u001b[1;31mValueError\u001b[0m                                Traceback (most recent call last)",
      "\u001b[1;32m~\\AppData\\Local\\Temp\\ipykernel_15032\\2845855896.py\u001b[0m in \u001b[0;36m<module>\u001b[1;34m\u001b[0m\n\u001b[0;32m      8\u001b[0m \u001b[0mresults_bias_l_sample\u001b[0m \u001b[1;33m=\u001b[0m \u001b[0mresults_bias_l\u001b[0m\u001b[1;33m[\u001b[0m\u001b[0mresults_bias_l\u001b[0m\u001b[1;33m[\u001b[0m\u001b[1;34m'Total_annotations'\u001b[0m\u001b[1;33m]\u001b[0m\u001b[1;33m==\u001b[0m\u001b[1;36m5\u001b[0m\u001b[1;33m]\u001b[0m\u001b[1;33m\u001b[0m\u001b[1;33m\u001b[0m\u001b[0m\n\u001b[0;32m      9\u001b[0m \u001b[1;33m\u001b[0m\u001b[0m\n\u001b[1;32m---> 10\u001b[1;33m \u001b[0mfk_bias_l\u001b[0m \u001b[1;33m=\u001b[0m \u001b[0minter_rater\u001b[0m\u001b[1;33m.\u001b[0m\u001b[0mfleiss_kappa\u001b[0m\u001b[1;33m(\u001b[0m\u001b[0mresults_bias_l_sample\u001b[0m\u001b[1;33m[\u001b[0m\u001b[1;33m[\u001b[0m\u001b[1;34m\"Biased\"\u001b[0m\u001b[1;33m,\u001b[0m\u001b[1;34m\"Non-biased\"\u001b[0m\u001b[1;33m]\u001b[0m\u001b[1;33m]\u001b[0m\u001b[1;33m,\u001b[0m \u001b[0mmethod\u001b[0m\u001b[1;33m=\u001b[0m\u001b[1;34m'fleiss'\u001b[0m\u001b[1;33m)\u001b[0m\u001b[1;33m\u001b[0m\u001b[1;33m\u001b[0m\u001b[0m\n\u001b[0m\u001b[0;32m     11\u001b[0m \u001b[0mka_bias_l\u001b[0m \u001b[1;33m=\u001b[0m \u001b[0mkrippendorff\u001b[0m\u001b[1;33m.\u001b[0m\u001b[0malpha\u001b[0m\u001b[1;33m(\u001b[0m\u001b[0mresults_bias_l_sample\u001b[0m\u001b[1;33m[\u001b[0m\u001b[1;33m[\u001b[0m\u001b[1;34m\"Biased\"\u001b[0m\u001b[1;33m,\u001b[0m\u001b[1;34m\"Non-biased\"\u001b[0m\u001b[1;33m]\u001b[0m\u001b[1;33m]\u001b[0m\u001b[1;33m)\u001b[0m\u001b[1;33m\u001b[0m\u001b[1;33m\u001b[0m\u001b[0m\n\u001b[0;32m     12\u001b[0m \u001b[1;33m\u001b[0m\u001b[0m\n",
      "\u001b[1;32mc:\\Users\\Lenovo\\anaconda3\\lib\\site-packages\\statsmodels\\stats\\inter_rater.py\u001b[0m in \u001b[0;36mfleiss_kappa\u001b[1;34m(table, method)\u001b[0m\n\u001b[0;32m    246\u001b[0m     \u001b[0mn_total\u001b[0m \u001b[1;33m=\u001b[0m \u001b[0mtable\u001b[0m\u001b[1;33m.\u001b[0m\u001b[0msum\u001b[0m\u001b[1;33m(\u001b[0m\u001b[1;33m)\u001b[0m\u001b[1;33m\u001b[0m\u001b[1;33m\u001b[0m\u001b[0m\n\u001b[0;32m    247\u001b[0m     \u001b[0mn_rater\u001b[0m \u001b[1;33m=\u001b[0m \u001b[0mtable\u001b[0m\u001b[1;33m.\u001b[0m\u001b[0msum\u001b[0m\u001b[1;33m(\u001b[0m\u001b[1;36m1\u001b[0m\u001b[1;33m)\u001b[0m\u001b[1;33m\u001b[0m\u001b[1;33m\u001b[0m\u001b[0m\n\u001b[1;32m--> 248\u001b[1;33m     \u001b[0mn_rat\u001b[0m \u001b[1;33m=\u001b[0m \u001b[0mn_rater\u001b[0m\u001b[1;33m.\u001b[0m\u001b[0mmax\u001b[0m\u001b[1;33m(\u001b[0m\u001b[1;33m)\u001b[0m\u001b[1;33m\u001b[0m\u001b[1;33m\u001b[0m\u001b[0m\n\u001b[0m\u001b[0;32m    249\u001b[0m     \u001b[1;31m#assume fully ranked\u001b[0m\u001b[1;33m\u001b[0m\u001b[1;33m\u001b[0m\u001b[0m\n\u001b[0;32m    250\u001b[0m     \u001b[1;32massert\u001b[0m \u001b[0mn_total\u001b[0m \u001b[1;33m==\u001b[0m \u001b[0mn_sub\u001b[0m \u001b[1;33m*\u001b[0m \u001b[0mn_rat\u001b[0m\u001b[1;33m\u001b[0m\u001b[1;33m\u001b[0m\u001b[0m\n",
      "\u001b[1;32mc:\\Users\\Lenovo\\anaconda3\\lib\\site-packages\\numpy\\core\\_methods.py\u001b[0m in \u001b[0;36m_amax\u001b[1;34m(a, axis, out, keepdims, initial, where)\u001b[0m\n\u001b[0;32m     38\u001b[0m def _amax(a, axis=None, out=None, keepdims=False,\n\u001b[0;32m     39\u001b[0m           initial=_NoValue, where=True):\n\u001b[1;32m---> 40\u001b[1;33m     \u001b[1;32mreturn\u001b[0m \u001b[0mumr_maximum\u001b[0m\u001b[1;33m(\u001b[0m\u001b[0ma\u001b[0m\u001b[1;33m,\u001b[0m \u001b[0maxis\u001b[0m\u001b[1;33m,\u001b[0m \u001b[1;32mNone\u001b[0m\u001b[1;33m,\u001b[0m \u001b[0mout\u001b[0m\u001b[1;33m,\u001b[0m \u001b[0mkeepdims\u001b[0m\u001b[1;33m,\u001b[0m \u001b[0minitial\u001b[0m\u001b[1;33m,\u001b[0m \u001b[0mwhere\u001b[0m\u001b[1;33m)\u001b[0m\u001b[1;33m\u001b[0m\u001b[1;33m\u001b[0m\u001b[0m\n\u001b[0m\u001b[0;32m     41\u001b[0m \u001b[1;33m\u001b[0m\u001b[0m\n\u001b[0;32m     42\u001b[0m def _amin(a, axis=None, out=None, keepdims=False,\n",
      "\u001b[1;31mValueError\u001b[0m: zero-size array to reduction operation maximum which has no identity"
     ]
    }
   ],
   "source": [
    "# left\n",
    "turker_bias_l = ann_l.pivot(index='text', columns='survey_record_id', values='label')\n",
    "turker_bias_l[\"Biased\"] = turker_bias_l.apply(lambda row: sum(row[1:len(turker_bias_l.columns)]==\"Biased\") ,axis=1)\n",
    "turker_bias_l[\"Non-biased\"] = turker_bias_l.apply(lambda row: sum(row[1:(len(turker_bias_l.columns)-1)]==\"Non-biased\") ,axis=1)\n",
    "results_bias_l = turker_bias_l[[\"Biased\", 'Non-biased']]\n",
    "results_bias_l[\"Total_annotations\"] = results_bias_l[\"Biased\"] + results_bias_l[\"Non-biased\"]\n",
    "\n",
    "results_bias_l_sample = results_bias_l[results_bias_l['Total_annotations']==5]\n",
    "\n",
    "fk_bias_l = inter_rater.fleiss_kappa(results_bias_l_sample[[\"Biased\",\"Non-biased\"]], method='fleiss')\n",
    "ka_bias_l = krippendorff.alpha(results_bias_l_sample[[\"Biased\",\"Non-biased\"]])\n",
    "\n",
    "\n",
    "# center\n",
    "turker_bias_c = ann_c.pivot(index='text', columns='survey_record_id', values='label')\n",
    "turker_bias_c[\"Biased\"] = turker_bias_c.apply(lambda row: sum(row[1:len(turker_bias_c.columns)]==\"Biased\") ,axis=1)\n",
    "turker_bias_c[\"Non-biased\"] = turker_bias_c.apply(lambda row: sum(row[1:(len(turker_bias_c.columns)-1)]==\"Non-biased\") ,axis=1)\n",
    "results_bias_c = turker_bias_c[[\"Biased\", 'Non-biased']]\n",
    "results_bias_c[\"Total_annotations\"] = results_bias_c[\"Biased\"] + results_bias_c[\"Non-biased\"]\n",
    "\n",
    "results_bias_c_sample = results_bias_c[results_bias_c['Total_annotations']==5]\n",
    "\n",
    "fk_bias_c = inter_rater.fleiss_kappa(results_bias_c_sample[[\"Biased\",\"Non-biased\"]], method='fleiss')\n",
    "ka_bias_c = krippendorff.alpha(results_bias_c_sample[[\"Biased\",\"Non-biased\"]])\n",
    "\n",
    "\n",
    "# right\n",
    "turker_bias_r = ann_r.pivot(index='text', columns='survey_record_id', values='label')\n",
    "turker_bias_r[\"Biased\"] = turker_bias_r.apply(lambda row: sum(row[1:len(turker_bias_r.columns)]==\"Biased\") ,axis=1)\n",
    "turker_bias_r[\"Non-biased\"] = turker_bias_r.apply(lambda row: sum(row[1:(len(turker_bias_r.columns)-1)]==\"Non-biased\") ,axis=1)\n",
    "results_bias_r = turker_bias_r[[\"Biased\", 'Non-biased']]\n",
    "results_bias_r[\"Total_annotations\"] = results_bias_r[\"Biased\"] + results_bias_r[\"Non-biased\"]\n",
    "\n",
    "results_bias_r_sample = results_bias_r[results_bias_r['Total_annotations']==5]\n",
    "\n",
    "fk_bias_r = inter_rater.fleiss_kappa(results_bias_r_sample[[\"Biased\",\"Non-biased\"]], method='fleiss')\n",
    "ka_bias_r = krippendorff.alpha(results_bias_r_sample[[\"Biased\",\"Non-biased\"]])"
   ]
  },
  {
   "cell_type": "code",
   "execution_count": 164,
   "metadata": {
    "scrolled": true
   },
   "outputs": [
    {
     "ename": "NameError",
     "evalue": "name 'fk_bias_l' is not defined",
     "output_type": "error",
     "traceback": [
      "\u001b[1;31m---------------------------------------------------------------------------\u001b[0m",
      "\u001b[1;31mNameError\u001b[0m                                 Traceback (most recent call last)",
      "\u001b[1;32m~\\AppData\\Local\\Temp\\ipykernel_15032\\3659977496.py\u001b[0m in \u001b[0;36m<module>\u001b[1;34m\u001b[0m\n\u001b[0;32m      1\u001b[0m \u001b[0mfk_bias\u001b[0m \u001b[1;33m=\u001b[0m \u001b[1;36m0.21\u001b[0m \u001b[1;31m# from the script \"Survey results processing\"\u001b[0m\u001b[1;33m\u001b[0m\u001b[1;33m\u001b[0m\u001b[0m\n\u001b[1;32m----> 2\u001b[1;33m \u001b[0mfkappas_values\u001b[0m \u001b[1;33m=\u001b[0m \u001b[1;33m[\u001b[0m\u001b[0mfk_bias_l\u001b[0m\u001b[1;33m,\u001b[0m \u001b[0mfk_bias_c\u001b[0m\u001b[1;33m,\u001b[0m \u001b[0mfk_bias_r\u001b[0m\u001b[1;33m,\u001b[0m \u001b[0mfk_bias\u001b[0m\u001b[1;33m]\u001b[0m\u001b[1;33m\u001b[0m\u001b[1;33m\u001b[0m\u001b[0m\n\u001b[0m\u001b[0;32m      3\u001b[0m \u001b[0mfkappas_names\u001b[0m \u001b[1;33m=\u001b[0m \u001b[1;33m[\u001b[0m\u001b[1;34m'liberal'\u001b[0m\u001b[1;33m,\u001b[0m \u001b[1;34m'center'\u001b[0m\u001b[1;33m,\u001b[0m \u001b[1;34m'conservative'\u001b[0m\u001b[1;33m,\u001b[0m \u001b[1;34m'all'\u001b[0m\u001b[1;33m]\u001b[0m\u001b[1;33m\u001b[0m\u001b[1;33m\u001b[0m\u001b[0m\n\u001b[0;32m      4\u001b[0m \u001b[0mcolors\u001b[0m \u001b[1;33m=\u001b[0m \u001b[1;33m[\u001b[0m\u001b[1;34m'steelblue'\u001b[0m\u001b[1;33m,\u001b[0m \u001b[1;34m'thistle'\u001b[0m\u001b[1;33m,\u001b[0m \u001b[1;34m'indianred'\u001b[0m\u001b[1;33m,\u001b[0m \u001b[1;34m'silver'\u001b[0m\u001b[1;33m]\u001b[0m\u001b[1;33m\u001b[0m\u001b[1;33m\u001b[0m\u001b[0m\n\u001b[0;32m      5\u001b[0m \u001b[0medgecolors\u001b[0m \u001b[1;33m=\u001b[0m \u001b[1;33m[\u001b[0m\u001b[1;34m'midnightblue'\u001b[0m\u001b[1;33m,\u001b[0m \u001b[1;34m'mediumpurple'\u001b[0m\u001b[1;33m,\u001b[0m \u001b[1;34m'brown'\u001b[0m\u001b[1;33m,\u001b[0m \u001b[1;34m'dimgray'\u001b[0m\u001b[1;33m]\u001b[0m\u001b[1;33m\u001b[0m\u001b[1;33m\u001b[0m\u001b[0m\n",
      "\u001b[1;31mNameError\u001b[0m: name 'fk_bias_l' is not defined"
     ]
    }
   ],
   "source": [
    "fk_bias = 0.21 # from the script \"Survey results processing\"\n",
    "fkappas_values = [fk_bias_l, fk_bias_c, fk_bias_r, fk_bias]\n",
    "fkappas_names = ['liberal', 'center', 'conservative', 'all']\n",
    "colors = ['steelblue', 'thistle', 'indianred', 'silver']\n",
    "edgecolors = ['midnightblue', 'mediumpurple', 'brown', 'dimgray']\n",
    "\n",
    "fig, ax = plt.subplots(1, 1, figsize=(6,4))\n",
    "#fig.suptitle('Inter-rater agreement across annotators self-reported ideology')\n",
    "\n",
    "ax.bar(np.arange(len(fkappas_names)), fkappas_values, align='center', alpha=0.8, color=colors, edgecolor=edgecolors)\n",
    "ax.set_xticks(np.arange(len(fkappas_names)))\n",
    "ax.set_xticklabels(fkappas_names)\n",
    "ax.set_ylabel('inter-rater agreement \\n Fleiss Kappa', fontsize=14)\n",
    "\n",
    "fig.show()"
   ]
  },
  {
   "attachments": {},
   "cell_type": "markdown",
   "metadata": {},
   "source": [
    "### 2.4 Bias perception across news consumption differences"
   ]
  },
  {
   "cell_type": "code",
   "execution_count": 167,
   "metadata": {},
   "outputs": [
    {
     "data": {
      "text/html": [
       "<div>\n",
       "<style scoped>\n",
       "    .dataframe tbody tr th:only-of-type {\n",
       "        vertical-align: middle;\n",
       "    }\n",
       "\n",
       "    .dataframe tbody tr th {\n",
       "        vertical-align: top;\n",
       "    }\n",
       "\n",
       "    .dataframe thead th {\n",
       "        text-align: right;\n",
       "    }\n",
       "</style>\n",
       "<table border=\"1\" class=\"dataframe\">\n",
       "  <thead>\n",
       "    <tr style=\"text-align: right;\">\n",
       "      <th></th>\n",
       "      <th>label</th>\n",
       "      <th>news_check_frequency</th>\n",
       "      <th>num_participants</th>\n",
       "      <th>total_participants</th>\n",
       "      <th>participants_ratio</th>\n",
       "    </tr>\n",
       "  </thead>\n",
       "  <tbody>\n",
       "    <tr>\n",
       "      <th>0</th>\n",
       "      <td>Biased</td>\n",
       "      <td>every day</td>\n",
       "      <td>8</td>\n",
       "      <td>10</td>\n",
       "      <td>80.00</td>\n",
       "    </tr>\n",
       "    <tr>\n",
       "      <th>1</th>\n",
       "      <td>Biased</td>\n",
       "      <td>graduate work</td>\n",
       "      <td>1</td>\n",
       "      <td>1</td>\n",
       "      <td>100.00</td>\n",
       "    </tr>\n",
       "    <tr>\n",
       "      <th>2</th>\n",
       "      <td>Biased</td>\n",
       "      <td>several times per day</td>\n",
       "      <td>5</td>\n",
       "      <td>15</td>\n",
       "      <td>33.33</td>\n",
       "    </tr>\n",
       "    <tr>\n",
       "      <th>3</th>\n",
       "      <td>Biased</td>\n",
       "      <td>several times per month</td>\n",
       "      <td>11</td>\n",
       "      <td>20</td>\n",
       "      <td>55.00</td>\n",
       "    </tr>\n",
       "    <tr>\n",
       "      <th>4</th>\n",
       "      <td>Biased</td>\n",
       "      <td>several times per week</td>\n",
       "      <td>32</td>\n",
       "      <td>59</td>\n",
       "      <td>54.24</td>\n",
       "    </tr>\n",
       "    <tr>\n",
       "      <th>5</th>\n",
       "      <td>Biased</td>\n",
       "      <td>very rarely</td>\n",
       "      <td>44</td>\n",
       "      <td>54</td>\n",
       "      <td>81.48</td>\n",
       "    </tr>\n",
       "    <tr>\n",
       "      <th>6</th>\n",
       "      <td>Non-biased</td>\n",
       "      <td>every day</td>\n",
       "      <td>2</td>\n",
       "      <td>10</td>\n",
       "      <td>20.00</td>\n",
       "    </tr>\n",
       "    <tr>\n",
       "      <th>7</th>\n",
       "      <td>Non-biased</td>\n",
       "      <td>several times per day</td>\n",
       "      <td>10</td>\n",
       "      <td>15</td>\n",
       "      <td>66.67</td>\n",
       "    </tr>\n",
       "    <tr>\n",
       "      <th>8</th>\n",
       "      <td>Non-biased</td>\n",
       "      <td>several times per month</td>\n",
       "      <td>9</td>\n",
       "      <td>20</td>\n",
       "      <td>45.00</td>\n",
       "    </tr>\n",
       "    <tr>\n",
       "      <th>9</th>\n",
       "      <td>Non-biased</td>\n",
       "      <td>several times per week</td>\n",
       "      <td>27</td>\n",
       "      <td>59</td>\n",
       "      <td>45.76</td>\n",
       "    </tr>\n",
       "    <tr>\n",
       "      <th>10</th>\n",
       "      <td>Non-biased</td>\n",
       "      <td>very rarely</td>\n",
       "      <td>10</td>\n",
       "      <td>54</td>\n",
       "      <td>18.52</td>\n",
       "    </tr>\n",
       "  </tbody>\n",
       "</table>\n",
       "</div>"
      ],
      "text/plain": [
       "         label     news_check_frequency  num_participants  total_participants  \\\n",
       "0       Biased                every day                 8                  10   \n",
       "1       Biased            graduate work                 1                   1   \n",
       "2       Biased    several times per day                 5                  15   \n",
       "3       Biased  several times per month                11                  20   \n",
       "4       Biased   several times per week                32                  59   \n",
       "5       Biased              very rarely                44                  54   \n",
       "6   Non-biased                every day                 2                  10   \n",
       "7   Non-biased    several times per day                10                  15   \n",
       "8   Non-biased  several times per month                 9                  20   \n",
       "9   Non-biased   several times per week                27                  59   \n",
       "10  Non-biased              very rarely                10                  54   \n",
       "\n",
       "    participants_ratio  \n",
       "0                80.00  \n",
       "1               100.00  \n",
       "2                33.33  \n",
       "3                55.00  \n",
       "4                54.24  \n",
       "5                81.48  \n",
       "6                20.00  \n",
       "7                66.67  \n",
       "8                45.00  \n",
       "9                45.76  \n",
       "10               18.52  "
      ]
     },
     "execution_count": 167,
     "metadata": {},
     "output_type": "execute_result"
    }
   ],
   "source": [
    "# group by label and news consumption frequency\n",
    "des_st_cons = annotations.groupby(['label','news_check_frequency'])[['sentence_id']].count()\n",
    "des_st_cons = des_st_cons.reset_index()\n",
    "des_st_cons = des_st_cons.rename(columns={\"sentence_id\": \"num_participants\"})\n",
    "\n",
    "# calculate total number of participnts per news consumption frequency group\n",
    "participants_news_cons = des_st_cons.groupby(['news_check_frequency'])[['num_participants']].sum()\n",
    "participants_news_cons = participants_news_cons.rename(columns={\"num_participants\": \"total_participants\"})\n",
    "\n",
    "# left join two tables\n",
    "des_st_cons = pd.merge(des_st_cons, participants_news_cons,\n",
    "                      left_on = 'news_check_frequency', right_index = True, how = 'left')\n",
    "\n",
    "# calculate ratio for further comparisons\n",
    "des_st_cons['participants_ratio'] = round(des_st_cons.num_participants/des_st_cons.total_participants*100,2)\n",
    "\n",
    "des_st_cons"
   ]
  },
  {
   "cell_type": "code",
   "execution_count": 169,
   "metadata": {
    "scrolled": true
   },
   "outputs": [
    {
     "name": "stderr",
     "output_type": "stream",
     "text": [
      "C:\\Users\\Lenovo\\AppData\\Local\\Temp\\ipykernel_15032\\386781304.py:5: SettingWithCopyWarning:\n",
      "\n",
      "\n",
      "A value is trying to be set on a copy of a slice from a DataFrame.\n",
      "Try using .loc[row_indexer,col_indexer] = value instead\n",
      "\n",
      "See the caveats in the documentation: https://pandas.pydata.org/pandas-docs/stable/user_guide/indexing.html#returning-a-view-versus-a-copy\n",
      "\n"
     ]
    },
    {
     "ename": "ValueError",
     "evalue": "Length of values (6) does not match length of index (5)",
     "output_type": "error",
     "traceback": [
      "\u001b[1;31m---------------------------------------------------------------------------\u001b[0m",
      "\u001b[1;31mValueError\u001b[0m                                Traceback (most recent call last)",
      "\u001b[1;32m~\\AppData\\Local\\Temp\\ipykernel_15032\\386781304.py\u001b[0m in \u001b[0;36m<module>\u001b[1;34m\u001b[0m\n\u001b[0;32m      7\u001b[0m \u001b[1;33m\u001b[0m\u001b[0m\n\u001b[0;32m      8\u001b[0m \u001b[0mnb_des_st_cons\u001b[0m \u001b[1;33m=\u001b[0m \u001b[0mdes_st_cons\u001b[0m\u001b[1;33m[\u001b[0m\u001b[0mdes_st_cons\u001b[0m\u001b[1;33m[\u001b[0m\u001b[1;34m'label'\u001b[0m\u001b[1;33m]\u001b[0m\u001b[1;33m==\u001b[0m\u001b[1;34m'Non-biased'\u001b[0m\u001b[1;33m]\u001b[0m\u001b[1;33m\u001b[0m\u001b[1;33m\u001b[0m\u001b[0m\n\u001b[1;32m----> 9\u001b[1;33m \u001b[0mnb_des_st_cons\u001b[0m\u001b[1;33m[\u001b[0m\u001b[1;34m'sorting'\u001b[0m\u001b[1;33m]\u001b[0m \u001b[1;33m=\u001b[0m \u001b[1;33m[\u001b[0m\u001b[1;36m4\u001b[0m\u001b[1;33m,\u001b[0m \u001b[1;36m0\u001b[0m\u001b[1;33m,\u001b[0m \u001b[1;36m5\u001b[0m\u001b[1;33m,\u001b[0m \u001b[1;36m2\u001b[0m\u001b[1;33m,\u001b[0m \u001b[1;36m3\u001b[0m\u001b[1;33m,\u001b[0m \u001b[1;36m1\u001b[0m\u001b[1;33m]\u001b[0m\u001b[1;33m\u001b[0m\u001b[1;33m\u001b[0m\u001b[0m\n\u001b[0m\u001b[0;32m     10\u001b[0m \u001b[0mnb_des_st_cons\u001b[0m \u001b[1;33m=\u001b[0m \u001b[0mnb_des_st_cons\u001b[0m\u001b[1;33m.\u001b[0m\u001b[0msort_values\u001b[0m\u001b[1;33m(\u001b[0m\u001b[0mby\u001b[0m\u001b[1;33m=\u001b[0m\u001b[1;33m[\u001b[0m\u001b[1;34m'sorting'\u001b[0m\u001b[1;33m]\u001b[0m\u001b[1;33m)\u001b[0m\u001b[1;33m\u001b[0m\u001b[1;33m\u001b[0m\u001b[0m\n\u001b[0;32m     11\u001b[0m \u001b[1;33m\u001b[0m\u001b[0m\n",
      "\u001b[1;32mc:\\Users\\Lenovo\\anaconda3\\lib\\site-packages\\pandas\\core\\frame.py\u001b[0m in \u001b[0;36m__setitem__\u001b[1;34m(self, key, value)\u001b[0m\n\u001b[0;32m   3653\u001b[0m         \u001b[1;32melse\u001b[0m\u001b[1;33m:\u001b[0m\u001b[1;33m\u001b[0m\u001b[1;33m\u001b[0m\u001b[0m\n\u001b[0;32m   3654\u001b[0m             \u001b[1;31m# set column\u001b[0m\u001b[1;33m\u001b[0m\u001b[1;33m\u001b[0m\u001b[0m\n\u001b[1;32m-> 3655\u001b[1;33m             \u001b[0mself\u001b[0m\u001b[1;33m.\u001b[0m\u001b[0m_set_item\u001b[0m\u001b[1;33m(\u001b[0m\u001b[0mkey\u001b[0m\u001b[1;33m,\u001b[0m \u001b[0mvalue\u001b[0m\u001b[1;33m)\u001b[0m\u001b[1;33m\u001b[0m\u001b[1;33m\u001b[0m\u001b[0m\n\u001b[0m\u001b[0;32m   3656\u001b[0m \u001b[1;33m\u001b[0m\u001b[0m\n\u001b[0;32m   3657\u001b[0m     \u001b[1;32mdef\u001b[0m \u001b[0m_setitem_slice\u001b[0m\u001b[1;33m(\u001b[0m\u001b[0mself\u001b[0m\u001b[1;33m,\u001b[0m \u001b[0mkey\u001b[0m\u001b[1;33m:\u001b[0m \u001b[0mslice\u001b[0m\u001b[1;33m,\u001b[0m \u001b[0mvalue\u001b[0m\u001b[1;33m)\u001b[0m\u001b[1;33m:\u001b[0m\u001b[1;33m\u001b[0m\u001b[1;33m\u001b[0m\u001b[0m\n",
      "\u001b[1;32mc:\\Users\\Lenovo\\anaconda3\\lib\\site-packages\\pandas\\core\\frame.py\u001b[0m in \u001b[0;36m_set_item\u001b[1;34m(self, key, value)\u001b[0m\n\u001b[0;32m   3830\u001b[0m         \u001b[0mensure\u001b[0m \u001b[0mhomogeneity\u001b[0m\u001b[1;33m.\u001b[0m\u001b[1;33m\u001b[0m\u001b[1;33m\u001b[0m\u001b[0m\n\u001b[0;32m   3831\u001b[0m         \"\"\"\n\u001b[1;32m-> 3832\u001b[1;33m         \u001b[0mvalue\u001b[0m \u001b[1;33m=\u001b[0m \u001b[0mself\u001b[0m\u001b[1;33m.\u001b[0m\u001b[0m_sanitize_column\u001b[0m\u001b[1;33m(\u001b[0m\u001b[0mvalue\u001b[0m\u001b[1;33m)\u001b[0m\u001b[1;33m\u001b[0m\u001b[1;33m\u001b[0m\u001b[0m\n\u001b[0m\u001b[0;32m   3833\u001b[0m \u001b[1;33m\u001b[0m\u001b[0m\n\u001b[0;32m   3834\u001b[0m         if (\n",
      "\u001b[1;32mc:\\Users\\Lenovo\\anaconda3\\lib\\site-packages\\pandas\\core\\frame.py\u001b[0m in \u001b[0;36m_sanitize_column\u001b[1;34m(self, value)\u001b[0m\n\u001b[0;32m   4536\u001b[0m \u001b[1;33m\u001b[0m\u001b[0m\n\u001b[0;32m   4537\u001b[0m         \u001b[1;32mif\u001b[0m \u001b[0mis_list_like\u001b[0m\u001b[1;33m(\u001b[0m\u001b[0mvalue\u001b[0m\u001b[1;33m)\u001b[0m\u001b[1;33m:\u001b[0m\u001b[1;33m\u001b[0m\u001b[1;33m\u001b[0m\u001b[0m\n\u001b[1;32m-> 4538\u001b[1;33m             \u001b[0mcom\u001b[0m\u001b[1;33m.\u001b[0m\u001b[0mrequire_length_match\u001b[0m\u001b[1;33m(\u001b[0m\u001b[0mvalue\u001b[0m\u001b[1;33m,\u001b[0m \u001b[0mself\u001b[0m\u001b[1;33m.\u001b[0m\u001b[0mindex\u001b[0m\u001b[1;33m)\u001b[0m\u001b[1;33m\u001b[0m\u001b[1;33m\u001b[0m\u001b[0m\n\u001b[0m\u001b[0;32m   4539\u001b[0m         \u001b[1;32mreturn\u001b[0m \u001b[0msanitize_array\u001b[0m\u001b[1;33m(\u001b[0m\u001b[0mvalue\u001b[0m\u001b[1;33m,\u001b[0m \u001b[0mself\u001b[0m\u001b[1;33m.\u001b[0m\u001b[0mindex\u001b[0m\u001b[1;33m,\u001b[0m \u001b[0mcopy\u001b[0m\u001b[1;33m=\u001b[0m\u001b[1;32mTrue\u001b[0m\u001b[1;33m,\u001b[0m \u001b[0mallow_2d\u001b[0m\u001b[1;33m=\u001b[0m\u001b[1;32mTrue\u001b[0m\u001b[1;33m)\u001b[0m\u001b[1;33m\u001b[0m\u001b[1;33m\u001b[0m\u001b[0m\n\u001b[0;32m   4540\u001b[0m \u001b[1;33m\u001b[0m\u001b[0m\n",
      "\u001b[1;32mc:\\Users\\Lenovo\\anaconda3\\lib\\site-packages\\pandas\\core\\common.py\u001b[0m in \u001b[0;36mrequire_length_match\u001b[1;34m(data, index)\u001b[0m\n\u001b[0;32m    555\u001b[0m     \"\"\"\n\u001b[0;32m    556\u001b[0m     \u001b[1;32mif\u001b[0m \u001b[0mlen\u001b[0m\u001b[1;33m(\u001b[0m\u001b[0mdata\u001b[0m\u001b[1;33m)\u001b[0m \u001b[1;33m!=\u001b[0m \u001b[0mlen\u001b[0m\u001b[1;33m(\u001b[0m\u001b[0mindex\u001b[0m\u001b[1;33m)\u001b[0m\u001b[1;33m:\u001b[0m\u001b[1;33m\u001b[0m\u001b[1;33m\u001b[0m\u001b[0m\n\u001b[1;32m--> 557\u001b[1;33m         raise ValueError(\n\u001b[0m\u001b[0;32m    558\u001b[0m             \u001b[1;34m\"Length of values \"\u001b[0m\u001b[1;33m\u001b[0m\u001b[1;33m\u001b[0m\u001b[0m\n\u001b[0;32m    559\u001b[0m             \u001b[1;34mf\"({len(data)}) \"\u001b[0m\u001b[1;33m\u001b[0m\u001b[1;33m\u001b[0m\u001b[0m\n",
      "\u001b[1;31mValueError\u001b[0m: Length of values (6) does not match length of index (5)"
     ]
    }
   ],
   "source": [
    "from matplotlib import colors\n",
    "\n",
    "# separate data to biased and non-biased\n",
    "b_des_st_cons = des_st_cons[des_st_cons['label']=='Biased']\n",
    "b_des_st_cons['sorting'] = [4, 0, 5, 2, 3, 1]\n",
    "b_des_st_cons = b_des_st_cons.sort_values(by=['sorting'])\n",
    "\n",
    "nb_des_st_cons = des_st_cons[des_st_cons['label']=='Non-biased']\n",
    "nb_des_st_cons['sorting'] = [4, 0, 5, 2, 3, 1]\n",
    "nb_des_st_cons = nb_des_st_cons.sort_values(by=['sorting'])\n",
    "\n",
    "# percentage of annotations as biased and as non-biased\n",
    "as_biased = round(sum(b_des_st_cons.num_participants)/\n",
    "                  (sum(b_des_st_cons.num_participants)+sum(nb_des_st_cons.num_participants))*100,2)\n",
    "\n",
    "as_nonbiased = round(sum(nb_des_st_cons.num_participants)/\n",
    "                     (sum(b_des_st_cons.num_participants)+sum(nb_des_st_cons.num_participants))*100,2)\n",
    "\n",
    "\n",
    "\n",
    "\n",
    "# plots\n",
    "fig, (ax1, ax2) = plt.subplots(1, 2, figsize=(9,4))\n",
    "#fig.suptitle('Inter-rater agreement across annotators self-reported ideology')\n",
    "xticklabels = ['Never', 'Very\\nrarely', 'Several times\\nper month',\n",
    "               'Several times\\nper week', 'Every\\nday', 'Several times\\nper day']\n",
    "alphas = np.linspace(0.2, 0.6, 6)\n",
    "teal_rgba = np.array([np.array(list(colors.to_rgba('teal', alpha=None))),]*6)\n",
    "teal_rgba[:, 3] = alphas\n",
    "\n",
    "    # perceived as biased\n",
    "ax1.bar(np.arange(len(b_des_st_cons.news_check_frequency)), b_des_st_cons.participants_ratio,\n",
    "        align='center', color=teal_rgba, edgecolor='teal')\n",
    "ax1.set_xticks(np.arange(len(b_des_st_cons.news_check_frequency)))\n",
    "ax1.set_xticklabels(xticklabels, rotation=60)\n",
    "ax1.set_title('Sentences perceived as\\nbiased ('+str(as_biased)+'%)', fontsize=14)\n",
    "ax1.set_ylabel('% to total number of annotators \\nwith similar frequency', fontsize=14)\n",
    "\n",
    "    # perceived as non-biased\n",
    "ax2.bar(np.arange(len(nb_des_st_cons.news_check_frequency)), nb_des_st_cons.participants_ratio,\n",
    "        align='center', color=teal_rgba, edgecolor='teal')\n",
    "ax2.set_xticks(np.arange(len(nb_des_st_cons.news_check_frequency)))\n",
    "ax2.set_xticklabels(xticklabels, rotation=60)\n",
    "ax2.set_title('Sentences perceived as\\nnon-biased ('+str(as_nonbiased)+'%)', fontsize=14)\n",
    "\n",
    "fig.show()"
   ]
  },
  {
   "attachments": {},
   "cell_type": "markdown",
   "metadata": {},
   "source": [
    "### 2.5 Distinguishing bias and opinion"
   ]
  },
  {
   "cell_type": "code",
   "execution_count": 170,
   "metadata": {},
   "outputs": [
    {
     "data": {
      "text/html": [
       "<div>\n",
       "<style scoped>\n",
       "    .dataframe tbody tr th:only-of-type {\n",
       "        vertical-align: middle;\n",
       "    }\n",
       "\n",
       "    .dataframe tbody tr th {\n",
       "        vertical-align: top;\n",
       "    }\n",
       "\n",
       "    .dataframe thead th {\n",
       "        text-align: right;\n",
       "    }\n",
       "</style>\n",
       "<table border=\"1\" class=\"dataframe\">\n",
       "  <thead>\n",
       "    <tr style=\"text-align: right;\">\n",
       "      <th></th>\n",
       "      <th>label</th>\n",
       "      <th>factual</th>\n",
       "      <th>num_participants</th>\n",
       "    </tr>\n",
       "  </thead>\n",
       "  <tbody>\n",
       "    <tr>\n",
       "      <th>0</th>\n",
       "      <td>Biased</td>\n",
       "      <td>Factual</td>\n",
       "      <td>31</td>\n",
       "    </tr>\n",
       "    <tr>\n",
       "      <th>1</th>\n",
       "      <td>Biased</td>\n",
       "      <td>Opinionated</td>\n",
       "      <td>33</td>\n",
       "    </tr>\n",
       "    <tr>\n",
       "      <th>2</th>\n",
       "      <td>Biased</td>\n",
       "      <td>Both</td>\n",
       "      <td>45</td>\n",
       "    </tr>\n",
       "    <tr>\n",
       "      <th>3</th>\n",
       "      <td>Non-biased</td>\n",
       "      <td>Factual</td>\n",
       "      <td>14</td>\n",
       "    </tr>\n",
       "    <tr>\n",
       "      <th>4</th>\n",
       "      <td>Non-biased</td>\n",
       "      <td>Opinionated</td>\n",
       "      <td>14</td>\n",
       "    </tr>\n",
       "    <tr>\n",
       "      <th>5</th>\n",
       "      <td>Non-biased</td>\n",
       "      <td>Both</td>\n",
       "      <td>32</td>\n",
       "    </tr>\n",
       "  </tbody>\n",
       "</table>\n",
       "</div>"
      ],
      "text/plain": [
       "        label      factual  num_participants\n",
       "0      Biased      Factual                31\n",
       "1      Biased  Opinionated                33\n",
       "2      Biased         Both                45\n",
       "3  Non-biased      Factual                14\n",
       "4  Non-biased  Opinionated                14\n",
       "5  Non-biased         Both                32"
      ]
     },
     "execution_count": 170,
     "metadata": {},
     "output_type": "execute_result"
    }
   ],
   "source": [
    "# group by bias-nonbias label and opinionated-factual label\n",
    "des_st_bias_opin = annotations.groupby(['label','factual'])[['sentence_id']].count()\n",
    "des_st_bias_opin = des_st_bias_opin.reset_index()\n",
    "des_st_bias_opin = des_st_bias_opin.rename(columns={\"sentence_id\": \"num_participants\"})\n",
    "des_st_bias_opin = des_st_bias_opin.replace('Entirely factual', 'Factual')\n",
    "des_st_bias_opin = des_st_bias_opin.replace('Expresses writer’s opinion', 'Opinionated')\n",
    "des_st_bias_opin = des_st_bias_opin.replace('Somewhat factual but also opinionated', 'Both')\n",
    "des_st_bias_opin"
   ]
  },
  {
   "cell_type": "code",
   "execution_count": 171,
   "metadata": {},
   "outputs": [
    {
     "data": {
      "application/vnd.plotly.v1+json": {
       "config": {
        "plotlyServerURL": "https://plot.ly"
       },
       "data": [
        {
         "branchvalues": "total",
         "customdata": [
          [
           "Biased"
          ],
          [
           "Non-biased"
          ],
          [
           "Biased"
          ],
          [
           "Non-biased"
          ],
          [
           "Biased"
          ],
          [
           "Non-biased"
          ],
          [
           "Biased"
          ],
          [
           "Non-biased"
          ]
         ],
         "domain": {
          "x": [
           0,
           1
          ],
          "y": [
           0,
           1
          ]
         },
         "hovertemplate": "labels=%{label}<br>num_participants=%{value}<br>parent=%{parent}<br>id=%{id}<br>label=%{customdata[0]}<extra></extra>",
         "ids": [
          "Biased/Both",
          "Non-biased/Both",
          "Biased/Factual",
          "Non-biased/Factual",
          "Biased/Opinionated",
          "Non-biased/Opinionated",
          "Biased",
          "Non-biased"
         ],
         "labels": [
          "Both",
          "Both",
          "Factual",
          "Factual",
          "Opinionated",
          "Opinionated",
          "Biased",
          "Non-biased"
         ],
         "marker": {
          "colors": [
           "indianred",
           "seagreen",
           "indianred",
           "seagreen",
           "indianred",
           "seagreen",
           "indianred",
           "seagreen"
          ]
         },
         "name": "",
         "parents": [
          "Biased",
          "Non-biased",
          "Biased",
          "Non-biased",
          "Biased",
          "Non-biased",
          "",
          ""
         ],
         "textfont": {
          "size": 20
         },
         "type": "sunburst",
         "values": [
          45,
          32,
          31,
          14,
          33,
          14,
          109,
          60
         ]
        }
       ],
       "layout": {
        "legend": {
         "tracegroupgap": 0
        },
        "margin": {
         "t": 60
        },
        "template": {
         "data": {
          "bar": [
           {
            "error_x": {
             "color": "#2a3f5f"
            },
            "error_y": {
             "color": "#2a3f5f"
            },
            "marker": {
             "line": {
              "color": "#E5ECF6",
              "width": 0.5
             },
             "pattern": {
              "fillmode": "overlay",
              "size": 10,
              "solidity": 0.2
             }
            },
            "type": "bar"
           }
          ],
          "barpolar": [
           {
            "marker": {
             "line": {
              "color": "#E5ECF6",
              "width": 0.5
             },
             "pattern": {
              "fillmode": "overlay",
              "size": 10,
              "solidity": 0.2
             }
            },
            "type": "barpolar"
           }
          ],
          "carpet": [
           {
            "aaxis": {
             "endlinecolor": "#2a3f5f",
             "gridcolor": "white",
             "linecolor": "white",
             "minorgridcolor": "white",
             "startlinecolor": "#2a3f5f"
            },
            "baxis": {
             "endlinecolor": "#2a3f5f",
             "gridcolor": "white",
             "linecolor": "white",
             "minorgridcolor": "white",
             "startlinecolor": "#2a3f5f"
            },
            "type": "carpet"
           }
          ],
          "choropleth": [
           {
            "colorbar": {
             "outlinewidth": 0,
             "ticks": ""
            },
            "type": "choropleth"
           }
          ],
          "contour": [
           {
            "colorbar": {
             "outlinewidth": 0,
             "ticks": ""
            },
            "colorscale": [
             [
              0,
              "#0d0887"
             ],
             [
              0.1111111111111111,
              "#46039f"
             ],
             [
              0.2222222222222222,
              "#7201a8"
             ],
             [
              0.3333333333333333,
              "#9c179e"
             ],
             [
              0.4444444444444444,
              "#bd3786"
             ],
             [
              0.5555555555555556,
              "#d8576b"
             ],
             [
              0.6666666666666666,
              "#ed7953"
             ],
             [
              0.7777777777777778,
              "#fb9f3a"
             ],
             [
              0.8888888888888888,
              "#fdca26"
             ],
             [
              1,
              "#f0f921"
             ]
            ],
            "type": "contour"
           }
          ],
          "contourcarpet": [
           {
            "colorbar": {
             "outlinewidth": 0,
             "ticks": ""
            },
            "type": "contourcarpet"
           }
          ],
          "heatmap": [
           {
            "colorbar": {
             "outlinewidth": 0,
             "ticks": ""
            },
            "colorscale": [
             [
              0,
              "#0d0887"
             ],
             [
              0.1111111111111111,
              "#46039f"
             ],
             [
              0.2222222222222222,
              "#7201a8"
             ],
             [
              0.3333333333333333,
              "#9c179e"
             ],
             [
              0.4444444444444444,
              "#bd3786"
             ],
             [
              0.5555555555555556,
              "#d8576b"
             ],
             [
              0.6666666666666666,
              "#ed7953"
             ],
             [
              0.7777777777777778,
              "#fb9f3a"
             ],
             [
              0.8888888888888888,
              "#fdca26"
             ],
             [
              1,
              "#f0f921"
             ]
            ],
            "type": "heatmap"
           }
          ],
          "heatmapgl": [
           {
            "colorbar": {
             "outlinewidth": 0,
             "ticks": ""
            },
            "colorscale": [
             [
              0,
              "#0d0887"
             ],
             [
              0.1111111111111111,
              "#46039f"
             ],
             [
              0.2222222222222222,
              "#7201a8"
             ],
             [
              0.3333333333333333,
              "#9c179e"
             ],
             [
              0.4444444444444444,
              "#bd3786"
             ],
             [
              0.5555555555555556,
              "#d8576b"
             ],
             [
              0.6666666666666666,
              "#ed7953"
             ],
             [
              0.7777777777777778,
              "#fb9f3a"
             ],
             [
              0.8888888888888888,
              "#fdca26"
             ],
             [
              1,
              "#f0f921"
             ]
            ],
            "type": "heatmapgl"
           }
          ],
          "histogram": [
           {
            "marker": {
             "pattern": {
              "fillmode": "overlay",
              "size": 10,
              "solidity": 0.2
             }
            },
            "type": "histogram"
           }
          ],
          "histogram2d": [
           {
            "colorbar": {
             "outlinewidth": 0,
             "ticks": ""
            },
            "colorscale": [
             [
              0,
              "#0d0887"
             ],
             [
              0.1111111111111111,
              "#46039f"
             ],
             [
              0.2222222222222222,
              "#7201a8"
             ],
             [
              0.3333333333333333,
              "#9c179e"
             ],
             [
              0.4444444444444444,
              "#bd3786"
             ],
             [
              0.5555555555555556,
              "#d8576b"
             ],
             [
              0.6666666666666666,
              "#ed7953"
             ],
             [
              0.7777777777777778,
              "#fb9f3a"
             ],
             [
              0.8888888888888888,
              "#fdca26"
             ],
             [
              1,
              "#f0f921"
             ]
            ],
            "type": "histogram2d"
           }
          ],
          "histogram2dcontour": [
           {
            "colorbar": {
             "outlinewidth": 0,
             "ticks": ""
            },
            "colorscale": [
             [
              0,
              "#0d0887"
             ],
             [
              0.1111111111111111,
              "#46039f"
             ],
             [
              0.2222222222222222,
              "#7201a8"
             ],
             [
              0.3333333333333333,
              "#9c179e"
             ],
             [
              0.4444444444444444,
              "#bd3786"
             ],
             [
              0.5555555555555556,
              "#d8576b"
             ],
             [
              0.6666666666666666,
              "#ed7953"
             ],
             [
              0.7777777777777778,
              "#fb9f3a"
             ],
             [
              0.8888888888888888,
              "#fdca26"
             ],
             [
              1,
              "#f0f921"
             ]
            ],
            "type": "histogram2dcontour"
           }
          ],
          "mesh3d": [
           {
            "colorbar": {
             "outlinewidth": 0,
             "ticks": ""
            },
            "type": "mesh3d"
           }
          ],
          "parcoords": [
           {
            "line": {
             "colorbar": {
              "outlinewidth": 0,
              "ticks": ""
             }
            },
            "type": "parcoords"
           }
          ],
          "pie": [
           {
            "automargin": true,
            "type": "pie"
           }
          ],
          "scatter": [
           {
            "fillpattern": {
             "fillmode": "overlay",
             "size": 10,
             "solidity": 0.2
            },
            "type": "scatter"
           }
          ],
          "scatter3d": [
           {
            "line": {
             "colorbar": {
              "outlinewidth": 0,
              "ticks": ""
             }
            },
            "marker": {
             "colorbar": {
              "outlinewidth": 0,
              "ticks": ""
             }
            },
            "type": "scatter3d"
           }
          ],
          "scattercarpet": [
           {
            "marker": {
             "colorbar": {
              "outlinewidth": 0,
              "ticks": ""
             }
            },
            "type": "scattercarpet"
           }
          ],
          "scattergeo": [
           {
            "marker": {
             "colorbar": {
              "outlinewidth": 0,
              "ticks": ""
             }
            },
            "type": "scattergeo"
           }
          ],
          "scattergl": [
           {
            "marker": {
             "colorbar": {
              "outlinewidth": 0,
              "ticks": ""
             }
            },
            "type": "scattergl"
           }
          ],
          "scattermapbox": [
           {
            "marker": {
             "colorbar": {
              "outlinewidth": 0,
              "ticks": ""
             }
            },
            "type": "scattermapbox"
           }
          ],
          "scatterpolar": [
           {
            "marker": {
             "colorbar": {
              "outlinewidth": 0,
              "ticks": ""
             }
            },
            "type": "scatterpolar"
           }
          ],
          "scatterpolargl": [
           {
            "marker": {
             "colorbar": {
              "outlinewidth": 0,
              "ticks": ""
             }
            },
            "type": "scatterpolargl"
           }
          ],
          "scatterternary": [
           {
            "marker": {
             "colorbar": {
              "outlinewidth": 0,
              "ticks": ""
             }
            },
            "type": "scatterternary"
           }
          ],
          "surface": [
           {
            "colorbar": {
             "outlinewidth": 0,
             "ticks": ""
            },
            "colorscale": [
             [
              0,
              "#0d0887"
             ],
             [
              0.1111111111111111,
              "#46039f"
             ],
             [
              0.2222222222222222,
              "#7201a8"
             ],
             [
              0.3333333333333333,
              "#9c179e"
             ],
             [
              0.4444444444444444,
              "#bd3786"
             ],
             [
              0.5555555555555556,
              "#d8576b"
             ],
             [
              0.6666666666666666,
              "#ed7953"
             ],
             [
              0.7777777777777778,
              "#fb9f3a"
             ],
             [
              0.8888888888888888,
              "#fdca26"
             ],
             [
              1,
              "#f0f921"
             ]
            ],
            "type": "surface"
           }
          ],
          "table": [
           {
            "cells": {
             "fill": {
              "color": "#EBF0F8"
             },
             "line": {
              "color": "white"
             }
            },
            "header": {
             "fill": {
              "color": "#C8D4E3"
             },
             "line": {
              "color": "white"
             }
            },
            "type": "table"
           }
          ]
         },
         "layout": {
          "annotationdefaults": {
           "arrowcolor": "#2a3f5f",
           "arrowhead": 0,
           "arrowwidth": 1
          },
          "autotypenumbers": "strict",
          "coloraxis": {
           "colorbar": {
            "outlinewidth": 0,
            "ticks": ""
           }
          },
          "colorscale": {
           "diverging": [
            [
             0,
             "#8e0152"
            ],
            [
             0.1,
             "#c51b7d"
            ],
            [
             0.2,
             "#de77ae"
            ],
            [
             0.3,
             "#f1b6da"
            ],
            [
             0.4,
             "#fde0ef"
            ],
            [
             0.5,
             "#f7f7f7"
            ],
            [
             0.6,
             "#e6f5d0"
            ],
            [
             0.7,
             "#b8e186"
            ],
            [
             0.8,
             "#7fbc41"
            ],
            [
             0.9,
             "#4d9221"
            ],
            [
             1,
             "#276419"
            ]
           ],
           "sequential": [
            [
             0,
             "#0d0887"
            ],
            [
             0.1111111111111111,
             "#46039f"
            ],
            [
             0.2222222222222222,
             "#7201a8"
            ],
            [
             0.3333333333333333,
             "#9c179e"
            ],
            [
             0.4444444444444444,
             "#bd3786"
            ],
            [
             0.5555555555555556,
             "#d8576b"
            ],
            [
             0.6666666666666666,
             "#ed7953"
            ],
            [
             0.7777777777777778,
             "#fb9f3a"
            ],
            [
             0.8888888888888888,
             "#fdca26"
            ],
            [
             1,
             "#f0f921"
            ]
           ],
           "sequentialminus": [
            [
             0,
             "#0d0887"
            ],
            [
             0.1111111111111111,
             "#46039f"
            ],
            [
             0.2222222222222222,
             "#7201a8"
            ],
            [
             0.3333333333333333,
             "#9c179e"
            ],
            [
             0.4444444444444444,
             "#bd3786"
            ],
            [
             0.5555555555555556,
             "#d8576b"
            ],
            [
             0.6666666666666666,
             "#ed7953"
            ],
            [
             0.7777777777777778,
             "#fb9f3a"
            ],
            [
             0.8888888888888888,
             "#fdca26"
            ],
            [
             1,
             "#f0f921"
            ]
           ]
          },
          "colorway": [
           "#636efa",
           "#EF553B",
           "#00cc96",
           "#ab63fa",
           "#FFA15A",
           "#19d3f3",
           "#FF6692",
           "#B6E880",
           "#FF97FF",
           "#FECB52"
          ],
          "font": {
           "color": "#2a3f5f"
          },
          "geo": {
           "bgcolor": "white",
           "lakecolor": "white",
           "landcolor": "#E5ECF6",
           "showlakes": true,
           "showland": true,
           "subunitcolor": "white"
          },
          "hoverlabel": {
           "align": "left"
          },
          "hovermode": "closest",
          "mapbox": {
           "style": "light"
          },
          "paper_bgcolor": "white",
          "plot_bgcolor": "#E5ECF6",
          "polar": {
           "angularaxis": {
            "gridcolor": "white",
            "linecolor": "white",
            "ticks": ""
           },
           "bgcolor": "#E5ECF6",
           "radialaxis": {
            "gridcolor": "white",
            "linecolor": "white",
            "ticks": ""
           }
          },
          "scene": {
           "xaxis": {
            "backgroundcolor": "#E5ECF6",
            "gridcolor": "white",
            "gridwidth": 2,
            "linecolor": "white",
            "showbackground": true,
            "ticks": "",
            "zerolinecolor": "white"
           },
           "yaxis": {
            "backgroundcolor": "#E5ECF6",
            "gridcolor": "white",
            "gridwidth": 2,
            "linecolor": "white",
            "showbackground": true,
            "ticks": "",
            "zerolinecolor": "white"
           },
           "zaxis": {
            "backgroundcolor": "#E5ECF6",
            "gridcolor": "white",
            "gridwidth": 2,
            "linecolor": "white",
            "showbackground": true,
            "ticks": "",
            "zerolinecolor": "white"
           }
          },
          "shapedefaults": {
           "line": {
            "color": "#2a3f5f"
           }
          },
          "ternary": {
           "aaxis": {
            "gridcolor": "white",
            "linecolor": "white",
            "ticks": ""
           },
           "baxis": {
            "gridcolor": "white",
            "linecolor": "white",
            "ticks": ""
           },
           "bgcolor": "#E5ECF6",
           "caxis": {
            "gridcolor": "white",
            "linecolor": "white",
            "ticks": ""
           }
          },
          "title": {
           "x": 0.05
          },
          "xaxis": {
           "automargin": true,
           "gridcolor": "white",
           "linecolor": "white",
           "ticks": "",
           "title": {
            "standoff": 15
           },
           "zerolinecolor": "white",
           "zerolinewidth": 2
          },
          "yaxis": {
           "automargin": true,
           "gridcolor": "white",
           "linecolor": "white",
           "ticks": "",
           "title": {
            "standoff": 15
           },
           "zerolinecolor": "white",
           "zerolinewidth": 2
          }
         }
        }
       }
      }
     },
     "metadata": {},
     "output_type": "display_data"
    }
   ],
   "source": [
    "fig = px.sunburst(data_frame = des_st_bias_opin,\n",
    "                  path = ['label', 'factual'],\n",
    "                  values = 'num_participants',\n",
    "                  #color_columns = ['label', 'factual'],\n",
    "                  color='label',\n",
    "                  color_discrete_map={'Biased':'indianred', 'Non-biased':'seagreen',\n",
    "                                      'Opinionated':'lightcoral',\n",
    "                                      'Both':'darkkhaki',\n",
    "                                      'Factual':'mediumseagreen'})\n",
    "fig.update_traces(textfont_size=20)\n",
    "fig.show()"
   ]
  },
  {
   "attachments": {},
   "cell_type": "markdown",
   "metadata": {},
   "source": [
    "### 2.6 Connection of bias words and biased sentences"
   ]
  },
  {
   "cell_type": "code",
   "execution_count": 172,
   "metadata": {},
   "outputs": [
    {
     "data": {
      "text/html": [
       "<div>\n",
       "<style scoped>\n",
       "    .dataframe tbody tr th:only-of-type {\n",
       "        vertical-align: middle;\n",
       "    }\n",
       "\n",
       "    .dataframe tbody tr th {\n",
       "        vertical-align: top;\n",
       "    }\n",
       "\n",
       "    .dataframe thead th {\n",
       "        text-align: right;\n",
       "    }\n",
       "</style>\n",
       "<table border=\"1\" class=\"dataframe\">\n",
       "  <thead>\n",
       "    <tr style=\"text-align: right;\">\n",
       "      <th></th>\n",
       "      <th>label</th>\n",
       "      <th>biased_words_BN</th>\n",
       "      <th>num_sent</th>\n",
       "    </tr>\n",
       "  </thead>\n",
       "  <tbody>\n",
       "    <tr>\n",
       "      <th>0</th>\n",
       "      <td>Biased</td>\n",
       "      <td>biased words</td>\n",
       "      <td>24</td>\n",
       "    </tr>\n",
       "    <tr>\n",
       "      <th>1</th>\n",
       "      <td>Biased</td>\n",
       "      <td>no biased words</td>\n",
       "      <td>85</td>\n",
       "    </tr>\n",
       "    <tr>\n",
       "      <th>2</th>\n",
       "      <td>Non-biased</td>\n",
       "      <td>no biased words</td>\n",
       "      <td>60</td>\n",
       "    </tr>\n",
       "  </tbody>\n",
       "</table>\n",
       "</div>"
      ],
      "text/plain": [
       "        label  biased_words_BN  num_sent\n",
       "0      Biased     biased words        24\n",
       "1      Biased  no biased words        85\n",
       "2  Non-biased  no biased words        60"
      ]
     },
     "execution_count": 172,
     "metadata": {},
     "output_type": "execute_result"
    }
   ],
   "source": [
    "annotations = annotations.where(pd.notnull(annotations), None)\n",
    "annotations['biased_words_BN'] = annotations.words.apply(lambda row: 'biased words' if row!=None else 'no biased words')\n",
    "\n",
    "des_st_sent_words = annotations.groupby(['label','biased_words_BN'])[['sentence_id']].count()\n",
    "des_st_sent_words = des_st_sent_words.reset_index()\n",
    "des_st_sent_words = des_st_sent_words.rename(columns={\"sentence_id\": \"num_sent\"})\n",
    "des_st_sent_words"
   ]
  },
  {
   "cell_type": "code",
   "execution_count": 173,
   "metadata": {
    "scrolled": false
   },
   "outputs": [
    {
     "data": {
      "application/vnd.plotly.v1+json": {
       "config": {
        "plotlyServerURL": "https://plot.ly"
       },
       "data": [
        {
         "branchvalues": "total",
         "customdata": [
          [
           "Biased"
          ],
          [
           "Biased"
          ],
          [
           "Non-biased"
          ],
          [
           "Biased"
          ],
          [
           "Non-biased"
          ]
         ],
         "domain": {
          "x": [
           0,
           1
          ],
          "y": [
           0,
           1
          ]
         },
         "hovertemplate": "labels=%{label}<br>num_sent=%{value}<br>parent=%{parent}<br>id=%{id}<br>label=%{customdata[0]}<extra></extra>",
         "ids": [
          "Biased/biased words",
          "Biased/no biased words",
          "Non-biased/no biased words",
          "Biased",
          "Non-biased"
         ],
         "labels": [
          "biased words",
          "no biased words",
          "no biased words",
          "Biased",
          "Non-biased"
         ],
         "marker": {
          "colors": [
           "indianred",
           "indianred",
           "seagreen",
           "indianred",
           "seagreen"
          ]
         },
         "name": "",
         "parents": [
          "Biased",
          "Biased",
          "Non-biased",
          "",
          ""
         ],
         "textfont": {
          "size": 20
         },
         "type": "sunburst",
         "values": [
          24,
          85,
          60,
          109,
          60
         ]
        }
       ],
       "layout": {
        "legend": {
         "tracegroupgap": 0
        },
        "margin": {
         "t": 60
        },
        "template": {
         "data": {
          "bar": [
           {
            "error_x": {
             "color": "#2a3f5f"
            },
            "error_y": {
             "color": "#2a3f5f"
            },
            "marker": {
             "line": {
              "color": "#E5ECF6",
              "width": 0.5
             },
             "pattern": {
              "fillmode": "overlay",
              "size": 10,
              "solidity": 0.2
             }
            },
            "type": "bar"
           }
          ],
          "barpolar": [
           {
            "marker": {
             "line": {
              "color": "#E5ECF6",
              "width": 0.5
             },
             "pattern": {
              "fillmode": "overlay",
              "size": 10,
              "solidity": 0.2
             }
            },
            "type": "barpolar"
           }
          ],
          "carpet": [
           {
            "aaxis": {
             "endlinecolor": "#2a3f5f",
             "gridcolor": "white",
             "linecolor": "white",
             "minorgridcolor": "white",
             "startlinecolor": "#2a3f5f"
            },
            "baxis": {
             "endlinecolor": "#2a3f5f",
             "gridcolor": "white",
             "linecolor": "white",
             "minorgridcolor": "white",
             "startlinecolor": "#2a3f5f"
            },
            "type": "carpet"
           }
          ],
          "choropleth": [
           {
            "colorbar": {
             "outlinewidth": 0,
             "ticks": ""
            },
            "type": "choropleth"
           }
          ],
          "contour": [
           {
            "colorbar": {
             "outlinewidth": 0,
             "ticks": ""
            },
            "colorscale": [
             [
              0,
              "#0d0887"
             ],
             [
              0.1111111111111111,
              "#46039f"
             ],
             [
              0.2222222222222222,
              "#7201a8"
             ],
             [
              0.3333333333333333,
              "#9c179e"
             ],
             [
              0.4444444444444444,
              "#bd3786"
             ],
             [
              0.5555555555555556,
              "#d8576b"
             ],
             [
              0.6666666666666666,
              "#ed7953"
             ],
             [
              0.7777777777777778,
              "#fb9f3a"
             ],
             [
              0.8888888888888888,
              "#fdca26"
             ],
             [
              1,
              "#f0f921"
             ]
            ],
            "type": "contour"
           }
          ],
          "contourcarpet": [
           {
            "colorbar": {
             "outlinewidth": 0,
             "ticks": ""
            },
            "type": "contourcarpet"
           }
          ],
          "heatmap": [
           {
            "colorbar": {
             "outlinewidth": 0,
             "ticks": ""
            },
            "colorscale": [
             [
              0,
              "#0d0887"
             ],
             [
              0.1111111111111111,
              "#46039f"
             ],
             [
              0.2222222222222222,
              "#7201a8"
             ],
             [
              0.3333333333333333,
              "#9c179e"
             ],
             [
              0.4444444444444444,
              "#bd3786"
             ],
             [
              0.5555555555555556,
              "#d8576b"
             ],
             [
              0.6666666666666666,
              "#ed7953"
             ],
             [
              0.7777777777777778,
              "#fb9f3a"
             ],
             [
              0.8888888888888888,
              "#fdca26"
             ],
             [
              1,
              "#f0f921"
             ]
            ],
            "type": "heatmap"
           }
          ],
          "heatmapgl": [
           {
            "colorbar": {
             "outlinewidth": 0,
             "ticks": ""
            },
            "colorscale": [
             [
              0,
              "#0d0887"
             ],
             [
              0.1111111111111111,
              "#46039f"
             ],
             [
              0.2222222222222222,
              "#7201a8"
             ],
             [
              0.3333333333333333,
              "#9c179e"
             ],
             [
              0.4444444444444444,
              "#bd3786"
             ],
             [
              0.5555555555555556,
              "#d8576b"
             ],
             [
              0.6666666666666666,
              "#ed7953"
             ],
             [
              0.7777777777777778,
              "#fb9f3a"
             ],
             [
              0.8888888888888888,
              "#fdca26"
             ],
             [
              1,
              "#f0f921"
             ]
            ],
            "type": "heatmapgl"
           }
          ],
          "histogram": [
           {
            "marker": {
             "pattern": {
              "fillmode": "overlay",
              "size": 10,
              "solidity": 0.2
             }
            },
            "type": "histogram"
           }
          ],
          "histogram2d": [
           {
            "colorbar": {
             "outlinewidth": 0,
             "ticks": ""
            },
            "colorscale": [
             [
              0,
              "#0d0887"
             ],
             [
              0.1111111111111111,
              "#46039f"
             ],
             [
              0.2222222222222222,
              "#7201a8"
             ],
             [
              0.3333333333333333,
              "#9c179e"
             ],
             [
              0.4444444444444444,
              "#bd3786"
             ],
             [
              0.5555555555555556,
              "#d8576b"
             ],
             [
              0.6666666666666666,
              "#ed7953"
             ],
             [
              0.7777777777777778,
              "#fb9f3a"
             ],
             [
              0.8888888888888888,
              "#fdca26"
             ],
             [
              1,
              "#f0f921"
             ]
            ],
            "type": "histogram2d"
           }
          ],
          "histogram2dcontour": [
           {
            "colorbar": {
             "outlinewidth": 0,
             "ticks": ""
            },
            "colorscale": [
             [
              0,
              "#0d0887"
             ],
             [
              0.1111111111111111,
              "#46039f"
             ],
             [
              0.2222222222222222,
              "#7201a8"
             ],
             [
              0.3333333333333333,
              "#9c179e"
             ],
             [
              0.4444444444444444,
              "#bd3786"
             ],
             [
              0.5555555555555556,
              "#d8576b"
             ],
             [
              0.6666666666666666,
              "#ed7953"
             ],
             [
              0.7777777777777778,
              "#fb9f3a"
             ],
             [
              0.8888888888888888,
              "#fdca26"
             ],
             [
              1,
              "#f0f921"
             ]
            ],
            "type": "histogram2dcontour"
           }
          ],
          "mesh3d": [
           {
            "colorbar": {
             "outlinewidth": 0,
             "ticks": ""
            },
            "type": "mesh3d"
           }
          ],
          "parcoords": [
           {
            "line": {
             "colorbar": {
              "outlinewidth": 0,
              "ticks": ""
             }
            },
            "type": "parcoords"
           }
          ],
          "pie": [
           {
            "automargin": true,
            "type": "pie"
           }
          ],
          "scatter": [
           {
            "fillpattern": {
             "fillmode": "overlay",
             "size": 10,
             "solidity": 0.2
            },
            "type": "scatter"
           }
          ],
          "scatter3d": [
           {
            "line": {
             "colorbar": {
              "outlinewidth": 0,
              "ticks": ""
             }
            },
            "marker": {
             "colorbar": {
              "outlinewidth": 0,
              "ticks": ""
             }
            },
            "type": "scatter3d"
           }
          ],
          "scattercarpet": [
           {
            "marker": {
             "colorbar": {
              "outlinewidth": 0,
              "ticks": ""
             }
            },
            "type": "scattercarpet"
           }
          ],
          "scattergeo": [
           {
            "marker": {
             "colorbar": {
              "outlinewidth": 0,
              "ticks": ""
             }
            },
            "type": "scattergeo"
           }
          ],
          "scattergl": [
           {
            "marker": {
             "colorbar": {
              "outlinewidth": 0,
              "ticks": ""
             }
            },
            "type": "scattergl"
           }
          ],
          "scattermapbox": [
           {
            "marker": {
             "colorbar": {
              "outlinewidth": 0,
              "ticks": ""
             }
            },
            "type": "scattermapbox"
           }
          ],
          "scatterpolar": [
           {
            "marker": {
             "colorbar": {
              "outlinewidth": 0,
              "ticks": ""
             }
            },
            "type": "scatterpolar"
           }
          ],
          "scatterpolargl": [
           {
            "marker": {
             "colorbar": {
              "outlinewidth": 0,
              "ticks": ""
             }
            },
            "type": "scatterpolargl"
           }
          ],
          "scatterternary": [
           {
            "marker": {
             "colorbar": {
              "outlinewidth": 0,
              "ticks": ""
             }
            },
            "type": "scatterternary"
           }
          ],
          "surface": [
           {
            "colorbar": {
             "outlinewidth": 0,
             "ticks": ""
            },
            "colorscale": [
             [
              0,
              "#0d0887"
             ],
             [
              0.1111111111111111,
              "#46039f"
             ],
             [
              0.2222222222222222,
              "#7201a8"
             ],
             [
              0.3333333333333333,
              "#9c179e"
             ],
             [
              0.4444444444444444,
              "#bd3786"
             ],
             [
              0.5555555555555556,
              "#d8576b"
             ],
             [
              0.6666666666666666,
              "#ed7953"
             ],
             [
              0.7777777777777778,
              "#fb9f3a"
             ],
             [
              0.8888888888888888,
              "#fdca26"
             ],
             [
              1,
              "#f0f921"
             ]
            ],
            "type": "surface"
           }
          ],
          "table": [
           {
            "cells": {
             "fill": {
              "color": "#EBF0F8"
             },
             "line": {
              "color": "white"
             }
            },
            "header": {
             "fill": {
              "color": "#C8D4E3"
             },
             "line": {
              "color": "white"
             }
            },
            "type": "table"
           }
          ]
         },
         "layout": {
          "annotationdefaults": {
           "arrowcolor": "#2a3f5f",
           "arrowhead": 0,
           "arrowwidth": 1
          },
          "autotypenumbers": "strict",
          "coloraxis": {
           "colorbar": {
            "outlinewidth": 0,
            "ticks": ""
           }
          },
          "colorscale": {
           "diverging": [
            [
             0,
             "#8e0152"
            ],
            [
             0.1,
             "#c51b7d"
            ],
            [
             0.2,
             "#de77ae"
            ],
            [
             0.3,
             "#f1b6da"
            ],
            [
             0.4,
             "#fde0ef"
            ],
            [
             0.5,
             "#f7f7f7"
            ],
            [
             0.6,
             "#e6f5d0"
            ],
            [
             0.7,
             "#b8e186"
            ],
            [
             0.8,
             "#7fbc41"
            ],
            [
             0.9,
             "#4d9221"
            ],
            [
             1,
             "#276419"
            ]
           ],
           "sequential": [
            [
             0,
             "#0d0887"
            ],
            [
             0.1111111111111111,
             "#46039f"
            ],
            [
             0.2222222222222222,
             "#7201a8"
            ],
            [
             0.3333333333333333,
             "#9c179e"
            ],
            [
             0.4444444444444444,
             "#bd3786"
            ],
            [
             0.5555555555555556,
             "#d8576b"
            ],
            [
             0.6666666666666666,
             "#ed7953"
            ],
            [
             0.7777777777777778,
             "#fb9f3a"
            ],
            [
             0.8888888888888888,
             "#fdca26"
            ],
            [
             1,
             "#f0f921"
            ]
           ],
           "sequentialminus": [
            [
             0,
             "#0d0887"
            ],
            [
             0.1111111111111111,
             "#46039f"
            ],
            [
             0.2222222222222222,
             "#7201a8"
            ],
            [
             0.3333333333333333,
             "#9c179e"
            ],
            [
             0.4444444444444444,
             "#bd3786"
            ],
            [
             0.5555555555555556,
             "#d8576b"
            ],
            [
             0.6666666666666666,
             "#ed7953"
            ],
            [
             0.7777777777777778,
             "#fb9f3a"
            ],
            [
             0.8888888888888888,
             "#fdca26"
            ],
            [
             1,
             "#f0f921"
            ]
           ]
          },
          "colorway": [
           "#636efa",
           "#EF553B",
           "#00cc96",
           "#ab63fa",
           "#FFA15A",
           "#19d3f3",
           "#FF6692",
           "#B6E880",
           "#FF97FF",
           "#FECB52"
          ],
          "font": {
           "color": "#2a3f5f"
          },
          "geo": {
           "bgcolor": "white",
           "lakecolor": "white",
           "landcolor": "#E5ECF6",
           "showlakes": true,
           "showland": true,
           "subunitcolor": "white"
          },
          "hoverlabel": {
           "align": "left"
          },
          "hovermode": "closest",
          "mapbox": {
           "style": "light"
          },
          "paper_bgcolor": "white",
          "plot_bgcolor": "#E5ECF6",
          "polar": {
           "angularaxis": {
            "gridcolor": "white",
            "linecolor": "white",
            "ticks": ""
           },
           "bgcolor": "#E5ECF6",
           "radialaxis": {
            "gridcolor": "white",
            "linecolor": "white",
            "ticks": ""
           }
          },
          "scene": {
           "xaxis": {
            "backgroundcolor": "#E5ECF6",
            "gridcolor": "white",
            "gridwidth": 2,
            "linecolor": "white",
            "showbackground": true,
            "ticks": "",
            "zerolinecolor": "white"
           },
           "yaxis": {
            "backgroundcolor": "#E5ECF6",
            "gridcolor": "white",
            "gridwidth": 2,
            "linecolor": "white",
            "showbackground": true,
            "ticks": "",
            "zerolinecolor": "white"
           },
           "zaxis": {
            "backgroundcolor": "#E5ECF6",
            "gridcolor": "white",
            "gridwidth": 2,
            "linecolor": "white",
            "showbackground": true,
            "ticks": "",
            "zerolinecolor": "white"
           }
          },
          "shapedefaults": {
           "line": {
            "color": "#2a3f5f"
           }
          },
          "ternary": {
           "aaxis": {
            "gridcolor": "white",
            "linecolor": "white",
            "ticks": ""
           },
           "baxis": {
            "gridcolor": "white",
            "linecolor": "white",
            "ticks": ""
           },
           "bgcolor": "#E5ECF6",
           "caxis": {
            "gridcolor": "white",
            "linecolor": "white",
            "ticks": ""
           }
          },
          "title": {
           "x": 0.05
          },
          "xaxis": {
           "automargin": true,
           "gridcolor": "white",
           "linecolor": "white",
           "ticks": "",
           "title": {
            "standoff": 15
           },
           "zerolinecolor": "white",
           "zerolinewidth": 2
          },
          "yaxis": {
           "automargin": true,
           "gridcolor": "white",
           "linecolor": "white",
           "ticks": "",
           "title": {
            "standoff": 15
           },
           "zerolinecolor": "white",
           "zerolinewidth": 2
          }
         }
        }
       }
      }
     },
     "metadata": {},
     "output_type": "display_data"
    }
   ],
   "source": [
    "fig = px.sunburst(data_frame = des_st_sent_words,\n",
    "                  path = ['label', 'biased_words_BN'],\n",
    "                  values = 'num_sent',\n",
    "                  #color_columns = ['label', 'factual'],\n",
    "                  color='label',\n",
    "                  color_discrete_map={'Biased':'indianred', 'Non-biased':'seagreen'})\n",
    "fig.update_traces(textfont_size=20)\n",
    "fig.show()"
   ]
  }
 ],
 "metadata": {
  "kernelspec": {
   "display_name": "base",
   "language": "python",
   "name": "python3"
  },
  "language_info": {
   "codemirror_mode": {
    "name": "ipython",
    "version": 3
   },
   "file_extension": ".py",
   "mimetype": "text/x-python",
   "name": "python",
   "nbconvert_exporter": "python",
   "pygments_lexer": "ipython3",
   "version": "3.9.13"
  },
  "vscode": {
   "interpreter": {
    "hash": "20a9e06a1eee47c4abbed4ec8225ad91d78d9800d202b71b6b0a6e47016c6abd"
   }
  }
 },
 "nbformat": 4,
 "nbformat_minor": 2
}
